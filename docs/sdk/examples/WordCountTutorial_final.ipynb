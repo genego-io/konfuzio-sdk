{
 "cells": [
  {
   "cell_type": "markdown",
   "metadata": {
    "id": "UQESFKcjS4nx"
   },
   "source": [
    "## Word Count Tutorial\n",
    "\n",
    "The Konfuzio SDK allows you to post annotations in your documents in your Konfuzio project. Our Konfuzio server allows you to download these annotations in a structured way which enables you to analyse the dataset. This can be used for multiple applications, e.g. to analyze on which subjects companies focus their attentions and investments.  \n",
    "This tutorial guides you through how to count certain, pre-specified expressions. This will be done by showing a specific use case by analyzing how much sustainability plays a role in the annual reports of german companies over a certain time span, particularly in relation to the appearance of the Covid-19 pandemic. This information can then be used to further proceed with your dataset analysis."
   ]
  },
  {
   "cell_type": "markdown",
   "metadata": {
    "id": "HMm8RM1nS4nz"
   },
   "source": [
    "### 1. Install and initialize the Konfuzio SDK package\n",
    "Start by installing the Konfuzio SDK package.  \n",
    "To use the package, please also register or sign in on app.konfuzio.com.\n",
    "Find more information in the readme of the [repository](https://github.com/konfuzio-ai/document-ai-python-sdk)."
   ]
  },
  {
   "cell_type": "code",
   "execution_count": null,
   "metadata": {
    "colab": {
     "base_uri": "https://localhost:8080/"
    },
    "id": "nKF17IqFS4n0",
    "outputId": "08f13e26-9244-46e0-be82-b1bda387ff5c"
   },
   "outputs": [],
   "source": [
    "!pip install konfuzio-sdk"
   ]
  },
  {
   "cell_type": "code",
   "execution_count": null,
   "metadata": {
    "colab": {
     "base_uri": "https://localhost:8080/"
    },
    "id": "-o_rWhbeS4n1",
    "outputId": "761aee3d-b676-49e9-94e4-2ed01ae53e83"
   },
   "outputs": [],
   "source": [
    "!konfuzio_sdk init"
   ]
  },
  {
   "cell_type": "markdown",
   "metadata": {
    "id": "8tP5kdFyZp2b"
   },
   "source": [
    "Note:  \n",
    "If you want to switch to a different project, you have to restart the variables in colab (run cell bellow)."
   ]
  },
  {
   "cell_type": "code",
   "execution_count": null,
   "metadata": {
    "id": "_ajrwyl2S4n1"
   },
   "outputs": [],
   "source": [
    "!kill -9 -1"
   ]
  },
  {
   "cell_type": "markdown",
   "metadata": {
    "id": "uzkqRIedS4n2"
   },
   "source": [
    "You also need to import the required packages shown below."
   ]
  },
  {
   "cell_type": "code",
   "execution_count": null,
   "metadata": {
    "id": "ofpFxdhIS4n2"
   },
   "outputs": [],
   "source": [
    "import re\n",
    "import json\n",
    "import matplotlib.pyplot as plt\n",
    "import pandas as pd\n",
    "from konfuzio_sdk import SUPPORTED_FILE_TYPES\n",
    "from konfuzio_sdk.api import konfuzio_session\n",
    "from konfuzio_sdk.data import Project, Annotation, Document, Label, Section\n",
    "from konfuzio_sdk.utils import get_file_type"
   ]
  },
  {
   "cell_type": "markdown",
   "metadata": {
    "id": "D2y_TzOxS4n3"
   },
   "source": [
    "### 2. Initiate the project \n",
    "Initiating the project might take some time if you use huge file volumes.  \n",
    "The files will be stored locally in the folder you specified before which is \"data\" by default."
   ]
  },
  {
   "cell_type": "code",
   "execution_count": null,
   "metadata": {
    "id": "qRdVSbk-ZCB-"
   },
   "outputs": [],
   "source": [
    "my_project = Project()"
   ]
  },
  {
   "cell_type": "markdown",
   "metadata": {
    "id": "20PuE1oKagAG"
   },
   "source": [
    "Upload your documents using the following code."
   ]
  },
  {
   "cell_type": "code",
   "execution_count": null,
   "metadata": {
    "id": "CJTCCN8HafQM"
   },
   "outputs": [],
   "source": [
    "from google.colab import files\n",
    "uploaded = files.upload()"
   ]
  },
  {
   "cell_type": "code",
   "execution_count": null,
   "metadata": {
    "id": "sDZPsy0PaiYN"
   },
   "outputs": [],
   "source": [
    "# filter the documents by the supported file types\n",
    "import glob\n",
    "import os\n",
    "files_to_check = [f for f in glob.glob('*') if os.path.isfile(f) and not f.endswith('.py')]\n",
    "files_in_dir = []\n",
    "\n",
    "for file_path in files_to_check:\n",
    "    try:\n",
    "        file_type = get_file_type(file_path)\n",
    "    if file_type in SUPPORTED_FILE_TYPES:\n",
    "        files_in_dir.append(file_path)\n",
    "    except NotImplemented:\n",
    "        continue"
   ]
  },
  {
   "cell_type": "code",
   "execution_count": null,
   "metadata": {
    "id": "ua2AX8vbak7P"
   },
   "outputs": [],
   "source": [
    "for doc_file in files_in_dir:\n",
    "    Document(file_path=doc_file, project=my_project).save()"
   ]
  },
  {
   "cell_type": "markdown",
   "metadata": {
    "id": "wnvkqqbvasXJ"
   },
   "source": [
    "Note:  \n",
    "If you prefer, use the example documents in the example folder with sample documents provided [here](https://drive.google.com/drive/folders/1iWPBdxHqR8j8CWUdbVHO7OzIxZsOXe-l).\n",
    "\n",
    "The documents are annual reports from companies which are part of the prime standard (full list of companies in prime standard can be found [here](https://www.deutsche-boerse-cash-market.com/dbcm-de/instrumente-statistiken/statistiken/gelistete-unternehmen)).   \n",
    "\n",
    "Alternatively, you can do this step directly on the Konfuzio server by uploading the documents there.  \n",
    "Follow the instructions in the readme of the [repository](https://github.com/konfuzio-ai/document-ai-python-sdk).  "
   ]
  },
  {
   "cell_type": "markdown",
   "metadata": {
    "id": "Kc7IBUaKbL-h"
   },
   "source": [
    "Update your project to have the information of the documents after being processed."
   ]
  },
  {
   "cell_type": "code",
   "execution_count": null,
   "metadata": {
    "id": "-CTgMP9zS4n6"
   },
   "outputs": [],
   "source": [
    "my_project.update()"
   ]
  },
  {
   "cell_type": "markdown",
   "metadata": {
    "id": "1UShNLVnbw1I"
   },
   "source": [
    "Get the documents from the project."
   ]
  },
  {
   "cell_type": "code",
   "execution_count": null,
   "metadata": {
    "id": "tamvX9d-bvO4"
   },
   "outputs": [],
   "source": [
    "documents = my_project.get_documents_from_project()"
   ]
  },
  {
   "cell_type": "markdown",
   "metadata": {
    "id": "AyhR9aQQb4e1"
   },
   "source": [
    "Check how many documents there are."
   ]
  },
  {
   "cell_type": "code",
   "execution_count": null,
   "metadata": {
    "id": "tJv1s2_yb8PB"
   },
   "outputs": [],
   "source": [
    "print(len(documents))"
   ]
  },
  {
   "cell_type": "markdown",
   "metadata": {
    "id": "pZeoLwkoS4n7"
   },
   "source": [
    "### 3. Specify the expressions you want to count\n",
    "Our aim is to count expressions related to sustainability (here: _climate_expressions_) and expressions related to pandemics (here: _pandemic_expressions_).  \n",
    "Hence, we specify certain words and expressions related to these subjects.   These expressions will then be searched in the documents of the project to find exact matches. However, there is flexibility for lower- or uppercases. "
   ]
  },
  {
   "cell_type": "code",
   "execution_count": null,
   "metadata": {
    "id": "68svETvnS4n7"
   },
   "outputs": [],
   "source": [
    "# List of climate expressions to match\n",
    "climate_expressions = [re.compile(\"climate change|climate crisis|climate emergency|climate breakdown\", re.I),\n",
    "                       re.compile(\"global warming|global heating\", re.I),\n",
    "                       re.compile(\"Greenhouse Gas\", re.I),\n",
    "                       re.compile(\"carbon emission\", re.I),\n",
    "                       re.compile(\"renewable energy|renewable sources\", re.I)]"
   ]
  },
  {
   "cell_type": "code",
   "execution_count": null,
   "metadata": {
    "id": "tEb8CIgdS4n8"
   },
   "outputs": [],
   "source": [
    "# List of pandemic expressions to match\n",
    "pandemic_expressions = [re.compile(\"Corona\", re.I),\n",
    "                     re.compile(\"Covid\", re.I),\n",
    "                     re.compile(\"pandemic\", re.I),\n",
    "                     re.compile(\"lockdown\", re.I)]"
   ]
  },
  {
   "cell_type": "markdown",
   "metadata": {
    "id": "Dr3CZHZzS4n8"
   },
   "source": [
    "### 4. Define the labels in the project\n",
    "\n",
    "As we have expressions related to different subjects, we want to create a label for each one.  "
   ]
  },
  {
   "cell_type": "markdown",
   "metadata": {
    "id": "IQDu6mnCdDFa"
   },
   "source": [
    "To do this, start by setting up a template on app.konfuzio.com (_Templates -> + Add Template_). \n",
    "It is important and necessary that each new annotation gets assigned to a new section. Therefore, tick the box \"Has multiple sections\" to achieve this. "
   ]
  },
  {
   "cell_type": "markdown",
   "metadata": {
    "id": "MsTGWbfTeLgm"
   },
   "source": [
    "Update your project to get the new template."
   ]
  },
  {
   "cell_type": "code",
   "execution_count": null,
   "metadata": {
    "id": "nuhkgOb5eKfC"
   },
   "outputs": [],
   "source": [
    "my_project.update()"
   ]
  },
  {
   "cell_type": "markdown",
   "metadata": {
    "id": "PWFlJTF2eRbH"
   },
   "source": [
    "Get the ID of the template."
   ]
  },
  {
   "cell_type": "code",
   "execution_count": null,
   "metadata": {
    "id": "MRDQ4S3fe5Ol"
   },
   "outputs": [],
   "source": [
    "template = [template for template in my_project.templates if not template.is_default][0]"
   ]
  },
  {
   "cell_type": "markdown",
   "metadata": {
    "id": "BWxb7rLEdI_j"
   },
   "source": [
    "Now, you can add labels to your respective template.  \n",
    "These labels serve as categories or containers for your annotations. In our example, we cluster our annotations into expressions either related to pandemic or to sustainability. Therefore, we create two labels \"Pandemic\" and \"Climate\" to allocate the annotations accordingly. Down below, we define the label names of the project we want to use and match them with the existing ones in our project for the further proceeding.\n"
   ]
  },
  {
   "cell_type": "code",
   "execution_count": null,
   "metadata": {
    "id": "FHahG8ZAfC3J"
   },
   "outputs": [],
   "source": [
    "# labels for which we want to cluster the expressions\n",
    "labels_names = ['Pandemic', 'Climate']"
   ]
  },
  {
   "cell_type": "code",
   "execution_count": null,
   "metadata": {
    "id": "JpisFRXsfRax"
   },
   "outputs": [],
   "source": [
    "for label in labels_names:\n",
    "    Label(project=my_project, text=label, templates=[template]).save()"
   ]
  },
  {
   "cell_type": "markdown",
   "metadata": {
    "id": "qyZdPLNJffA_"
   },
   "source": [
    "To confirm that the labels exist in the project:"
   ]
  },
  {
   "cell_type": "code",
   "execution_count": null,
   "metadata": {
    "id": "fWSX2SeWS4n8"
   },
   "outputs": [],
   "source": [
    "my_project.update()\n",
    "\n",
    "print(f\"Current labels in your project:\\n{my_project.labels}\")"
   ]
  },
  {
   "cell_type": "markdown",
   "metadata": {
    "id": "0BT9MtydgyqQ"
   },
   "source": [
    "Collect the defined labels and the correspondent template."
   ]
  },
  {
   "cell_type": "code",
   "execution_count": null,
   "metadata": {
    "id": "ptQvCT9VS4n8"
   },
   "outputs": [],
   "source": [
    "# labels defined in the Konfuzio project that match the ones we want\n",
    "labels = [label for label in my_project.labels if label.name in labels_names]\n",
    "\n",
    "# correspondent templates\n",
    "templates = [my_label.templates[0] for my_label in labels]"
   ]
  },
  {
   "cell_type": "markdown",
   "metadata": {
    "id": "hWAEXOcFS4n8"
   },
   "source": [
    "### 5. Find matches for the expressions in the documents\n",
    "Now we find expressions in the documents which exactly match the expressions we defined above.  \n",
    "If there is a match, it will be saved as an annotation in a separate section in the documents and can be viewed on app.konfuzio.com in the smart view (https://app.konfuzio.com/admin/server/document/) of the respective document.  \n",
    "If there are separate expressions next to each other in one document, they are counted as separate ones although they could be viewed as one single expression."
   ]
  },
  {
   "cell_type": "code",
   "execution_count": null,
   "metadata": {
    "id": "zyfs0sEupS5N"
   },
   "outputs": [],
   "source": [
    "# find matches in each document and for each label for the expressions defined above, if not already done before and save the annotations in the corresponding documents:\n",
    "expressions = {'Climate': climate_expressions, 'Pandemic': pandemic_expressions}\n",
    "\n",
    "for document in documents:\n",
    "    for label, template in zip(labels, templates):\n",
    "    \n",
    "        for exp in expressions[label.name]:\n",
    "            matches = [(m.start(0), m.end(0)) for m in re.finditer(exp, document.text)]\n",
    "        \n",
    "            for match in matches:\n",
    "                annotation_obj = Annotation(\n",
    "                    document=document,\n",
    "                    section=None,\n",
    "                    document_id=document.id,\n",
    "                    start_offset=match[0],\n",
    "                    end_offset=match[1],\n",
    "                    label=label,\n",
    "                    template_id=template.id,\n",
    "                    accuracy=1.0,\n",
    "                    is_correct=True,\n",
    "                    revised=True,\n",
    "                )\n",
    "                \n",
    "                _ = annotation_obj.save()"
   ]
  },
  {
   "cell_type": "markdown",
   "metadata": {
    "id": "KUh-HrkES4n-"
   },
   "source": [
    "After the annotations have been created online, update the documents with the posted annotations. "
   ]
  },
  {
   "cell_type": "code",
   "execution_count": null,
   "metadata": {
    "id": "A9_AG-YTgXLP"
   },
   "outputs": [],
   "source": [
    "for document in documents:\n",
    "    document.get_document_details(update=True)"
   ]
  },
  {
   "cell_type": "markdown",
   "metadata": {
    "id": "Zmr3pQzeghVF"
   },
   "source": [
    "Let's check how many matches were found in the first document:"
   ]
  },
  {
   "cell_type": "code",
   "execution_count": null,
   "metadata": {
    "id": "jwEdHBrAhFsj"
   },
   "outputs": [],
   "source": [
    "print(len(documents[0].annotations()))"
   ]
  },
  {
   "cell_type": "markdown",
   "metadata": {
    "id": "J__8LeQBg39y"
   },
   "source": [
    "### 6. Data analysis"
   ]
  },
  {
   "cell_type": "markdown",
   "metadata": {
    "id": "J-bVin16hRPU"
   },
   "source": [
    "Let's have a quick look into how many matches were found."
   ]
  },
  {
   "cell_type": "markdown",
   "metadata": {
    "id": "nZiw6HcsS4n_"
   },
   "source": [
    "The following provides you with the annotations per label for each of our respective documents separately, giving you the opportunity to analyze the annotations for the individual documents. "
   ]
  },
  {
   "cell_type": "code",
   "execution_count": null,
   "metadata": {
    "id": "GDKBrnBrS4n_"
   },
   "outputs": [],
   "source": [
    "# count of annotations per label and per document:\n",
    "print(\"Annotations per document and per label:\")\n",
    "for doc in documents:\n",
    "    count_dict_doc= {}\n",
    "    print(\"\\n{}:\".format(doc))\n",
    "\n",
    "    for annotation in doc.annotations():\n",
    "        label_name = annotation.label.name\n",
    "        if label_name in labels_names:\n",
    "            if label_name in count_dict_doc.keys():\n",
    "                count_dict_doc[label_name] += 1\n",
    "            else:\n",
    "                count_dict_doc[label_name] = 1\n",
    "                \n",
    "    print(count_dict_doc)"
   ]
  },
  {
   "cell_type": "markdown",
   "metadata": {
    "id": "jlGi_hDthdy6"
   },
   "source": [
    "The Annotations are now also posted on app.konfuzio.com. You can view them in the smart view there. \n",
    "To do a more complete and extensive analysis and to get a first glance about what is possible with the results we achieved with this tutorial, you can either use the provided code down below or you can export the information from the Konfuzio server by downloading the data as a csv file.\n",
    "\n",
    "To download the csv file, please follow these steps:\n",
    "- Either select certain documents by ticking the boxes of the individual documents or filtering them with the filtering options on the right, e.g. by dataset status: training\n",
    "- Or select all documents of your project by clicking on \"select all (...) documents\" on the bottom right corner below the documents\n",
    "- Select the action \"get all data as csv file.\" in the dropdown menu"
   ]
  },
  {
   "cell_type": "markdown",
   "metadata": {
    "id": "-3HCYoKJi5CN"
   },
   "source": [
    "This csv provides you with further possibilities to work with the data and draw conclusions from it.\n",
    "\n",
    "In this example we choose to analyze the relation between the occurences of sustainability and pandemic expressions, hence whether companies decreased their attention to sustainability issues with the arise of a global pandemic. In the code provided below, you can take a look at a first analysis drawn from the data we achieved with this analysis of the annual reports of the companies. "
   ]
  },
  {
   "cell_type": "markdown",
   "metadata": {
    "id": "LKJElSXA8k0C"
   },
   "source": [
    "Retrieve different information from the documents of your Konfuzio project and create a dataframe with these information for a better overview:"
   ]
  },
  {
   "cell_type": "code",
   "execution_count": null,
   "metadata": {
    "id": "7ZbnSIVgShvM"
   },
   "outputs": [],
   "source": [
    "docs_info = []\n",
    "\n",
    "for doc in documents:\n",
    "    doc_info = {'name': doc.name,\n",
    "                'ISIN': doc.name.split(\"_\")[0],\n",
    "                'year': doc.name.split(\"_\")[1],\n",
    "                'ID': doc.id,\n",
    "                'URL': doc.file_url,\n",
    "                'status': doc.dataset_status,\n",
    "                'nopages': doc.number_of_pages}\n",
    "    \n",
    "    docs_info.append(doc_info)\n",
    "\n",
    "df = pd.DataFrame(data=docs_info)"
   ]
  },
  {
   "cell_type": "markdown",
   "metadata": {
    "id": "8LbXF4kk816Q"
   },
   "source": [
    "In the next step, retrieve also the annotations per label. In our case, the count of climate and pandemic expressions and add them with separate columns to the dataframe:"
   ]
  },
  {
   "cell_type": "code",
   "execution_count": null,
   "metadata": {
    "id": "kCpdziBX64H1"
   },
   "outputs": [],
   "source": [
    "total_climate = []\n",
    "total_pandemic = []\n",
    "\n",
    "for doc in documents:\n",
    "    annot = doc.annotations()\n",
    "    count_climate = len([a for a in annot if a.label.name == 'Climate'])\n",
    "    total_climate.append(count_climate)\n",
    "    count_pandemic = len([a for a in annot if a.label.name == 'Pandemic'])\n",
    "    total_pandemic.append(count_pandemic)\n",
    "\n",
    "df[\"topics_climate\"] = total_climate\n",
    "df[\"topics_pandemic\"] = total_pandemic\n",
    "df.head()"
   ]
  },
  {
   "cell_type": "code",
   "execution_count": null,
   "metadata": {
    "id": "ICgHO2uNdbuE"
   },
   "outputs": [],
   "source": [
    "sum_pages = df['no. pages'].sum()\n",
    "print(\"Total sum of pages in dataset: {}.\".format(sum_pages))\n",
    "sum_topics_climate = df[\"topics_climate\"].sum()\n",
    "print(\"Total sum of topics_climate: {}.\".format(sum_topics_climate))\n",
    "sum_topics_pandemic = df[\"topics_pandemic\"].sum()\n",
    "print(\"Total sum of topics_pandemic: {}.\".format(sum_topics_pandemic))"
   ]
  },
  {
   "cell_type": "markdown",
   "metadata": {
    "id": "t9tC1H6u-0m4"
   },
   "source": [
    "Retrieve the total number of pages of all annual reports present in the dataset as well as the total count of climate and pandemic expressions. Furthermore, group the number of climate and pandemic expressions by year to analyze the development of occurrences of each one over the timespan from 2010 to 2020:"
   ]
  },
  {
   "cell_type": "code",
   "execution_count": null,
   "metadata": {
    "id": "WSJh6RhXGeO0"
   },
   "outputs": [],
   "source": [
    "def count_per_year(dataframe, label):\n",
    "    grouped = dataframe.groupby('year')['topics_' + label].sum()\n",
    "    grouped_df = {'count_' + label: grouped}\n",
    "    grouped_df = pd.DataFrame(data=grouped_df)\n",
    "    grouped_df.plot(kind = 'bar')\n",
    "    plt.title(f'Number of {label} expressions per year')"
   ]
  },
  {
   "cell_type": "code",
   "execution_count": null,
   "metadata": {
    "id": "7EAK8uMLAvA-"
   },
   "outputs": [],
   "source": [
    "count_per_year(df, 'climate')\n",
    "count_per_year(df, 'pandemic')"
   ]
  },
  {
   "cell_type": "markdown",
   "metadata": {},
   "source": [
    "As we can recognize, sustainability still played an important role for companies with the issue even increasing in importance and occurence over the years. As expected, pandemic expressions strongly rose with the beginning and emergence of the Covid-19 pandemic.\n",
    "For further background information and additional application possibilities, as well as specific analysises of the different sectors during the timespan analyzed, we kindly want to refer to our blogpost related to this tutorial: _link to blogpost will be inserted here when published_."
   ]
  }
 ],
 "metadata": {
  "colab": {
   "collapsed_sections": [],
   "name": "WordCountTutorial_draft_(8)_review.ipynb",
   "provenance": []
  },
  "kernelspec": {
   "display_name": "Python 3",
   "language": "python",
   "name": "python3"
  },
  "language_info": {
   "codemirror_mode": {
    "name": "ipython",
    "version": 3
   },
   "file_extension": ".py",
   "mimetype": "text/x-python",
   "name": "python",
   "nbconvert_exporter": "python",
   "pygments_lexer": "ipython3",
   "version": "3.8.8"
  }
 },
 "nbformat": 4,
 "nbformat_minor": 4
}
