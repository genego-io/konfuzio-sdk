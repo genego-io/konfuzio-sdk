{
 "nbformat": 4,
 "nbformat_minor": 0,
 "metadata": {
  "colab": {
   "name": "Tutorial_Pratical_Human_in_the_Loop_Machine_Learning.ipynb",
   "provenance": [],
   "collapsed_sections": []
  },
  "kernelspec": {
   "name": "python3",
   "display_name": "Python 3"
  },
  "language_info": {
   "name": "python"
  }
 },
 "cells": [
  {
   "cell_type": "markdown",
   "metadata": {
    "id": "sy-BMihsCcQk"
   },
   "source": [
    "# Practical Human in the loop of machine learning"
   ]
  },
  {
   "cell_type": "markdown",
   "metadata": {
    "id": "i1MLO6VnOBBV"
   },
   "source": [
    "Konfuzio SDK allows you to connect your machine learning pipeline to Konfuzio app in a simple and easy way so that you can benefit from its functionalities.\n",
    "\n",
    "Most machine learning models rely on data that has been prepared by humans. But the most powerful systems are set up such that they allow both sides to interact continuously. These systems allow humans to give direct feedback to a model.\n",
    "\n",
    "In this tutorial we will show how you can use the Konfuzio SDK package to include an easy feedback workflow in your training pipeline.\n",
    "\n",
    "We will show how to:\n",
    "- use the results from a model as annotations in the Konfuzio app\n",
    "- provide feedback by simply accept or reject those results\n",
    "- get back the revised annotations\n",
    "\n",
    "With these revised annotations you can retrain your model and repeat the loop.\n",
    "By doing this you can reduce the effort in the labelling of the data and improve the performance of your model.\n"
   ]
  },
  {
   "cell_type": "markdown",
   "metadata": {
    "id": "Vdx9YPO9l0HB"
   },
   "source": [
    "Let's start..."
   ]
  },
  {
   "cell_type": "markdown",
   "metadata": {
    "id": "5eNZqJhHeMAa"
   },
   "source": [
    "First, be sure you have **installed** and **initialized** the konfuzio_sdk package as shown in the readme of the [repository](https://github.com/konfuzio-ai/Python-SDK)."
   ]
  },
  {
   "cell_type": "code",
   "metadata": {
    "id": "uvXnprlO2Us1"
   },
   "source": [
    "!pip install konfuzio-sdk"
   ],
   "execution_count": null,
   "outputs": []
  },
  {
   "cell_type": "code",
   "metadata": {
    "id": "mnlP_xPA2Vl_"
   },
   "source": [
    "!konfuzio_sdk init"
   ],
   "execution_count": null,
   "outputs": []
  },
  {
   "cell_type": "markdown",
   "metadata": {
    "id": "8vvhs_VRSKK6"
   },
   "source": [
    "Note:  \n",
    "If you want to switch to a different project, you have to restart the variables in colab (run cell bellow).\n"
   ]
  },
  {
   "cell_type": "code",
   "metadata": {
    "id": "1kDIdM2FSjKe"
   },
   "source": [
    "!kill -9 -1"
   ],
   "execution_count": null,
   "outputs": []
  },
  {
   "cell_type": "markdown",
   "metadata": {
    "id": "bo6p7goxgCwA"
   },
   "source": [
    "Import the necessary functions from the Konfuzio SDK and other python libraries."
   ]
  },
  {
   "cell_type": "code",
   "metadata": {
    "id": "9sRcMiZG_d1A"
   },
   "source": [
    "import os\n",
    "import glob\n",
    "from konfuzio_sdk.data import Project, Annotation, Document, Label\n",
    "from konfuzio_sdk.api import upload_file_konfuzio_api\n",
    "from konfuzio_sdk.utils import get_file_type\n",
    "from konfuzio_sdk import SUPPORTED_FILE_TYPES"
   ],
   "execution_count": null,
   "outputs": []
  },
  {
   "cell_type": "markdown",
   "metadata": {
    "id": "V1Y-hR620fso"
   },
   "source": [
    "Here we will use a model from the library flair as an example. In the next cells we are installing it and importing the necessary functions.\n",
    "You can skip this if you are using other model."
   ]
  },
  {
   "cell_type": "code",
   "metadata": {
    "id": "6rObQxpa0WKM"
   },
   "source": [
    "!pip install flair"
   ],
   "execution_count": null,
   "outputs": []
  },
  {
   "cell_type": "code",
   "metadata": {
    "id": "w9AeTlOw0Uxh"
   },
   "source": [
    "from flair.models import SequenceTagger\n",
    "from flair.data import Sentence\n",
    "from flair.trainers import ModelTrainer\n",
    "from flair.datasets import ColumnCorpus"
   ],
   "execution_count": null,
   "outputs": []
  },
  {
   "cell_type": "markdown",
   "metadata": {
    "id": "b7Bv-rKPCn53"
   },
   "source": [
    "Load your project."
   ]
  },
  {
   "cell_type": "code",
   "metadata": {
    "id": "ytdcoLru3Da7"
   },
   "source": [
    "my_project = Project()"
   ],
   "execution_count": null,
   "outputs": []
  },
  {
   "cell_type": "code",
   "metadata": {
    "id": "FMIjJzEx_t-f"
   },
   "source": [
    "# If in the meantime there was changes in the project in the Konfuzio App, be sure you local project is updated.\n",
    "# Everytime that there are changes in the Konfuzio App, the local project must be updated to have those changes.\n",
    "my_project.update()"
   ],
   "execution_count": null,
   "outputs": []
  },
  {
   "cell_type": "markdown",
   "metadata": {
    "id": "waT8W69aQOGU"
   },
   "source": [
    "Upload your documents using the following code."
   ]
  },
  {
   "cell_type": "code",
   "metadata": {
    "id": "J5kHFhwZikm-"
   },
   "source": [
    "from google.colab import files\n",
    "uploaded = files.upload()"
   ],
   "execution_count": null,
   "outputs": []
  },
  {
   "cell_type": "code",
   "metadata": {
    "id": "ENKAcjNviLde"
   },
   "source": [
    "# filter the documents by the supported file types\n",
    "files_to_check = [f for f in glob.glob('*') if os.path.isfile(f) and not f.endswith('.py')]\n",
    "files_in_dir = []\n",
    "\n",
    "for file_path in files_to_check:\n",
    "  try:\n",
    "    file_type = get_file_type(file_path)\n",
    "    if file_type in SUPPORTED_FILE_TYPES:\n",
    "        files_in_dir.append(file_path)\n",
    "  except NotImplemented:\n",
    "    continue"
   ],
   "execution_count": null,
   "outputs": []
  },
  {
   "cell_type": "code",
   "metadata": {
    "id": "1PylFYRdePqk"
   },
   "source": [
    "# add the documents to the project\n",
    "\n",
    "for doc_file in files_in_dir:\n",
    "  Document(file_path=doc_file, project=my_project).save()"
   ],
   "execution_count": null,
   "outputs": []
  },
  {
   "cell_type": "markdown",
   "metadata": {
    "id": "GEN04UfviWR1"
   },
   "source": [
    "Note:  \n",
    "If you prefer, use the example documents in the [example folder](https://drive.google.com/drive/folders/1pjJkfIDh07bvbOp4-YOM32aOC4iGUjwW?usp=sharing).\n",
    "\n",
    "The documents are part of the public dataset [rvl-cdip](https://www.cs.cmu.edu/~aharley/rvl-cdip/).\n",
    "\n",
    "Alternatively, you can do this step directly on the app by uploading the documents there.  \n",
    "Follow the instructions in the readme of the [repository](https://github.com/konfuzio-ai/Python-SDK)."
   ]
  },
  {
   "cell_type": "markdown",
   "metadata": {
    "id": "oXM5WzMwerpI"
   },
   "source": [
    "Take a look into the text of a document to check its quality."
   ]
  },
  {
   "cell_type": "code",
   "metadata": {
    "id": "qugcm6Jieql5"
   },
   "source": [
    "# get the documents from the project\n",
    "my_project.update()\n",
    "documents = my_project.get_documents_from_project()\n",
    "\n",
    "doc = documents[0]\n",
    "print(doc.text)"
   ],
   "execution_count": null,
   "outputs": []
  },
  {
   "cell_type": "markdown",
   "metadata": {
    "id": "WZ1wZG5yCwNE"
   },
   "source": [
    "Use a model to create some first annotations."
   ]
  },
  {
   "cell_type": "markdown",
   "metadata": {
    "id": "-pvZ7ySxC4Yp"
   },
   "source": [
    "Here we will use a pre trained model for Named-entity Recognition (NER) from the flair library. You can use your **own model**."
   ]
  },
  {
   "cell_type": "code",
   "metadata": {
    "id": "dlHk4XRqo08x"
   },
   "source": [
    "model = SequenceTagger.load('ner-ontonotes-fast')"
   ],
   "execution_count": null,
   "outputs": []
  },
  {
   "cell_type": "markdown",
   "metadata": {
    "id": "fIYNkMLLQRsT"
   },
   "source": [
    "Check which labels are in the flair model and chose some."
   ]
  },
  {
   "cell_type": "code",
   "metadata": {
    "id": "yerWn9YCkKxH"
   },
   "source": [
    "labels_available = list(set([tag.split('-')[1] for tag in model.tag_dictionary.get_items() if '-' in tag]))\n",
    "print(labels_available)"
   ],
   "execution_count": null,
   "outputs": []
  },
  {
   "cell_type": "markdown",
   "metadata": {
    "id": "mfuGZgr2dl5X"
   },
   "source": [
    "Here we will use the pretrained model to have some first annotations for **dates**, **organizations** and **persons** in the documents."
   ]
  },
  {
   "cell_type": "code",
   "metadata": {
    "id": "w_IuU4qdOK7U"
   },
   "source": [
    "# labels for which we want to create annotations\n",
    "labels_names = ['DATE', 'ORG', 'PERSON']"
   ],
   "execution_count": null,
   "outputs": []
  },
  {
   "cell_type": "markdown",
   "metadata": {
    "id": "9rNKnGG_ORkf"
   },
   "source": [
    "We need to create the labels in the project accordingly with the labels_names defined above."
   ]
  },
  {
   "cell_type": "code",
   "metadata": {
    "id": "tTEBHs1EOQ02"
   },
   "source": [
    "for label in labels_names:\n",
    "    Label(project=my_project, has_multiple_top_candidates=True, text=label).save()"
   ],
   "execution_count": null,
   "outputs": []
  },
  {
   "cell_type": "markdown",
   "metadata": {
    "id": "dx8d2Dn9LWQL"
   },
   "source": [
    "Collect the defined labels and the correspondent template."
   ]
  },
  {
   "cell_type": "code",
   "metadata": {
    "id": "gStt8YDoA9E_"
   },
   "source": [
    "# labels defined in the Konfuzio project that match the ones we want\n",
    "my_labels = [label for label in my_project.labels if label.name in labels_names]\n",
    "\n",
    "# correspondent template id\n",
    "my_templates_ids = [my_label.templates[0].id for my_label in my_labels]"
   ],
   "execution_count": null,
   "outputs": []
  },
  {
   "cell_type": "markdown",
   "metadata": {
    "id": "2zFFwFEbDoHu"
   },
   "source": [
    "Post the results from the pretrained model as annotations in the Konfuzio app."
   ]
  },
  {
   "cell_type": "code",
   "metadata": {
    "id": "WkX13DyE3jUD"
   },
   "source": [
    "def annotate_document(document, annotations, labels, template_ids):\n",
    "    \"\"\"\n",
    "    Create annotations in a document.\n",
    "\n",
    "    Based on a list of possible annotations, filter the ones that match with the\n",
    "    labels in the project.\n",
    "\n",
    "    :param document: document object\n",
    "    :param annotations: list of possible annotations\n",
    "    :param labels: labels for which the annotations can be created\n",
    "    :param template_ids: templates ids that correspondent to the labels\n",
    "    \"\"\"\n",
    "    labels_names = [label.name for label in labels]\n",
    "\n",
    "    for entity in annotations:\n",
    "        if entity.tag in labels_names:\n",
    "            for label, template_id in zip(labels, template_ids):\n",
    "                if label.name == entity.tag:\n",
    "                    break\n",
    "            annotation_obj = Annotation(\n",
    "                document=document,\n",
    "                document_id=document.id,\n",
    "                start_offset=entity.start_pos,\n",
    "                end_offset=entity.end_pos,\n",
    "                label=label.id,\n",
    "                template_id=template_id,\n",
    "                accuracy=None\n",
    "            )\n",
    "            _ = annotation_obj.save()"
   ],
   "execution_count": null,
   "outputs": []
  },
  {
   "cell_type": "code",
   "metadata": {
    "id": "kFwjnd4SLKhj"
   },
   "source": [
    "for doc in documents:\n",
    "    s = Sentence(doc.text)\n",
    "    model.predict(s)\n",
    "    first_results = s.get_spans('ner')\n",
    "    annotate_document(doc, first_results, my_labels, my_templates_ids)"
   ],
   "execution_count": null,
   "outputs": []
  },
  {
   "cell_type": "markdown",
   "source": [
    "You can view the results in the SmartView and **revise** them by accepting or rejecting as described in the point  [7. Give feedback](https://konfuzio.com/en/data-extraction-documents-how-to-1/#how-to-step-1611219481233) of \"How to start your project with Konfuzio\"."
   ],
   "metadata": {
    "collapsed": false
   }
  },
  {
   "cell_type": "markdown",
   "metadata": {
    "id": "r7TOlNJREjwU"
   },
   "source": [
    "Now you can use the revised annotations to **train a model in the app** or **retrain your local model**."
   ]
  },
  {
   "cell_type": "markdown",
   "source": [
    "If you want to train a model in the app, you have first to specify which documents should be used for training.\n",
    "You can do that in the app by selecting \"Add to training data set\" as described in the point  [5. Division into training and test data](https://konfuzio.com/en/data-extraction-documents-how-to-1/#how-to-step-1611219345671).\n",
    "\n",
    "Then, you just have to set the retraining of the project by ticking the box and select the respective execution in the action field [here](https://app.konfuzio.com/admin/server/project/). More detailed instructions in the point [6.Start retraining and evaluate results](https://konfuzio.com/en/data-extraction-documents-how-to-1/#how-to-step-1611219370716)."
   ],
   "metadata": {
    "collapsed": false
   }
  },
  {
   "cell_type": "markdown",
   "metadata": {
    "id": "k0cUCJu5E-OE"
   },
   "source": [
    "If you want to retrain your local model, you have to update your local project first so that you get the information of the revised annotations."
   ]
  },
  {
   "cell_type": "code",
   "execution_count": null,
   "outputs": [],
   "source": [
    "my_project.update()"
   ],
   "metadata": {
    "collapsed": false,
    "pycharm": {
     "name": "#%%\n"
    }
   }
  },
  {
   "cell_type": "markdown",
   "metadata": {
    "id": "TSX-BfDMFUEF",
    "pycharm": {
     "name": "#%% md\n"
    }
   },
   "source": [
    "The next step is to define which documents should be used for training."
   ]
  },
  {
   "cell_type": "code",
   "execution_count": null,
   "outputs": [],
   "source": [
    "# define all uploaded documents as training dataset\n",
    "for doc in documents:\n",
    "    doc.dataset_status = 2\n",
    "    doc.save()"
   ],
   "metadata": {
    "collapsed": false,
    "pycharm": {
     "name": "#%%\n"
    }
   }
  },
  {
   "cell_type": "markdown",
   "source": [
    "The training documents can now be accessed by the attribute **documents** of the project."
   ],
   "metadata": {
    "collapsed": false
   }
  },
  {
   "cell_type": "code",
   "execution_count": null,
   "outputs": [],
   "source": [
    "print(len(my_project.documents())"
   ],
   "metadata": {
    "collapsed": false,
    "pycharm": {
     "name": "#%%\n"
    }
   }
  },
  {
   "cell_type": "markdown",
   "metadata": {
    "id": "mqnfUrmLFp9t"
   },
   "source": [
    "Then, use the reviewed annotations to retrain your model."
   ]
  },
  {
   "cell_type": "markdown",
   "metadata": {
    "id": "T8xWMc76cZge"
   },
   "source": [
    "To get the annotations in a document, you just have to use the method **annotations()**.\n",
    "\n",
    "The cell bellow shows how many annotations are in the first document in the training set."
   ]
  },
  {
   "cell_type": "code",
   "metadata": {
    "id": "1UkkzSMTcLVH"
   },
   "source": [
    "print(len(my_project.documents[0].annotations()))"
   ],
   "execution_count": null,
   "outputs": []
  },
  {
   "cell_type": "markdown",
   "metadata": {
    "id": "fDb3aKzsKNzS"
   },
   "source": [
    "An example of how to get the data in the format necessary to retrain the flair model is shown bellow.\n",
    "\n",
    "This example is merely demonstrative. You might want to adapt the data structure and training parameters to your case and/or model."
   ]
  },
  {
   "cell_type": "markdown",
   "metadata": {
    "id": "KvLrxNtdDwsD"
   },
   "source": [
    "In this case, we only need to get the **start** and **end offsets** of each annotation and its **label**."
   ]
  },
  {
   "cell_type": "markdown",
   "metadata": {
    "id": "qcHz2E2nDyPB"
   },
   "source": [
    "The flair model requires the data structure to be in the BIO scheme and to be saved in a text file."
   ]
  },
  {
   "cell_type": "code",
   "metadata": {
    "id": "tM3ntrFgDVW7"
   },
   "source": [
    "def convert_to_bio_scheme(text, annotations):\n",
    "    \"\"\"\n",
    "    Mark all the entities in the text as per the BIO scheme.\n",
    "\n",
    "    :param text: text of the document\n",
    "    :param annotations: annotations in the document with star and end offset and label name\n",
    "    :return: dictionary with the label of each word in the text\n",
    "    \"\"\"\n",
    "    word_dict = {}\n",
    "    for word in text.split():\n",
    "        word_dict[word] = 'O'\n",
    "\n",
    "    for start, end, label_name in annotations:\n",
    "        temp_str = text[start:end]\n",
    "        tmp_list = temp_str.split()\n",
    "        if len(tmp_list) > 1:\n",
    "            word_dict[tmp_list[0]] = 'B-' + label_name\n",
    "            for w in tmp_list[1:]:\n",
    "                word_dict[w] = 'I-' + label_name\n",
    "        else:\n",
    "            word_dict[temp_str] = 'B-' + label_name\n",
    "    return word_dict"
   ],
   "execution_count": null,
   "outputs": []
  },
  {
   "cell_type": "code",
   "metadata": {
    "id": "vT4hvd1JDOjG"
   },
   "source": [
    "def create_data(file_name, documents):\n",
    "    \"\"\"\n",
    "    Create data structure in the format expected by flair and saves it in a txt file.\n",
    "\n",
    "    :param file_name: name of the file where to save the data\n",
    "    :param documents: dataset documents\n",
    "    \"\"\"\n",
    "    with open(file_name, 'w') as f:\n",
    "        for doc in documents:\n",
    "            document_annotations = doc.annotations()\n",
    "\n",
    "            if len(document_annotations) > 0:\n",
    "                annotations_in_doc = []\n",
    "\n",
    "                for annotation in document_annotations:\n",
    "                    data = (annotation.start_offset, annotation.end_offset, annotation.label.name)\n",
    "                    annotations_in_doc.append(data)\n",
    "\n",
    "                converted_annots = convert_to_bio_scheme(doc.text, annotations_in_doc)\n",
    "\n",
    "                for i in converted_annots.keys():\n",
    "                    f.writelines(i + ' ' + converted_annots[i] + '\\n')\n",
    "                f.writelines('\\n')\n"
   ],
   "execution_count": null,
   "outputs": []
  },
  {
   "cell_type": "code",
   "metadata": {
    "id": "g_nnnO6wDPBC"
   },
   "source": [
    "n_val = max(round(len(my_project.documents) * 0.3), 1)\n",
    "\n",
    "create_data('train.txt', my_project.documents[:-n_val])\n",
    "create_data('dev.txt', my_project.documents[-n_val:])\n",
    "create_data('test.txt', my_project.test_documents)"
   ],
   "execution_count": null,
   "outputs": []
  },
  {
   "cell_type": "markdown",
   "metadata": {
    "id": "PoRmEfN3EJmF"
   },
   "source": [
    "After having the data in the expected structure, we can retrain the tagger model loaded in the begining."
   ]
  },
  {
   "cell_type": "code",
   "metadata": {
    "id": "dO9ZSz1LEVpc"
   },
   "source": [
    "def retrain(model, data_folder='./'):\n",
    "    \"\"\"\n",
    "    Train the existing model for a few more epochs.\n",
    "\n",
    "    :param tagger: pre trained model\n",
    "    :param data_folder: folder with the dataset files.\n",
    "    \"\"\"\n",
    "    # define columns\n",
    "    columns = {0: 'text', 1: 'ner'}\n",
    "\n",
    "    # initializing the corpus\n",
    "    with open('train.txt') as train_file:\n",
    "      train_file.seek(0)\n",
    "      if not train_file.read(1):\n",
    "        return \"There is no training data. Please assign a training data.\"\n",
    "  \n",
    "    corpus = ColumnCorpus(data_folder, columns, train_file='train.txt', test_file='test.txt', dev_file='dev.txt')\n",
    "\n",
    "    model = ModelTrainer(model, corpus)\n",
    "    model.train('resources/taggers/continued_model',\n",
    "                learning_rate=0.01,\n",
    "                mini_batch_size=32,\n",
    "                max_epochs=10)"
   ],
   "execution_count": null,
   "outputs": []
  },
  {
   "cell_type": "code",
   "metadata": {
    "id": "dJ0O2ORTEW5L"
   },
   "source": [
    "# retrain the model\n",
    "retrain(model)"
   ],
   "execution_count": null,
   "outputs": []
  },
  {
   "cell_type": "markdown",
   "metadata": {
    "id": "MDB80U-9l-F1"
   },
   "source": [
    "Repeat the process if you would like."
   ]
  },
  {
   "cell_type": "markdown",
   "metadata": {
    "id": "J5uCgowFmPX8"
   },
   "source": [
    "Thank you!"
   ]
  }
 ]
}