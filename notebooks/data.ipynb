{
 "cells": [
  {
   "cell_type": "markdown",
   "source": [
    "# Best practices to work with your data\n",
    "\n",
    "## Filter for documents that belong to one category\n",
    "\n",
    "In Project 46 you want to get all documents that belong to category with ID 63."
   ],
   "metadata": {
    "collapsed": false,
    "pycharm": {
     "name": "#%% md\n"
    }
   }
  },
  {
   "cell_type": "code",
   "execution_count": 17,
   "metadata": {
    "collapsed": true
   },
   "outputs": [
    {
     "data": {
      "text/plain": "[Gehalt.pdf: 44823,\n Festlohn.pdf: 44834,\n vermögenswirksame Leistungen.pdf: 44839,\n betriebliche Altersvorsorge AG finanziert.pdf: 44840,\n Weihnachtsgeld.pdf: 44841,\n Stundenlohn.pdf: 44842,\n Fahrtkostenzuschuss pauschal versteuert.pdf: 44843,\n Betirebliche Altersvorsorge Mischfinanzierung.pdf: 44845,\n Darlehen.pdf: 44846,\n Dienstwagen mit Gehaltsverzicht.pdf: 44847,\n Auswertungspaket - unterschiedliche B_N-Auswertungen.pdf_1.pdf: 44848,\n Auswertungspaket - unterschiedliche B_N-Auswertungen.pdf_2.pdf: 44850,\n Auswertungspaket - unterschiedliche B_N-Auswertungen.pdf_4.pdf: 44851,\n Auswertungspaket - unterschiedliche B_N-Auswertungen.pdf_3.pdf: 44852,\n Auswertungspaket - unterschiedliche B_N-Auswertungen.pdf_5.pdf: 44853,\n Auswertungspaket - unterschiedliche B_N-Auswertungen.pdf_6.pdf: 44854,\n Auswertungspaket - unterschiedliche B_N-Auswertungen.pdf_7.pdf: 44855,\n Auswertungspaket - unterschiedliche B_N-Auswertungen.pdf_8.pdf: 44856,\n Auswertungspaket - unterschiedliche B_N-Auswertungen.pdf_9.pdf: 44857,\n Auswertungspaket - unterschiedliche B_N-Auswertungen.pdf_10.pdf: 44858,\n Auswertungspaket - unterschiedliche B_N-Auswertungen.pdf_12.pdf: 44859,\n 2022-01-30 07:22:29.106312: 44860,\n 2022-01-30 07:12:04.725599: 44861,\n 2022-02-07 11:17:51.957252: 44862,\n 2022-01-30 06:57:53.988011: 44863]"
     },
     "execution_count": 17,
     "metadata": {},
     "output_type": "execute_result"
    }
   ],
   "source": [
    "from konfuzio_sdk.data import Project\n",
    "\n",
    "prj = Project(id_=46)\n",
    "category = prj.get_category_by_id(63)\n",
    "\n",
    "category.documents()"
   ]
  },
  {
   "cell_type": "markdown",
   "source": [
    "## Edit an Annotation that is online"
   ],
   "metadata": {
    "collapsed": false,
    "pycharm": {
     "name": "#%% md\n"
    }
   }
  },
  {
   "cell_type": "code",
   "execution_count": 18,
   "outputs": [
    {
     "data": {
      "text/plain": "[Austellungsdatum (159, 169)]"
     },
     "execution_count": 18,
     "metadata": {},
     "output_type": "execute_result"
    }
   ],
   "source": [
    "doc = prj.get_document_by_id(44864)\n",
    "annotations = doc.annotations(start_offset=10, end_offset=200)\n",
    "annotations"
   ],
   "metadata": {
    "collapsed": false,
    "pycharm": {
     "name": "#%%\n"
    }
   }
  },
  {
   "cell_type": "markdown",
   "source": [
    "Let's look into the first Annotation"
   ],
   "metadata": {
    "collapsed": false,
    "pycharm": {
     "name": "#%% md\n"
    }
   }
  },
  {
   "cell_type": "code",
   "execution_count": 19,
   "outputs": [
    {
     "data": {
      "text/plain": "{'id_local': 6789,\n 'is_correct': True,\n 'revised': True,\n 'normalized': '2017-12-21',\n 'translated_string': None,\n 'document': 2022-02-13 16:19:30.684745: 44864,\n '_spans': [Span (159, 169)],\n 'id_': 672245,\n 'confidence': 1.0,\n 'label': Austellungsdatum,\n 'label_set': Lohnabrechnung (63),\n 'annotation_set': AnnotationSet(78791) of Lohnabrechnung (63) in 2022-02-13 16:19:30.684745: 44864.,\n 'selection_bbox': {'bottom': 44.129,\n  'page_index': 0,\n  'top': 35.129,\n  'x0': 468.48,\n  'x1': 526.8,\n  'y0': 797.551,\n  'y1': 806.551},\n 'page_number': None,\n 'top': 35.129,\n 'x0': 468.48,\n 'x1': 526.8,\n 'y0': 797.551,\n 'y1': 806.551,\n 'bottom': 44.129,\n 'bboxes': [{'bottom': 44.129,\n   'end_offset': 169,\n   'line_number': 2,\n   'offset_string': '21.12.2017',\n   'offset_string_original': '21.12.2017',\n   'page_index': 0,\n   'start_offset': 159,\n   'top': 35.129,\n   'x0': 468.48,\n   'x1': 526.8,\n   'y0': 797.551,\n   'y1': 806.551}],\n '_tokens': [],\n '_regex': None}"
     },
     "execution_count": 19,
     "metadata": {},
     "output_type": "execute_result"
    }
   ],
   "source": [
    "first_annotation = annotations[0]\n",
    "first_annotation.__dict__"
   ],
   "metadata": {
    "collapsed": false,
    "pycharm": {
     "name": "#%%\n"
    }
   }
  },
  {
   "cell_type": "markdown",
   "source": [
    "We want to change the revised status to False."
   ],
   "metadata": {
    "collapsed": false,
    "pycharm": {
     "name": "#%% md\n"
    }
   }
  },
  {
   "cell_type": "code",
   "execution_count": 20,
   "outputs": [],
   "source": [
    "first_annotation.revised = False"
   ],
   "metadata": {
    "collapsed": false,
    "pycharm": {
     "name": "#%%\n"
    }
   }
  },
  {
   "cell_type": "markdown",
   "source": [
    "Now we have it locally, but not online. So save it to save it online."
   ],
   "metadata": {
    "collapsed": false,
    "pycharm": {
     "name": "#%% md\n"
    }
   }
  },
  {
   "cell_type": "code",
   "execution_count": 21,
   "outputs": [
    {
     "data": {
      "text/plain": "False"
     },
     "execution_count": 21,
     "metadata": {},
     "output_type": "execute_result"
    }
   ],
   "source": [
    "first_annotation.save()"
   ],
   "metadata": {
    "collapsed": false,
    "pycharm": {
     "name": "#%%\n"
    }
   }
  },
  {
   "cell_type": "code",
   "execution_count": 22,
   "outputs": [
    {
     "data": {
      "text/plain": "{'id_local': 6789,\n 'is_correct': True,\n 'revised': False,\n 'normalized': '2017-12-21',\n 'translated_string': None,\n 'document': 2022-02-13 16:19:30.684745: 44864,\n '_spans': [Span (159, 169)],\n 'id_': 672245,\n 'confidence': 1.0,\n 'label': Austellungsdatum,\n 'label_set': Lohnabrechnung (63),\n 'annotation_set': AnnotationSet(78791) of Lohnabrechnung (63) in 2022-02-13 16:19:30.684745: 44864.,\n 'selection_bbox': {'bottom': 44.129,\n  'page_index': 0,\n  'top': 35.129,\n  'x0': 468.48,\n  'x1': 526.8,\n  'y0': 797.551,\n  'y1': 806.551},\n 'page_number': None,\n 'top': 35.129,\n 'x0': 468.48,\n 'x1': 526.8,\n 'y0': 797.551,\n 'y1': 806.551,\n 'bottom': 44.129,\n 'bboxes': [{'bottom': 44.129,\n   'end_offset': 169,\n   'line_number': 2,\n   'offset_string': '21.12.2017',\n   'offset_string_original': '21.12.2017',\n   'page_index': 0,\n   'start_offset': 159,\n   'top': 35.129,\n   'x0': 468.48,\n   'x1': 526.8,\n   'y0': 797.551,\n   'y1': 806.551}],\n '_tokens': [],\n '_regex': None}"
     },
     "execution_count": 22,
     "metadata": {},
     "output_type": "execute_result"
    }
   ],
   "source": [
    "first_annotation.__dict__"
   ],
   "metadata": {
    "collapsed": false,
    "pycharm": {
     "name": "#%%\n"
    }
   }
  },
  {
   "cell_type": "markdown",
   "source": [
    "## More Details of Annotations\n",
    "\n",
    "Keep the information of Text in a Document.\n",
    "\n",
    "Todo: the endpoint test_get_project_labels does no longer include the document annotation_sets, as the relation of\n",
    "a label and a annotation_set can be configured by a user while labeling. We might ne to model the relation of many\n",
    "Annotations to one AnnotationSet in a more explicit way.\n",
    "\n",
    "Example document: \"I earn 15 Euro per hour.\"\n",
    "\n",
    "Assume the word \"15\" should be labeled. The project contains the labels \"Amount\" and \"Tax\".\n",
    "\n",
    "# CREATE\n",
    "\n",
    "Annotations can be created by:\n",
    "\n",
    "- Human: Who is using the web interface\n",
    "- Import: A human user imports extractions and uses \"Copy extractions to annotations\" admin action\n",
    "- Training: Using the konfuzio package you create an annotation online, via an Bot user\n",
    "- Text FB: Text Feedback - External API user, sends new extraction without ID, which contains only the offset string\n",
    "- Extraction: Internal Process after we receive a new document from an External API user\n",
    "- Extraction FB: External Feedback - External API user, sends feedback to existing extraction incl. ID\n",
    "\n",
    "ID column: relates to the Annotation instance created in the database\n",
    "is_revised: A human revisor had a look at this annotation\n",
    "correct: Human claims that this annotation should be extracted in future documents\n",
    "\n",
    "The KONFUZIO package will use annotations which are revised or (no XOR) correct.\n",
    "\n",
    "| ID | Creator       | is_revised  | correct       | User      | Label   | Action  |\n",
    "|:---|:--------------|:------------|:------------- |:----------|:--------|:--------|\n",
    "| 1  | Human         | False       | True          | Human     | Amount  | ALLOWED |\n",
    "| 2  | Import        | False       | False         | None      | Amount  | ALLOWED | Extraction.created_by_import\n",
    "| 3  | Training      | False       | False         | Bot       | Amount  | ALLOWED |\n",
    "| 4  | Extraction    | False       | False         | External  | Amount  | ALLOWED | one annotation per extraction\n",
    "| X  | Text FB       | -----       | -----         | ---       | Amount  | see 2   | only create extraction\n",
    "\n",
    "# REVISE\n",
    "\n",
    "Annotations, as they heave been created, can be revised by:\n",
    "\n",
    "- Human: Who is using the web interface\n",
    "- Revise Feedback: ?\n",
    "\n",
    "## Positive Feedback will change\n",
    "\n",
    "| ID | Revisor       | is_revised  | correct       | User      | Label   | Action  |\n",
    "|:---|:--------------|:------------|:------------- |:----------|:--------|:--------|\n",
    "| 1  | Human         | NA          | NA            | NA        | Amount  | HIDDEN  |\n",
    "| 2  | Human         | True        | True          | Human     | Amount  | ALLOWED |\n",
    "| 3  | Human         | True        | True          | Bot       | Amount  | ALLOWED | -> ? does PUT update User\n",
    "| 4  | Human         | NA          | NA            | External  | Amount  | HIDDEN  |\n",
    "| 1  | Extraction FB | True        | True          | Human     | Amount  | ALLOWED |\n",
    "| 2  | Extraction FB | ----        | ----          | ----      | ----    | ----    | External user does not get ID\n",
    "| 3  | Extraction FB | ----        | ----          | ----      | ----    | ----    | External user does not get ID\n",
    "| 4  | Extraction FB | True        | True          | Bot       | Amount  | ALLOWED |\n",
    "\n",
    "As positive feedback displays the annotation in the interface but stores them as correct examples, the\n",
    "word \"15\" should NOT be labeled anew. This time the creator might choose between label \"Amount\" and \"Tax\".\n",
    "\n",
    "| ID | Creator       | is_revised  | correct       | User      | Label   | Action  |\n",
    "|:---|:--------------|:------------|:------------- |:----------|:--------|:--------|\n",
    "| 5  | Human         | False       | True          | Human     | Amount  | DENIED  |\n",
    "| 6  | Import        | True        | False         | None      | Amount  | DENIED  |\n",
    "| 7  | Training      | False       | False         | Bot       | Amount  | DENIED  |\n",
    "| 8  | Extraction FB | ?           | ?             | ?         | Amount  | DENIED  |\n",
    "| 9  | Human         | False       | True          | Human     | Tax     | DENIED  |\n",
    "| 10 | Import        | ----        | ----          | ----      | Tax     | DENIED  | External user does not get ID\n",
    "| 11 | Training      | ----        | ----          | ----      | Tax     | DENIED  | External user does not get ID\n",
    "| 12 | Extraction FB | ?           | ?             | ?         | Tax     | DENIED  |\n",
    "\n",
    "## Negative Feedback will change\n",
    "\n",
    "- The user clicks on delete button next to the annotation in the web interface.\n",
    "- Incorrect or deleted annotations will no longer be displayed in the web interface.\n",
    "\n",
    "| ID | Revisor       | is_revised  | correct       | User      | Label   | Action  |\n",
    "|:---|:--------------|:------------|:------------- |:----------|:--------|:--------|\n",
    "| 1  | Human         | DELETED     | DELETED       | DELETED   | Amount  | ALLOWED | delete revised=F, correct=T\n",
    "| 2  | Human         | True        | False         | None      | Amount  | ALLOWED | Update three fields\n",
    "| 3  | Human         | True        | False         | Bot       | Amount  | ALLOWED | Does update is_revised field\n",
    "| 4  | Human         | ?           | ?             | ?         | Amount  | ALLOWED |\n",
    "| 1  | Extraction FB | True        | False         | ?         | Amount  | ALLOWED |\n",
    "| 2  | Extraction FB | ----        | ----          | ----      | Amount  | ALLOWED | External user does not get ID\n",
    "| 3  | Extraction FB | ----        | ----          | ----      | Amount  | ALLOWED | External user does not get ID\n",
    "| 4  | Extraction FB | True        | False         | External  | Amount  | ALLOWED |\n",
    "\n",
    "As negative feedback removed any annotation from the web interface but stores them as incorrect examples, the\n",
    "word \"15\" can be labeled anew. This time the creator might choose between label \"Amount\" and \"Tax\".\n",
    "\n",
    "| ID | Creator       | is_revised  | correct       | User      | Label   | Action  |\n",
    "|:---|:--------------|:------------|:------------- |:----------|:--------|:--------|\n",
    "| 5  | Human         | False       | True          | Human     | Amount  | ?DENIED | -> in contrast to annotation 1\n",
    "| 6  | Import        | ---         | ---           | ---       | ---     | DENIED  |\n",
    "| 7  | Training      | ---         | ---           | ---       | ---     | DENIED  |\n",
    "| 8  | Extraction FB | ?           | ?             | ?         | Amount  | NA      | Need to send new document\n",
    "| 9  | Human         | False       | True          | Human     | Tax     | ALLOWED | now we have 2 annotations\n",
    "| 10 | Import        | False       | False         | None      | Tax     | ALLOWED |\n",
    "| 11 | Training      | False       | False         | Bot       | Tax     | ALLOWED |\n",
    "| 12 | Extraction FB | ?           | ?             | ?         | Tax     | NA      | Need to send new document"
   ],
   "metadata": {
    "collapsed": false
   }
  }
 ],
 "metadata": {
  "kernelspec": {
   "display_name": "Python 3",
   "language": "python",
   "name": "python3"
  },
  "language_info": {
   "codemirror_mode": {
    "name": "ipython",
    "version": 2
   },
   "file_extension": ".py",
   "mimetype": "text/x-python",
   "name": "python",
   "nbconvert_exporter": "python",
   "pygments_lexer": "ipython2",
   "version": "2.7.6"
  }
 },
 "nbformat": 4,
 "nbformat_minor": 0
}