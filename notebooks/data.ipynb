{
 "cells": [
  {
   "cell_type": "markdown",
   "source": [
    "# Best practices to work with your data\n",
    "\n",
    "## Filter for documents that belong to one category\n",
    "\n",
    "In Project 46 you want to get all documents that belong to category with ID 63."
   ],
   "metadata": {
    "collapsed": false,
    "pycharm": {
     "name": "#%% md\n"
    }
   }
  },
  {
   "cell_type": "code",
   "execution_count": 2,
   "metadata": {
    "collapsed": true
   },
   "outputs": [
    {
     "data": {
      "text/plain": "[Gehalt.pdf: 44823,\n Festlohn.pdf: 44834,\n vermögenswirksame Leistungen.pdf: 44839,\n betriebliche Altersvorsorge AG finanziert.pdf: 44840,\n Weihnachtsgeld.pdf: 44841,\n Stundenlohn.pdf: 44842,\n Fahrtkostenzuschuss pauschal versteuert.pdf: 44843,\n Betirebliche Altersvorsorge Mischfinanzierung.pdf: 44845,\n Darlehen.pdf: 44846,\n Dienstwagen mit Gehaltsverzicht.pdf: 44847,\n Auswertungspaket - unterschiedliche B_N-Auswertungen.pdf_1.pdf: 44848,\n Auswertungspaket - unterschiedliche B_N-Auswertungen.pdf_2.pdf: 44850,\n Auswertungspaket - unterschiedliche B_N-Auswertungen.pdf_4.pdf: 44851,\n Auswertungspaket - unterschiedliche B_N-Auswertungen.pdf_3.pdf: 44852,\n Auswertungspaket - unterschiedliche B_N-Auswertungen.pdf_5.pdf: 44853,\n Auswertungspaket - unterschiedliche B_N-Auswertungen.pdf_6.pdf: 44854,\n Auswertungspaket - unterschiedliche B_N-Auswertungen.pdf_7.pdf: 44855,\n Auswertungspaket - unterschiedliche B_N-Auswertungen.pdf_8.pdf: 44856,\n Auswertungspaket - unterschiedliche B_N-Auswertungen.pdf_9.pdf: 44857,\n Auswertungspaket - unterschiedliche B_N-Auswertungen.pdf_10.pdf: 44858,\n Auswertungspaket - unterschiedliche B_N-Auswertungen.pdf_12.pdf: 44859,\n 2022-01-30 07:22:29.106312: 44860,\n 2022-01-30 07:12:04.725599: 44861,\n 2022-02-07 11:17:51.957252: 44862,\n 2022-01-30 06:57:53.988011: 44863]"
     },
     "execution_count": 2,
     "metadata": {},
     "output_type": "execute_result"
    }
   ],
   "source": [
    "from konfuzio_sdk.data import Project\n",
    "\n",
    "prj = Project(id_=46)\n",
    "category = prj.get_category_by_id(63)\n",
    "\n",
    "category.documents()"
   ]
  }
 ],
 "metadata": {
  "kernelspec": {
   "display_name": "Python 3",
   "language": "python",
   "name": "python3"
  },
  "language_info": {
   "codemirror_mode": {
    "name": "ipython",
    "version": 2
   },
   "file_extension": ".py",
   "mimetype": "text/x-python",
   "name": "python",
   "nbconvert_exporter": "python",
   "pygments_lexer": "ipython2",
   "version": "2.7.6"
  }
 },
 "nbformat": 4,
 "nbformat_minor": 0
}