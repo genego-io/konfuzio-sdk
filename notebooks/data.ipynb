{
 "cells": [
  {
   "cell_type": "markdown",
   "source": [
    "# Best practices to work with your data\n",
    "\n",
    "## Filter for documents that belong to one category\n",
    "\n",
    "In Project 46 you want to get all documents that belong to category with ID 63."
   ],
   "metadata": {
    "collapsed": false,
    "pycharm": {
     "name": "#%% md\n"
    }
   }
  },
  {
   "cell_type": "code",
   "execution_count": 3,
   "metadata": {
    "collapsed": true
   },
   "outputs": [
    {
     "data": {
      "text/plain": "[Gehalt.pdf: 44823,\n Festlohn.pdf: 44834,\n vermögenswirksame Leistungen.pdf: 44839,\n betriebliche Altersvorsorge AG finanziert.pdf: 44840,\n Weihnachtsgeld.pdf: 44841,\n Stundenlohn.pdf: 44842,\n Fahrtkostenzuschuss pauschal versteuert.pdf: 44843,\n Betirebliche Altersvorsorge Mischfinanzierung.pdf: 44845,\n Darlehen.pdf: 44846,\n Dienstwagen mit Gehaltsverzicht.pdf: 44847,\n Auswertungspaket - unterschiedliche B_N-Auswertungen.pdf_1.pdf: 44848,\n Auswertungspaket - unterschiedliche B_N-Auswertungen.pdf_2.pdf: 44850,\n Auswertungspaket - unterschiedliche B_N-Auswertungen.pdf_4.pdf: 44851,\n Auswertungspaket - unterschiedliche B_N-Auswertungen.pdf_3.pdf: 44852,\n Auswertungspaket - unterschiedliche B_N-Auswertungen.pdf_5.pdf: 44853,\n Auswertungspaket - unterschiedliche B_N-Auswertungen.pdf_6.pdf: 44854,\n Auswertungspaket - unterschiedliche B_N-Auswertungen.pdf_7.pdf: 44855,\n Auswertungspaket - unterschiedliche B_N-Auswertungen.pdf_8.pdf: 44856,\n Auswertungspaket - unterschiedliche B_N-Auswertungen.pdf_9.pdf: 44857,\n Auswertungspaket - unterschiedliche B_N-Auswertungen.pdf_10.pdf: 44858,\n Auswertungspaket - unterschiedliche B_N-Auswertungen.pdf_12.pdf: 44859,\n 2022-01-30 07:22:29.106312: 44860,\n 2022-01-30 07:12:04.725599: 44861,\n 2022-02-07 11:17:51.957252: 44862,\n 2022-01-30 06:57:53.988011: 44863]"
     },
     "execution_count": 3,
     "metadata": {},
     "output_type": "execute_result"
    }
   ],
   "source": [
    "import re\n",
    "\n",
    "from konfuzio_sdk.data import Project\n",
    "from konfuzio_sdk.regex import regex_spans, suggest_regex_for_string, merge_regex\n",
    "\n",
    "prj = Project(id_=46)\n",
    "category = prj.get_category_by_id(63)\n",
    "\n",
    "category.documents()\n"
   ]
  },
  {
   "cell_type": "markdown",
   "source": [
    "## Edit an Annotation that is online"
   ],
   "metadata": {
    "collapsed": false,
    "pycharm": {
     "name": "#%% md\n"
    }
   }
  },
  {
   "cell_type": "code",
   "execution_count": 4,
   "outputs": [
    {
     "data": {
      "text/plain": "[Annotation Austellungsdatum (66, 78), (159, 169)]"
     },
     "execution_count": 4,
     "metadata": {},
     "output_type": "execute_result"
    }
   ],
   "source": [
    "doc = prj.get_document_by_id(44823)\n",
    "annotations = doc.annotations(start_offset=10, end_offset=200)\n",
    "annotations\n"
   ],
   "metadata": {
    "collapsed": false,
    "pycharm": {
     "name": "#%%\n"
    }
   }
  },
  {
   "cell_type": "code",
   "execution_count": 5,
   "outputs": [
    {
     "data": {
      "text/plain": "{'id_local': 23579,\n 'id_': 44823,\n 'file_path': None,\n '_annotations': [Annotation Austellungsdatum (66, 78), (159, 169),\n  Annotation Betrag (86, 88),\n  Annotation Auszahlungsbetrag (236, 237),\n  Annotation Personalausweis (352, 357),\n  Annotation Steuerklasse (365, 366),\n  Annotation Personalausweis (1194, 1199),\n  Annotation Gesamt-Brutto (1498, 1504), (1582, 1587),\n  Annotation Vorname (1507, 1518),\n  Annotation Nachname (1519, 1527),\n  Annotation Lohnart (1758, 1762),\n  Annotation Bezeichnung (1763, 1769),\n  Annotation Betrag (1831, 1839),\n  Annotation Gesamt-Brutto (2111, 2119),\n  Annotation Sozialversicherung (2255, 2262),\n  Annotation Sozialversicherung (2269, 2274),\n  Annotation Sozialversicherung (2281, 2285),\n  Annotation Sozialversicherung (2292, 2296),\n  Annotation Steuerrechtliche Abzüge (2324, 2330),\n  Annotation Auszahlungsbetrag (2619, 2624),\n  Annotation Netto-Verdienst (3004, 3012),\n  Annotation Steuer-Brutto (3141, 3149),\n  Annotation Auszahlungsbetrag (3777, 3785)],\n '_annotation_sets': [AnnotationSet(78730) of Lohnabrechnung (63) in Gehalt.pdf: 44823.,\n  AnnotationSet(687572) of Brutto-Bezug (64) in Gehalt.pdf: 44823.,\n  AnnotationSet(292092) of Brutto-Bezug (64) in Gehalt.pdf: 44823.,\n  AnnotationSet(681346) of Steuer (3686) in Gehalt.pdf: 44823.,\n  AnnotationSet(687268) of Verdiensibescheinigung (3707) in Gehalt.pdf: 44823.],\n 'file_url': '/doc/show/44823/',\n 'is_dataset': None,\n 'dataset_status': 2,\n 'number_of_pages': 1,\n 'category': Lohnabrechnung (63),\n 'updated_at': datetime.datetime(2022, 2, 15, 14, 3, 20, 63758, tzinfo=tzoffset(None, 3600)),\n 'name': 'Gehalt.pdf',\n 'status': [2, 'Done'],\n 'project': Project 46,\n '_text': None,\n '_hocr': None,\n '_pages': None,\n 'image_paths': [],\n 'ocr_file_path': None,\n 'annotation_file_path': 'data_46\\\\documents\\\\44823\\\\annotations.json5',\n 'annotation_set_file_path': 'data_46\\\\documents\\\\44823\\\\annotation_sets.json5',\n 'txt_file_path': 'data_46\\\\documents\\\\44823\\\\document.txt',\n 'hocr_file_path': 'data_46\\\\documents\\\\44823\\\\document.hocr',\n 'pages_file_path': 'data_46\\\\documents\\\\44823\\\\pages.json5',\n 'bbox_file_path': 'data_46\\\\documents\\\\44823\\\\bbox.json5',\n 'bio_scheme_file_path': 'data_46\\\\documents\\\\44823\\\\bio_scheme.txt'}"
     },
     "execution_count": 5,
     "metadata": {},
     "output_type": "execute_result"
    }
   ],
   "source": [
    "doc.__dict__"
   ],
   "metadata": {
    "collapsed": false,
    "pycharm": {
     "name": "#%%\n"
    }
   }
  },
  {
   "cell_type": "markdown",
   "source": [
    "Let's look into the first Annotation"
   ],
   "metadata": {
    "collapsed": false,
    "pycharm": {
     "name": "#%% md\n"
    }
   }
  },
  {
   "cell_type": "code",
   "execution_count": 6,
   "outputs": [
    {
     "data": {
      "text/plain": "{'id_local': 23585,\n 'is_correct': True,\n 'revised': False,\n 'normalized': None,\n 'translated_string': None,\n 'document': Gehalt.pdf: 44823,\n '_spans': [Span (66, 78), Span (159, 169)],\n 'id_': 9208623,\n 'confidence': 1,\n 'label': Austellungsdatum,\n 'label_set': Lohnabrechnung (63),\n 'annotation_set': AnnotationSet(78730) of Lohnabrechnung (63) in Gehalt.pdf: 44823.,\n 'selection_bbox': {'bottom': 49.786,\n  'page_index': 0,\n  'top': 20.481,\n  'x0': 457.991,\n  'x1': 533.908,\n  'y0': 791.894,\n  'y1': 821.199},\n 'page_number': None,\n 'top': 23.849,\n 'x0': 48.48,\n 'x1': 568.801,\n 'y0': 797.311,\n 'y1': 817.831,\n 'bottom': 44.369,\n 'bboxes': [{'bottom': 32.849,\n   'end_offset': 78,\n   'line_number': 1,\n   'offset_string': '328927/10103',\n   'offset_string_original': '328927/10103',\n   'page_index': 0,\n   'start_offset': 66,\n   'top': 23.849,\n   'x0': 462.48,\n   'x1': 533.36,\n   'y0': 808.831,\n   'y1': 817.831},\n  {'bottom': 44.369,\n   'end_offset': 169,\n   'line_number': 2,\n   'offset_string': '22.05.2018',\n   'offset_string_original': '22.05.2018',\n   'page_index': 0,\n   'start_offset': 159,\n   'top': 35.369,\n   'x0': 468.48,\n   'x1': 527.04,\n   'y0': 797.311,\n   'y1': 806.311}],\n '_tokens': [],\n '_regex': None}"
     },
     "execution_count": 6,
     "metadata": {},
     "output_type": "execute_result"
    }
   ],
   "source": [
    "first_annotation = annotations[0]\n",
    "first_annotation.__dict__"
   ],
   "metadata": {
    "collapsed": false,
    "pycharm": {
     "name": "#%%\n"
    }
   }
  },
  {
   "cell_type": "markdown",
   "source": [
    "We want to change the revised status to False."
   ],
   "metadata": {
    "collapsed": false,
    "pycharm": {
     "name": "#%% md\n"
    }
   }
  },
  {
   "cell_type": "code",
   "execution_count": 7,
   "outputs": [],
   "source": [
    "first_annotation.revised = False"
   ],
   "metadata": {
    "collapsed": false,
    "pycharm": {
     "name": "#%%\n"
    }
   }
  },
  {
   "cell_type": "markdown",
   "source": [
    "Now we have it locally, but not online. So save it to save it online."
   ],
   "metadata": {
    "collapsed": false,
    "pycharm": {
     "name": "#%% md\n"
    }
   }
  },
  {
   "cell_type": "code",
   "execution_count": 8,
   "outputs": [
    {
     "name": "stderr",
     "output_type": "stream",
     "text": [
      "2022-02-16 22:12:09,565 [konfuzio_sdk.data   ] [MainThread] [ERROR   ] [save                ][0915] You cannot update Annotations once saved online.\n"
     ]
    },
    {
     "data": {
      "text/plain": "False"
     },
     "execution_count": 8,
     "metadata": {},
     "output_type": "execute_result"
    }
   ],
   "source": [
    "first_annotation.save()"
   ],
   "metadata": {
    "collapsed": false,
    "pycharm": {
     "name": "#%%\n"
    }
   }
  },
  {
   "cell_type": "code",
   "execution_count": 9,
   "outputs": [
    {
     "data": {
      "text/plain": "{'id_local': 23585,\n 'is_correct': True,\n 'revised': False,\n 'normalized': None,\n 'translated_string': None,\n 'document': Gehalt.pdf: 44823,\n '_spans': [Span (66, 78), Span (159, 169)],\n 'id_': 9208623,\n 'confidence': 1,\n 'label': Austellungsdatum,\n 'label_set': Lohnabrechnung (63),\n 'annotation_set': AnnotationSet(78730) of Lohnabrechnung (63) in Gehalt.pdf: 44823.,\n 'selection_bbox': {'bottom': 49.786,\n  'page_index': 0,\n  'top': 20.481,\n  'x0': 457.991,\n  'x1': 533.908,\n  'y0': 791.894,\n  'y1': 821.199},\n 'page_number': None,\n 'top': 23.849,\n 'x0': 48.48,\n 'x1': 568.801,\n 'y0': 797.311,\n 'y1': 817.831,\n 'bottom': 44.369,\n 'bboxes': [{'bottom': 32.849,\n   'end_offset': 78,\n   'line_number': 1,\n   'offset_string': '328927/10103',\n   'offset_string_original': '328927/10103',\n   'page_index': 0,\n   'start_offset': 66,\n   'top': 23.849,\n   'x0': 462.48,\n   'x1': 533.36,\n   'y0': 808.831,\n   'y1': 817.831},\n  {'bottom': 44.369,\n   'end_offset': 169,\n   'line_number': 2,\n   'offset_string': '22.05.2018',\n   'offset_string_original': '22.05.2018',\n   'page_index': 0,\n   'start_offset': 159,\n   'top': 35.369,\n   'x0': 468.48,\n   'x1': 527.04,\n   'y0': 797.311,\n   'y1': 806.311}],\n '_tokens': [],\n '_regex': None}"
     },
     "execution_count": 9,
     "metadata": {},
     "output_type": "execute_result"
    }
   ],
   "source": [
    "first_annotation.__dict__"
   ],
   "metadata": {
    "collapsed": false,
    "pycharm": {
     "name": "#%%\n"
    }
   }
  },
  {
   "cell_type": "markdown",
   "source": [
    "## Assume you want to test how good your Tokenizer covers any text.\n",
    "\n",
    "Let's assume you use a pretty easy tokenizer which captures elements by surrounding whitespaces."
   ],
   "metadata": {
    "collapsed": false
   }
  },
  {
   "cell_type": "code",
   "execution_count": 10,
   "outputs": [
    {
     "name": "stderr",
     "output_type": "stream",
     "text": [
      "2022-02-16 22:12:09,619 [konfuzio_sdk.data   ] [MainThread] [WARNING ] [__init__            ][0756] Annotation None  in Gehalt.pdf: 44823 created but without annotation set information.\n",
      "2022-02-16 22:12:09,619 [konfuzio_sdk.data   ] [MainThread] [WARNING ] [__init__            ][0782] Annotation None  created but without bbox information.\n",
      "2022-02-16 22:12:09,619 [konfuzio_sdk.data   ] [MainThread] [WARNING ] [__init__            ][0756] Annotation None  in Gehalt.pdf: 44823 created but without annotation set information.\n",
      "2022-02-16 22:12:09,619 [konfuzio_sdk.data   ] [MainThread] [WARNING ] [__init__            ][0782] Annotation None  created but without bbox information.\n",
      "2022-02-16 22:12:09,619 [konfuzio_sdk.data   ] [MainThread] [WARNING ] [__init__            ][0756] Annotation None  in Gehalt.pdf: 44823 created but without annotation set information.\n",
      "2022-02-16 22:12:09,627 [konfuzio_sdk.data   ] [MainThread] [WARNING ] [__init__            ][0782] Annotation None  created but without bbox information.\n",
      "2022-02-16 22:12:09,629 [konfuzio_sdk.data   ] [MainThread] [WARNING ] [__init__            ][0756] Annotation None  in Gehalt.pdf: 44823 created but without annotation set information.\n",
      "2022-02-16 22:12:09,629 [konfuzio_sdk.data   ] [MainThread] [WARNING ] [__init__            ][0782] Annotation None  created but without bbox information.\n",
      "2022-02-16 22:12:09,629 [konfuzio_sdk.data   ] [MainThread] [WARNING ] [__init__            ][0756] Annotation None  in Gehalt.pdf: 44823 created but without annotation set information.\n",
      "2022-02-16 22:12:09,629 [konfuzio_sdk.data   ] [MainThread] [WARNING ] [__init__            ][0782] Annotation None  created but without bbox information.\n",
      "2022-02-16 22:12:09,629 [konfuzio_sdk.data   ] [MainThread] [WARNING ] [__init__            ][0756] Annotation None  in Gehalt.pdf: 44823 created but without annotation set information.\n",
      "2022-02-16 22:12:09,629 [konfuzio_sdk.data   ] [MainThread] [WARNING ] [__init__            ][0782] Annotation None  created but without bbox information.\n",
      "2022-02-16 22:12:09,637 [konfuzio_sdk.data   ] [MainThread] [WARNING ] [__init__            ][0756] Annotation None  in Gehalt.pdf: 44823 created but without annotation set information.\n",
      "2022-02-16 22:12:09,639 [konfuzio_sdk.data   ] [MainThread] [WARNING ] [__init__            ][0782] Annotation None  created but without bbox information.\n",
      "2022-02-16 22:12:09,639 [konfuzio_sdk.data   ] [MainThread] [WARNING ] [__init__            ][0756] Annotation None  in Gehalt.pdf: 44823 created but without annotation set information.\n",
      "2022-02-16 22:12:09,639 [konfuzio_sdk.data   ] [MainThread] [WARNING ] [__init__            ][0782] Annotation None  created but without bbox information.\n",
      "2022-02-16 22:12:09,639 [konfuzio_sdk.data   ] [MainThread] [WARNING ] [__init__            ][0756] Annotation None  in Gehalt.pdf: 44823 created but without annotation set information.\n",
      "2022-02-16 22:12:09,639 [konfuzio_sdk.data   ] [MainThread] [WARNING ] [__init__            ][0782] Annotation None  created but without bbox information.\n",
      "2022-02-16 22:12:09,639 [konfuzio_sdk.data   ] [MainThread] [WARNING ] [__init__            ][0756] Annotation None  in Gehalt.pdf: 44823 created but without annotation set information.\n",
      "2022-02-16 22:12:09,639 [konfuzio_sdk.data   ] [MainThread] [WARNING ] [__init__            ][0782] Annotation None  created but without bbox information.\n",
      "2022-02-16 22:12:09,639 [konfuzio_sdk.data   ] [MainThread] [WARNING ] [__init__            ][0756] Annotation None  in Gehalt.pdf: 44823 created but without annotation set information.\n",
      "2022-02-16 22:12:09,647 [konfuzio_sdk.data   ] [MainThread] [WARNING ] [__init__            ][0782] Annotation None  created but without bbox information.\n",
      "2022-02-16 22:12:09,649 [konfuzio_sdk.data   ] [MainThread] [WARNING ] [__init__            ][0756] Annotation None  in Gehalt.pdf: 44823 created but without annotation set information.\n",
      "2022-02-16 22:12:09,649 [konfuzio_sdk.data   ] [MainThread] [WARNING ] [__init__            ][0782] Annotation None  created but without bbox information.\n",
      "2022-02-16 22:12:09,649 [konfuzio_sdk.data   ] [MainThread] [WARNING ] [__init__            ][0756] Annotation None  in Gehalt.pdf: 44823 created but without annotation set information.\n",
      "2022-02-16 22:12:09,649 [konfuzio_sdk.data   ] [MainThread] [WARNING ] [__init__            ][0782] Annotation None  created but without bbox information.\n",
      "2022-02-16 22:12:09,649 [konfuzio_sdk.data   ] [MainThread] [WARNING ] [__init__            ][0756] Annotation None  in Gehalt.pdf: 44823 created but without annotation set information.\n",
      "2022-02-16 22:12:09,649 [konfuzio_sdk.data   ] [MainThread] [WARNING ] [__init__            ][0782] Annotation None  created but without bbox information.\n",
      "2022-02-16 22:12:09,657 [konfuzio_sdk.data   ] [MainThread] [WARNING ] [__init__            ][0756] Annotation None  in Gehalt.pdf: 44823 created but without annotation set information.\n",
      "2022-02-16 22:12:09,657 [konfuzio_sdk.data   ] [MainThread] [WARNING ] [__init__            ][0782] Annotation None  created but without bbox information.\n",
      "2022-02-16 22:12:09,660 [konfuzio_sdk.data   ] [MainThread] [WARNING ] [__init__            ][0756] Annotation None  in Gehalt.pdf: 44823 created but without annotation set information.\n",
      "2022-02-16 22:12:09,660 [konfuzio_sdk.data   ] [MainThread] [WARNING ] [__init__            ][0782] Annotation None  created but without bbox information.\n",
      "2022-02-16 22:12:09,660 [konfuzio_sdk.data   ] [MainThread] [WARNING ] [__init__            ][0756] Annotation None  in Gehalt.pdf: 44823 created but without annotation set information.\n",
      "2022-02-16 22:12:09,660 [konfuzio_sdk.data   ] [MainThread] [WARNING ] [__init__            ][0782] Annotation None  created but without bbox information.\n",
      "2022-02-16 22:12:09,660 [konfuzio_sdk.data   ] [MainThread] [WARNING ] [__init__            ][0756] Annotation None  in Gehalt.pdf: 44823 created but without annotation set information.\n",
      "2022-02-16 22:12:09,660 [konfuzio_sdk.data   ] [MainThread] [WARNING ] [__init__            ][0782] Annotation None  created but without bbox information.\n",
      "2022-02-16 22:12:09,668 [konfuzio_sdk.data   ] [MainThread] [WARNING ] [__init__            ][0756] Annotation None  in Gehalt.pdf: 44823 created but without annotation set information.\n",
      "2022-02-16 22:12:09,668 [konfuzio_sdk.data   ] [MainThread] [WARNING ] [__init__            ][0782] Annotation None  created but without bbox information.\n",
      "2022-02-16 22:12:09,670 [konfuzio_sdk.data   ] [MainThread] [WARNING ] [__init__            ][0756] Annotation None  in Gehalt.pdf: 44823 created but without annotation set information.\n",
      "2022-02-16 22:12:09,670 [konfuzio_sdk.data   ] [MainThread] [WARNING ] [__init__            ][0782] Annotation None  created but without bbox information.\n",
      "2022-02-16 22:12:09,670 [konfuzio_sdk.data   ] [MainThread] [WARNING ] [__init__            ][0756] Annotation None  in Gehalt.pdf: 44823 created but without annotation set information.\n",
      "2022-02-16 22:12:09,670 [konfuzio_sdk.data   ] [MainThread] [WARNING ] [__init__            ][0782] Annotation None  created but without bbox information.\n",
      "2022-02-16 22:12:09,670 [konfuzio_sdk.data   ] [MainThread] [WARNING ] [__init__            ][0756] Annotation None  in Gehalt.pdf: 44823 created but without annotation set information.\n",
      "2022-02-16 22:12:09,670 [konfuzio_sdk.data   ] [MainThread] [WARNING ] [__init__            ][0782] Annotation None  created but without bbox information.\n",
      "2022-02-16 22:12:09,678 [konfuzio_sdk.data   ] [MainThread] [WARNING ] [__init__            ][0756] Annotation None  in Gehalt.pdf: 44823 created but without annotation set information.\n",
      "2022-02-16 22:12:09,680 [konfuzio_sdk.data   ] [MainThread] [WARNING ] [__init__            ][0782] Annotation None  created but without bbox information.\n",
      "2022-02-16 22:12:09,680 [konfuzio_sdk.data   ] [MainThread] [WARNING ] [__init__            ][0756] Annotation None  in Gehalt.pdf: 44823 created but without annotation set information.\n",
      "2022-02-16 22:12:09,680 [konfuzio_sdk.data   ] [MainThread] [WARNING ] [__init__            ][0782] Annotation None  created but without bbox information.\n",
      "2022-02-16 22:12:09,680 [konfuzio_sdk.data   ] [MainThread] [WARNING ] [__init__            ][0756] Annotation None  in Gehalt.pdf: 44823 created but without annotation set information.\n",
      "2022-02-16 22:12:09,680 [konfuzio_sdk.data   ] [MainThread] [WARNING ] [__init__            ][0782] Annotation None  created but without bbox information.\n",
      "2022-02-16 22:12:09,690 [konfuzio_sdk.data   ] [MainThread] [WARNING ] [__lt__              ][0828] Legacy: Annotations can not be sorted consistently by start offset.\n",
      "2022-02-16 22:12:09,690 [konfuzio_sdk.data   ] [MainThread] [WARNING ] [start_offset        ][0845] You use start_offset on Annotation Level which is legacy.\n",
      "2022-02-16 22:12:09,690 [konfuzio_sdk.data   ] [MainThread] [WARNING ] [start_offset        ][0845] You use start_offset on Annotation Level which is legacy.\n",
      "2022-02-16 22:12:09,690 [konfuzio_sdk.data   ] [MainThread] [WARNING ] [__lt__              ][0828] Legacy: Annotations can not be sorted consistently by start offset.\n",
      "2022-02-16 22:12:09,690 [konfuzio_sdk.data   ] [MainThread] [WARNING ] [start_offset        ][0845] You use start_offset on Annotation Level which is legacy.\n",
      "2022-02-16 22:12:09,690 [konfuzio_sdk.data   ] [MainThread] [WARNING ] [start_offset        ][0845] You use start_offset on Annotation Level which is legacy.\n",
      "2022-02-16 22:12:09,698 [konfuzio_sdk.data   ] [MainThread] [WARNING ] [__lt__              ][0828] Legacy: Annotations can not be sorted consistently by start offset.\n",
      "2022-02-16 22:12:09,698 [konfuzio_sdk.data   ] [MainThread] [WARNING ] [start_offset        ][0845] You use start_offset on Annotation Level which is legacy.\n",
      "2022-02-16 22:12:09,700 [konfuzio_sdk.data   ] [MainThread] [WARNING ] [start_offset        ][0845] You use start_offset on Annotation Level which is legacy.\n",
      "2022-02-16 22:12:09,700 [konfuzio_sdk.data   ] [MainThread] [WARNING ] [__lt__              ][0828] Legacy: Annotations can not be sorted consistently by start offset.\n",
      "2022-02-16 22:12:09,700 [konfuzio_sdk.data   ] [MainThread] [WARNING ] [start_offset        ][0845] You use start_offset on Annotation Level which is legacy.\n",
      "2022-02-16 22:12:09,700 [konfuzio_sdk.data   ] [MainThread] [WARNING ] [start_offset        ][0845] You use start_offset on Annotation Level which is legacy.\n",
      "2022-02-16 22:12:09,700 [konfuzio_sdk.data   ] [MainThread] [WARNING ] [__lt__              ][0828] Legacy: Annotations can not be sorted consistently by start offset.\n",
      "2022-02-16 22:12:09,700 [konfuzio_sdk.data   ] [MainThread] [WARNING ] [start_offset        ][0845] You use start_offset on Annotation Level which is legacy.\n",
      "2022-02-16 22:12:09,708 [konfuzio_sdk.data   ] [MainThread] [WARNING ] [start_offset        ][0845] You use start_offset on Annotation Level which is legacy.\n",
      "2022-02-16 22:12:09,710 [konfuzio_sdk.data   ] [MainThread] [WARNING ] [__lt__              ][0828] Legacy: Annotations can not be sorted consistently by start offset.\n",
      "2022-02-16 22:12:09,710 [konfuzio_sdk.data   ] [MainThread] [WARNING ] [start_offset        ][0845] You use start_offset on Annotation Level which is legacy.\n",
      "2022-02-16 22:12:09,710 [konfuzio_sdk.data   ] [MainThread] [WARNING ] [start_offset        ][0845] You use start_offset on Annotation Level which is legacy.\n",
      "2022-02-16 22:12:09,710 [konfuzio_sdk.data   ] [MainThread] [WARNING ] [__lt__              ][0828] Legacy: Annotations can not be sorted consistently by start offset.\n",
      "2022-02-16 22:12:09,710 [konfuzio_sdk.data   ] [MainThread] [WARNING ] [start_offset        ][0845] You use start_offset on Annotation Level which is legacy.\n",
      "2022-02-16 22:12:09,710 [konfuzio_sdk.data   ] [MainThread] [WARNING ] [start_offset        ][0845] You use start_offset on Annotation Level which is legacy.\n",
      "2022-02-16 22:12:09,718 [konfuzio_sdk.data   ] [MainThread] [WARNING ] [__lt__              ][0828] Legacy: Annotations can not be sorted consistently by start offset.\n",
      "2022-02-16 22:12:09,718 [konfuzio_sdk.data   ] [MainThread] [WARNING ] [start_offset        ][0845] You use start_offset on Annotation Level which is legacy.\n",
      "2022-02-16 22:12:09,720 [konfuzio_sdk.data   ] [MainThread] [WARNING ] [start_offset        ][0845] You use start_offset on Annotation Level which is legacy.\n",
      "2022-02-16 22:12:09,720 [konfuzio_sdk.data   ] [MainThread] [WARNING ] [__lt__              ][0828] Legacy: Annotations can not be sorted consistently by start offset.\n",
      "2022-02-16 22:12:09,720 [konfuzio_sdk.data   ] [MainThread] [WARNING ] [start_offset        ][0845] You use start_offset on Annotation Level which is legacy.\n",
      "2022-02-16 22:12:09,720 [konfuzio_sdk.data   ] [MainThread] [WARNING ] [start_offset        ][0845] You use start_offset on Annotation Level which is legacy.\n",
      "2022-02-16 22:12:09,720 [konfuzio_sdk.data   ] [MainThread] [WARNING ] [__lt__              ][0828] Legacy: Annotations can not be sorted consistently by start offset.\n",
      "2022-02-16 22:12:09,720 [konfuzio_sdk.data   ] [MainThread] [WARNING ] [start_offset        ][0845] You use start_offset on Annotation Level which is legacy.\n",
      "2022-02-16 22:12:09,720 [konfuzio_sdk.data   ] [MainThread] [WARNING ] [start_offset        ][0845] You use start_offset on Annotation Level which is legacy.\n",
      "2022-02-16 22:12:09,728 [konfuzio_sdk.data   ] [MainThread] [WARNING ] [__lt__              ][0828] Legacy: Annotations can not be sorted consistently by start offset.\n",
      "2022-02-16 22:12:09,728 [konfuzio_sdk.data   ] [MainThread] [WARNING ] [start_offset        ][0845] You use start_offset on Annotation Level which is legacy.\n",
      "2022-02-16 22:12:09,730 [konfuzio_sdk.data   ] [MainThread] [WARNING ] [start_offset        ][0845] You use start_offset on Annotation Level which is legacy.\n",
      "2022-02-16 22:12:09,730 [konfuzio_sdk.data   ] [MainThread] [WARNING ] [__lt__              ][0828] Legacy: Annotations can not be sorted consistently by start offset.\n",
      "2022-02-16 22:12:09,730 [konfuzio_sdk.data   ] [MainThread] [WARNING ] [start_offset        ][0845] You use start_offset on Annotation Level which is legacy.\n",
      "2022-02-16 22:12:09,730 [konfuzio_sdk.data   ] [MainThread] [WARNING ] [start_offset        ][0845] You use start_offset on Annotation Level which is legacy.\n",
      "2022-02-16 22:12:09,730 [konfuzio_sdk.data   ] [MainThread] [WARNING ] [__lt__              ][0828] Legacy: Annotations can not be sorted consistently by start offset.\n",
      "2022-02-16 22:12:09,730 [konfuzio_sdk.data   ] [MainThread] [WARNING ] [start_offset        ][0845] You use start_offset on Annotation Level which is legacy.\n",
      "2022-02-16 22:12:09,738 [konfuzio_sdk.data   ] [MainThread] [WARNING ] [start_offset        ][0845] You use start_offset on Annotation Level which is legacy.\n",
      "2022-02-16 22:12:09,740 [konfuzio_sdk.data   ] [MainThread] [WARNING ] [__lt__              ][0828] Legacy: Annotations can not be sorted consistently by start offset.\n",
      "2022-02-16 22:12:09,740 [konfuzio_sdk.data   ] [MainThread] [WARNING ] [start_offset        ][0845] You use start_offset on Annotation Level which is legacy.\n",
      "2022-02-16 22:12:09,740 [konfuzio_sdk.data   ] [MainThread] [WARNING ] [start_offset        ][0845] You use start_offset on Annotation Level which is legacy.\n",
      "2022-02-16 22:12:09,740 [konfuzio_sdk.data   ] [MainThread] [WARNING ] [__lt__              ][0828] Legacy: Annotations can not be sorted consistently by start offset.\n",
      "2022-02-16 22:12:09,740 [konfuzio_sdk.data   ] [MainThread] [WARNING ] [start_offset        ][0845] You use start_offset on Annotation Level which is legacy.\n",
      "2022-02-16 22:12:09,740 [konfuzio_sdk.data   ] [MainThread] [WARNING ] [start_offset        ][0845] You use start_offset on Annotation Level which is legacy.\n",
      "2022-02-16 22:12:09,740 [konfuzio_sdk.data   ] [MainThread] [WARNING ] [__lt__              ][0828] Legacy: Annotations can not be sorted consistently by start offset.\n",
      "2022-02-16 22:12:09,740 [konfuzio_sdk.data   ] [MainThread] [WARNING ] [start_offset        ][0845] You use start_offset on Annotation Level which is legacy.\n",
      "2022-02-16 22:12:09,748 [konfuzio_sdk.data   ] [MainThread] [WARNING ] [start_offset        ][0845] You use start_offset on Annotation Level which is legacy.\n",
      "2022-02-16 22:12:09,750 [konfuzio_sdk.data   ] [MainThread] [WARNING ] [__lt__              ][0828] Legacy: Annotations can not be sorted consistently by start offset.\n",
      "2022-02-16 22:12:09,750 [konfuzio_sdk.data   ] [MainThread] [WARNING ] [start_offset        ][0845] You use start_offset on Annotation Level which is legacy.\n",
      "2022-02-16 22:12:09,750 [konfuzio_sdk.data   ] [MainThread] [WARNING ] [start_offset        ][0845] You use start_offset on Annotation Level which is legacy.\n",
      "2022-02-16 22:12:09,750 [konfuzio_sdk.data   ] [MainThread] [WARNING ] [__lt__              ][0828] Legacy: Annotations can not be sorted consistently by start offset.\n",
      "2022-02-16 22:12:09,750 [konfuzio_sdk.data   ] [MainThread] [WARNING ] [start_offset        ][0845] You use start_offset on Annotation Level which is legacy.\n",
      "2022-02-16 22:12:09,750 [konfuzio_sdk.data   ] [MainThread] [WARNING ] [start_offset        ][0845] You use start_offset on Annotation Level which is legacy.\n",
      "2022-02-16 22:12:09,750 [konfuzio_sdk.data   ] [MainThread] [WARNING ] [__lt__              ][0828] Legacy: Annotations can not be sorted consistently by start offset.\n",
      "2022-02-16 22:12:09,750 [konfuzio_sdk.data   ] [MainThread] [WARNING ] [start_offset        ][0845] You use start_offset on Annotation Level which is legacy.\n",
      "2022-02-16 22:12:09,758 [konfuzio_sdk.data   ] [MainThread] [WARNING ] [start_offset        ][0845] You use start_offset on Annotation Level which is legacy.\n",
      "2022-02-16 22:12:09,758 [konfuzio_sdk.data   ] [MainThread] [WARNING ] [__lt__              ][0828] Legacy: Annotations can not be sorted consistently by start offset.\n",
      "2022-02-16 22:12:09,760 [konfuzio_sdk.data   ] [MainThread] [WARNING ] [start_offset        ][0845] You use start_offset on Annotation Level which is legacy.\n",
      "2022-02-16 22:12:09,760 [konfuzio_sdk.data   ] [MainThread] [WARNING ] [start_offset        ][0845] You use start_offset on Annotation Level which is legacy.\n",
      "2022-02-16 22:12:09,760 [konfuzio_sdk.data   ] [MainThread] [WARNING ] [__lt__              ][0828] Legacy: Annotations can not be sorted consistently by start offset.\n",
      "2022-02-16 22:12:09,760 [konfuzio_sdk.data   ] [MainThread] [WARNING ] [start_offset        ][0845] You use start_offset on Annotation Level which is legacy.\n",
      "2022-02-16 22:12:09,760 [konfuzio_sdk.data   ] [MainThread] [WARNING ] [start_offset        ][0845] You use start_offset on Annotation Level which is legacy.\n",
      "2022-02-16 22:12:09,760 [konfuzio_sdk.data   ] [MainThread] [WARNING ] [__lt__              ][0828] Legacy: Annotations can not be sorted consistently by start offset.\n",
      "2022-02-16 22:12:09,760 [konfuzio_sdk.data   ] [MainThread] [WARNING ] [start_offset        ][0845] You use start_offset on Annotation Level which is legacy.\n",
      "2022-02-16 22:12:09,768 [konfuzio_sdk.data   ] [MainThread] [WARNING ] [start_offset        ][0845] You use start_offset on Annotation Level which is legacy.\n",
      "2022-02-16 22:12:09,769 [konfuzio_sdk.data   ] [MainThread] [WARNING ] [__lt__              ][0828] Legacy: Annotations can not be sorted consistently by start offset.\n",
      "2022-02-16 22:12:09,771 [konfuzio_sdk.data   ] [MainThread] [WARNING ] [start_offset        ][0845] You use start_offset on Annotation Level which is legacy.\n",
      "2022-02-16 22:12:09,773 [konfuzio_sdk.data   ] [MainThread] [WARNING ] [start_offset        ][0845] You use start_offset on Annotation Level which is legacy.\n",
      "2022-02-16 22:12:09,774 [konfuzio_sdk.data   ] [MainThread] [WARNING ] [__lt__              ][0828] Legacy: Annotations can not be sorted consistently by start offset.\n",
      "2022-02-16 22:12:09,775 [konfuzio_sdk.data   ] [MainThread] [WARNING ] [start_offset        ][0845] You use start_offset on Annotation Level which is legacy.\n",
      "2022-02-16 22:12:09,776 [konfuzio_sdk.data   ] [MainThread] [WARNING ] [start_offset        ][0845] You use start_offset on Annotation Level which is legacy.\n",
      "2022-02-16 22:12:09,778 [konfuzio_sdk.data   ] [MainThread] [WARNING ] [__lt__              ][0828] Legacy: Annotations can not be sorted consistently by start offset.\n",
      "2022-02-16 22:12:09,779 [konfuzio_sdk.data   ] [MainThread] [WARNING ] [start_offset        ][0845] You use start_offset on Annotation Level which is legacy.\n",
      "2022-02-16 22:12:09,780 [konfuzio_sdk.data   ] [MainThread] [WARNING ] [start_offset        ][0845] You use start_offset on Annotation Level which is legacy.\n",
      "2022-02-16 22:12:09,782 [konfuzio_sdk.data   ] [MainThread] [WARNING ] [__lt__              ][0828] Legacy: Annotations can not be sorted consistently by start offset.\n",
      "2022-02-16 22:12:09,782 [konfuzio_sdk.data   ] [MainThread] [WARNING ] [start_offset        ][0845] You use start_offset on Annotation Level which is legacy.\n",
      "2022-02-16 22:12:09,782 [konfuzio_sdk.data   ] [MainThread] [WARNING ] [start_offset        ][0845] You use start_offset on Annotation Level which is legacy.\n",
      "2022-02-16 22:12:09,782 [konfuzio_sdk.data   ] [MainThread] [WARNING ] [__lt__              ][0828] Legacy: Annotations can not be sorted consistently by start offset.\n",
      "2022-02-16 22:12:09,789 [konfuzio_sdk.data   ] [MainThread] [WARNING ] [start_offset        ][0845] You use start_offset on Annotation Level which is legacy.\n",
      "2022-02-16 22:12:09,791 [konfuzio_sdk.data   ] [MainThread] [WARNING ] [start_offset        ][0845] You use start_offset on Annotation Level which is legacy.\n",
      "2022-02-16 22:12:09,791 [konfuzio_sdk.data   ] [MainThread] [WARNING ] [__lt__              ][0828] Legacy: Annotations can not be sorted consistently by start offset.\n",
      "2022-02-16 22:12:09,791 [konfuzio_sdk.data   ] [MainThread] [WARNING ] [start_offset        ][0845] You use start_offset on Annotation Level which is legacy.\n",
      "2022-02-16 22:12:09,791 [konfuzio_sdk.data   ] [MainThread] [WARNING ] [start_offset        ][0845] You use start_offset on Annotation Level which is legacy.\n",
      "2022-02-16 22:12:09,791 [konfuzio_sdk.data   ] [MainThread] [WARNING ] [__lt__              ][0828] Legacy: Annotations can not be sorted consistently by start offset.\n",
      "2022-02-16 22:12:09,791 [konfuzio_sdk.data   ] [MainThread] [WARNING ] [start_offset        ][0845] You use start_offset on Annotation Level which is legacy.\n",
      "2022-02-16 22:12:09,791 [konfuzio_sdk.data   ] [MainThread] [WARNING ] [start_offset        ][0845] You use start_offset on Annotation Level which is legacy.\n",
      "2022-02-16 22:12:09,799 [konfuzio_sdk.data   ] [MainThread] [WARNING ] [__lt__              ][0828] Legacy: Annotations can not be sorted consistently by start offset.\n",
      "2022-02-16 22:12:09,799 [konfuzio_sdk.data   ] [MainThread] [WARNING ] [start_offset        ][0845] You use start_offset on Annotation Level which is legacy.\n",
      "2022-02-16 22:12:09,801 [konfuzio_sdk.data   ] [MainThread] [WARNING ] [start_offset        ][0845] You use start_offset on Annotation Level which is legacy.\n",
      "2022-02-16 22:12:09,801 [konfuzio_sdk.data   ] [MainThread] [WARNING ] [__lt__              ][0828] Legacy: Annotations can not be sorted consistently by start offset.\n",
      "2022-02-16 22:12:09,801 [konfuzio_sdk.data   ] [MainThread] [WARNING ] [start_offset        ][0845] You use start_offset on Annotation Level which is legacy.\n",
      "2022-02-16 22:12:09,801 [konfuzio_sdk.data   ] [MainThread] [WARNING ] [start_offset        ][0845] You use start_offset on Annotation Level which is legacy.\n",
      "2022-02-16 22:12:09,801 [konfuzio_sdk.data   ] [MainThread] [WARNING ] [__lt__              ][0828] Legacy: Annotations can not be sorted consistently by start offset.\n",
      "2022-02-16 22:12:09,801 [konfuzio_sdk.data   ] [MainThread] [WARNING ] [start_offset        ][0845] You use start_offset on Annotation Level which is legacy.\n",
      "2022-02-16 22:12:09,809 [konfuzio_sdk.data   ] [MainThread] [WARNING ] [start_offset        ][0845] You use start_offset on Annotation Level which is legacy.\n",
      "2022-02-16 22:12:09,809 [konfuzio_sdk.data   ] [MainThread] [WARNING ] [__lt__              ][0828] Legacy: Annotations can not be sorted consistently by start offset.\n",
      "2022-02-16 22:12:09,811 [konfuzio_sdk.data   ] [MainThread] [WARNING ] [start_offset        ][0845] You use start_offset on Annotation Level which is legacy.\n",
      "2022-02-16 22:12:09,811 [konfuzio_sdk.data   ] [MainThread] [WARNING ] [start_offset        ][0845] You use start_offset on Annotation Level which is legacy.\n",
      "2022-02-16 22:12:09,811 [konfuzio_sdk.data   ] [MainThread] [WARNING ] [__lt__              ][0828] Legacy: Annotations can not be sorted consistently by start offset.\n",
      "2022-02-16 22:12:09,811 [konfuzio_sdk.data   ] [MainThread] [WARNING ] [start_offset        ][0845] You use start_offset on Annotation Level which is legacy.\n",
      "2022-02-16 22:12:09,811 [konfuzio_sdk.data   ] [MainThread] [WARNING ] [start_offset        ][0845] You use start_offset on Annotation Level which is legacy.\n",
      "2022-02-16 22:12:09,811 [konfuzio_sdk.data   ] [MainThread] [WARNING ] [__lt__              ][0828] Legacy: Annotations can not be sorted consistently by start offset.\n",
      "2022-02-16 22:12:09,819 [konfuzio_sdk.data   ] [MainThread] [WARNING ] [start_offset        ][0845] You use start_offset on Annotation Level which is legacy.\n",
      "2022-02-16 22:12:09,819 [konfuzio_sdk.data   ] [MainThread] [WARNING ] [start_offset        ][0845] You use start_offset on Annotation Level which is legacy.\n",
      "2022-02-16 22:12:09,821 [konfuzio_sdk.data   ] [MainThread] [WARNING ] [__lt__              ][0828] Legacy: Annotations can not be sorted consistently by start offset.\n",
      "2022-02-16 22:12:09,821 [konfuzio_sdk.data   ] [MainThread] [WARNING ] [start_offset        ][0845] You use start_offset on Annotation Level which is legacy.\n",
      "2022-02-16 22:12:09,821 [konfuzio_sdk.data   ] [MainThread] [WARNING ] [start_offset        ][0845] You use start_offset on Annotation Level which is legacy.\n",
      "2022-02-16 22:12:09,821 [konfuzio_sdk.data   ] [MainThread] [WARNING ] [__lt__              ][0828] Legacy: Annotations can not be sorted consistently by start offset.\n",
      "2022-02-16 22:12:09,821 [konfuzio_sdk.data   ] [MainThread] [WARNING ] [start_offset        ][0845] You use start_offset on Annotation Level which is legacy.\n",
      "2022-02-16 22:12:09,821 [konfuzio_sdk.data   ] [MainThread] [WARNING ] [start_offset        ][0845] You use start_offset on Annotation Level which is legacy.\n",
      "2022-02-16 22:12:09,829 [konfuzio_sdk.data   ] [MainThread] [WARNING ] [__lt__              ][0828] Legacy: Annotations can not be sorted consistently by start offset.\n",
      "2022-02-16 22:12:09,831 [konfuzio_sdk.data   ] [MainThread] [WARNING ] [start_offset        ][0845] You use start_offset on Annotation Level which is legacy.\n",
      "2022-02-16 22:12:09,831 [konfuzio_sdk.data   ] [MainThread] [WARNING ] [start_offset        ][0845] You use start_offset on Annotation Level which is legacy.\n",
      "2022-02-16 22:12:09,831 [konfuzio_sdk.data   ] [MainThread] [WARNING ] [__lt__              ][0828] Legacy: Annotations can not be sorted consistently by start offset.\n",
      "2022-02-16 22:12:09,831 [konfuzio_sdk.data   ] [MainThread] [WARNING ] [start_offset        ][0845] You use start_offset on Annotation Level which is legacy.\n",
      "2022-02-16 22:12:09,839 [konfuzio_sdk.data   ] [MainThread] [WARNING ] [start_offset        ][0845] You use start_offset on Annotation Level which is legacy.\n",
      "2022-02-16 22:12:09,841 [konfuzio_sdk.data   ] [MainThread] [WARNING ] [__lt__              ][0828] Legacy: Annotations can not be sorted consistently by start offset.\n",
      "2022-02-16 22:12:09,841 [konfuzio_sdk.data   ] [MainThread] [WARNING ] [start_offset        ][0845] You use start_offset on Annotation Level which is legacy.\n",
      "2022-02-16 22:12:09,841 [konfuzio_sdk.data   ] [MainThread] [WARNING ] [start_offset        ][0845] You use start_offset on Annotation Level which is legacy.\n",
      "2022-02-16 22:12:09,841 [konfuzio_sdk.data   ] [MainThread] [WARNING ] [__lt__              ][0828] Legacy: Annotations can not be sorted consistently by start offset.\n",
      "2022-02-16 22:12:09,841 [konfuzio_sdk.data   ] [MainThread] [WARNING ] [start_offset        ][0845] You use start_offset on Annotation Level which is legacy.\n",
      "2022-02-16 22:12:09,841 [konfuzio_sdk.data   ] [MainThread] [WARNING ] [start_offset        ][0845] You use start_offset on Annotation Level which is legacy.\n",
      "2022-02-16 22:12:09,841 [konfuzio_sdk.data   ] [MainThread] [WARNING ] [__lt__              ][0828] Legacy: Annotations can not be sorted consistently by start offset.\n",
      "2022-02-16 22:12:09,849 [konfuzio_sdk.data   ] [MainThread] [WARNING ] [start_offset        ][0845] You use start_offset on Annotation Level which is legacy.\n",
      "2022-02-16 22:12:09,851 [konfuzio_sdk.data   ] [MainThread] [WARNING ] [start_offset        ][0845] You use start_offset on Annotation Level which is legacy.\n",
      "2022-02-16 22:12:09,851 [konfuzio_sdk.data   ] [MainThread] [WARNING ] [__lt__              ][0828] Legacy: Annotations can not be sorted consistently by start offset.\n",
      "2022-02-16 22:12:09,851 [konfuzio_sdk.data   ] [MainThread] [WARNING ] [start_offset        ][0845] You use start_offset on Annotation Level which is legacy.\n",
      "2022-02-16 22:12:09,851 [konfuzio_sdk.data   ] [MainThread] [WARNING ] [start_offset        ][0845] You use start_offset on Annotation Level which is legacy.\n",
      "2022-02-16 22:12:09,851 [konfuzio_sdk.data   ] [MainThread] [WARNING ] [__lt__              ][0828] Legacy: Annotations can not be sorted consistently by start offset.\n",
      "2022-02-16 22:12:09,851 [konfuzio_sdk.data   ] [MainThread] [WARNING ] [start_offset        ][0845] You use start_offset on Annotation Level which is legacy.\n",
      "2022-02-16 22:12:09,851 [konfuzio_sdk.data   ] [MainThread] [WARNING ] [start_offset        ][0845] You use start_offset on Annotation Level which is legacy.\n",
      "2022-02-16 22:12:09,859 [konfuzio_sdk.data   ] [MainThread] [WARNING ] [__lt__              ][0828] Legacy: Annotations can not be sorted consistently by start offset.\n",
      "2022-02-16 22:12:09,861 [konfuzio_sdk.data   ] [MainThread] [WARNING ] [start_offset        ][0845] You use start_offset on Annotation Level which is legacy.\n",
      "2022-02-16 22:12:09,861 [konfuzio_sdk.data   ] [MainThread] [WARNING ] [start_offset        ][0845] You use start_offset on Annotation Level which is legacy.\n",
      "2022-02-16 22:12:09,861 [konfuzio_sdk.data   ] [MainThread] [WARNING ] [__lt__              ][0828] Legacy: Annotations can not be sorted consistently by start offset.\n",
      "2022-02-16 22:12:09,861 [konfuzio_sdk.data   ] [MainThread] [WARNING ] [start_offset        ][0845] You use start_offset on Annotation Level which is legacy.\n",
      "2022-02-16 22:12:09,861 [konfuzio_sdk.data   ] [MainThread] [WARNING ] [start_offset        ][0845] You use start_offset on Annotation Level which is legacy.\n",
      "2022-02-16 22:12:09,861 [konfuzio_sdk.data   ] [MainThread] [WARNING ] [__lt__              ][0828] Legacy: Annotations can not be sorted consistently by start offset.\n",
      "2022-02-16 22:12:09,861 [konfuzio_sdk.data   ] [MainThread] [WARNING ] [start_offset        ][0845] You use start_offset on Annotation Level which is legacy.\n",
      "2022-02-16 22:12:09,869 [konfuzio_sdk.data   ] [MainThread] [WARNING ] [start_offset        ][0845] You use start_offset on Annotation Level which is legacy.\n",
      "2022-02-16 22:12:09,869 [konfuzio_sdk.data   ] [MainThread] [WARNING ] [__lt__              ][0828] Legacy: Annotations can not be sorted consistently by start offset.\n",
      "2022-02-16 22:12:09,871 [konfuzio_sdk.data   ] [MainThread] [WARNING ] [start_offset        ][0845] You use start_offset on Annotation Level which is legacy.\n",
      "2022-02-16 22:12:09,871 [konfuzio_sdk.data   ] [MainThread] [WARNING ] [start_offset        ][0845] You use start_offset on Annotation Level which is legacy.\n",
      "2022-02-16 22:12:09,871 [konfuzio_sdk.data   ] [MainThread] [WARNING ] [__lt__              ][0828] Legacy: Annotations can not be sorted consistently by start offset.\n",
      "2022-02-16 22:12:09,871 [konfuzio_sdk.data   ] [MainThread] [WARNING ] [start_offset        ][0845] You use start_offset on Annotation Level which is legacy.\n",
      "2022-02-16 22:12:09,871 [konfuzio_sdk.data   ] [MainThread] [WARNING ] [start_offset        ][0845] You use start_offset on Annotation Level which is legacy.\n",
      "2022-02-16 22:12:09,871 [konfuzio_sdk.data   ] [MainThread] [WARNING ] [__lt__              ][0828] Legacy: Annotations can not be sorted consistently by start offset.\n",
      "2022-02-16 22:12:09,871 [konfuzio_sdk.data   ] [MainThread] [WARNING ] [start_offset        ][0845] You use start_offset on Annotation Level which is legacy.\n",
      "2022-02-16 22:12:09,879 [konfuzio_sdk.data   ] [MainThread] [WARNING ] [start_offset        ][0845] You use start_offset on Annotation Level which is legacy.\n",
      "2022-02-16 22:12:09,881 [konfuzio_sdk.data   ] [MainThread] [WARNING ] [__lt__              ][0828] Legacy: Annotations can not be sorted consistently by start offset.\n",
      "2022-02-16 22:12:09,881 [konfuzio_sdk.data   ] [MainThread] [WARNING ] [start_offset        ][0845] You use start_offset on Annotation Level which is legacy.\n",
      "2022-02-16 22:12:09,881 [konfuzio_sdk.data   ] [MainThread] [WARNING ] [start_offset        ][0845] You use start_offset on Annotation Level which is legacy.\n",
      "2022-02-16 22:12:09,881 [konfuzio_sdk.data   ] [MainThread] [WARNING ] [__lt__              ][0828] Legacy: Annotations can not be sorted consistently by start offset.\n",
      "2022-02-16 22:12:09,889 [konfuzio_sdk.data   ] [MainThread] [WARNING ] [start_offset        ][0845] You use start_offset on Annotation Level which is legacy.\n",
      "2022-02-16 22:12:09,891 [konfuzio_sdk.data   ] [MainThread] [WARNING ] [start_offset        ][0845] You use start_offset on Annotation Level which is legacy.\n",
      "2022-02-16 22:12:09,891 [konfuzio_sdk.data   ] [MainThread] [WARNING ] [__lt__              ][0828] Legacy: Annotations can not be sorted consistently by start offset.\n",
      "2022-02-16 22:12:09,891 [konfuzio_sdk.data   ] [MainThread] [WARNING ] [start_offset        ][0845] You use start_offset on Annotation Level which is legacy.\n",
      "2022-02-16 22:12:09,891 [konfuzio_sdk.data   ] [MainThread] [WARNING ] [start_offset        ][0845] You use start_offset on Annotation Level which is legacy.\n",
      "2022-02-16 22:12:09,891 [konfuzio_sdk.data   ] [MainThread] [WARNING ] [__lt__              ][0828] Legacy: Annotations can not be sorted consistently by start offset.\n",
      "2022-02-16 22:12:09,891 [konfuzio_sdk.data   ] [MainThread] [WARNING ] [start_offset        ][0845] You use start_offset on Annotation Level which is legacy.\n",
      "2022-02-16 22:12:09,891 [konfuzio_sdk.data   ] [MainThread] [WARNING ] [start_offset        ][0845] You use start_offset on Annotation Level which is legacy.\n",
      "2022-02-16 22:12:09,891 [konfuzio_sdk.data   ] [MainThread] [WARNING ] [__lt__              ][0828] Legacy: Annotations can not be sorted consistently by start offset.\n",
      "2022-02-16 22:12:09,901 [konfuzio_sdk.data   ] [MainThread] [WARNING ] [start_offset        ][0845] You use start_offset on Annotation Level which is legacy.\n",
      "2022-02-16 22:12:09,901 [konfuzio_sdk.data   ] [MainThread] [WARNING ] [start_offset        ][0845] You use start_offset on Annotation Level which is legacy.\n",
      "2022-02-16 22:12:09,909 [konfuzio_sdk.data   ] [MainThread] [WARNING ] [__lt__              ][0828] Legacy: Annotations can not be sorted consistently by start offset.\n",
      "2022-02-16 22:12:09,909 [konfuzio_sdk.data   ] [MainThread] [WARNING ] [start_offset        ][0845] You use start_offset on Annotation Level which is legacy.\n",
      "2022-02-16 22:12:09,911 [konfuzio_sdk.data   ] [MainThread] [WARNING ] [start_offset        ][0845] You use start_offset on Annotation Level which is legacy.\n",
      "2022-02-16 22:12:09,911 [konfuzio_sdk.data   ] [MainThread] [WARNING ] [__lt__              ][0828] Legacy: Annotations can not be sorted consistently by start offset.\n",
      "2022-02-16 22:12:09,911 [konfuzio_sdk.data   ] [MainThread] [WARNING ] [start_offset        ][0845] You use start_offset on Annotation Level which is legacy.\n",
      "2022-02-16 22:12:09,911 [konfuzio_sdk.data   ] [MainThread] [WARNING ] [start_offset        ][0845] You use start_offset on Annotation Level which is legacy.\n",
      "2022-02-16 22:12:09,911 [konfuzio_sdk.data   ] [MainThread] [WARNING ] [__lt__              ][0828] Legacy: Annotations can not be sorted consistently by start offset.\n",
      "2022-02-16 22:12:09,920 [konfuzio_sdk.data   ] [MainThread] [WARNING ] [start_offset        ][0845] You use start_offset on Annotation Level which is legacy.\n",
      "2022-02-16 22:12:09,922 [konfuzio_sdk.data   ] [MainThread] [WARNING ] [start_offset        ][0845] You use start_offset on Annotation Level which is legacy.\n",
      "2022-02-16 22:12:09,922 [konfuzio_sdk.data   ] [MainThread] [WARNING ] [__lt__              ][0828] Legacy: Annotations can not be sorted consistently by start offset.\n",
      "2022-02-16 22:12:09,922 [konfuzio_sdk.data   ] [MainThread] [WARNING ] [start_offset        ][0845] You use start_offset on Annotation Level which is legacy.\n",
      "2022-02-16 22:12:09,922 [konfuzio_sdk.data   ] [MainThread] [WARNING ] [start_offset        ][0845] You use start_offset on Annotation Level which is legacy.\n",
      "2022-02-16 22:12:09,922 [konfuzio_sdk.data   ] [MainThread] [WARNING ] [__lt__              ][0828] Legacy: Annotations can not be sorted consistently by start offset.\n",
      "2022-02-16 22:12:09,930 [konfuzio_sdk.data   ] [MainThread] [WARNING ] [start_offset        ][0845] You use start_offset on Annotation Level which is legacy.\n",
      "2022-02-16 22:12:09,930 [konfuzio_sdk.data   ] [MainThread] [WARNING ] [start_offset        ][0845] You use start_offset on Annotation Level which is legacy.\n",
      "2022-02-16 22:12:09,932 [konfuzio_sdk.data   ] [MainThread] [WARNING ] [__lt__              ][0828] Legacy: Annotations can not be sorted consistently by start offset.\n",
      "2022-02-16 22:12:09,932 [konfuzio_sdk.data   ] [MainThread] [WARNING ] [start_offset        ][0845] You use start_offset on Annotation Level which is legacy.\n",
      "2022-02-16 22:12:09,932 [konfuzio_sdk.data   ] [MainThread] [WARNING ] [start_offset        ][0845] You use start_offset on Annotation Level which is legacy.\n",
      "2022-02-16 22:12:09,932 [konfuzio_sdk.data   ] [MainThread] [WARNING ] [__lt__              ][0828] Legacy: Annotations can not be sorted consistently by start offset.\n",
      "2022-02-16 22:12:09,932 [konfuzio_sdk.data   ] [MainThread] [WARNING ] [start_offset        ][0845] You use start_offset on Annotation Level which is legacy.\n",
      "2022-02-16 22:12:09,942 [konfuzio_sdk.data   ] [MainThread] [WARNING ] [start_offset        ][0845] You use start_offset on Annotation Level which is legacy.\n",
      "2022-02-16 22:12:09,942 [konfuzio_sdk.data   ] [MainThread] [WARNING ] [__lt__              ][0828] Legacy: Annotations can not be sorted consistently by start offset.\n",
      "2022-02-16 22:12:09,942 [konfuzio_sdk.data   ] [MainThread] [WARNING ] [start_offset        ][0845] You use start_offset on Annotation Level which is legacy.\n",
      "2022-02-16 22:12:09,942 [konfuzio_sdk.data   ] [MainThread] [WARNING ] [start_offset        ][0845] You use start_offset on Annotation Level which is legacy.\n",
      "2022-02-16 22:12:09,942 [konfuzio_sdk.data   ] [MainThread] [WARNING ] [__lt__              ][0828] Legacy: Annotations can not be sorted consistently by start offset.\n",
      "2022-02-16 22:12:09,950 [konfuzio_sdk.data   ] [MainThread] [WARNING ] [start_offset        ][0845] You use start_offset on Annotation Level which is legacy.\n",
      "2022-02-16 22:12:09,952 [konfuzio_sdk.data   ] [MainThread] [WARNING ] [start_offset        ][0845] You use start_offset on Annotation Level which is legacy.\n",
      "2022-02-16 22:12:09,952 [konfuzio_sdk.data   ] [MainThread] [WARNING ] [__lt__              ][0828] Legacy: Annotations can not be sorted consistently by start offset.\n",
      "2022-02-16 22:12:09,952 [konfuzio_sdk.data   ] [MainThread] [WARNING ] [start_offset        ][0845] You use start_offset on Annotation Level which is legacy.\n",
      "2022-02-16 22:12:09,952 [konfuzio_sdk.data   ] [MainThread] [WARNING ] [start_offset        ][0845] You use start_offset on Annotation Level which is legacy.\n",
      "2022-02-16 22:12:09,952 [konfuzio_sdk.data   ] [MainThread] [WARNING ] [__lt__              ][0828] Legacy: Annotations can not be sorted consistently by start offset.\n",
      "2022-02-16 22:12:09,952 [konfuzio_sdk.data   ] [MainThread] [WARNING ] [start_offset        ][0845] You use start_offset on Annotation Level which is legacy.\n",
      "2022-02-16 22:12:09,962 [konfuzio_sdk.data   ] [MainThread] [WARNING ] [start_offset        ][0845] You use start_offset on Annotation Level which is legacy.\n",
      "2022-02-16 22:12:09,962 [konfuzio_sdk.data   ] [MainThread] [WARNING ] [__lt__              ][0828] Legacy: Annotations can not be sorted consistently by start offset.\n",
      "2022-02-16 22:12:09,967 [konfuzio_sdk.data   ] [MainThread] [WARNING ] [start_offset        ][0845] You use start_offset on Annotation Level which is legacy.\n",
      "2022-02-16 22:12:09,970 [konfuzio_sdk.data   ] [MainThread] [WARNING ] [start_offset        ][0845] You use start_offset on Annotation Level which is legacy.\n",
      "2022-02-16 22:12:09,972 [konfuzio_sdk.data   ] [MainThread] [WARNING ] [__lt__              ][0828] Legacy: Annotations can not be sorted consistently by start offset.\n",
      "2022-02-16 22:12:09,973 [konfuzio_sdk.data   ] [MainThread] [WARNING ] [start_offset        ][0845] You use start_offset on Annotation Level which is legacy.\n",
      "2022-02-16 22:12:09,974 [konfuzio_sdk.data   ] [MainThread] [WARNING ] [start_offset        ][0845] You use start_offset on Annotation Level which is legacy.\n",
      "2022-02-16 22:12:09,975 [konfuzio_sdk.data   ] [MainThread] [WARNING ] [__lt__              ][0828] Legacy: Annotations can not be sorted consistently by start offset.\n",
      "2022-02-16 22:12:09,976 [konfuzio_sdk.data   ] [MainThread] [WARNING ] [start_offset        ][0845] You use start_offset on Annotation Level which is legacy.\n",
      "2022-02-16 22:12:09,977 [konfuzio_sdk.data   ] [MainThread] [WARNING ] [start_offset        ][0845] You use start_offset on Annotation Level which is legacy.\n",
      "2022-02-16 22:12:09,979 [konfuzio_sdk.data   ] [MainThread] [WARNING ] [__lt__              ][0828] Legacy: Annotations can not be sorted consistently by start offset.\n",
      "2022-02-16 22:12:09,980 [konfuzio_sdk.data   ] [MainThread] [WARNING ] [start_offset        ][0845] You use start_offset on Annotation Level which is legacy.\n",
      "2022-02-16 22:12:09,982 [konfuzio_sdk.data   ] [MainThread] [WARNING ] [start_offset        ][0845] You use start_offset on Annotation Level which is legacy.\n",
      "2022-02-16 22:12:09,982 [konfuzio_sdk.data   ] [MainThread] [WARNING ] [__lt__              ][0828] Legacy: Annotations can not be sorted consistently by start offset.\n",
      "2022-02-16 22:12:09,982 [konfuzio_sdk.data   ] [MainThread] [WARNING ] [start_offset        ][0845] You use start_offset on Annotation Level which is legacy.\n",
      "2022-02-16 22:12:09,982 [konfuzio_sdk.data   ] [MainThread] [WARNING ] [start_offset        ][0845] You use start_offset on Annotation Level which is legacy.\n",
      "2022-02-16 22:12:09,982 [konfuzio_sdk.data   ] [MainThread] [WARNING ] [__lt__              ][0828] Legacy: Annotations can not be sorted consistently by start offset.\n",
      "2022-02-16 22:12:09,982 [konfuzio_sdk.data   ] [MainThread] [WARNING ] [start_offset        ][0845] You use start_offset on Annotation Level which is legacy.\n",
      "2022-02-16 22:12:09,990 [konfuzio_sdk.data   ] [MainThread] [WARNING ] [start_offset        ][0845] You use start_offset on Annotation Level which is legacy.\n",
      "2022-02-16 22:12:09,990 [konfuzio_sdk.data   ] [MainThread] [WARNING ] [__lt__              ][0828] Legacy: Annotations can not be sorted consistently by start offset.\n",
      "2022-02-16 22:12:09,992 [konfuzio_sdk.data   ] [MainThread] [WARNING ] [start_offset        ][0845] You use start_offset on Annotation Level which is legacy.\n",
      "2022-02-16 22:12:09,992 [konfuzio_sdk.data   ] [MainThread] [WARNING ] [start_offset        ][0845] You use start_offset on Annotation Level which is legacy.\n",
      "2022-02-16 22:12:09,992 [konfuzio_sdk.data   ] [MainThread] [WARNING ] [__lt__              ][0828] Legacy: Annotations can not be sorted consistently by start offset.\n",
      "2022-02-16 22:12:09,992 [konfuzio_sdk.data   ] [MainThread] [WARNING ] [start_offset        ][0845] You use start_offset on Annotation Level which is legacy.\n",
      "2022-02-16 22:12:09,992 [konfuzio_sdk.data   ] [MainThread] [WARNING ] [start_offset        ][0845] You use start_offset on Annotation Level which is legacy.\n",
      "2022-02-16 22:12:10,013 [konfuzio_sdk.data   ] [MainThread] [WARNING ] [__lt__              ][0828] Legacy: Annotations can not be sorted consistently by start offset.\n",
      "2022-02-16 22:12:10,013 [konfuzio_sdk.data   ] [MainThread] [WARNING ] [start_offset        ][0845] You use start_offset on Annotation Level which is legacy.\n",
      "2022-02-16 22:12:10,013 [konfuzio_sdk.data   ] [MainThread] [WARNING ] [start_offset        ][0845] You use start_offset on Annotation Level which is legacy.\n",
      "2022-02-16 22:12:10,023 [konfuzio_sdk.data   ] [MainThread] [WARNING ] [__lt__              ][0828] Legacy: Annotations can not be sorted consistently by start offset.\n",
      "2022-02-16 22:12:10,023 [konfuzio_sdk.data   ] [MainThread] [WARNING ] [start_offset        ][0845] You use start_offset on Annotation Level which is legacy.\n",
      "2022-02-16 22:12:10,023 [konfuzio_sdk.data   ] [MainThread] [WARNING ] [start_offset        ][0845] You use start_offset on Annotation Level which is legacy.\n",
      "2022-02-16 22:12:10,023 [konfuzio_sdk.data   ] [MainThread] [WARNING ] [__lt__              ][0828] Legacy: Annotations can not be sorted consistently by start offset.\n",
      "2022-02-16 22:12:10,023 [konfuzio_sdk.data   ] [MainThread] [WARNING ] [start_offset        ][0845] You use start_offset on Annotation Level which is legacy.\n",
      "2022-02-16 22:12:10,031 [konfuzio_sdk.data   ] [MainThread] [WARNING ] [start_offset        ][0845] You use start_offset on Annotation Level which is legacy.\n",
      "2022-02-16 22:12:10,031 [konfuzio_sdk.data   ] [MainThread] [WARNING ] [__lt__              ][0828] Legacy: Annotations can not be sorted consistently by start offset.\n",
      "2022-02-16 22:12:10,033 [konfuzio_sdk.data   ] [MainThread] [WARNING ] [start_offset        ][0845] You use start_offset on Annotation Level which is legacy.\n",
      "2022-02-16 22:12:10,033 [konfuzio_sdk.data   ] [MainThread] [WARNING ] [start_offset        ][0845] You use start_offset on Annotation Level which is legacy.\n",
      "2022-02-16 22:12:10,033 [konfuzio_sdk.data   ] [MainThread] [WARNING ] [__lt__              ][0828] Legacy: Annotations can not be sorted consistently by start offset.\n",
      "2022-02-16 22:12:10,033 [konfuzio_sdk.data   ] [MainThread] [WARNING ] [start_offset        ][0845] You use start_offset on Annotation Level which is legacy.\n",
      "2022-02-16 22:12:10,033 [konfuzio_sdk.data   ] [MainThread] [WARNING ] [start_offset        ][0845] You use start_offset on Annotation Level which is legacy.\n",
      "2022-02-16 22:12:10,041 [konfuzio_sdk.data   ] [MainThread] [WARNING ] [__lt__              ][0828] Legacy: Annotations can not be sorted consistently by start offset.\n",
      "2022-02-16 22:12:10,041 [konfuzio_sdk.data   ] [MainThread] [WARNING ] [start_offset        ][0845] You use start_offset on Annotation Level which is legacy.\n",
      "2022-02-16 22:12:10,043 [konfuzio_sdk.data   ] [MainThread] [WARNING ] [start_offset        ][0845] You use start_offset on Annotation Level which is legacy.\n",
      "2022-02-16 22:12:10,043 [konfuzio_sdk.data   ] [MainThread] [WARNING ] [__lt__              ][0828] Legacy: Annotations can not be sorted consistently by start offset.\n",
      "2022-02-16 22:12:10,043 [konfuzio_sdk.data   ] [MainThread] [WARNING ] [start_offset        ][0845] You use start_offset on Annotation Level which is legacy.\n",
      "2022-02-16 22:12:10,043 [konfuzio_sdk.data   ] [MainThread] [WARNING ] [start_offset        ][0845] You use start_offset on Annotation Level which is legacy.\n",
      "2022-02-16 22:12:10,043 [konfuzio_sdk.data   ] [MainThread] [WARNING ] [__lt__              ][0828] Legacy: Annotations can not be sorted consistently by start offset.\n",
      "2022-02-16 22:12:10,051 [konfuzio_sdk.data   ] [MainThread] [WARNING ] [start_offset        ][0845] You use start_offset on Annotation Level which is legacy.\n",
      "2022-02-16 22:12:10,051 [konfuzio_sdk.data   ] [MainThread] [WARNING ] [start_offset        ][0845] You use start_offset on Annotation Level which is legacy.\n",
      "2022-02-16 22:12:10,053 [konfuzio_sdk.data   ] [MainThread] [WARNING ] [__lt__              ][0828] Legacy: Annotations can not be sorted consistently by start offset.\n",
      "2022-02-16 22:12:10,053 [konfuzio_sdk.data   ] [MainThread] [WARNING ] [start_offset        ][0845] You use start_offset on Annotation Level which is legacy.\n",
      "2022-02-16 22:12:10,053 [konfuzio_sdk.data   ] [MainThread] [WARNING ] [start_offset        ][0845] You use start_offset on Annotation Level which is legacy.\n",
      "2022-02-16 22:12:10,053 [konfuzio_sdk.data   ] [MainThread] [WARNING ] [__lt__              ][0828] Legacy: Annotations can not be sorted consistently by start offset.\n",
      "2022-02-16 22:12:10,061 [konfuzio_sdk.data   ] [MainThread] [WARNING ] [start_offset        ][0845] You use start_offset on Annotation Level which is legacy.\n",
      "2022-02-16 22:12:10,063 [konfuzio_sdk.data   ] [MainThread] [WARNING ] [start_offset        ][0845] You use start_offset on Annotation Level which is legacy.\n",
      "2022-02-16 22:12:10,063 [konfuzio_sdk.data   ] [MainThread] [WARNING ] [__lt__              ][0828] Legacy: Annotations can not be sorted consistently by start offset.\n",
      "2022-02-16 22:12:10,071 [konfuzio_sdk.data   ] [MainThread] [WARNING ] [start_offset        ][0845] You use start_offset on Annotation Level which is legacy.\n",
      "2022-02-16 22:12:10,073 [konfuzio_sdk.data   ] [MainThread] [WARNING ] [start_offset        ][0845] You use start_offset on Annotation Level which is legacy.\n",
      "2022-02-16 22:12:10,073 [konfuzio_sdk.data   ] [MainThread] [WARNING ] [__lt__              ][0828] Legacy: Annotations can not be sorted consistently by start offset.\n",
      "2022-02-16 22:12:10,073 [konfuzio_sdk.data   ] [MainThread] [WARNING ] [start_offset        ][0845] You use start_offset on Annotation Level which is legacy.\n",
      "2022-02-16 22:12:10,073 [konfuzio_sdk.data   ] [MainThread] [WARNING ] [start_offset        ][0845] You use start_offset on Annotation Level which is legacy.\n",
      "2022-02-16 22:12:10,073 [konfuzio_sdk.data   ] [MainThread] [WARNING ] [__lt__              ][0828] Legacy: Annotations can not be sorted consistently by start offset.\n",
      "2022-02-16 22:12:10,073 [konfuzio_sdk.data   ] [MainThread] [WARNING ] [start_offset        ][0845] You use start_offset on Annotation Level which is legacy.\n",
      "2022-02-16 22:12:10,081 [konfuzio_sdk.data   ] [MainThread] [WARNING ] [start_offset        ][0845] You use start_offset on Annotation Level which is legacy.\n",
      "2022-02-16 22:12:10,083 [konfuzio_sdk.data   ] [MainThread] [WARNING ] [__lt__              ][0828] Legacy: Annotations can not be sorted consistently by start offset.\n",
      "2022-02-16 22:12:10,083 [konfuzio_sdk.data   ] [MainThread] [WARNING ] [start_offset        ][0845] You use start_offset on Annotation Level which is legacy.\n",
      "2022-02-16 22:12:10,091 [konfuzio_sdk.data   ] [MainThread] [WARNING ] [start_offset        ][0845] You use start_offset on Annotation Level which is legacy.\n",
      "2022-02-16 22:12:10,093 [konfuzio_sdk.data   ] [MainThread] [WARNING ] [__lt__              ][0828] Legacy: Annotations can not be sorted consistently by start offset.\n",
      "2022-02-16 22:12:10,093 [konfuzio_sdk.data   ] [MainThread] [WARNING ] [start_offset        ][0845] You use start_offset on Annotation Level which is legacy.\n",
      "2022-02-16 22:12:10,093 [konfuzio_sdk.data   ] [MainThread] [WARNING ] [start_offset        ][0845] You use start_offset on Annotation Level which is legacy.\n"
     ]
    },
    {
     "data": {
      "text/plain": "{Annotation None (0, 66),\n Annotation None (78, 84), (84, 85), (85, 86),\n Annotation None (88, 159),\n Annotation None (169, 177), (177, 178), (178, 179), (179, 180), (180, 236),\n Annotation None (237, 351), (351, 352),\n Annotation None (357, 365),\n Annotation None (366, 434), (434, 435), (435, 436), (436, 437), (437, 561), (561, 562), (562, 607), (607, 608), (608, 669), (669, 670), (670, 671), (671, 672), (672, 791), (791, 792), (792, 837), (837, 838), (838, 920), (920, 921), (921, 1027), (1027, 1028), (1028, 1043), (1043, 1044), (1044, 1132), (1132, 1133), (1133, 1167), (1167, 1168), (1168, 1194),\n Annotation None (1199, 1210), (1210, 1211), (1211, 1283), (1283, 1284), (1284, 1329), (1329, 1330), (1330, 1412), (1412, 1413), (1413, 1419), (1419, 1420), (1420, 1498),\n Annotation None (1504, 1505), (1505, 1507),\n Annotation None (1518, 1519),\n Annotation None (1527, 1582),\n Annotation None (1587, 1588), (1588, 1605), (1605, 1606), (1606, 1622), (1622, 1623), (1623, 1636), (1636, 1637), (1637, 1638), (1638, 1639), (1639, 1757), (1757, 1758),\n Annotation None (1762, 1763),\n Annotation None (1769, 1831),\n Annotation None (1839, 1840), (1840, 1883), (1883, 1884), (1884, 1932), (1932, 1933), (1933, 2022), (2022, 2023), (2023, 2111),\n Annotation None (2119, 2120), (2120, 2121), (2121, 2122), (2122, 2248), (2248, 2249), (2249, 2255),\n Annotation None (2262, 2269),\n Annotation None (2274, 2281),\n Annotation None (2285, 2292),\n Annotation None (2296, 2324),\n Annotation None (2330, 2331), (2331, 2380), (2380, 2381), (2381, 2382), (2382, 2383), (2383, 2441), (2441, 2442), (2442, 2512), (2512, 2513), (2513, 2619),\n Annotation None (2624, 2654), (2654, 2655), (2655, 2740), (2740, 2741), (2741, 2811), (2811, 2812), (2812, 2813), (2813, 2814), (2814, 2904), (2904, 2905), (2905, 3004),\n Annotation None (3012, 3013), (3013, 3014), (3014, 3015), (3015, 3121), (3121, 3122), (3122, 3141),\n Annotation None (3149, 3172), (3172, 3173), (3173, 3221), (3221, 3222), (3222, 3272), (3272, 3273), (3273, 3327), (3327, 3328), (3328, 3349), (3349, 3350), (3350, 3400), (3400, 3401), (3401, 3456), (3456, 3457), (3457, 3494), (3494, 3495), (3495, 3538), (3538, 3539), (3539, 3583), (3583, 3584), (3584, 3585), (3585, 3586), (3586, 3587), (3587, 3588), (3588, 3699), (3699, 3700), (3700, 3777),\n Annotation None (3785, 3786), (3786, 3787), (3787, 3788), (3788, 3906), (3906, 3907), (3907, 4053), (4053, 4054), (4054, 4180), (4180, 4181), (4181, 4321), (4321, 4322), (4322, 4457), (4457, 4458), (4458, 4537)}"
     },
     "execution_count": 10,
     "metadata": {},
     "output_type": "execute_result"
    }
   ],
   "source": [
    "# Fill all elements in a document which are not yet labeled\n",
    "set(doc.annotations(fill=True, use_correct=False)) - set(doc.annotations(use_correct=False))"
   ],
   "metadata": {
    "collapsed": false,
    "pycharm": {
     "name": "#%%\n"
    }
   }
  },
  {
   "cell_type": "code",
   "execution_count": 11,
   "outputs": [
    {
     "data": {
      "text/plain": "' Bat:  1\\n \\nPersonal-Nr.  Geburtsdatum ski Faktor  Ki,Frbtr.Konfessi'"
     },
     "execution_count": 11,
     "metadata": {},
     "output_type": "execute_result"
    }
   ],
   "source": [
    "# You might be curious why the second Annotation has five Spans even it is one sequence of text.\n",
    "doc.text[169:236]\n",
    "# We divide any Sequence into Spans if there are Line Breaks. Line Breaks cannot be annotated so they are seperated\n",
    "# as Spans."
   ],
   "metadata": {
    "collapsed": false,
    "pycharm": {
     "name": "#%%\n"
    }
   }
  },
  {
   "cell_type": "markdown",
   "source": [
    "## Build an easy tokenizer by examples\n",
    "We use the correct Annotations in one document to build a tokenizer for the overall model."
   ],
   "metadata": {
    "collapsed": false,
    "pycharm": {
     "name": "#%% md\n"
    }
   }
  },
  {
   "cell_type": "code",
   "execution_count": 12,
   "outputs": [
    {
     "data": {
      "text/plain": "['328927/10103',\n '22.05.2018',\n '00104',\n '1',\n '00104',\n '198,34',\n '10,89',\n 'Erna-Muster',\n 'Eiermann',\n '2000',\n 'Gehalt',\n '3.120,00',\n '3.120,00',\n '3.12000',\n '25732',\n '2062',\n '1417',\n '292,11',\n '2.189,07',\n '42.42950',\n '2.189,07']"
     },
     "execution_count": 12,
     "metadata": {},
     "output_type": "execute_result"
    }
   ],
   "source": [
    "positive_examples = []\n",
    "for annotation in doc.annotations():\n",
    "    for span in annotation.spans:\n",
    "        positive_examples.append(doc.text[span.start_offset: span.end_offset])\n",
    "\n",
    "positive_examples"
   ],
   "metadata": {
    "collapsed": false,
    "pycharm": {
     "name": "#%%\n"
    }
   }
  },
  {
   "cell_type": "code",
   "execution_count": 13,
   "outputs": [
    {
     "data": {
      "text/plain": "'(?:\\\\d\\\\d\\\\d\\\\d\\\\d\\\\d/\\\\d\\\\d\\\\d\\\\d\\\\d|\\\\d\\\\d\\\\.\\\\d\\\\d\\\\.\\\\d\\\\d\\\\d\\\\d|\\\\d\\\\d\\\\.\\\\d\\\\d\\\\d\\\\d\\\\d|\\\\d\\\\.\\\\d\\\\d\\\\d\\\\,\\\\d\\\\d|\\\\d\\\\.\\\\d\\\\d\\\\d\\\\d\\\\d|Erna[-]Muster|\\\\d\\\\d\\\\d\\\\,\\\\d\\\\d|\\\\d\\\\d\\\\d\\\\d\\\\d|\\\\d\\\\d\\\\,\\\\d\\\\d|\\\\d\\\\d\\\\d\\\\d|Eiermann|Gehalt|\\\\d)'"
     },
     "execution_count": 13,
     "metadata": {},
     "output_type": "execute_result"
    }
   ],
   "source": [
    "tokens = set([suggest_regex_for_string(positive_example) for positive_example in positive_examples])\n",
    "tokenizer = merge_regex(tokens)\n",
    "tokenizer"
   ],
   "metadata": {
    "collapsed": false,
    "pycharm": {
     "name": "#%%\n"
    }
   }
  },
  {
   "cell_type": "code",
   "execution_count": 14,
   "outputs": [
    {
     "data": {
      "text/plain": "{('0', 61, 62),\n ('0', 408, 409),\n ('0', 415, 416),\n ('0', 416, 417),\n ('0', 657, 658),\n ('0', 668, 669),\n ('0', 1208, 1209),\n ('0', 1386, 1387),\n ('0', 4395, 4396),\n ('00104', 79, 84),\n ('00104', 352, 357),\n ('00104', 1194, 1199),\n ('1', 176, 177),\n ('1', 365, 366),\n ('1', 619, 620),\n ('1', 652, 653),\n ('1', 656, 657),\n ('1', 658, 659),\n ('1', 665, 666),\n ('1', 1040, 1041),\n ('1', 1105, 1106),\n ('1', 1236, 1237),\n ('1', 4338, 4339),\n ('1', 4394, 4395),\n ('1', 4407, 4408),\n ('10,89', 1582, 1587),\n ('10103', 1247, 1252),\n ('10103', 1868, 1873),\n ('1111', 660, 664),\n ('12345', 1047, 1052),\n ('12345', 1095, 1100),\n ('1417', 2292, 2296),\n ('15,83', 1562, 1567),\n ('15035', 358, 363),\n ('17029', 883, 888),\n ('198,34', 1498, 1504),\n ('2', 62, 63),\n ('2', 1041, 1042),\n ('2', 1209, 1210),\n ('2', 1237, 1238),\n ('2', 3907, 3908),\n ('2', 4008, 4009),\n ('2.189,07', 3004, 3012),\n ('2.189,07', 3777, 3785),\n ('2000', 1758, 1762),\n ('2018', 136, 140),\n ('2062', 2281, 2285),\n ('22.05.2018', 159, 169),\n ('25732', 2269, 2274),\n ('26208', 2696, 2701),\n ('29016', 2705, 2710),\n ('292,11', 2324, 2330),\n ('3', 407, 408),\n ('3', 613, 614),\n ('3', 667, 668),\n ('3', 1042, 1043),\n ('3', 1385, 1386),\n ('3', 4181, 4182),\n ('3', 4339, 4340),\n ('3', 4401, 4402),\n ('3.120,00', 1831, 1839),\n ('3.120,00', 2111, 2119),\n ('3.12000', 2255, 2262),\n ('3.12000', 2658, 2665),\n ('3.12000', 2667, 2674),\n ('3.12000', 2676, 2683),\n ('3.12000', 2685, 2692),\n ('3.43267', 3165, 3172),\n ('3.94594', 3214, 3221),\n ('3000', 419, 423),\n ('328927/10103', 66, 78),\n ('3400', 430, 434),\n ('37,50', 1407, 1412),\n ('37411', 3299, 3304),\n ('3978', 2723, 2727),\n ('4', 414, 415),\n ('4', 1882, 1883),\n ('4', 3789, 3790),\n ('4', 3825, 3826),\n ('42.42950', 3033, 3041),\n ('42.42950', 3056, 3064),\n ('42.42950', 3141, 3149),\n ('4680', 2714, 2718),\n ('5', 614, 615),\n ('5', 617, 618),\n ('5', 653, 654),\n ('5', 3872, 3873),\n ('50150', 608, 613),\n ('52104', 3322, 3327),\n ('54504', 3243, 3248),\n ('6', 363, 364),\n ('6', 615, 616),\n ('6', 4006, 4007),\n ('6.81300', 3190, 3197),\n ('60450', 3745, 3750),\n ('63644', 3267, 3272),\n ('638,82', 2734, 2740),\n ('67891', 1100, 1105),\n ('7', 654, 655),\n ('7', 1603, 1604),\n ('7', 4153, 4154),\n ('8', 618, 619),\n ('8', 1604, 1605),\n ('8', 4396, 4397),\n ('9', 888, 889),\n ('90453', 1608, 1613),\n ('Eiermann', 1519, 1527),\n ('Erna-Muster', 1507, 1518),\n ('Gehalt', 1763, 1769)}"
     },
     "execution_count": 14,
     "metadata": {},
     "output_type": "execute_result"
    }
   ],
   "source": [
    "set([(span['value'], span['start_offset'], span['end_offset']) for span in regex_spans(doc.text, tokenizer)])\n",
    "\n"
   ],
   "metadata": {
    "collapsed": false,
    "pycharm": {
     "name": "#%%\n"
    }
   }
  },
  {
   "cell_type": "markdown",
   "source": [
    "## More Details of Annotations\n",
    "\n",
    "Keep the information of Text in a Document.\n",
    "\n",
    "Todo: the endpoint test_get_project_labels does no longer include the document annotation_sets, as the relation of\n",
    "a label and a annotation_set can be configured by a user while labeling. We might ne to model the relation of many\n",
    "Annotations to one AnnotationSet in a more explicit way.\n",
    "\n",
    "Example document: \"I earn 15 Euro per hour.\"\n",
    "\n",
    "Assume the word \"15\" should be labeled. The project contains the labels \"Amount\" and \"Tax\".\n",
    "\n",
    "# CREATE\n",
    "\n",
    "Annotations can be created by:\n",
    "\n",
    "- Human: Who is using the web interface\n",
    "- Import: A human user imports extractions and uses \"Copy extractions to annotations\" admin action\n",
    "- Training: Using the konfuzio package you create an annotation online, via an Bot user\n",
    "- Text FB: Text Feedback - External API user, sends new extraction without ID, which contains only the offset string\n",
    "- Extraction: Internal Process after we receive a new document from an External API user\n",
    "- Extraction FB: External Feedback - External API user, sends feedback to existing extraction incl. ID\n",
    "\n",
    "ID column: relates to the Annotation instance created in the database\n",
    "is_revised: A human revisor had a look at this annotation\n",
    "correct: Human claims that this annotation should be extracted in future documents\n",
    "\n",
    "The KONFUZIO package will use annotations which are revised or (no XOR) correct.\n",
    "\n",
    "| ID | Creator       | is_revised  | correct       | User      | Label   | Action  |\n",
    "|:---|:--------------|:------------|:------------- |:----------|:--------|:--------|\n",
    "| 1  | Human         | False       | True          | Human     | Amount  | ALLOWED |\n",
    "| 2  | Import        | False       | False         | None      | Amount  | ALLOWED | Extraction.created_by_import\n",
    "| 3  | Training      | False       | False         | Bot       | Amount  | ALLOWED |\n",
    "| 4  | Extraction    | False       | False         | External  | Amount  | ALLOWED | one annotation per extraction\n",
    "| X  | Text FB       | -----       | -----         | ---       | Amount  | see 2   | only create extraction\n",
    "\n",
    "# REVISE\n",
    "\n",
    "Annotations, as they heave been created, can be revised by:\n",
    "\n",
    "- Human: Who is using the web interface\n",
    "- Revise Feedback: ?\n",
    "\n",
    "## Positive Feedback will change\n",
    "\n",
    "| ID | Revisor       | is_revised  | correct       | User      | Label   | Action  |\n",
    "|:---|:--------------|:------------|:------------- |:----------|:--------|:--------|\n",
    "| 1  | Human         | NA          | NA            | NA        | Amount  | HIDDEN  |\n",
    "| 2  | Human         | True        | True          | Human     | Amount  | ALLOWED |\n",
    "| 3  | Human         | True        | True          | Bot       | Amount  | ALLOWED | -> ? does PUT update User\n",
    "| 4  | Human         | NA          | NA            | External  | Amount  | HIDDEN  |\n",
    "| 1  | Extraction FB | True        | True          | Human     | Amount  | ALLOWED |\n",
    "| 2  | Extraction FB | ----        | ----          | ----      | ----    | ----    | External user does not get ID\n",
    "| 3  | Extraction FB | ----        | ----          | ----      | ----    | ----    | External user does not get ID\n",
    "| 4  | Extraction FB | True        | True          | Bot       | Amount  | ALLOWED |\n",
    "\n",
    "As positive feedback displays the annotation in the interface but stores them as correct examples, the\n",
    "word \"15\" should NOT be labeled anew. This time the creator might choose between label \"Amount\" and \"Tax\".\n",
    "\n",
    "| ID | Creator       | is_revised  | correct       | User      | Label   | Action  |\n",
    "|:---|:--------------|:------------|:------------- |:----------|:--------|:--------|\n",
    "| 5  | Human         | False       | True          | Human     | Amount  | DENIED  |\n",
    "| 6  | Import        | True        | False         | None      | Amount  | DENIED  |\n",
    "| 7  | Training      | False       | False         | Bot       | Amount  | DENIED  |\n",
    "| 8  | Extraction FB | ?           | ?             | ?         | Amount  | DENIED  |\n",
    "| 9  | Human         | False       | True          | Human     | Tax     | DENIED  |\n",
    "| 10 | Import        | ----        | ----          | ----      | Tax     | DENIED  | External user does not get ID\n",
    "| 11 | Training      | ----        | ----          | ----      | Tax     | DENIED  | External user does not get ID\n",
    "| 12 | Extraction FB | ?           | ?             | ?         | Tax     | DENIED  |\n",
    "\n",
    "## Negative Feedback will change\n",
    "\n",
    "- The user clicks on delete button next to the annotation in the web interface.\n",
    "- Incorrect or deleted annotations will no longer be displayed in the web interface.\n",
    "\n",
    "| ID | Revisor       | is_revised  | correct       | User      | Label   | Action  |\n",
    "|:---|:--------------|:------------|:------------- |:----------|:--------|:--------|\n",
    "| 1  | Human         | DELETED     | DELETED       | DELETED   | Amount  | ALLOWED | delete revised=F, correct=T\n",
    "| 2  | Human         | True        | False         | None      | Amount  | ALLOWED | Update three fields\n",
    "| 3  | Human         | True        | False         | Bot       | Amount  | ALLOWED | Does update is_revised field\n",
    "| 4  | Human         | ?           | ?             | ?         | Amount  | ALLOWED |\n",
    "| 1  | Extraction FB | True        | False         | ?         | Amount  | ALLOWED |\n",
    "| 2  | Extraction FB | ----        | ----          | ----      | Amount  | ALLOWED | External user does not get ID\n",
    "| 3  | Extraction FB | ----        | ----          | ----      | Amount  | ALLOWED | External user does not get ID\n",
    "| 4  | Extraction FB | True        | False         | External  | Amount  | ALLOWED |\n",
    "\n",
    "As negative feedback removed any annotation from the web interface but stores them as incorrect examples, the\n",
    "word \"15\" can be labeled anew. This time the creator might choose between label \"Amount\" and \"Tax\".\n",
    "\n",
    "| ID | Creator       | is_revised  | correct       | User      | Label   | Action  |\n",
    "|:---|:--------------|:------------|:------------- |:----------|:--------|:--------|\n",
    "| 5  | Human         | False       | True          | Human     | Amount  | ?DENIED | -> in contrast to annotation 1\n",
    "| 6  | Import        | ---         | ---           | ---       | ---     | DENIED  |\n",
    "| 7  | Training      | ---         | ---           | ---       | ---     | DENIED  |\n",
    "| 8  | Extraction FB | ?           | ?             | ?         | Amount  | NA      | Need to send new document\n",
    "| 9  | Human         | False       | True          | Human     | Tax     | ALLOWED | now we have 2 annotations\n",
    "| 10 | Import        | False       | False         | None      | Tax     | ALLOWED |\n",
    "| 11 | Training      | False       | False         | Bot       | Tax     | ALLOWED |\n",
    "| 12 | Extraction FB | ?           | ?             | ?         | Tax     | NA      | Need to send new document"
   ],
   "metadata": {
    "collapsed": false
   }
  }
 ],
 "metadata": {
  "kernelspec": {
   "display_name": "Python 3",
   "language": "python",
   "name": "python3"
  },
  "language_info": {
   "codemirror_mode": {
    "name": "ipython",
    "version": 2
   },
   "file_extension": ".py",
   "mimetype": "text/x-python",
   "name": "python",
   "nbconvert_exporter": "python",
   "pygments_lexer": "ipython2",
   "version": "2.7.6"
  }
 },
 "nbformat": 4,
 "nbformat_minor": 0
}