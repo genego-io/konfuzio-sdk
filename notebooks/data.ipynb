{
 "cells": [
  {
   "cell_type": "markdown",
   "source": [
    "# Best practices to work with your data\n",
    "\n",
    "## Filter for documents that belong to one category\n",
    "\n",
    "In Project 46 you want to get all documents that belong to category with ID 63."
   ],
   "metadata": {
    "collapsed": false,
    "pycharm": {
     "name": "#%% md\n"
    }
   }
  },
  {
   "cell_type": "code",
   "execution_count": 17,
   "metadata": {
    "collapsed": true
   },
   "outputs": [
    {
     "data": {
      "text/plain": "[Gehalt.pdf: 44823,\n Festlohn.pdf: 44834,\n vermögenswirksame Leistungen.pdf: 44839,\n betriebliche Altersvorsorge AG finanziert.pdf: 44840,\n Weihnachtsgeld.pdf: 44841,\n Stundenlohn.pdf: 44842,\n Fahrtkostenzuschuss pauschal versteuert.pdf: 44843,\n Betirebliche Altersvorsorge Mischfinanzierung.pdf: 44845,\n Darlehen.pdf: 44846,\n Dienstwagen mit Gehaltsverzicht.pdf: 44847,\n Auswertungspaket - unterschiedliche B_N-Auswertungen.pdf_1.pdf: 44848,\n Auswertungspaket - unterschiedliche B_N-Auswertungen.pdf_2.pdf: 44850,\n Auswertungspaket - unterschiedliche B_N-Auswertungen.pdf_4.pdf: 44851,\n Auswertungspaket - unterschiedliche B_N-Auswertungen.pdf_3.pdf: 44852,\n Auswertungspaket - unterschiedliche B_N-Auswertungen.pdf_5.pdf: 44853,\n Auswertungspaket - unterschiedliche B_N-Auswertungen.pdf_6.pdf: 44854,\n Auswertungspaket - unterschiedliche B_N-Auswertungen.pdf_7.pdf: 44855,\n Auswertungspaket - unterschiedliche B_N-Auswertungen.pdf_8.pdf: 44856,\n Auswertungspaket - unterschiedliche B_N-Auswertungen.pdf_9.pdf: 44857,\n Auswertungspaket - unterschiedliche B_N-Auswertungen.pdf_10.pdf: 44858,\n Auswertungspaket - unterschiedliche B_N-Auswertungen.pdf_12.pdf: 44859,\n 2022-01-30 07:22:29.106312: 44860,\n 2022-01-30 07:12:04.725599: 44861,\n 2022-02-07 11:17:51.957252: 44862,\n 2022-01-30 06:57:53.988011: 44863]"
     },
     "execution_count": 17,
     "metadata": {},
     "output_type": "execute_result"
    }
   ],
   "source": [
    "from konfuzio_sdk.data import Project\n",
    "\n",
    "prj = Project(id_=46)\n",
    "category = prj.get_category_by_id(63)\n",
    "\n",
    "category.documents()"
   ]
  },
  {
   "cell_type": "markdown",
   "source": [
    "## Edit an Annotation that is online"
   ],
   "metadata": {
    "collapsed": false,
    "pycharm": {
     "name": "#%% md\n"
    }
   }
  },
  {
   "cell_type": "code",
   "execution_count": 18,
   "outputs": [
    {
     "data": {
      "text/plain": "[Austellungsdatum (159, 169)]"
     },
     "execution_count": 18,
     "metadata": {},
     "output_type": "execute_result"
    }
   ],
   "source": [
    "doc = prj.get_document_by_id(44864)\n",
    "annotations = doc.annotations(start_offset=10, end_offset=200)\n",
    "annotations"
   ],
   "metadata": {
    "collapsed": false,
    "pycharm": {
     "name": "#%%\n"
    }
   }
  },
  {
   "cell_type": "markdown",
   "source": [
    "Let's look into the first Annotation"
   ],
   "metadata": {
    "collapsed": false,
    "pycharm": {
     "name": "#%% md\n"
    }
   }
  },
  {
   "cell_type": "code",
   "execution_count": 19,
   "outputs": [
    {
     "data": {
      "text/plain": "{'id_local': 6789,\n 'is_correct': True,\n 'revised': True,\n 'normalized': '2017-12-21',\n 'translated_string': None,\n 'document': 2022-02-13 16:19:30.684745: 44864,\n '_spans': [Span (159, 169)],\n 'id_': 672245,\n 'confidence': 1.0,\n 'label': Austellungsdatum,\n 'label_set': Lohnabrechnung (63),\n 'annotation_set': AnnotationSet(78791) of Lohnabrechnung (63) in 2022-02-13 16:19:30.684745: 44864.,\n 'selection_bbox': {'bottom': 44.129,\n  'page_index': 0,\n  'top': 35.129,\n  'x0': 468.48,\n  'x1': 526.8,\n  'y0': 797.551,\n  'y1': 806.551},\n 'page_number': None,\n 'top': 35.129,\n 'x0': 468.48,\n 'x1': 526.8,\n 'y0': 797.551,\n 'y1': 806.551,\n 'bottom': 44.129,\n 'bboxes': [{'bottom': 44.129,\n   'end_offset': 169,\n   'line_number': 2,\n   'offset_string': '21.12.2017',\n   'offset_string_original': '21.12.2017',\n   'page_index': 0,\n   'start_offset': 159,\n   'top': 35.129,\n   'x0': 468.48,\n   'x1': 526.8,\n   'y0': 797.551,\n   'y1': 806.551}],\n '_tokens': [],\n '_regex': None}"
     },
     "execution_count": 19,
     "metadata": {},
     "output_type": "execute_result"
    }
   ],
   "source": [
    "first_annotation = annotations[0]\n",
    "first_annotation.__dict__"
   ],
   "metadata": {
    "collapsed": false,
    "pycharm": {
     "name": "#%%\n"
    }
   }
  },
  {
   "cell_type": "markdown",
   "source": [
    "We want to change the revised status to False."
   ],
   "metadata": {
    "collapsed": false,
    "pycharm": {
     "name": "#%% md\n"
    }
   }
  },
  {
   "cell_type": "code",
   "execution_count": 20,
   "outputs": [],
   "source": [
    "first_annotation.revised = False"
   ],
   "metadata": {
    "collapsed": false,
    "pycharm": {
     "name": "#%%\n"
    }
   }
  },
  {
   "cell_type": "markdown",
   "source": [
    "Now we have it locally, but not online. So save it to save it online."
   ],
   "metadata": {
    "collapsed": false,
    "pycharm": {
     "name": "#%% md\n"
    }
   }
  },
  {
   "cell_type": "code",
   "execution_count": 21,
   "outputs": [
    {
     "data": {
      "text/plain": "False"
     },
     "execution_count": 21,
     "metadata": {},
     "output_type": "execute_result"
    }
   ],
   "source": [
    "first_annotation.save()"
   ],
   "metadata": {
    "collapsed": false,
    "pycharm": {
     "name": "#%%\n"
    }
   }
  },
  {
   "cell_type": "code",
   "execution_count": 22,
   "outputs": [
    {
     "data": {
      "text/plain": "{'id_local': 6789,\n 'is_correct': True,\n 'revised': False,\n 'normalized': '2017-12-21',\n 'translated_string': None,\n 'document': 2022-02-13 16:19:30.684745: 44864,\n '_spans': [Span (159, 169)],\n 'id_': 672245,\n 'confidence': 1.0,\n 'label': Austellungsdatum,\n 'label_set': Lohnabrechnung (63),\n 'annotation_set': AnnotationSet(78791) of Lohnabrechnung (63) in 2022-02-13 16:19:30.684745: 44864.,\n 'selection_bbox': {'bottom': 44.129,\n  'page_index': 0,\n  'top': 35.129,\n  'x0': 468.48,\n  'x1': 526.8,\n  'y0': 797.551,\n  'y1': 806.551},\n 'page_number': None,\n 'top': 35.129,\n 'x0': 468.48,\n 'x1': 526.8,\n 'y0': 797.551,\n 'y1': 806.551,\n 'bottom': 44.129,\n 'bboxes': [{'bottom': 44.129,\n   'end_offset': 169,\n   'line_number': 2,\n   'offset_string': '21.12.2017',\n   'offset_string_original': '21.12.2017',\n   'page_index': 0,\n   'start_offset': 159,\n   'top': 35.129,\n   'x0': 468.48,\n   'x1': 526.8,\n   'y0': 797.551,\n   'y1': 806.551}],\n '_tokens': [],\n '_regex': None}"
     },
     "execution_count": 22,
     "metadata": {},
     "output_type": "execute_result"
    }
   ],
   "source": [
    "first_annotation.__dict__"
   ],
   "metadata": {
    "collapsed": false,
    "pycharm": {
     "name": "#%%\n"
    }
   }
  }
 ],
 "metadata": {
  "kernelspec": {
   "display_name": "Python 3",
   "language": "python",
   "name": "python3"
  },
  "language_info": {
   "codemirror_mode": {
    "name": "ipython",
    "version": 2
   },
   "file_extension": ".py",
   "mimetype": "text/x-python",
   "name": "python",
   "nbconvert_exporter": "python",
   "pygments_lexer": "ipython2",
   "version": "2.7.6"
  }
 },
 "nbformat": 4,
 "nbformat_minor": 0
}