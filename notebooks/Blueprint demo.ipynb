{
 "cells": [
  {
   "cell_type": "markdown",
   "id": "300c805d",
   "metadata": {},
   "source": [
    "# Demo"
   ]
  },
  {
   "cell_type": "markdown",
   "id": "9f92e353",
   "metadata": {},
   "source": [
    "In this notebook we will see how to use the Konfuzio SDK to to train a model to find and extract relevant information from payslip documents. "
   ]
  },
  {
   "cell_type": "markdown",
   "id": "2d3e2ae0",
   "metadata": {},
   "source": [
    "## Setting things up"
   ]
  },
  {
   "cell_type": "markdown",
   "id": "0328f306",
   "metadata": {},
   "source": [
    "First, we need to install and initialize the konfuzio_sdk package. See [here](https://github.com/konfuzio-ai/konfuzio-sdk) for more info."
   ]
  },
  {
   "cell_type": "code",
   "execution_count": 1,
   "id": "7dc53857",
   "metadata": {},
   "outputs": [],
   "source": [
    "# !pip install konfuzio-sdk"
   ]
  },
  {
   "cell_type": "code",
   "execution_count": null,
   "id": "baf79723",
   "metadata": {},
   "outputs": [],
   "source": []
  },
  {
   "cell_type": "code",
   "execution_count": 2,
   "id": "69490a64",
   "metadata": {},
   "outputs": [],
   "source": [
    "# !konfuzio_sdk init"
   ]
  },
  {
   "cell_type": "code",
   "execution_count": null,
   "id": "e1eda3ff",
   "metadata": {},
   "outputs": [],
   "source": []
  },
  {
   "cell_type": "code",
   "execution_count": 3,
   "id": "17589f76",
   "metadata": {},
   "outputs": [
    {
     "name": "stderr",
     "output_type": "stream",
     "text": [
      "/tmp/ipykernel_2584421/228690431.py:13: FutureWarning: This module is WIP: https://gitlab.com/konfuzio/objectives/-/issues/9311\n",
      "  from konfuzio_sdk.trainer.information_extraction import (DocumentAnnotationMultiClassModel,\n"
     ]
    }
   ],
   "source": [
    "import os\n",
    "import sys\n",
    "sys.path.insert(1, os.path.join(sys.path[0], '..')) # for tests import\n",
    "\n",
    "from copy import deepcopy\n",
    "\n",
    "import logging\n",
    "logger = logging.getLogger()\n",
    "\n",
    "import konfuzio_sdk\n",
    "from konfuzio_sdk.data import Project\n",
    "\n",
    "from konfuzio_sdk.trainer.information_extraction import (DocumentAnnotationMultiClassModel, \n",
    "                                                         SeparateLabelsAnnotationMultiClassModel,\n",
    "                                                         DocumentEntityMulticlassModel,\n",
    "                                                         SeparateLabelsEntityMultiClassModel)\n",
    "\n",
    "from konfuzio_sdk.tokenizer.regex import RegexTokenizer, WhitespaceTokenizer\n",
    "from konfuzio_sdk.tokenizer.base import ListTokenizer\n",
    "from konfuzio_sdk.api import upload_ai_model\n",
    "\n",
    "from konfuzio_sdk.evaluate import compare\n",
    "\n",
    "from tests.variables import OFFLINE_PROJECT, TEST_DOCUMENT_ID"
   ]
  },
  {
   "cell_type": "code",
   "execution_count": 4,
   "id": "4d7064a1",
   "metadata": {},
   "outputs": [
    {
     "data": {
      "text/plain": [
       "'https://app.konfuzio.com'"
      ]
     },
     "execution_count": 4,
     "metadata": {},
     "output_type": "execute_result"
    }
   ],
   "source": [
    "from konfuzio_sdk import KONFUZIO_HOST\n",
    "KONFUZIO_HOST"
   ]
  },
  {
   "cell_type": "code",
   "execution_count": null,
   "id": "0d3e30e3",
   "metadata": {},
   "outputs": [],
   "source": []
  },
  {
   "cell_type": "code",
   "execution_count": 5,
   "id": "635d3693",
   "metadata": {},
   "outputs": [],
   "source": [
    "# os.system('pwd')"
   ]
  },
  {
   "cell_type": "markdown",
   "id": "9cc2176a",
   "metadata": {},
   "source": [
    "Now we can load the Konfuzio project. Here we use a simple offline project included in the Konfuzio SDK.\n"
   ]
  },
  {
   "cell_type": "code",
   "execution_count": 89,
   "id": "dfb713d3",
   "metadata": {},
   "outputs": [],
   "source": [
    "# project = Project(id_=109, project_folder=OFFLINE_PROJECT)\n",
    "# project = Project(id_=None, project_folder=OFFLINE_PROJECT)\n",
    "project = Project(id_=46, update=True)\n",
    "\n",
    "# project = Project(id_=None, project_folder='text_annotation_training_tests') #OFFLINE_PROJECT)"
   ]
  },
  {
   "cell_type": "code",
   "execution_count": 17,
   "id": "022ccf1f",
   "metadata": {},
   "outputs": [],
   "source": [
    "# doc2.text.replace(' ', '')"
   ]
  },
  {
   "cell_type": "code",
   "execution_count": 18,
   "id": "ee4917be",
   "metadata": {},
   "outputs": [],
   "source": [
    "# for ann in doc.annotations(use_correct=False):\n",
    "#     ann.is_correct = True"
   ]
  },
  {
   "cell_type": "code",
   "execution_count": 19,
   "id": "8e581f63",
   "metadata": {},
   "outputs": [],
   "source": [
    "# doc.annotations()"
   ]
  },
  {
   "cell_type": "code",
   "execution_count": 20,
   "id": "90101efe",
   "metadata": {},
   "outputs": [],
   "source": [
    "# ndoc1 = project.get_document_by_id(314030)\n",
    "# ndoc2 = project.get_document_by_id(44865)\n",
    "# ndoc3 = project.get_document_by_id(314074)"
   ]
  },
  {
   "cell_type": "code",
   "execution_count": 21,
   "id": "e07546a3",
   "metadata": {},
   "outputs": [],
   "source": [
    "# ndoc1.text==ndoc2.text"
   ]
  },
  {
   "cell_type": "code",
   "execution_count": 22,
   "id": "c2156805",
   "metadata": {},
   "outputs": [],
   "source": [
    "# len(ndoc1.text)"
   ]
  },
  {
   "cell_type": "code",
   "execution_count": 23,
   "id": "1a364eb7",
   "metadata": {},
   "outputs": [],
   "source": [
    "# ndoc2.text"
   ]
  },
  {
   "cell_type": "code",
   "execution_count": 24,
   "id": "b1a05d8e",
   "metadata": {},
   "outputs": [],
   "source": [
    "# ndoc3.text"
   ]
  },
  {
   "cell_type": "code",
   "execution_count": null,
   "id": "1f0ecf3c",
   "metadata": {},
   "outputs": [],
   "source": []
  },
  {
   "cell_type": "code",
   "execution_count": 25,
   "id": "d6ffb61e",
   "metadata": {},
   "outputs": [],
   "source": [
    "# result = pipeline.extract(doc2)"
   ]
  },
  {
   "cell_type": "code",
   "execution_count": 26,
   "id": "0f9426db",
   "metadata": {},
   "outputs": [],
   "source": [
    "# from konfuzio_sdk.trainer.information_extraction import extraction_result_to_document"
   ]
  },
  {
   "cell_type": "code",
   "execution_count": 27,
   "id": "2d2fd24e",
   "metadata": {},
   "outputs": [],
   "source": [
    "# result = extraction_result_to_document(doc2, result)"
   ]
  },
  {
   "cell_type": "code",
   "execution_count": 28,
   "id": "94a4df2e",
   "metadata": {},
   "outputs": [],
   "source": [
    "# result.annotations(use_correct=False)"
   ]
  },
  {
   "cell_type": "code",
   "execution_count": 29,
   "id": "e8b121dc",
   "metadata": {},
   "outputs": [],
   "source": [
    "# result.category.labels[0]"
   ]
  },
  {
   "cell_type": "code",
   "execution_count": 30,
   "id": "15aa28a7",
   "metadata": {},
   "outputs": [],
   "source": [
    "# category.labels[9] == result.category.labels[0]"
   ]
  },
  {
   "cell_type": "code",
   "execution_count": 31,
   "id": "dbb076c2",
   "metadata": {},
   "outputs": [],
   "source": [
    "# comp_res = compare(doc, result)"
   ]
  },
  {
   "cell_type": "code",
   "execution_count": 32,
   "id": "03ee6da9",
   "metadata": {},
   "outputs": [],
   "source": [
    "# comp_res['is_found_by_tokenizer']"
   ]
  },
  {
   "cell_type": "code",
   "execution_count": null,
   "id": "d8693a93",
   "metadata": {},
   "outputs": [],
   "source": []
  },
  {
   "cell_type": "markdown",
   "id": "64036925",
   "metadata": {},
   "source": [
    "Each project has one or more categories which will tell us how to deal with the documents belonging to that category. "
   ]
  },
  {
   "cell_type": "code",
   "execution_count": 33,
   "id": "7ae7a558",
   "metadata": {},
   "outputs": [],
   "source": [
    "# project.categories"
   ]
  },
  {
   "cell_type": "code",
   "execution_count": null,
   "id": "4037ec4b",
   "metadata": {},
   "outputs": [],
   "source": []
  },
  {
   "cell_type": "code",
   "execution_count": null,
   "id": "648244ae",
   "metadata": {},
   "outputs": [],
   "source": []
  },
  {
   "cell_type": "markdown",
   "id": "bd24610f",
   "metadata": {},
   "source": [
    "Here we initilialize the training pipeline:"
   ]
  },
  {
   "cell_type": "code",
   "execution_count": 34,
   "id": "67f95481",
   "metadata": {},
   "outputs": [],
   "source": [
    "category = project.categories[0]\n",
    "\n",
    "pipeline = SeparateLabelsAnnotationMultiClassModel() # DocumentAnnotationMultiClassModel\n",
    "# pipeline = DocumentEntityMulticlassModel()\n",
    "# pipeline = SeparateLabelsEntityMultiClassModel()\n",
    "# pipeline = DocumentAnnotationMultiClassModel()\n",
    "pipeline.category = category\n",
    "# pipeline.documents = pipeline.category.documents()[:5] # Why?\n",
    "pipeline.test_documents = pipeline.category.test_documents()"
   ]
  },
  {
   "cell_type": "code",
   "execution_count": 35,
   "id": "25ee6de6",
   "metadata": {},
   "outputs": [
    {
     "data": {
      "text/plain": [
       "[Document Auswertungspaket - unterschiedliche B_N-Auswertungen.pdf_18.pdf (44865),\n",
       " Document Auswertungspaket - unterschiedliche B_N-Auswertungen.pdf_17.pdf (44866),\n",
       " Document Auswertungspaket - unterschiedliche B_N-Auswertungen.pdf_19.pdf (44867)]"
      ]
     },
     "execution_count": 35,
     "metadata": {},
     "output_type": "execute_result"
    }
   ],
   "source": [
    "pipeline.test_documents"
   ]
  },
  {
   "cell_type": "code",
   "execution_count": 36,
   "id": "68572a26",
   "metadata": {},
   "outputs": [],
   "source": [
    "# for doc in pipeline.test_documents:\n",
    "#     doc.pages()[0].get_image()"
   ]
  },
  {
   "cell_type": "code",
   "execution_count": null,
   "id": "cfb04b44",
   "metadata": {},
   "outputs": [],
   "source": []
  },
  {
   "cell_type": "code",
   "execution_count": 37,
   "id": "aa9d508f",
   "metadata": {},
   "outputs": [],
   "source": [
    "documents = project.documents"
   ]
  },
  {
   "cell_type": "code",
   "execution_count": 38,
   "id": "e9e28729",
   "metadata": {},
   "outputs": [
    {
     "name": "stdout",
     "output_type": "stream",
     "text": [
      "Document 2022-02-13 16:19:30.684745 (44864) No Category!\n"
     ]
    }
   ],
   "source": [
    "# dev\n",
    "for doc in documents:\n",
    "    if doc.category is None:\n",
    "        dev_doc = doc\n",
    "        print(doc, 'No Category!')\n",
    "# dev_doc.category = category\n",
    "# dev_doc.pages()"
   ]
  },
  {
   "cell_type": "code",
   "execution_count": 39,
   "id": "4eff41fb",
   "metadata": {},
   "outputs": [],
   "source": [
    "documents = documents[:25]\n",
    "# documents = documents[:2]"
   ]
  },
  {
   "cell_type": "code",
   "execution_count": 40,
   "id": "e78ec8ca",
   "metadata": {},
   "outputs": [
    {
     "data": {
      "text/plain": [
       "25"
      ]
     },
     "execution_count": 40,
     "metadata": {},
     "output_type": "execute_result"
    }
   ],
   "source": [
    "len(documents)"
   ]
  },
  {
   "cell_type": "code",
   "execution_count": 41,
   "id": "c3206954",
   "metadata": {},
   "outputs": [],
   "source": [
    "# documents[25:]"
   ]
  },
  {
   "cell_type": "code",
   "execution_count": 42,
   "id": "42af9948",
   "metadata": {},
   "outputs": [],
   "source": [
    "# len(test_documents)"
   ]
  },
  {
   "cell_type": "markdown",
   "id": "6afe1c81",
   "metadata": {},
   "source": [
    "Let's have a look at what exactly a document in this dataset looks like. "
   ]
  },
  {
   "cell_type": "code",
   "execution_count": 43,
   "id": "622c5089",
   "metadata": {},
   "outputs": [],
   "source": [
    "document = documents[0]"
   ]
  },
  {
   "cell_type": "code",
   "execution_count": 44,
   "id": "5b9920a8",
   "metadata": {},
   "outputs": [
    {
     "data": {
      "text/plain": [
       "\"                                                            x02   328927/10103/00104\\nAbrechnung  der Brutto/Netto-Bezüge   für Dezember 2018                   22.05.2018 Bat:  1\\n \\nPersonal-Nr.  Geburtsdatum ski Faktor  Ki,Frbtr.Konfession  ‚Freibetragjährl.! |Freibetrag mt! |DBA  iGleitzone  'St.-Tg.  VJuUr. üb. |Url. Anspr. Url.Tg.gen.  |Resturlaub\\n00104 150356 1  |     ‚ev                              30     400  3000       3400\\n \\nSV-Nummer       |Krankenkasse                       KK%®|PGRS Bars  jum.SV-Tg. Anw. Tage |UrlaubTage Krankh. Tg. Fehlz. Tage\\n                                             \\n50150356B581 AOK  Bayern Die Gesundheitskas 157 101 1111 1 30\\n \\n                                             Eintritt   ‚Austritt     Anw.Std.  Urlaub Std.  |Krankh. Std. |Fehlz. Std.\\n                                             \\n                                             170299  L L       l     L     l     l\\n -                                       +  Steuer-ID       IMrB?       Zeitlohn Sta.|Überstd.  |Bez. Sta.\\n  Teststraße123\\n   12345 Testort                                   12345678911       \\\\     ı     ı     \\\\\\n                               B/N\\n               Pers.-Nr.  00104        x02\\n               Abt.-Nr. A12         10103          HinweisezurAbrechnung\\n                                             \\n                                            Kostenst.  30       Wöch.Arb.Zt. 37,50\\n  Frau\\n                                             - LASt-Jahresausgl.:  LSt        198,34\\n  Erna-Muster Eiermann                         KiSt      15,83   Solz        10,89\\n  Musterstraße 78\\n  90453 Nürnberg\\nBrutto-Bezüge\\n \\nLohnart |Bezeichnung                       |Einheit?   Menge?     Faktor® |Prozentsatz st* |sv#*  |GB®          Betrag\\n2000 Gehalt                                                  L  Log      3.120,00\\n***%%* DATEV  Mustermandant 10103 mit SKRO4\\n**%* Für Präsentationen, Messen, Schulungen, etc\\n                                                                            Gesamt-Brutto\\nSteuer/Sozialversicherung                                                               3.120,00\\n \\nst®      Steuer-Brutto       Lohnsteuer     Kirchensteuer   Solidaritätszuschlag                       Steuerrechtliche Abzüge\\nL     3.12000       25732       2062       1417                            292,11\\n           ı            I           ı           ı\\n \\n           L            L           L  ;          L      r\\n                                                                      \\nsv®   KV-Brutto    RYV-Brutto    AV-Brutto    PV-Brutto  |   KV-Beitrag    RV-Beitrag  |  AV-Beitrag  |   PV-Beitrag®    SV-rechtliche Abzüge\\nL  3.12000  3.12000  3.12000  3.12000    26208    29016    4680     3978       638,82\\n       I        I        I        ı        ı        ı       ı        I\\n \\n                                                                           Netto-Verdienst\\nVerdiensibescheinigung                              Netto-Bezüge/Netto-Abzüge                      2.189,07\\n \\nGesamt-Brutto     42.42950 SV-Beutto     42.42950   Lohnart |Bezeichnung                            Betrag\\nSteuer-Brutto      42.42950 KV-Beitrag     3.43267\\nLohnsteuer       6.81300 |RV-Beitrag     3.94594\\nKirchensteuer        54504 |AV-Beitrag       63644\\nSolidaritätszuschlag      37411 PY-Beitrag       52104\\n                     \\nSteuerfreie Bezüge         \\\\   VWLgesamt         \\\\\\nP. verst. Zuk.sich.         ı   Kug-Auszahlung        \\\\\\n                 ı                  ı\\nPfändung Rest          \\\\                  \\\\\\nDariehen Rest           \\\\                  ı\\n \\n \\nBank                                        SV-AG-Anteil Zus. AG-Kosten      Gesamtkosten     Auszahlungsbetrag\\nKonto                                        60450                           2.189,07\\n \\nI4=Hinzurechnungsbetrag              4=LaufenderBezug, S=SonstigerBezug, F=Frei,    5 ) =Bestandteildes Gesamt-Bruttos\\n2 Std=Stunden,T=Tage, Km=Kilometer, St=Stuck     E =Einmalbezug, P =Pauschalierung,A=Abfindung,    6 2=Einschl. BeitragszuschlagzurPVfürKinderlose\\n  EUR =Euro,Tsd=TausendEuro, Mio =MillionEuro     M =mehrjahrige Versteuerung, N=Nachberechnung    7 MEB=Mehrfachbeschäftigung\\n3 Gegebenenfalls Netto-Lohn/Netto-Stundenlohn       V=Vorjahr,W =Entgeltguthaben           & MaßgeblicherBeitragssatzzurKVinkl Zusatzbeitrag\\nREP Eorm-Nr LNGN13              +Dies isteine Entgelibescheinigungnach$ 108Abs 3 Satz1 derGewerbeordnung-                         DATEV\\n                                                                               \""
      ]
     },
     "execution_count": 44,
     "metadata": {},
     "output_type": "execute_result"
    }
   ],
   "source": [
    "document.text"
   ]
  },
  {
   "cell_type": "markdown",
   "id": "983fb505",
   "metadata": {},
   "source": [
    "This is the output of Object Character Recognition model on the following image:\n"
   ]
  },
  {
   "cell_type": "code",
   "execution_count": 45,
   "id": "0d42384b",
   "metadata": {},
   "outputs": [],
   "source": [
    "# print(document.pages())\n",
    "# document.pages()[0].get_image()"
   ]
  },
  {
   "cell_type": "markdown",
   "id": "77013d8e",
   "metadata": {},
   "source": []
  },
  {
   "cell_type": "code",
   "execution_count": 46,
   "id": "453f747c",
   "metadata": {},
   "outputs": [],
   "source": [
    "# documents"
   ]
  },
  {
   "cell_type": "code",
   "execution_count": 47,
   "id": "9b0f5e1d",
   "metadata": {},
   "outputs": [
    {
     "name": "stdout",
     "output_type": "stream",
     "text": [
      "Bezeichnung 0.1\n",
      "Steuer-Brutto 0.1\n",
      "Lohnart 0.1\n",
      "Gesamt-Brutto 0.1\n",
      "Steuerrechtliche Abzüge 0.1\n",
      "Bank inkl. IBAN 0.1\n",
      "Netto-Verdienst 0.1\n",
      "Menge 0.1\n",
      "Faktor 0.1\n",
      "Austellungsdatum 0.1\n",
      "NO_LABEL 0.0\n",
      "Betrag 0.1\n",
      "Steuerklasse 0.1\n",
      "Sozialversicherung 0.1\n",
      "EMPTY_LABEL 0.1\n",
      "Personalausweis 0.1\n",
      "Vorname 0.1\n",
      "Nachname 0.1\n",
      "Auszahlungsbetrag 0.1\n"
     ]
    }
   ],
   "source": [
    "for label in category.labels:\n",
    "    print(label.name, label.threshold)\n",
    "#     label.threshold = 0.02"
   ]
  },
  {
   "cell_type": "code",
   "execution_count": null,
   "id": "2abb874b",
   "metadata": {},
   "outputs": [],
   "source": []
  },
  {
   "cell_type": "markdown",
   "id": "f30c7162",
   "metadata": {},
   "source": [
    "This is all the information we may want to identify in documents of this category."
   ]
  },
  {
   "cell_type": "code",
   "execution_count": 48,
   "id": "e0ff3e9b",
   "metadata": {},
   "outputs": [],
   "source": [
    "# p = DocumentEntityMulticlassModel()\n",
    "# p.__init__()\n",
    "# hasattr(p, 'tokenizer')"
   ]
  },
  {
   "cell_type": "code",
   "execution_count": 49,
   "id": "fc26cdb9",
   "metadata": {},
   "outputs": [],
   "source": [
    "# p.tokenizer"
   ]
  },
  {
   "cell_type": "markdown",
   "id": "44956f4e",
   "metadata": {},
   "source": [
    "### Training the Regex Tokenizer"
   ]
  },
  {
   "cell_type": "code",
   "execution_count": 50,
   "id": "0e7cfdc4",
   "metadata": {},
   "outputs": [
    {
     "name": "stderr",
     "output_type": "stream",
     "text": [
      "2022-08-19 17:31:09,246 [konfuzio_sdk.data   ] [MainThread] [INFO    ] [tokens              ][0577] Load existing tokens for Label Bezeichnung in Category Lohnabrechnung (63).\n",
      "2022-08-19 17:31:14,217 [konfuzio_sdk.data   ] [MainThread] [INFO    ] [find_regex          ][0715] For Label Bezeichnung we found 78 regex proposals for 75 annotations.\n",
      "2022-08-19 17:31:16,883 [konfuzio_sdk.data   ] [MainThread] [INFO    ] [find_regex          ][0727] We compare 78 regex for 75 correct Annotations for Category Lohnabrechnung (63).\n",
      "2022-08-19 17:31:16,884 [konfuzio_sdk.data   ] [MainThread] [INFO    ] [find_regex          ][0733] Evaluate Label: Bezeichnung for best regex.\n",
      "2022-08-19 17:31:16,904 [konfuzio_sdk.regex  ] [MainThread] [INFO    ] [get_best_regex      ][0145] \n",
      "\n",
      "|    | regex                                                                                                                                                                                                                                                                                                                                                                                                                                                                                                                                                                                                                                                                                                                                                                                                                                                                                                                                                                                                                                                                                                                                                                                                                                                                                                                                                                                                                                                                                  |   runtime |   annotation_recall |   annotation_precision |   f1_score |   new_matches_count |\n",
      "|---:|:---------------------------------------------------------------------------------------------------------------------------------------------------------------------------------------------------------------------------------------------------------------------------------------------------------------------------------------------------------------------------------------------------------------------------------------------------------------------------------------------------------------------------------------------------------------------------------------------------------------------------------------------------------------------------------------------------------------------------------------------------------------------------------------------------------------------------------------------------------------------------------------------------------------------------------------------------------------------------------------------------------------------------------------------------------------------------------------------------------------------------------------------------------------------------------------------------------------------------------------------------------------------------------------------------------------------------------------------------------------------------------------------------------------------------------------------------------------------------------------|----------:|--------------------:|-----------------------:|-----------:|--------------------:|\n",
      "|  0 | \\d\\d\\d[ ]+(?:(?P<Label_862_F_673122_1950>[A-ZÄÖÜ][a-zäöüß]+\\.[A-ZÄÖÜ]+\\,[A-ZÄÖÜ][a-zäöüß]+\\.[a-zäöüß]+\\.\\d[a-zäöüß]+\\,[ ]+\\$\\d[A-ZÄÖÜ][a-zäöüß]\\.\\d\\d[A-ZÄÖÜ]+[a-zäöüß][A-ZÄÖÜ])|(?P<Label_862_F_673161_1992>[A-ZÄÖÜ][a-zäöüß]+\\.[A-ZÄÖÜ]+\\,[A-ZÄÖÜ]+\\,\\d[a-zäöüß]+\\,\\$\\d[A-ZÄÖÜ][a-zäöüß]\\.\\d\\d[A-ZÄÖÜ]+[a-zäöüß][A-ZÄÖÜ])|(?P<Label_862_F_671708_1581>[A-ZÄÖÜ][a-zäöüß]+\\.[A-ZÄÖÜ]+\\,[ ]+\\d[a-zäöüß]+\\,[ ]+[A-ZÄÖÜ]\\$\\d\\d[a-zäöüß][ ]+[A-ZÄÖÜ]+[a-zäöüß][A-ZÄÖÜ])|(?P<Label_862_F_673157_1907>[A-ZÄÖÜ][a-zäöüß]+[ ]+[A-ZÄÖÜ][a-zäöüß]+/[A-ZÄÖÜ][a-zäöüß]+\\,[ ]+[a-zäöüß]\\.[ ]+[A-ZÄÖÜ][a-zäöüß]\\.)|(?P<Label_862_F_673135_1670>[A-ZÄÖÜ][a-zäöüß]+\\,[ ]+[A-ZÄÖÜ][a-zäöüß]+\\,[ ]+[a-zäöüß]+[-]/[a-zäöüß]+[-][a-zäöüß]+)|(?P<Label_862_F_673174_1596>[A-ZÄÖÜ][a-zäöüß]+\\.[a-zäöüß]+\\.[\\+][ ]+[A-ZÄÖÜ]+[ ]+\\(\\d\\d%\\))|(?P<Label_862_F_673154_1825>[A-ZÄÖÜ][a-zäöüß]+[ ]+[A-ZÄÖÜ][a-zäöüß]+/[A-ZÄÖÜ][a-zäöüß]+)|(?P<Label_862_F_671744_1797>[A-ZÄÖÜ]+[-][A-ZÄÖÜ][a-zäöüß]+[ ]+[A-ZÄÖÜ]+\\,\\d[a-zäöüß]+)|(?P<Label_862_F_673092_1677>[A-ZÄÖÜ][a-zäöüß]+\\,[ ]+[a-zäöüß]\\.[A-ZÄÖÜ][a-zäöüß]\\.)|(?P<Label_862_F_671689_1745>[A-ZÄÖÜ][a-zäöüß]+\\,[ ]+[a-zäöüß]+\\,[ ]+[a-zäöüß]+)|(?P<Label_862_F_671703_1496>[A-ZÄÖÜ][a-zäöüß]+\\,[ ]+[a-zäöüß]+£[a-zäöüß]+\\.)|(?P<Label_862_F_673171_1511>[A-ZÄÖÜ][a-zäöüß]+\\,[ ]+\\d\\d%)|(?P<Label_862_W_673119_1868>Gehaltsverzicht\\,[ ]+mtl\\.)|(?P<Label_862_W_671737_1787>Festlohn\\,[ ]+gewerblich)|(?P<Label_862_F_4420348_1763>[A-ZÄÖÜ][a-zäöüß]+))[ ]{2,} |    0.0002 |              1.0000 |                 0.9259 |     0.9615 |                  75 |\n",
      "\n",
      "2022-08-19 17:31:16,945 [konfuzio_sdk.data   ] [MainThread] [INFO    ] [tokens              ][0577] Load existing tokens for Label Steuer-Brutto in Category Lohnabrechnung (63).\n",
      "2022-08-19 17:31:17,695 [konfuzio_sdk.data   ] [MainThread] [INFO    ] [find_regex          ][0715] For Label Steuer-Brutto we found 14 regex proposals for 25 annotations.\n",
      "2022-08-19 17:31:18,152 [konfuzio_sdk.data   ] [MainThread] [INFO    ] [find_regex          ][0727] We compare 14 regex for 25 correct Annotations for Category Lohnabrechnung (63).\n",
      "2022-08-19 17:31:18,153 [konfuzio_sdk.data   ] [MainThread] [INFO    ] [find_regex          ][0733] Evaluate Label: Steuer-Brutto for best regex.\n",
      "2022-08-19 17:31:18,163 [konfuzio_sdk.regex  ] [MainThread] [INFO    ] [get_best_regex      ][0145] \n",
      "\n",
      "|    | regex                                                                                                                                                                                                                                                                           |   runtime |   annotation_recall |   annotation_precision |   f1_score |   new_matches_count |\n",
      "|---:|:--------------------------------------------------------------------------------------------------------------------------------------------------------------------------------------------------------------------------------------------------------------------------------|----------:|--------------------:|-----------------------:|-----------:|--------------------:|\n",
      "|  0 | [a-zäöüß]+                                                                                                                                                                                                                                                                      |    0.0000 |              0.9600 |                 1.0000 |     0.9796 |                  24 |\n",
      "|    | [A-ZÄÖÜ][a-zäöüß]+[-][A-ZÄÖÜ][a-zäöüß]+[ ]{2,}(?:(?P<Label_12503_N_9653072_3389>\\d\\d\\.\\d\\d\\d\\,\\d\\d)|(?P<Label_12503_N_9595770_3080>\\d\\d\\.\\d\\d\\d\\d\\d\\d)|(?P<Label_12503_N_9653184_3141>\\d\\d\\.\\d\\d\\d\\d\\d)|(?P<Label_12503_N_9653073_2796>\\d\\.\\d\\d\\d\\d\\d))[ ]+[A-ZÄÖÜ]+[-][A-ZÄÖÜ] |           |                     |                        |            |                     |\n",
      "|  6 | [a-zäöüß]+                                                                                                                                                                                                                                                                      |    0.0000 |              0.0400 |                 1.0000 |     0.0769 |                   1 |\n",
      "|    | [A-ZÄÖÜ][a-zäöüß]+[-][A-ZÄÖÜ][a-zäöüß]+[ ]{2,}(?:(?P<Label_12503_N_9653072_3389>\\d\\d\\.\\d\\d\\d\\,\\d\\d)|(?P<Label_12503_N_9595770_3080>\\d\\d\\.\\d\\d\\d\\d\\d\\d)|(?P<Label_12503_N_9653184_3141>\\d\\d\\.\\d\\d\\d\\d\\d)|(?P<Label_12503_N_9653073_2796>\\d\\.\\d\\d\\d\\d\\d))[ ]+[a-zäöüß][A-ZÄÖÜ]+   |           |                     |                        |            |                     |\n",
      "\n"
     ]
    },
    {
     "name": "stderr",
     "output_type": "stream",
     "text": [
      "2022-08-19 17:31:18,209 [konfuzio_sdk.data   ] [MainThread] [INFO    ] [tokens              ][0577] Load existing tokens for Label Lohnart in Category Lohnabrechnung (63).\n",
      "2022-08-19 17:31:22,091 [konfuzio_sdk.data   ] [MainThread] [INFO    ] [find_regex          ][0715] For Label Lohnart we found 134 regex proposals for 107 annotations.\n",
      "2022-08-19 17:31:25,563 [konfuzio_sdk.data   ] [MainThread] [INFO    ] [find_regex          ][0727] We compare 134 regex for 107 correct Annotations for Category Lohnabrechnung (63).\n",
      "2022-08-19 17:31:25,564 [konfuzio_sdk.data   ] [MainThread] [INFO    ] [find_regex          ][0733] Evaluate Label: Lohnart for best regex.\n",
      "2022-08-19 17:31:25,592 [konfuzio_sdk.regex  ] [MainThread] [INFO    ] [get_best_regex      ][0145] \n",
      "\n",
      "|    | regex                                                            |   runtime |   annotation_recall |   annotation_precision |   f1_score |   new_matches_count |\n",
      "|---:|:-----------------------------------------------------------------|----------:|--------------------:|-----------------------:|-----------:|--------------------:|\n",
      "|  0 | \\,\\d\\d                                                           |    0.0000 |              0.4393 |                 1.0000 |     0.6104 |                  47 |\n",
      "|    | (?:(?P<Label_861_N_4420346_1758>\\d\\d\\d\\d))[ ]+[A-ZÄÖÜ]           |           |                     |                        |            |                     |\n",
      "|  1 | [ ]{2,}(?:(?P<Label_861_N_4420346_1758>\\d\\d\\d\\d))[ ]+[A-ZÄÖÜ]    |    0.0006 |              0.2617 |                 0.8750 |     0.4029 |                  28 |\n",
      "|  2 | [a-zäöüß]+                                                       |    0.0000 |              0.2336 |                 1.0000 |     0.3788 |                  25 |\n",
      "|    | (?:(?P<Label_861_N_4420346_1758>\\d\\d\\d\\d))[ ]+[A-ZÄÖÜ]           |           |                     |                        |            |                     |\n",
      "| 15 | \\d[ ]{2,}(?:(?P<Label_861_N_4420346_1758>\\d\\d\\d\\d))[ ]+[a-zäöüß] |    0.0000 |              0.0374 |                 1.0000 |     0.0721 |                   4 |\n",
      "| 35 | \\d\\d[-]                                                          |    0.0000 |              0.0187 |                 1.0000 |     0.0367 |                   2 |\n",
      "|    | (?:(?P<Label_861_N_4420346_1758>\\d\\d\\d\\d))[ ]+[A-ZÄÖÜ]           |           |                     |                        |            |                     |\n",
      "| 52 | \\d\\d\\d                                                           |    0.0000 |              0.0093 |                 1.0000 |     0.0185 |                   1 |\n",
      "|    | (?:(?P<Label_861_N_4420346_1758>\\d\\d\\d\\d))[ ]+[A-ZÄÖÜ]           |           |                     |                        |            |                     |\n",
      "\n",
      "2022-08-19 17:31:25,664 [konfuzio_sdk.data   ] [MainThread] [INFO    ] [tokens              ][0577] Load existing tokens for Label Gesamt-Brutto in Category Lohnabrechnung (63).\n",
      "2022-08-19 17:31:26,425 [konfuzio_sdk.data   ] [MainThread] [INFO    ] [find_regex          ][0715] For Label Gesamt-Brutto we found 8 regex proposals for 26 annotations.\n",
      "2022-08-19 17:31:26,646 [konfuzio_sdk.data   ] [MainThread] [INFO    ] [find_regex          ][0727] We compare 8 regex for 26 correct Annotations for Category Lohnabrechnung (63).\n",
      "2022-08-19 17:31:26,646 [konfuzio_sdk.data   ] [MainThread] [INFO    ] [find_regex          ][0733] Evaluate Label: Gesamt-Brutto for best regex.\n",
      "2022-08-19 17:31:26,656 [konfuzio_sdk.regex  ] [MainThread] [INFO    ] [get_best_regex      ][0145] \n",
      "\n",
      "|    | regex                                                                                                |   runtime |   annotation_recall |   annotation_precision |   f1_score |   new_matches_count |\n",
      "|---:|:-----------------------------------------------------------------------------------------------------|----------:|--------------------:|-----------------------:|-----------:|--------------------:|\n",
      "|  0 | [ ]{2,}(?:(?P<Label_859_N_4420363_2111>\\d\\.\\d\\d\\d\\,\\d\\d)|(?P<Label_859_N_9812334_1498>\\d\\d\\d\\,\\d\\d)) |    0.0018 |              1.0000 |                 0.2016 |     0.3355 |                  26 |\n",
      "|    | [ ]+                                                                                                 |           |                     |                        |            |                     |\n",
      "\n",
      "2022-08-19 17:31:26,693 [konfuzio_sdk.data   ] [MainThread] [INFO    ] [tokens              ][0577] Load existing tokens for Label Steuerrechtliche Abzüge in Category Lohnabrechnung (63).\n",
      "2022-08-19 17:31:27,603 [konfuzio_sdk.data   ] [MainThread] [INFO    ] [find_regex          ][0715] For Label Steuerrechtliche Abzüge we found 23 regex proposals for 26 annotations.\n",
      "2022-08-19 17:31:28,519 [konfuzio_sdk.data   ] [MainThread] [INFO    ] [find_regex          ][0727] We compare 23 regex for 26 correct Annotations for Category Lohnabrechnung (63).\n",
      "2022-08-19 17:31:28,520 [konfuzio_sdk.data   ] [MainThread] [INFO    ] [find_regex          ][0733] Evaluate Label: Steuerrechtliche Abzüge for best regex.\n",
      "2022-08-19 17:31:28,531 [konfuzio_sdk.regex  ] [MainThread] [INFO    ] [get_best_regex      ][0145] \n",
      "\n",
      "|    | regex                                                                                                                                                                                                                                                               |   runtime |   annotation_recall |   annotation_precision |   f1_score |   new_matches_count |\n",
      "|---:|:--------------------------------------------------------------------------------------------------------------------------------------------------------------------------------------------------------------------------------------------------------------------|----------:|--------------------:|-----------------------:|-----------:|--------------------:|\n",
      "|  0 | [ ]{2,}(?:(?P<Label_12482_W_9593086_2623>513\\,[ ]+31[-])|(?P<Label_12482_N_9585606_2324>\\d\\d\\d\\,\\d\\d)|(?P<Label_12482_N_9593057_2515>\\d\\d\\,\\d\\d)|(?P<Label_12482_W_9593089_2109>0\\,00))                                                                             |    0.0023 |              0.9615 |                 0.2747 |     0.4274 |                  25 |\n",
      "|    | [ ]+                                                                                                                                                                                                                                                                |           |                     |                        |            |                     |\n",
      "| 19 | [ ]{2,}[A-ZÄÖÜ][a-zäöüß]+[ ]+[A-ZÄÖÜ][a-zäöüß]+                                                                                                                                                                                                                     |    0.0011 |              0.0385 |                 1.0000 |     0.0741 |                   1 |\n",
      "|    | [A-ZÄÖÜ][ ]{2,}\\d\\.\\d\\d\\d\\d\\d[ ]{2,}\\d\\d\\d\\d\\d[ ]{2,}\\d\\d\\d\\d[ ]{2,}\\d\\d\\d\\d[ ]{2,}(?:(?P<Label_12482_W_9593086_2623>513\\,[ ]+31[-])|(?P<Label_12482_N_9585606_2324>\\d\\d\\d\\,\\d\\d)|(?P<Label_12482_N_9593057_2515>\\d\\d\\,\\d\\d)|(?P<Label_12482_W_9593089_2109>0\\,00)) |           |                     |                        |            |                     |\n",
      "|    | [a-zäöüß][ ]{2,}\\d\\.\\d                                                                                                                                                                                                                                              |           |                     |                        |            |                     |\n",
      "\n",
      "2022-08-19 17:31:28,627 [konfuzio_sdk.data   ] [MainThread] [INFO    ] [tokens              ][0577] Load existing tokens for Label Bank inkl. IBAN in Category Lohnabrechnung (63).\n",
      "2022-08-19 17:31:30,165 [konfuzio_sdk.data   ] [MainThread] [INFO    ] [find_regex          ][0715] For Label Bank inkl. IBAN we found 33 regex proposals for 19 annotations.\n",
      "2022-08-19 17:31:30,965 [konfuzio_sdk.data   ] [MainThread] [INFO    ] [find_regex          ][0727] We compare 33 regex for 19 correct Annotations for Category Lohnabrechnung (63).\n"
     ]
    },
    {
     "name": "stderr",
     "output_type": "stream",
     "text": [
      "2022-08-19 17:31:30,965 [konfuzio_sdk.data   ] [MainThread] [INFO    ] [find_regex          ][0733] Evaluate Label: Bank inkl. IBAN for best regex.\n",
      "2022-08-19 17:31:30,978 [konfuzio_sdk.regex  ] [MainThread] [INFO    ] [get_best_regex      ][0145] \n",
      "\n",
      "|    | regex                                                                                                                                                                                                                                                                                                                                                                                                                                                                                                                                                                                   |   runtime |   annotation_recall |   annotation_precision |   f1_score |   new_matches_count |\n",
      "|---:|:----------------------------------------------------------------------------------------------------------------------------------------------------------------------------------------------------------------------------------------------------------------------------------------------------------------------------------------------------------------------------------------------------------------------------------------------------------------------------------------------------------------------------------------------------------------------------------------|----------:|--------------------:|-----------------------:|-----------:|--------------------:|\n",
      "|  0 | [A-ZÄÖÜ][a-zäöüß]+[ ]+(?:(?P<Label_12470_F_9593101_3623>[A-ZÄÖÜ]+\\d\\d[ ]+\\d\\d\\d\\d[ ]+\\d\\d\\d\\d[ ]+\\d\\d\\d\\d[ ]+\\d[A-ZÄÖÜ][a-zäöüß][A-ZÄÖÜ]+[ ]+[A-ZÄÖÜ]+)|(?P<Label_12470_F_9593090_3360>[A-ZÄÖÜ]+\\d\\d[ ]+\\d\\d\\d\\d[ ]+\\d\\d\\d\\d[ ]+\\d\\d\\d\\d[ ]+\\d[A-ZÄÖÜ]+[ ]+[A-ZÄÖÜ]+)|(?P<Label_12470_F_9593052_3501>[A-ZÄÖÜ]+\\d\\d[ ]+\\d\\d\\d\\d[ ]+\\d\\d\\d\\d[ ]+\\d\\d\\d\\d[ ]+\\d\\d\\d\\d[ ]+\\d\\d)|(?P<Label_12470_N_9593041_3537>DEO\\d[ ]+\\d\\d\\d\\d[ ]+\\d\\d\\d\\d[ ]+\\d\\d\\d\\d[ ]+\\d\\d\\d\\d[ ]+\\d\\d)|(?P<Label_12470_W_9584904_3500>Sparda[-]Bank[ ]+Nürnberg)|(?P<Label_12470_W_9593058_3888>Überzahlung))[ ]{2,} |    0.0001 |              1.0526 |                 1.0000 |     1.0256 |                  19 |\n",
      "\n",
      "2022-08-19 17:31:31,021 [konfuzio_sdk.data   ] [MainThread] [INFO    ] [tokens              ][0577] Load existing tokens for Label Netto-Verdienst in Category Lohnabrechnung (63).\n",
      "2022-08-19 17:31:31,723 [konfuzio_sdk.data   ] [MainThread] [INFO    ] [find_regex          ][0715] For Label Netto-Verdienst we found 9 regex proposals for 25 annotations.\n",
      "2022-08-19 17:31:31,977 [konfuzio_sdk.data   ] [MainThread] [INFO    ] [find_regex          ][0727] We compare 9 regex for 25 correct Annotations for Category Lohnabrechnung (63).\n",
      "2022-08-19 17:31:31,977 [konfuzio_sdk.data   ] [MainThread] [INFO    ] [find_regex          ][0733] Evaluate Label: Netto-Verdienst for best regex.\n",
      "2022-08-19 17:31:31,988 [konfuzio_sdk.regex  ] [MainThread] [INFO    ] [get_best_regex      ][0145] \n",
      "\n",
      "|    | regex                                                                                               |   runtime |   annotation_recall |   annotation_precision |   f1_score |   new_matches_count |\n",
      "|---:|:----------------------------------------------------------------------------------------------------|----------:|--------------------:|-----------------------:|-----------:|--------------------:|\n",
      "|  0 | [ ]{2,}(?:(?P<Label_864_N_4420350_3004>\\d\\.\\d\\d\\d\\,\\d\\d)|(?P<Label_864_N_671696_2661>\\d\\d\\d\\,\\d\\d)) |    0.0016 |              1.0000 |                 0.1938 |     0.3247 |                  25 |\n",
      "|    | [ ]+                                                                                                |           |                     |                        |            |                     |\n",
      "\n",
      "2022-08-19 17:31:32,032 [konfuzio_sdk.data   ] [MainThread] [INFO    ] [tokens              ][0577] Load existing tokens for Label Menge in Category Lohnabrechnung (63).\n",
      "2022-08-19 17:31:33,109 [konfuzio_sdk.data   ] [MainThread] [INFO    ] [find_regex          ][0715] For Label Menge we found 29 regex proposals for 34 annotations.\n",
      "2022-08-19 17:31:33,683 [konfuzio_sdk.data   ] [MainThread] [INFO    ] [find_regex          ][0727] We compare 29 regex for 34 correct Annotations for Category Lohnabrechnung (63).\n",
      "2022-08-19 17:31:33,684 [konfuzio_sdk.data   ] [MainThread] [INFO    ] [find_regex          ][0733] Evaluate Label: Menge for best regex.\n",
      "2022-08-19 17:31:33,694 [konfuzio_sdk.regex  ] [MainThread] [INFO    ] [get_best_regex      ][0145] \n",
      "\n",
      "|    | regex                                                                                                                                                   |   runtime |   annotation_recall |   annotation_precision |   f1_score |   new_matches_count |\n",
      "|---:|:--------------------------------------------------------------------------------------------------------------------------------------------------------|----------:|--------------------:|-----------------------:|-----------:|--------------------:|\n",
      "|  0 | [a-zäöüß][ ]{2,}(?:(?P<Label_12483_N_9593092_1669>\\d\\d\\d\\,\\d\\d)|(?P<Label_12483_N_9593094_1752>\\d\\,\\d\\d)|(?P<Label_12483_W_9593080_2098>15\\,00))[ ]{2,} |    0.0000 |              1.0000 |                 1.0000 |     1.0000 |                  34 |\n",
      "\n",
      "2022-08-19 17:31:33,732 [konfuzio_sdk.data   ] [MainThread] [INFO    ] [tokens              ][0577] Load existing tokens for Label Faktor in Category Lohnabrechnung (63).\n",
      "2022-08-19 17:31:34,802 [konfuzio_sdk.data   ] [MainThread] [INFO    ] [find_regex          ][0715] For Label Faktor we found 29 regex proposals for 34 annotations.\n",
      "2022-08-19 17:31:35,557 [konfuzio_sdk.data   ] [MainThread] [INFO    ] [find_regex          ][0727] We compare 29 regex for 34 correct Annotations for Category Lohnabrechnung (63).\n",
      "2022-08-19 17:31:35,558 [konfuzio_sdk.data   ] [MainThread] [INFO    ] [find_regex          ][0733] Evaluate Label: Faktor for best regex.\n",
      "2022-08-19 17:31:35,569 [konfuzio_sdk.regex  ] [MainThread] [INFO    ] [get_best_regex      ][0145] \n",
      "\n",
      "|    | regex                                                                                                                                                                                      |   runtime |   annotation_recall |   annotation_precision |   f1_score |   new_matches_count |\n",
      "|---:|:-------------------------------------------------------------------------------------------------------------------------------------------------------------------------------------------|----------:|--------------------:|-----------------------:|-----------:|--------------------:|\n",
      "|  0 | [ ]{2,}[A-ZÄÖÜ][a-zäöüß]+[ ]{2,}\\d\\,\\d\\d[ ]{2,}(?:(?P<Label_12484_N_9593093_1679>\\d\\d\\,\\d\\d)|(?P<Label_12484_N_9584457_1508>\\d\\,\\d\\d))[ ]{2,}                                              |    0.0010 |              0.9118 |                 1.0000 |     0.9538 |                  31 |\n",
      "| 10 | [ ]{2,}[A-ZÄÖÜ][a-zäöüß]+[ ]{2,}\\d\\d\\d\\,\\d\\d[ ]{2,}(?:(?P<Label_12484_N_9593093_1679>\\d\\d\\,\\d\\d)|(?P<Label_12484_N_9584457_1508>\\d\\,\\d\\d))[ ]{2,}                                          |    0.0010 |              0.0588 |                 1.0000 |     0.1111 |                   2 |\n",
      "| 27 | [ ]{2,}[A-ZÄÖÜ][a-zäöüß]+[ ]{2,}\\d\\d\\d\\,\\d\\d[ ]{2,}\\d\\d\\,\\d\\d[ ]{2,}[A-ZÄÖÜ][ ]{2,}[A-ZÄÖÜ]+[ ]{2,}\\d\\.\\d\\d\\d\\,\\d\\d                                                                        |    0.0012 |              0.0294 |                 1.0000 |     0.0571 |                   1 |\n",
      "|    | \\d\\d\\d\\d[ ]+[A-ZÄÖÜ][a-zäöüß]+[ ]{2,}[A-ZÄÖÜ][a-zäöüß]+[ ]{2,}\\d\\d\\,\\d\\d[ ]{2,}(?:(?P<Label_12484_N_9593093_1679>\\d\\d\\,\\d\\d)|(?P<Label_12484_N_9584457_1508>\\d\\,\\d\\d))[ ]{2,}[A-ZÄÖÜ]+[ ]+ |           |                     |                        |            |                     |\n",
      "\n",
      "2022-08-19 17:31:35,643 [konfuzio_sdk.data   ] [MainThread] [INFO    ] [tokens              ][0577] Load existing tokens for Label Austellungsdatum in Category Lohnabrechnung (63).\n",
      "2022-08-19 17:31:36,380 [konfuzio_sdk.data   ] [MainThread] [INFO    ] [find_regex          ][0715] For Label Austellungsdatum we found 20 regex proposals for 24 annotations.\n"
     ]
    },
    {
     "name": "stderr",
     "output_type": "stream",
     "text": [
      "2022-08-19 17:31:36,912 [konfuzio_sdk.data   ] [MainThread] [INFO    ] [find_regex          ][0727] We compare 20 regex for 24 correct Annotations for Category Lohnabrechnung (63).\n",
      "2022-08-19 17:31:36,913 [konfuzio_sdk.data   ] [MainThread] [INFO    ] [find_regex          ][0733] Evaluate Label: Austellungsdatum for best regex.\n",
      "2022-08-19 17:31:36,922 [konfuzio_sdk.regex  ] [MainThread] [INFO    ] [get_best_regex      ][0145] \n",
      "\n",
      "|    | regex                                                                                |   runtime |   annotation_recall |   annotation_precision |   f1_score |   new_matches_count |\n",
      "|---:|:-------------------------------------------------------------------------------------|----------:|--------------------:|-----------------------:|-----------:|--------------------:|\n",
      "|  0 | [ ]{2,}(?:(?P<Label_867_N_12516017_159>\\d\\d\\.\\d\\d\\.\\d\\d\\d\\d))[ ]+[A-ZÄÖÜ][a-zäöüß]+: |    0.0004 |              1.0000 |                 0.9600 |     0.9796 |                  24 |\n",
      "\n",
      "2022-08-19 17:31:36,926 [konfuzio_sdk.data   ] [MainThread] [WARNING ] [find_regex          ][0702] Label: NO_LABEL has no correct annotations.\n",
      "2022-08-19 17:31:36,964 [konfuzio_sdk.data   ] [MainThread] [INFO    ] [tokens              ][0577] Load existing tokens for Label Betrag in Category Lohnabrechnung (63).\n",
      "2022-08-19 17:31:39,646 [konfuzio_sdk.data   ] [MainThread] [INFO    ] [find_regex          ][0715] For Label Betrag we found 98 regex proposals for 75 annotations.\n",
      "2022-08-19 17:31:43,177 [konfuzio_sdk.data   ] [MainThread] [INFO    ] [find_regex          ][0727] We compare 98 regex for 75 correct Annotations for Category Lohnabrechnung (63).\n",
      "2022-08-19 17:31:43,177 [konfuzio_sdk.data   ] [MainThread] [INFO    ] [find_regex          ][0733] Evaluate Label: Betrag for best regex.\n",
      "2022-08-19 17:31:43,196 [konfuzio_sdk.regex  ] [MainThread] [INFO    ] [get_best_regex      ][0145] \n",
      "\n",
      "|    | regex                                                                                                                                                                                                                                                              |   runtime |   annotation_recall |   annotation_precision |   f1_score |   new_matches_count |\n",
      "|---:|:-------------------------------------------------------------------------------------------------------------------------------------------------------------------------------------------------------------------------------------------------------------------|----------:|--------------------:|-----------------------:|-----------:|--------------------:|\n",
      "|  0 | [ ]{2,}(?:(?P<Label_863_N_11613686_1831>\\d\\.\\d\\d\\d\\,\\d\\d)|(?P<Label_863_N_671720_1785>\\d\\d\\d\\,\\d\\d)|(?P<Label_863_N_671745_1868>\\d\\d\\,\\d\\d)|(?P<Label_863_W_673120_1937>100\\,00[-])|(?P<Label_863_N_672724_1625>\\d\\,\\d\\d\\d)|(?P<Label_863_N_673136_1745>\\d\\,\\d\\d)) |    0.0040 |              0.6667 |                 1.0000 |     0.8000 |                  50 |\n",
      "|    | \\d                                                                                                                                                                                                                                                                 |           |                     |                        |            |                     |\n",
      "|  3 | [ ]{2,}(?:(?P<Label_863_N_11613686_1831>\\d\\.\\d\\d\\d\\,\\d\\d)|(?P<Label_863_N_671720_1785>\\d\\d\\d\\,\\d\\d)|(?P<Label_863_N_671745_1868>\\d\\d\\,\\d\\d)|(?P<Label_863_W_673120_1937>100\\,00[-])|(?P<Label_863_N_672724_1625>\\d\\,\\d\\d\\d)|(?P<Label_863_N_673136_1745>\\d\\,\\d\\d)) |    0.0032 |              0.2000 |                 0.0926 |     0.1266 |                  15 |\n",
      "|    | [ ]+                                                                                                                                                                                                                                                               |           |                     |                        |            |                     |\n",
      "| 11 | [ ]{2,}(?:(?P<Label_863_N_11613686_1831>\\d\\.\\d\\d\\d\\,\\d\\d)|(?P<Label_863_N_671720_1785>\\d\\d\\d\\,\\d\\d)|(?P<Label_863_N_671745_1868>\\d\\d\\,\\d\\d)|(?P<Label_863_W_673120_1937>100\\,00[-])|(?P<Label_863_N_672724_1625>\\d\\,\\d\\d\\d)|(?P<Label_863_N_673136_1745>\\d\\,\\d\\d)) |    0.0036 |              0.1333 |                 1.0000 |     0.2353 |                  10 |\n",
      "|    | \\*                                                                                                                                                                                                                                                                 |           |                     |                        |            |                     |\n",
      "\n",
      "2022-08-19 17:31:43,262 [konfuzio_sdk.data   ] [MainThread] [INFO    ] [tokens              ][0577] Load existing tokens for Label Steuerklasse in Category Lohnabrechnung (63).\n",
      "2022-08-19 17:31:44,703 [konfuzio_sdk.data   ] [MainThread] [INFO    ] [find_regex          ][0715] For Label Steuerklasse we found 26 regex proposals for 25 annotations.\n",
      "2022-08-19 17:31:45,354 [konfuzio_sdk.data   ] [MainThread] [INFO    ] [find_regex          ][0727] We compare 26 regex for 25 correct Annotations for Category Lohnabrechnung (63).\n",
      "2022-08-19 17:31:45,354 [konfuzio_sdk.data   ] [MainThread] [INFO    ] [find_regex          ][0733] Evaluate Label: Steuerklasse for best regex.\n",
      "2022-08-19 17:31:45,364 [konfuzio_sdk.regex  ] [MainThread] [INFO    ] [get_best_regex      ][0145] \n",
      "\n",
      "|    | regex                                                |   runtime |   annotation_recall |   annotation_precision |   f1_score |   new_matches_count |\n",
      "|---:|:-----------------------------------------------------|----------:|--------------------:|-----------------------:|-----------:|--------------------:|\n",
      "|  0 | \\d\\d\\d[ ]+(?:(?P<Label_860_N_4420022_365>\\d))[ ]{2,} |    0.0001 |              1.0000 |                 0.7812 |     0.8772 |                  25 |\n",
      "\n",
      "2022-08-19 17:31:45,400 [konfuzio_sdk.data   ] [MainThread] [INFO    ] [tokens              ][0577] Load existing tokens for Label Sozialversicherung in Category Lohnabrechnung (63).\n",
      "2022-08-19 17:31:48,625 [konfuzio_sdk.data   ] [MainThread] [INFO    ] [find_regex          ][0715] For Label Sozialversicherung we found 48 regex proposals for 83 annotations.\n",
      "2022-08-19 17:31:50,068 [konfuzio_sdk.data   ] [MainThread] [INFO    ] [find_regex          ][0727] We compare 48 regex for 83 correct Annotations for Category Lohnabrechnung (63).\n",
      "2022-08-19 17:31:50,068 [konfuzio_sdk.data   ] [MainThread] [INFO    ] [find_regex          ][0733] Evaluate Label: Sozialversicherung for best regex.\n",
      "2022-08-19 17:31:50,084 [konfuzio_sdk.regex  ] [MainThread] [INFO    ] [get_best_regex      ][0145] \n",
      "\n",
      "|    | regex                                                                                                                                                                                                                                                                                                                                                                                                              |   runtime |   annotation_recall |   annotation_precision |   f1_score |   new_matches_count |\n",
      "|---:|:-------------------------------------------------------------------------------------------------------------------------------------------------------------------------------------------------------------------------------------------------------------------------------------------------------------------------------------------------------------------------------------------------------------------|----------:|--------------------:|-----------------------:|-----------:|--------------------:|\n",
      "|  0 | [ ]{2,}(?:(?P<Label_12453_N_9585509_2255>\\d\\.\\d\\d\\d\\d\\d)|(?P<Label_12453_N_9593083_2569>\\d\\d\\d\\d\\d[-])|(?P<Label_12453_N_9593013_2095>\\d\\d\\d\\d\\d\\d)|(?P<Label_12453_N_9593084_2581>\\d\\d\\d\\d[-])|(?P<Label_12453_N_9585548_2269>\\d\\d\\d\\d\\d)|(?P<Label_12453_W_9592997_2245>2\\.412598)|(?P<Label_12453_N_9585604_2281>\\d\\d\\d\\d)|(?P<Label_12453_N_9593056_2484>\\d\\d\\d))[ ]{2,}                                       |    0.0042 |              0.5542 |                 0.1575 |     0.2453 |                  46 |\n",
      "|  3 | \\d\\d\\d\\d\\d[ ]{2,}(?:(?P<Label_12453_N_9585509_2255>\\d\\.\\d\\d\\d\\d\\d)|(?P<Label_12453_N_9593083_2569>\\d\\d\\d\\d\\d[-])|(?P<Label_12453_N_9593013_2095>\\d\\d\\d\\d\\d\\d)|(?P<Label_12453_N_9593084_2581>\\d\\d\\d\\d[-])|(?P<Label_12453_N_9585548_2269>\\d\\d\\d\\d\\d)|(?P<Label_12453_W_9592997_2245>2\\.412598)|(?P<Label_12453_N_9585604_2281>\\d\\d\\d\\d)|(?P<Label_12453_N_9593056_2484>\\d\\d\\d))[ ]{2,}                             |    0.0001 |              0.2651 |                 0.2037 |     0.2304 |                  22 |\n",
      "| 11 | \\d\\d\\d\\d\\d[ ]{2,}\\d\\d\\d\\d[ ]{2,}(?:(?P<Label_12453_N_9585509_2255>\\d\\.\\d\\d\\d\\d\\d)|(?P<Label_12453_N_9593083_2569>\\d\\d\\d\\d\\d[-])|(?P<Label_12453_N_9593013_2095>\\d\\d\\d\\d\\d\\d)|(?P<Label_12453_N_9593084_2581>\\d\\d\\d\\d[-])|(?P<Label_12453_N_9585548_2269>\\d\\d\\d\\d\\d)|(?P<Label_12453_W_9592997_2245>2\\.412598)|(?P<Label_12453_N_9585604_2281>\\d\\d\\d\\d)|(?P<Label_12453_N_9593056_2484>\\d\\d\\d))[ ]{2,}              |    0.0000 |              0.1807 |                 0.4545 |     0.2586 |                  13 |\n",
      "| 30 | [a-zäöüß]+\\.\\![ ]+‚[A-ZÄÖÜ][a-zäöüß]+[ ]+[a-zäöüß]+\\.\\![ ]+[A-ZÄÖÜ][a-zäöüß]+[ ]+[A-ZÄÖÜ][a-zäöüß]+[ ]{2,}[a-zäöüß]+\\.[-][A-ZÄÖÜ][a-zäöüß]\\.[ ]{2,}[A-ZÄÖÜ][a-zäöüß]+\\.[a-zäöüß]+\\.[ ]+[A-ZÄÖÜ][a-zäöüß]\\.[ ]+[A-ZÄÖÜ][a-zäöüß]+\\.[ ]+[a-zäöüß][A-ZÄÖÜ][a-zäöüß]+\\.[A-ZÄÖÜ][a-zäöüß]\\.[a-zäöüß]+\\.[ ]+\\|[A-ZÄÖÜ][a-zäöüß]+                                                                                         |    0.0001 |              0.0120 |                 1.0000 |     0.0238 |                   1 |\n",
      "|    | (?:(?P<Label_12453_N_9585509_2255>\\d\\.\\d\\d\\d\\d\\d)|(?P<Label_12453_N_9593083_2569>\\d\\d\\d\\d\\d[-])|(?P<Label_12453_N_9593013_2095>\\d\\d\\d\\d\\d\\d)|(?P<Label_12453_N_9593084_2581>\\d\\d\\d\\d[-])|(?P<Label_12453_N_9585548_2269>\\d\\d\\d\\d\\d)|(?P<Label_12453_W_9592997_2245>2\\.412598)|(?P<Label_12453_N_9585604_2281>\\d\\d\\d\\d)|(?P<Label_12453_N_9593056_2484>\\d\\d\\d))[ ]+\\d\\d\\d\\d\\d\\d[ ]+\\d[ ]+                           |           |                     |                        |            |                     |\n",
      "| 32 | [ ]{2,}\\d\\d\\d\\d\\d[-][ ]{2,}\\d\\d\\d\\d[-][ ]{2,}(?:(?P<Label_12453_N_9585509_2255>\\d\\.\\d\\d\\d\\d\\d)|(?P<Label_12453_N_9593083_2569>\\d\\d\\d\\d\\d[-])|(?P<Label_12453_N_9593013_2095>\\d\\d\\d\\d\\d\\d)|(?P<Label_12453_N_9593084_2581>\\d\\d\\d\\d[-])|(?P<Label_12453_N_9585548_2269>\\d\\d\\d\\d\\d)|(?P<Label_12453_W_9592997_2245>2\\.412598)|(?P<Label_12453_N_9585604_2281>\\d\\d\\d\\d)|(?P<Label_12453_N_9593056_2484>\\d\\d\\d))[ ]{2,} |    0.0006 |              0.0120 |                 1.0000 |     0.0238 |                   1 |\n",
      "\n"
     ]
    },
    {
     "name": "stderr",
     "output_type": "stream",
     "text": [
      "2022-08-19 17:31:50,089 [konfuzio_sdk.data   ] [MainThread] [WARNING ] [find_regex          ][0702] Label: EMPTY_LABEL has no correct annotations.\n",
      "2022-08-19 17:31:50,135 [konfuzio_sdk.data   ] [MainThread] [INFO    ] [tokens              ][0577] Load existing tokens for Label Personalausweis in Category Lohnabrechnung (63).\n",
      "2022-08-19 17:31:51,686 [konfuzio_sdk.data   ] [MainThread] [INFO    ] [find_regex          ][0715] For Label Personalausweis we found 24 regex proposals for 43 annotations.\n",
      "2022-08-19 17:31:52,303 [konfuzio_sdk.data   ] [MainThread] [INFO    ] [find_regex          ][0727] We compare 24 regex for 43 correct Annotations for Category Lohnabrechnung (63).\n",
      "2022-08-19 17:31:52,304 [konfuzio_sdk.data   ] [MainThread] [INFO    ] [find_regex          ][0733] Evaluate Label: Personalausweis for best regex.\n",
      "2022-08-19 17:31:52,317 [konfuzio_sdk.regex  ] [MainThread] [INFO    ] [get_best_regex      ][0145] \n",
      "\n",
      "|    | regex                                                                  |   runtime |   annotation_recall |   annotation_precision |   f1_score |   new_matches_count |\n",
      "|---:|:-----------------------------------------------------------------------|----------:|--------------------:|-----------------------:|-----------:|--------------------:|\n",
      "|  0 | [a-zäöüß]+                                                             |    0.0000 |              0.5581 |                 0.9600 |     0.7059 |                  24 |\n",
      "|    | (?:(?P<Label_12444_N_9585450_352>\\d\\d\\d\\d\\d))[ ]+\\d                    |           |                     |                        |            |                     |\n",
      "|  2 | [a-zäöüß]\\.[ ]{2,}(?:(?P<Label_12444_N_9585450_352>\\d\\d\\d\\d\\d))[ ]{2,} |    0.0000 |              0.4419 |                 1.0000 |     0.6129 |                  19 |\n",
      "\n",
      "2022-08-19 17:31:52,361 [konfuzio_sdk.data   ] [MainThread] [INFO    ] [tokens              ][0577] Load existing tokens for Label Vorname in Category Lohnabrechnung (63).\n",
      "2022-08-19 17:31:53,298 [konfuzio_sdk.data   ] [MainThread] [INFO    ] [find_regex          ][0715] For Label Vorname we found 38 regex proposals for 25 annotations.\n",
      "2022-08-19 17:31:54,252 [konfuzio_sdk.data   ] [MainThread] [INFO    ] [find_regex          ][0727] We compare 38 regex for 25 correct Annotations for Category Lohnabrechnung (63).\n",
      "2022-08-19 17:31:54,253 [konfuzio_sdk.data   ] [MainThread] [INFO    ] [find_regex          ][0733] Evaluate Label: Vorname for best regex.\n",
      "2022-08-19 17:31:54,266 [konfuzio_sdk.regex  ] [MainThread] [INFO    ] [get_best_regex      ][0145] \n",
      "\n",
      "|    | regex                                                                                        |   runtime |   annotation_recall |   annotation_precision |   f1_score |   new_matches_count |\n",
      "|---:|:---------------------------------------------------------------------------------------------|----------:|--------------------:|-----------------------:|-----------:|--------------------:|\n",
      "|  0 | [a-zäöüß]                                                                                    |    0.0000 |              0.7200 |                 1.0000 |     0.8372 |                  18 |\n",
      "|    | [ ]{2,}(?:(?P<Label_865_F_4420057_1507>[A-ZÄÖÜ][a-zäöüß]+[-][A-ZÄÖÜ][a-zäöüß]+))[ ]+[A-ZÄÖÜ] |           |                     |                        |            |                     |\n",
      "|  8 | \\d                                                                                           |    0.0000 |              0.1600 |                 1.0000 |     0.2759 |                   4 |\n",
      "|    | [ ]{2,}(?:(?P<Label_865_F_4420057_1507>[A-ZÄÖÜ][a-zäöüß]+[-][A-ZÄÖÜ][a-zäöüß]+))[ ]+[A-ZÄÖÜ] |           |                     |                        |            |                     |\n",
      "| 14 | :                                                                                            |    0.0000 |              0.1200 |                 1.0000 |     0.2143 |                   3 |\n",
      "|    | [ ]{2,}(?:(?P<Label_865_F_4420057_1507>[A-ZÄÖÜ][a-zäöüß]+[-][A-ZÄÖÜ][a-zäöüß]+))[ ]+[A-ZÄÖÜ] |           |                     |                        |            |                     |\n",
      "\n",
      "2022-08-19 17:31:54,326 [konfuzio_sdk.data   ] [MainThread] [INFO    ] [tokens              ][0577] Load existing tokens for Label Nachname in Category Lohnabrechnung (63).\n",
      "2022-08-19 17:31:55,537 [konfuzio_sdk.data   ] [MainThread] [INFO    ] [find_regex          ][0715] For Label Nachname we found 32 regex proposals for 25 annotations.\n",
      "2022-08-19 17:31:56,247 [konfuzio_sdk.data   ] [MainThread] [INFO    ] [find_regex          ][0727] We compare 32 regex for 25 correct Annotations for Category Lohnabrechnung (63).\n",
      "2022-08-19 17:31:56,247 [konfuzio_sdk.data   ] [MainThread] [INFO    ] [find_regex          ][0733] Evaluate Label: Nachname for best regex.\n",
      "2022-08-19 17:31:56,259 [konfuzio_sdk.regex  ] [MainThread] [INFO    ] [get_best_regex      ][0145] \n",
      "\n",
      "|    | regex                                                                                                                    |   runtime |   annotation_recall |   annotation_precision |   f1_score |   new_matches_count |\n",
      "|---:|:-------------------------------------------------------------------------------------------------------------------------|----------:|--------------------:|-----------------------:|-----------:|--------------------:|\n",
      "|  0 | [a-zäöüß]+[ ]+(?:(?P<Label_866_F_4420245_1519>[A-ZÄÖÜ][a-zäöüß]+)|(?P<Label_866_W_673084_1404>Schlosser[-]Azubi))        |    0.0010 |              0.8800 |                 0.5789 |     0.6984 |                  22 |\n",
      "|    | [ ]+                                                                                                                     |           |                     |                        |            |                     |\n",
      "| 16 | [a-zäöüß]+[ ]+(?:(?P<Label_866_F_4420245_1519>[A-ZÄÖÜ][a-zäöüß]+)|(?P<Label_866_W_673084_1404>Schlosser[-]Azubi))[ ]{2,} |    0.0010 |              0.1200 |                 0.0151 |     0.0268 |                   3 |\n",
      "\n",
      "2022-08-19 17:31:56,296 [konfuzio_sdk.data   ] [MainThread] [INFO    ] [tokens              ][0577] Load existing tokens for Label Auszahlungsbetrag in Category Lohnabrechnung (63).\n",
      "2022-08-19 17:31:57,198 [konfuzio_sdk.data   ] [MainThread] [INFO    ] [find_regex          ][0715] For Label Auszahlungsbetrag we found 27 regex proposals for 25 annotations.\n",
      "2022-08-19 17:31:58,320 [konfuzio_sdk.data   ] [MainThread] [INFO    ] [find_regex          ][0727] We compare 27 regex for 25 correct Annotations for Category Lohnabrechnung (63).\n",
      "2022-08-19 17:31:58,321 [konfuzio_sdk.data   ] [MainThread] [INFO    ] [find_regex          ][0733] Evaluate Label: Auszahlungsbetrag for best regex.\n",
      "2022-08-19 17:31:58,333 [konfuzio_sdk.regex  ] [MainThread] [INFO    ] [get_best_regex      ][0145] \n",
      "\n",
      "|    | regex                                                                                                                                          |   runtime |   annotation_recall |   annotation_precision |   f1_score |   new_matches_count |\n",
      "|---:|:-----------------------------------------------------------------------------------------------------------------------------------------------|----------:|--------------------:|-----------------------:|-----------:|--------------------:|\n",
      "|  0 | [ ]{2,}(?:(?P<Label_858_N_4420351_3777>\\d\\.\\d\\d\\d\\,\\d\\d)|(?P<Label_858_W_673143_4074>84\\,[ ]+81[-])|(?P<Label_858_N_671698_3433>\\d\\d\\d\\,\\d\\d)) |    0.0023 |              0.9600 |                 0.1846 |     0.3097 |                  24 |\n",
      "|    | [ ]+                                                                                                                                           |           |                     |                        |            |                     |\n",
      "| 11 | [ ]{2,}\\d\\d\\d\\d\\d                                                                                                                              |    0.0008 |              0.0400 |                 1.0000 |     0.0769 |                   1 |\n",
      "|    | [ ]{2,}(?:(?P<Label_858_N_4420351_3777>\\d\\.\\d\\d\\d\\,\\d\\d)|(?P<Label_858_W_673143_4074>84\\,[ ]+81[-])|(?P<Label_858_N_671698_3433>\\d\\d\\d\\,\\d\\d)) |           |                     |                        |            |                     |\n",
      "|    | [A-ZÄÖÜ][a-zäöüß]+                                                                                                                             |           |                     |                        |            |                     |\n",
      "|    | [ ]{2,}                                                                                                                                        |           |                     |                        |            |                     |\n",
      "\n"
     ]
    }
   ],
   "source": [
    "pipeline.tokenizer = ListTokenizer(tokenizers=[])\n",
    "for label in category.labels:\n",
    "    for regex in label.find_regex(category=pipeline.category):\n",
    "        pipeline.tokenizer.tokenizers.append(RegexTokenizer(regex=regex))\n",
    "# pipeline.tokenizer = WhitespaceTokenizer()"
   ]
  },
  {
   "cell_type": "code",
   "execution_count": 51,
   "id": "8a54beb1",
   "metadata": {},
   "outputs": [],
   "source": [
    "# print(pipeline.tokenizer)"
   ]
  },
  {
   "cell_type": "code",
   "execution_count": 52,
   "id": "4f29e92f",
   "metadata": {},
   "outputs": [],
   "source": [
    "# print(len(pipeline.tokenizer.tokenizers))"
   ]
  },
  {
   "cell_type": "code",
   "execution_count": 53,
   "id": "957e6cf5",
   "metadata": {},
   "outputs": [],
   "source": [
    "# pipeline.tokenizer.tokenizers[0]\n"
   ]
  },
  {
   "cell_type": "code",
   "execution_count": 54,
   "id": "9912cf65",
   "metadata": {},
   "outputs": [],
   "source": [
    "# raise"
   ]
  },
  {
   "cell_type": "code",
   "execution_count": 55,
   "id": "bced6833",
   "metadata": {},
   "outputs": [],
   "source": [
    "# len(document.annotations(use_correct=False)) "
   ]
  },
  {
   "cell_type": "code",
   "execution_count": 56,
   "id": "4b1fa1df",
   "metadata": {},
   "outputs": [],
   "source": [
    "# len(document.spans(use_correct=False))"
   ]
  },
  {
   "cell_type": "markdown",
   "id": "a9c5db3e",
   "metadata": {},
   "source": [
    "And now we can create new NO_LABEL annotations"
   ]
  },
  {
   "cell_type": "code",
   "execution_count": 57,
   "id": "e3dc9e8c",
   "metadata": {},
   "outputs": [],
   "source": [
    "# len(test_documents[1].annotations(use_correct=False))"
   ]
  },
  {
   "cell_type": "code",
   "execution_count": 58,
   "id": "fd35aab6",
   "metadata": {},
   "outputs": [],
   "source": [
    "# pipeline.tokenizer.tokenize(document)"
   ]
  },
  {
   "cell_type": "code",
   "execution_count": 59,
   "id": "fcfb166f",
   "metadata": {},
   "outputs": [],
   "source": [
    "# pipeline.tokenizer.processing_steps[0].runtime"
   ]
  },
  {
   "cell_type": "code",
   "execution_count": 60,
   "id": "91890569",
   "metadata": {},
   "outputs": [],
   "source": [
    "# pipeline.tokenizer.processing_steps[1].runtime\n"
   ]
  },
  {
   "cell_type": "code",
   "execution_count": 61,
   "id": "0b0b8317",
   "metadata": {},
   "outputs": [],
   "source": [
    "# raise"
   ]
  },
  {
   "cell_type": "code",
   "execution_count": 62,
   "id": "8ac7f598",
   "metadata": {},
   "outputs": [],
   "source": [
    "# len(document.annotations(use_correct=False))"
   ]
  },
  {
   "cell_type": "code",
   "execution_count": 63,
   "id": "a4647ece",
   "metadata": {},
   "outputs": [],
   "source": [
    "# for ann in document.annotations(use_correct=False):\n",
    "#     print(ann)"
   ]
  },
  {
   "cell_type": "code",
   "execution_count": 64,
   "id": "72c6f686",
   "metadata": {},
   "outputs": [],
   "source": [
    "# def label_train_doc(doc, doc_spans):\n",
    "#     s_i = 0\n",
    "#     for span in doc.spans():\n",
    "#         while s_i < len(doc_spans) and span.start_offset > doc_spans[s_i].end_offset:\n",
    "#             s_i += 1\n",
    "#         if s_i >= len(doc_spans):\n",
    "#             break\n",
    "#         if span.end_offset < doc_spans[s_i].start_offset:\n",
    "#             continue\n",
    "# #         if span.start_offset <= doc_spans[s_i].end_offset and \\\n",
    "# #             span.end_offset >= doc_spans[s_i].start_offset:\n",
    "# #             span.annotation.label = doc_spans[s_i].annotation.label\n",
    "#         r = range(doc_spans[s_i].start_offset, doc_spans[s_i].end_offset+1)\n",
    "#         if span.start_offset in r and \\\n",
    "#             span.end_offset in r:\n",
    "#             span.annotation.label = doc_spans[s_i].annotation.label\n",
    "\n",
    "            \n",
    "# #         if span.start_offset <= doc_spans[s_i].end_offset and \\\n",
    "# #             span.end_offset >= doc_spans[s_i].start_offset:\n",
    "# #             span.annotation.label = doc_spans[s_i].annotation.label\n"
   ]
  },
  {
   "cell_type": "markdown",
   "id": "27985e85",
   "metadata": {},
   "source": [
    "Now we can do the same for all documents:"
   ]
  },
  {
   "cell_type": "code",
   "execution_count": 65,
   "id": "c7904591",
   "metadata": {},
   "outputs": [],
   "source": [
    "# Tokenize documents.\n",
    "logger.setLevel(logging.ERROR)\n",
    "\n",
    "# training_docs = [deepcopy(doc) for doc in documents]\n",
    "\n",
    "# # for i, doc in enumerate(training_docs):    \n",
    "# # #     doc._characters = documents[i].bboxes\n",
    "# #     doc._hocr = documents[i].hocr\n",
    "\n",
    "# for doc in training_docs:\n",
    "#     pipeline.tokenizer.tokenize(doc)\n",
    "\n",
    "# for i, t_doc in enumerate(training_docs):\n",
    "#     label_train_doc(t_doc, documents[i].spans(use_correct=True))\n",
    "    \n",
    "# logger.setLevel(logging.INFO)\n",
    "# for doc in test_documents:\n",
    "#     pipeline.tokenizer.tokenize(doc)\n"
   ]
  },
  {
   "cell_type": "code",
   "execution_count": 66,
   "id": "7abfb71b",
   "metadata": {},
   "outputs": [],
   "source": [
    "# for doc in documents:\n",
    "#     pipeline.tokenizer.tokenize(doc)\n",
    "    "
   ]
  },
  {
   "cell_type": "code",
   "execution_count": 67,
   "id": "86ffc187",
   "metadata": {},
   "outputs": [],
   "source": [
    "# training_docs[0].annotations(use_correct=False)\n",
    "# training_docs[0]"
   ]
  },
  {
   "cell_type": "code",
   "execution_count": 68,
   "id": "4cf90891",
   "metadata": {},
   "outputs": [],
   "source": [
    "# for i, doc in enumerate(training_docs):\n",
    "#     doc.id_ = doc.copy_of_id #+ 1000\n",
    "# #     doc.bboxes_available = True"
   ]
  },
  {
   "cell_type": "code",
   "execution_count": null,
   "id": "c4398c14",
   "metadata": {},
   "outputs": [],
   "source": []
  },
  {
   "cell_type": "code",
   "execution_count": 69,
   "id": "66a3ca32",
   "metadata": {},
   "outputs": [
    {
     "name": "stdout",
     "output_type": "stream",
     "text": [
      "0\n"
     ]
    }
   ],
   "source": [
    "print(sum([step.runtime for step in pipeline.tokenizer.processing_steps]))\n"
   ]
  },
  {
   "cell_type": "code",
   "execution_count": 70,
   "id": "a03bd54c",
   "metadata": {},
   "outputs": [],
   "source": [
    "# raise"
   ]
  },
  {
   "cell_type": "code",
   "execution_count": 71,
   "id": "00f1ec7c",
   "metadata": {},
   "outputs": [
    {
     "name": "stderr",
     "output_type": "stream",
     "text": [
      "/home/sam-konf/Konfuzio/konfuzio-sdk/notebooks/../konfuzio_sdk/tokenizer/regex.py:74: FutureWarning: WIP: Modifications before the next stable release expected.\n",
      "  span.bbox()  # check that the bbox can be calculated  # todo add test\n",
      "/home/sam-konf/Konfuzio/konfuzio-sdk/notebooks/../konfuzio_sdk/data.py:908: FutureWarning: WIP: Modifications before the next stable release expected.\n",
      "  characters = {key: self.annotation.document.bboxes.get(key) for key in character_range}\n",
      "/home/sam-konf/Konfuzio/konfuzio-sdk/notebooks/../konfuzio_sdk/trainer/information_extraction.py:1005: UserWarning: Parsing '22.05.2018' in DD/MM/YYYY format. Provide format or specify infer_datetime_format=True for consistent parsing.\n",
      "  date2 = pandas.to_datetime(s, errors='ignore')\n",
      "/home/sam-konf/Konfuzio/konfuzio-sdk/notebooks/../konfuzio_sdk/trainer/information_extraction.py:1662: PerformanceWarning: DataFrame is highly fragmented.  This is usually the result of calling `frame.insert` many times, which has poor performance.  Consider joining all columns at once using pd.concat(axis=1) instead. To get a de-fragmented frame, use `newframe = frame.copy()`\n",
      "  df[\"relative_position_in_page\"] = df[\"page_index\"] / document_n_pages\n",
      "/home/sam-konf/Konfuzio/konfuzio-sdk/notebooks/../konfuzio_sdk/tokenizer/regex.py:74: FutureWarning: WIP: Modifications before the next stable release expected.\n",
      "  span.bbox()  # check that the bbox can be calculated  # todo add test\n",
      "/home/sam-konf/Konfuzio/konfuzio-sdk/notebooks/../konfuzio_sdk/data.py:908: FutureWarning: WIP: Modifications before the next stable release expected.\n",
      "  characters = {key: self.annotation.document.bboxes.get(key) for key in character_range}\n",
      "2022-08-19 17:31:58,781 [konfuzio_sdk.data   ] [MainThread] [ERROR   ] [bbox                ][0910] Span (1787, 1807) contains Chractacters that don't provide a Bounding Box.\n",
      "/home/sam-konf/Konfuzio/konfuzio-sdk/notebooks/../konfuzio_sdk/trainer/information_extraction.py:1005: UserWarning: Parsing '22.05.2018' in DD/MM/YYYY format. Provide format or specify infer_datetime_format=True for consistent parsing.\n",
      "  date2 = pandas.to_datetime(s, errors='ignore')\n",
      "/home/sam-konf/Konfuzio/konfuzio-sdk/notebooks/../konfuzio_sdk/trainer/information_extraction.py:1662: PerformanceWarning: DataFrame is highly fragmented.  This is usually the result of calling `frame.insert` many times, which has poor performance.  Consider joining all columns at once using pd.concat(axis=1) instead. To get a de-fragmented frame, use `newframe = frame.copy()`\n",
      "  df[\"relative_position_in_page\"] = df[\"page_index\"] / document_n_pages\n",
      "/home/sam-konf/Konfuzio/konfuzio-sdk/notebooks/../konfuzio_sdk/tokenizer/regex.py:74: FutureWarning: WIP: Modifications before the next stable release expected.\n",
      "  span.bbox()  # check that the bbox can be calculated  # todo add test\n",
      "/home/sam-konf/Konfuzio/konfuzio-sdk/notebooks/../konfuzio_sdk/data.py:908: FutureWarning: WIP: Modifications before the next stable release expected.\n",
      "  characters = {key: self.annotation.document.bboxes.get(key) for key in character_range}\n",
      "2022-08-19 17:31:58,986 [konfuzio_sdk.data   ] [MainThread] [ERROR   ] [bbox                ][0910] Span (1797, 1814) contains Chractacters that don't provide a Bounding Box.\n",
      "2022-08-19 17:31:58,997 [konfuzio_sdk.data   ] [MainThread] [ERROR   ] [bbox                ][0910] Span (3623, 3651) contains Chractacters that don't provide a Bounding Box.\n",
      "/home/sam-konf/Konfuzio/konfuzio-sdk/notebooks/../konfuzio_sdk/trainer/information_extraction.py:1005: UserWarning: Parsing '24.05.2018' in DD/MM/YYYY format. Provide format or specify infer_datetime_format=True for consistent parsing.\n",
      "  date2 = pandas.to_datetime(s, errors='ignore')\n",
      "/home/sam-konf/Konfuzio/konfuzio-sdk/notebooks/../konfuzio_sdk/trainer/information_extraction.py:1662: PerformanceWarning: DataFrame is highly fragmented.  This is usually the result of calling `frame.insert` many times, which has poor performance.  Consider joining all columns at once using pd.concat(axis=1) instead. To get a de-fragmented frame, use `newframe = frame.copy()`\n",
      "  df[\"relative_position_in_page\"] = df[\"page_index\"] / document_n_pages\n",
      "/home/sam-konf/Konfuzio/konfuzio-sdk/notebooks/../konfuzio_sdk/tokenizer/regex.py:74: FutureWarning: WIP: Modifications before the next stable release expected.\n",
      "  span.bbox()  # check that the bbox can be calculated  # todo add test\n",
      "/home/sam-konf/Konfuzio/konfuzio-sdk/notebooks/../konfuzio_sdk/data.py:908: FutureWarning: WIP: Modifications before the next stable release expected.\n",
      "  characters = {key: self.annotation.document.bboxes.get(key) for key in character_range}\n",
      "2022-08-19 17:31:59,212 [konfuzio_sdk.data   ] [MainThread] [ERROR   ] [bbox                ][0910] Span (1496, 1524) contains Chractacters that don't provide a Bounding Box.\n",
      "2022-08-19 17:31:59,212 [konfuzio_sdk.data   ] [MainThread] [ERROR   ] [bbox                ][0910] Span (1581, 1609) contains Chractacters that don't provide a Bounding Box.\n",
      "2022-08-19 17:31:59,223 [konfuzio_sdk.data   ] [MainThread] [ERROR   ] [bbox                ][0910] Span (3360, 3387) contains Chractacters that don't provide a Bounding Box.\n",
      "/home/sam-konf/Konfuzio/konfuzio-sdk/notebooks/../konfuzio_sdk/trainer/information_extraction.py:1005: UserWarning: Parsing '24.05.2018' in DD/MM/YYYY format. Provide format or specify infer_datetime_format=True for consistent parsing.\n",
      "  date2 = pandas.to_datetime(s, errors='ignore')\n",
      "/home/sam-konf/Konfuzio/konfuzio-sdk/notebooks/../konfuzio_sdk/trainer/information_extraction.py:1662: PerformanceWarning: DataFrame is highly fragmented.  This is usually the result of calling `frame.insert` many times, which has poor performance.  Consider joining all columns at once using pd.concat(axis=1) instead. To get a de-fragmented frame, use `newframe = frame.copy()`\n",
      "  df[\"relative_position_in_page\"] = df[\"page_index\"] / document_n_pages\n",
      "/home/sam-konf/Konfuzio/konfuzio-sdk/notebooks/../konfuzio_sdk/tokenizer/regex.py:74: FutureWarning: WIP: Modifications before the next stable release expected.\n",
      "  span.bbox()  # check that the bbox can be calculated  # todo add test\n",
      "/home/sam-konf/Konfuzio/konfuzio-sdk/notebooks/../konfuzio_sdk/data.py:908: FutureWarning: WIP: Modifications before the next stable release expected.\n",
      "  characters = {key: self.annotation.document.bboxes.get(key) for key in character_range}\n",
      "2022-08-19 17:31:59,423 [konfuzio_sdk.data   ] [MainThread] [ERROR   ] [bbox                ][0910] Span (1580, 1600) contains Chractacters that don't provide a Bounding Box.\n",
      "2022-08-19 17:31:59,424 [konfuzio_sdk.data   ] [MainThread] [ERROR   ] [bbox                ][0910] Span (1663, 1680) contains Chractacters that don't provide a Bounding Box.\n",
      "2022-08-19 17:31:59,425 [konfuzio_sdk.data   ] [MainThread] [ERROR   ] [bbox                ][0910] Span (1745, 1773) contains Chractacters that don't provide a Bounding Box.\n",
      "2022-08-19 17:31:59,436 [konfuzio_sdk.data   ] [MainThread] [ERROR   ] [bbox                ][0910] Span (3693, 3720) contains Chractacters that don't provide a Bounding Box.\n",
      "/home/sam-konf/Konfuzio/konfuzio-sdk/notebooks/../konfuzio_sdk/trainer/information_extraction.py:1662: PerformanceWarning: DataFrame is highly fragmented.  This is usually the result of calling `frame.insert` many times, which has poor performance.  Consider joining all columns at once using pd.concat(axis=1) instead. To get a de-fragmented frame, use `newframe = frame.copy()`\n",
      "  df[\"relative_position_in_page\"] = df[\"page_index\"] / document_n_pages\n",
      "/home/sam-konf/Konfuzio/konfuzio-sdk/notebooks/../konfuzio_sdk/tokenizer/regex.py:74: FutureWarning: WIP: Modifications before the next stable release expected.\n",
      "  span.bbox()  # check that the bbox can be calculated  # todo add test\n",
      "/home/sam-konf/Konfuzio/konfuzio-sdk/notebooks/../konfuzio_sdk/data.py:908: FutureWarning: WIP: Modifications before the next stable release expected.\n",
      "  characters = {key: self.annotation.document.bboxes.get(key) for key in character_range}\n",
      "2022-08-19 17:31:59,654 [konfuzio_sdk.data   ] [MainThread] [ERROR   ] [bbox                ][0910] Span (2623, 2631) contains Chractacters that don't provide a Bounding Box.\n",
      "/home/sam-konf/Konfuzio/konfuzio-sdk/notebooks/../konfuzio_sdk/trainer/information_extraction.py:1005: UserWarning: Parsing '22.05.2018' in DD/MM/YYYY format. Provide format or specify infer_datetime_format=True for consistent parsing.\n",
      "  date2 = pandas.to_datetime(s, errors='ignore')\n"
     ]
    },
    {
     "name": "stderr",
     "output_type": "stream",
     "text": [
      "/home/sam-konf/Konfuzio/konfuzio-sdk/notebooks/../konfuzio_sdk/trainer/information_extraction.py:1662: PerformanceWarning: DataFrame is highly fragmented.  This is usually the result of calling `frame.insert` many times, which has poor performance.  Consider joining all columns at once using pd.concat(axis=1) instead. To get a de-fragmented frame, use `newframe = frame.copy()`\n",
      "  df[\"relative_position_in_page\"] = df[\"page_index\"] / document_n_pages\n",
      "/home/sam-konf/Konfuzio/konfuzio-sdk/notebooks/../konfuzio_sdk/tokenizer/regex.py:74: FutureWarning: WIP: Modifications before the next stable release expected.\n",
      "  span.bbox()  # check that the bbox can be calculated  # todo add test\n",
      "/home/sam-konf/Konfuzio/konfuzio-sdk/notebooks/../konfuzio_sdk/data.py:908: FutureWarning: WIP: Modifications before the next stable release expected.\n",
      "  characters = {key: self.annotation.document.bboxes.get(key) for key in character_range}\n",
      "2022-08-19 17:31:59,861 [konfuzio_sdk.data   ] [MainThread] [ERROR   ] [bbox                ][0910] Span (1593, 1621) contains Chractacters that don't provide a Bounding Box.\n",
      "2022-08-19 17:31:59,862 [konfuzio_sdk.data   ] [MainThread] [ERROR   ] [bbox                ][0910] Span (1677, 1703) contains Chractacters that don't provide a Bounding Box.\n",
      "/home/sam-konf/Konfuzio/konfuzio-sdk/notebooks/../konfuzio_sdk/trainer/information_extraction.py:1005: UserWarning: Parsing '22.05.2018' in DD/MM/YYYY format. Provide format or specify infer_datetime_format=True for consistent parsing.\n",
      "  date2 = pandas.to_datetime(s, errors='ignore')\n",
      "/home/sam-konf/Konfuzio/konfuzio-sdk/notebooks/../konfuzio_sdk/trainer/information_extraction.py:1662: PerformanceWarning: DataFrame is highly fragmented.  This is usually the result of calling `frame.insert` many times, which has poor performance.  Consider joining all columns at once using pd.concat(axis=1) instead. To get a de-fragmented frame, use `newframe = frame.copy()`\n",
      "  df[\"relative_position_in_page\"] = df[\"page_index\"] / document_n_pages\n",
      "/home/sam-konf/Konfuzio/konfuzio-sdk/notebooks/../konfuzio_sdk/tokenizer/regex.py:74: FutureWarning: WIP: Modifications before the next stable release expected.\n",
      "  span.bbox()  # check that the bbox can be calculated  # todo add test\n",
      "/home/sam-konf/Konfuzio/konfuzio-sdk/notebooks/../konfuzio_sdk/data.py:908: FutureWarning: WIP: Modifications before the next stable release expected.\n",
      "  characters = {key: self.annotation.document.bboxes.get(key) for key in character_range}\n",
      "2022-08-19 17:32:00,144 [konfuzio_sdk.data   ] [MainThread] [ERROR   ] [bbox                ][0910] Span (1868, 1889) contains Chractacters that don't provide a Bounding Box.\n",
      "2022-08-19 17:32:00,145 [konfuzio_sdk.data   ] [MainThread] [ERROR   ] [bbox                ][0910] Span (1950, 1981) contains Chractacters that don't provide a Bounding Box.\n",
      "/home/sam-konf/Konfuzio/konfuzio-sdk/notebooks/../konfuzio_sdk/trainer/information_extraction.py:1005: UserWarning: Parsing '22.05.2018' in DD/MM/YYYY format. Provide format or specify infer_datetime_format=True for consistent parsing.\n",
      "  date2 = pandas.to_datetime(s, errors='ignore')\n",
      "/home/sam-konf/Konfuzio/konfuzio-sdk/notebooks/../konfuzio_sdk/trainer/information_extraction.py:1662: PerformanceWarning: DataFrame is highly fragmented.  This is usually the result of calling `frame.insert` many times, which has poor performance.  Consider joining all columns at once using pd.concat(axis=1) instead. To get a de-fragmented frame, use `newframe = frame.copy()`\n",
      "  df[\"relative_position_in_page\"] = df[\"page_index\"] / document_n_pages\n",
      "/home/sam-konf/Konfuzio/konfuzio-sdk/notebooks/../konfuzio_sdk/tokenizer/regex.py:74: FutureWarning: WIP: Modifications before the next stable release expected.\n",
      "  span.bbox()  # check that the bbox can be calculated  # todo add test\n",
      "/home/sam-konf/Konfuzio/konfuzio-sdk/notebooks/../konfuzio_sdk/data.py:908: FutureWarning: WIP: Modifications before the next stable release expected.\n",
      "  characters = {key: self.annotation.document.bboxes.get(key) for key in character_range}\n",
      "2022-08-19 17:32:00,364 [konfuzio_sdk.data   ] [MainThread] [ERROR   ] [bbox                ][0910] Span (1670, 1702) contains Chractacters that don't provide a Bounding Box.\n",
      "/home/sam-konf/Konfuzio/konfuzio-sdk/notebooks/../konfuzio_sdk/trainer/information_extraction.py:1005: UserWarning: Parsing '22.05.2018' in DD/MM/YYYY format. Provide format or specify infer_datetime_format=True for consistent parsing.\n",
      "  date2 = pandas.to_datetime(s, errors='ignore')\n",
      "/home/sam-konf/Konfuzio/konfuzio-sdk/notebooks/../konfuzio_sdk/trainer/information_extraction.py:1662: PerformanceWarning: DataFrame is highly fragmented.  This is usually the result of calling `frame.insert` many times, which has poor performance.  Consider joining all columns at once using pd.concat(axis=1) instead. To get a de-fragmented frame, use `newframe = frame.copy()`\n",
      "  df[\"relative_position_in_page\"] = df[\"page_index\"] / document_n_pages\n",
      "/home/sam-konf/Konfuzio/konfuzio-sdk/notebooks/../konfuzio_sdk/tokenizer/regex.py:74: FutureWarning: WIP: Modifications before the next stable release expected.\n",
      "  span.bbox()  # check that the bbox can be calculated  # todo add test\n",
      "/home/sam-konf/Konfuzio/konfuzio-sdk/notebooks/../konfuzio_sdk/data.py:908: FutureWarning: WIP: Modifications before the next stable release expected.\n",
      "  characters = {key: self.annotation.document.bboxes.get(key) for key in character_range}\n",
      "2022-08-19 17:32:00,570 [konfuzio_sdk.data   ] [MainThread] [ERROR   ] [bbox                ][0910] Span (1825, 1847) contains Chractacters that don't provide a Bounding Box.\n",
      "2022-08-19 17:32:00,571 [konfuzio_sdk.data   ] [MainThread] [ERROR   ] [bbox                ][0910] Span (1907, 1937) contains Chractacters that don't provide a Bounding Box.\n",
      "2022-08-19 17:32:00,642 [konfuzio_sdk.data   ] [MainThread] [ERROR   ] [bbox                ][0910] Span (4074, 4081) contains Chractacters that don't provide a Bounding Box.\n",
      "/home/sam-konf/Konfuzio/konfuzio-sdk/notebooks/../konfuzio_sdk/trainer/information_extraction.py:1005: UserWarning: Parsing '24.05.2018' in DD/MM/YYYY format. Provide format or specify infer_datetime_format=True for consistent parsing.\n",
      "  date2 = pandas.to_datetime(s, errors='ignore')\n",
      "/home/sam-konf/Konfuzio/konfuzio-sdk/notebooks/../konfuzio_sdk/trainer/information_extraction.py:1662: PerformanceWarning: DataFrame is highly fragmented.  This is usually the result of calling `frame.insert` many times, which has poor performance.  Consider joining all columns at once using pd.concat(axis=1) instead. To get a de-fragmented frame, use `newframe = frame.copy()`\n",
      "  df[\"relative_position_in_page\"] = df[\"page_index\"] / document_n_pages\n",
      "/home/sam-konf/Konfuzio/konfuzio-sdk/notebooks/../konfuzio_sdk/tokenizer/regex.py:74: FutureWarning: WIP: Modifications before the next stable release expected.\n",
      "  span.bbox()  # check that the bbox can be calculated  # todo add test\n",
      "/home/sam-konf/Konfuzio/konfuzio-sdk/notebooks/../konfuzio_sdk/data.py:908: FutureWarning: WIP: Modifications before the next stable release expected.\n",
      "  characters = {key: self.annotation.document.bboxes.get(key) for key in character_range}\n",
      "2022-08-19 17:32:00,798 [konfuzio_sdk.data   ] [MainThread] [ERROR   ] [bbox                ][0910] Span (1511, 1535) contains Chractacters that don't provide a Bounding Box.\n",
      "2022-08-19 17:32:00,799 [konfuzio_sdk.data   ] [MainThread] [ERROR   ] [bbox                ][0910] Span (1596, 1625) contains Chractacters that don't provide a Bounding Box.\n",
      "2022-08-19 17:32:00,809 [konfuzio_sdk.data   ] [MainThread] [ERROR   ] [bbox                ][0910] Span (3501, 3528) contains Chractacters that don't provide a Bounding Box.\n",
      "/home/sam-konf/Konfuzio/konfuzio-sdk/notebooks/../konfuzio_sdk/trainer/information_extraction.py:1005: UserWarning: Parsing '21.12.2017' in DD/MM/YYYY format. Provide format or specify infer_datetime_format=True for consistent parsing.\n",
      "  date2 = pandas.to_datetime(s, errors='ignore')\n",
      "/home/sam-konf/Konfuzio/konfuzio-sdk/notebooks/../konfuzio_sdk/trainer/information_extraction.py:1662: PerformanceWarning: DataFrame is highly fragmented.  This is usually the result of calling `frame.insert` many times, which has poor performance.  Consider joining all columns at once using pd.concat(axis=1) instead. To get a de-fragmented frame, use `newframe = frame.copy()`\n",
      "  df[\"relative_position_in_page\"] = df[\"page_index\"] / document_n_pages\n"
     ]
    },
    {
     "name": "stderr",
     "output_type": "stream",
     "text": [
      "/home/sam-konf/Konfuzio/konfuzio-sdk/notebooks/../konfuzio_sdk/tokenizer/regex.py:74: FutureWarning: WIP: Modifications before the next stable release expected.\n",
      "  span.bbox()  # check that the bbox can be calculated  # todo add test\n",
      "/home/sam-konf/Konfuzio/konfuzio-sdk/notebooks/../konfuzio_sdk/data.py:908: FutureWarning: WIP: Modifications before the next stable release expected.\n",
      "  characters = {key: self.annotation.document.bboxes.get(key) for key in character_range}\n",
      "2022-08-19 17:32:01,007 [konfuzio_sdk.data   ] [MainThread] [ERROR   ] [bbox                ][0910] Span (1604, 1628) contains Chractacters that don't provide a Bounding Box.\n",
      "2022-08-19 17:32:01,007 [konfuzio_sdk.data   ] [MainThread] [ERROR   ] [bbox                ][0910] Span (1689, 1718) contains Chractacters that don't provide a Bounding Box.\n",
      "2022-08-19 17:32:01,018 [konfuzio_sdk.data   ] [MainThread] [ERROR   ] [bbox                ][0910] Span (3537, 3564) contains Chractacters that don't provide a Bounding Box.\n",
      "/home/sam-konf/Konfuzio/konfuzio-sdk/notebooks/../konfuzio_sdk/trainer/information_extraction.py:1005: UserWarning: Parsing '21.12.2017' in DD/MM/YYYY format. Provide format or specify infer_datetime_format=True for consistent parsing.\n",
      "  date2 = pandas.to_datetime(s, errors='ignore')\n",
      "/home/sam-konf/Konfuzio/konfuzio-sdk/notebooks/../konfuzio_sdk/trainer/information_extraction.py:1662: PerformanceWarning: DataFrame is highly fragmented.  This is usually the result of calling `frame.insert` many times, which has poor performance.  Consider joining all columns at once using pd.concat(axis=1) instead. To get a de-fragmented frame, use `newframe = frame.copy()`\n",
      "  df[\"relative_position_in_page\"] = df[\"page_index\"] / document_n_pages\n",
      "/home/sam-konf/Konfuzio/konfuzio-sdk/notebooks/../konfuzio_sdk/tokenizer/regex.py:74: FutureWarning: WIP: Modifications before the next stable release expected.\n",
      "  span.bbox()  # check that the bbox can be calculated  # todo add test\n",
      "/home/sam-konf/Konfuzio/konfuzio-sdk/notebooks/../konfuzio_sdk/data.py:908: FutureWarning: WIP: Modifications before the next stable release expected.\n",
      "  characters = {key: self.annotation.document.bboxes.get(key) for key in character_range}\n",
      "2022-08-19 17:32:01,228 [konfuzio_sdk.data   ] [MainThread] [ERROR   ] [bbox                ][0910] Span (1559, 1583) contains Chractacters that don't provide a Bounding Box.\n",
      "2022-08-19 17:32:01,229 [konfuzio_sdk.data   ] [MainThread] [ERROR   ] [bbox                ][0910] Span (1644, 1673) contains Chractacters that don't provide a Bounding Box.\n",
      "2022-08-19 17:32:01,240 [konfuzio_sdk.data   ] [MainThread] [ERROR   ] [bbox                ][0910] Span (3545, 3572) contains Chractacters that don't provide a Bounding Box.\n",
      "/home/sam-konf/Konfuzio/konfuzio-sdk/notebooks/../konfuzio_sdk/trainer/information_extraction.py:1005: UserWarning: Parsing '21.12.2017' in DD/MM/YYYY format. Provide format or specify infer_datetime_format=True for consistent parsing.\n",
      "  date2 = pandas.to_datetime(s, errors='ignore')\n",
      "/home/sam-konf/Konfuzio/konfuzio-sdk/notebooks/../konfuzio_sdk/trainer/information_extraction.py:1662: PerformanceWarning: DataFrame is highly fragmented.  This is usually the result of calling `frame.insert` many times, which has poor performance.  Consider joining all columns at once using pd.concat(axis=1) instead. To get a de-fragmented frame, use `newframe = frame.copy()`\n",
      "  df[\"relative_position_in_page\"] = df[\"page_index\"] / document_n_pages\n",
      "/home/sam-konf/Konfuzio/konfuzio-sdk/notebooks/../konfuzio_sdk/tokenizer/regex.py:74: FutureWarning: WIP: Modifications before the next stable release expected.\n",
      "  span.bbox()  # check that the bbox can be calculated  # todo add test\n",
      "/home/sam-konf/Konfuzio/konfuzio-sdk/notebooks/../konfuzio_sdk/data.py:908: FutureWarning: WIP: Modifications before the next stable release expected.\n",
      "  characters = {key: self.annotation.document.bboxes.get(key) for key in character_range}\n",
      "2022-08-19 17:32:01,436 [konfuzio_sdk.data   ] [MainThread] [ERROR   ] [bbox                ][0910] Span (1514, 1538) contains Chractacters that don't provide a Bounding Box.\n",
      "2022-08-19 17:32:01,437 [konfuzio_sdk.data   ] [MainThread] [ERROR   ] [bbox                ][0910] Span (1600, 1629) contains Chractacters that don't provide a Bounding Box.\n",
      "2022-08-19 17:32:01,448 [konfuzio_sdk.data   ] [MainThread] [ERROR   ] [bbox                ][0910] Span (3750, 3777) contains Chractacters that don't provide a Bounding Box.\n",
      "/home/sam-konf/Konfuzio/konfuzio-sdk/notebooks/../konfuzio_sdk/trainer/information_extraction.py:1005: UserWarning: Parsing '21.12.2017' in DD/MM/YYYY format. Provide format or specify infer_datetime_format=True for consistent parsing.\n",
      "  date2 = pandas.to_datetime(s, errors='ignore')\n",
      "/home/sam-konf/Konfuzio/konfuzio-sdk/notebooks/../konfuzio_sdk/trainer/information_extraction.py:1662: PerformanceWarning: DataFrame is highly fragmented.  This is usually the result of calling `frame.insert` many times, which has poor performance.  Consider joining all columns at once using pd.concat(axis=1) instead. To get a de-fragmented frame, use `newframe = frame.copy()`\n",
      "  df[\"relative_position_in_page\"] = df[\"page_index\"] / document_n_pages\n",
      "/home/sam-konf/Konfuzio/konfuzio-sdk/notebooks/../konfuzio_sdk/tokenizer/regex.py:74: FutureWarning: WIP: Modifications before the next stable release expected.\n",
      "  span.bbox()  # check that the bbox can be calculated  # todo add test\n",
      "/home/sam-konf/Konfuzio/konfuzio-sdk/notebooks/../konfuzio_sdk/data.py:908: FutureWarning: WIP: Modifications before the next stable release expected.\n",
      "  characters = {key: self.annotation.document.bboxes.get(key) for key in character_range}\n",
      "2022-08-19 17:32:01,647 [konfuzio_sdk.data   ] [MainThread] [ERROR   ] [bbox                ][0910] Span (1681, 1705) contains Chractacters that don't provide a Bounding Box.\n",
      "2022-08-19 17:32:01,648 [konfuzio_sdk.data   ] [MainThread] [ERROR   ] [bbox                ][0910] Span (1766, 1795) contains Chractacters that don't provide a Bounding Box.\n",
      "2022-08-19 17:32:01,660 [konfuzio_sdk.data   ] [MainThread] [ERROR   ] [bbox                ][0910] Span (3665, 3692) contains Chractacters that don't provide a Bounding Box.\n",
      "/home/sam-konf/Konfuzio/konfuzio-sdk/notebooks/../konfuzio_sdk/trainer/information_extraction.py:1005: UserWarning: Parsing '21.12.2017' in DD/MM/YYYY format. Provide format or specify infer_datetime_format=True for consistent parsing.\n",
      "  date2 = pandas.to_datetime(s, errors='ignore')\n",
      "/home/sam-konf/Konfuzio/konfuzio-sdk/notebooks/../konfuzio_sdk/trainer/information_extraction.py:1662: PerformanceWarning: DataFrame is highly fragmented.  This is usually the result of calling `frame.insert` many times, which has poor performance.  Consider joining all columns at once using pd.concat(axis=1) instead. To get a de-fragmented frame, use `newframe = frame.copy()`\n",
      "  df[\"relative_position_in_page\"] = df[\"page_index\"] / document_n_pages\n",
      "/home/sam-konf/Konfuzio/konfuzio-sdk/notebooks/../konfuzio_sdk/tokenizer/regex.py:74: FutureWarning: WIP: Modifications before the next stable release expected.\n",
      "  span.bbox()  # check that the bbox can be calculated  # todo add test\n",
      "/home/sam-konf/Konfuzio/konfuzio-sdk/notebooks/../konfuzio_sdk/data.py:908: FutureWarning: WIP: Modifications before the next stable release expected.\n",
      "  characters = {key: self.annotation.document.bboxes.get(key) for key in character_range}\n",
      "2022-08-19 17:32:01,967 [konfuzio_sdk.data   ] [MainThread] [ERROR   ] [bbox                ][0910] Span (1546, 1570) contains Chractacters that don't provide a Bounding Box.\n",
      "2022-08-19 17:32:01,968 [konfuzio_sdk.data   ] [MainThread] [ERROR   ] [bbox                ][0910] Span (1630, 1659) contains Chractacters that don't provide a Bounding Box.\n",
      "2022-08-19 17:32:01,979 [konfuzio_sdk.data   ] [MainThread] [ERROR   ] [bbox                ][0910] Span (3537, 3564) contains Chractacters that don't provide a Bounding Box.\n",
      "/home/sam-konf/Konfuzio/konfuzio-sdk/notebooks/../konfuzio_sdk/trainer/information_extraction.py:1005: UserWarning: Parsing '21.12.2017' in DD/MM/YYYY format. Provide format or specify infer_datetime_format=True for consistent parsing.\n",
      "  date2 = pandas.to_datetime(s, errors='ignore')\n"
     ]
    },
    {
     "name": "stderr",
     "output_type": "stream",
     "text": [
      "/home/sam-konf/Konfuzio/konfuzio-sdk/notebooks/../konfuzio_sdk/trainer/information_extraction.py:1662: PerformanceWarning: DataFrame is highly fragmented.  This is usually the result of calling `frame.insert` many times, which has poor performance.  Consider joining all columns at once using pd.concat(axis=1) instead. To get a de-fragmented frame, use `newframe = frame.copy()`\n",
      "  df[\"relative_position_in_page\"] = df[\"page_index\"] / document_n_pages\n",
      "/home/sam-konf/Konfuzio/konfuzio-sdk/notebooks/../konfuzio_sdk/tokenizer/regex.py:74: FutureWarning: WIP: Modifications before the next stable release expected.\n",
      "  span.bbox()  # check that the bbox can be calculated  # todo add test\n",
      "/home/sam-konf/Konfuzio/konfuzio-sdk/notebooks/../konfuzio_sdk/data.py:908: FutureWarning: WIP: Modifications before the next stable release expected.\n",
      "  characters = {key: self.annotation.document.bboxes.get(key) for key in character_range}\n",
      "2022-08-19 17:32:02,198 [konfuzio_sdk.data   ] [MainThread] [ERROR   ] [bbox                ][0910] Span (1475, 1499) contains Chractacters that don't provide a Bounding Box.\n",
      "2022-08-19 17:32:02,199 [konfuzio_sdk.data   ] [MainThread] [ERROR   ] [bbox                ][0910] Span (1560, 1589) contains Chractacters that don't provide a Bounding Box.\n",
      "2022-08-19 17:32:02,213 [konfuzio_sdk.data   ] [MainThread] [ERROR   ] [bbox                ][0910] Span (3646, 3673) contains Chractacters that don't provide a Bounding Box.\n",
      "/home/sam-konf/Konfuzio/konfuzio-sdk/notebooks/../konfuzio_sdk/trainer/information_extraction.py:1005: UserWarning: Parsing '21.12.2017' in DD/MM/YYYY format. Provide format or specify infer_datetime_format=True for consistent parsing.\n",
      "  date2 = pandas.to_datetime(s, errors='ignore')\n",
      "/home/sam-konf/Konfuzio/konfuzio-sdk/notebooks/../konfuzio_sdk/trainer/information_extraction.py:1662: PerformanceWarning: DataFrame is highly fragmented.  This is usually the result of calling `frame.insert` many times, which has poor performance.  Consider joining all columns at once using pd.concat(axis=1) instead. To get a de-fragmented frame, use `newframe = frame.copy()`\n",
      "  df[\"relative_position_in_page\"] = df[\"page_index\"] / document_n_pages\n",
      "/home/sam-konf/Konfuzio/konfuzio-sdk/notebooks/../konfuzio_sdk/tokenizer/regex.py:74: FutureWarning: WIP: Modifications before the next stable release expected.\n",
      "  span.bbox()  # check that the bbox can be calculated  # todo add test\n",
      "/home/sam-konf/Konfuzio/konfuzio-sdk/notebooks/../konfuzio_sdk/data.py:908: FutureWarning: WIP: Modifications before the next stable release expected.\n",
      "  characters = {key: self.annotation.document.bboxes.get(key) for key in character_range}\n",
      "2022-08-19 17:32:02,405 [konfuzio_sdk.data   ] [MainThread] [ERROR   ] [bbox                ][0910] Span (1589, 1613) contains Chractacters that don't provide a Bounding Box.\n",
      "2022-08-19 17:32:02,406 [konfuzio_sdk.data   ] [MainThread] [ERROR   ] [bbox                ][0910] Span (1674, 1703) contains Chractacters that don't provide a Bounding Box.\n",
      "2022-08-19 17:32:02,407 [konfuzio_sdk.data   ] [MainThread] [ERROR   ] [bbox                ][0910] Span (1837, 1854) contains Chractacters that don't provide a Bounding Box.\n",
      "2022-08-19 17:32:02,420 [konfuzio_sdk.data   ] [MainThread] [ERROR   ] [bbox                ][0910] Span (3500, 3520) contains Chractacters that don't provide a Bounding Box.\n",
      "/home/sam-konf/Konfuzio/konfuzio-sdk/notebooks/../konfuzio_sdk/trainer/information_extraction.py:1005: UserWarning: Parsing '21.12.2017' in DD/MM/YYYY format. Provide format or specify infer_datetime_format=True for consistent parsing.\n",
      "  date2 = pandas.to_datetime(s, errors='ignore')\n",
      "/home/sam-konf/Konfuzio/konfuzio-sdk/notebooks/../konfuzio_sdk/trainer/information_extraction.py:1662: PerformanceWarning: DataFrame is highly fragmented.  This is usually the result of calling `frame.insert` many times, which has poor performance.  Consider joining all columns at once using pd.concat(axis=1) instead. To get a de-fragmented frame, use `newframe = frame.copy()`\n",
      "  df[\"relative_position_in_page\"] = df[\"page_index\"] / document_n_pages\n",
      "/home/sam-konf/Konfuzio/konfuzio-sdk/notebooks/../konfuzio_sdk/tokenizer/regex.py:74: FutureWarning: WIP: Modifications before the next stable release expected.\n",
      "  span.bbox()  # check that the bbox can be calculated  # todo add test\n",
      "/home/sam-konf/Konfuzio/konfuzio-sdk/notebooks/../konfuzio_sdk/data.py:908: FutureWarning: WIP: Modifications before the next stable release expected.\n",
      "  characters = {key: self.annotation.document.bboxes.get(key) for key in character_range}\n",
      "2022-08-19 17:32:02,623 [konfuzio_sdk.data   ] [MainThread] [ERROR   ] [bbox                ][0910] Span (1513, 1537) contains Chractacters that don't provide a Bounding Box.\n",
      "2022-08-19 17:32:02,624 [konfuzio_sdk.data   ] [MainThread] [ERROR   ] [bbox                ][0910] Span (1598, 1627) contains Chractacters that don't provide a Bounding Box.\n",
      "2022-08-19 17:32:02,625 [konfuzio_sdk.data   ] [MainThread] [ERROR   ] [bbox                ][0910] Span (1759, 1776) contains Chractacters that don't provide a Bounding Box.\n",
      "2022-08-19 17:32:02,637 [konfuzio_sdk.data   ] [MainThread] [ERROR   ] [bbox                ][0910] Span (3514, 3534) contains Chractacters that don't provide a Bounding Box.\n",
      "2022-08-19 17:32:02,637 [konfuzio_sdk.data   ] [MainThread] [ERROR   ] [bbox                ][0910] Span (3627, 3654) contains Chractacters that don't provide a Bounding Box.\n",
      "/home/sam-konf/Konfuzio/konfuzio-sdk/notebooks/../konfuzio_sdk/trainer/information_extraction.py:1005: UserWarning: Parsing '21.12.2017' in DD/MM/YYYY format. Provide format or specify infer_datetime_format=True for consistent parsing.\n",
      "  date2 = pandas.to_datetime(s, errors='ignore')\n",
      "/home/sam-konf/Konfuzio/konfuzio-sdk/notebooks/../konfuzio_sdk/trainer/information_extraction.py:1662: PerformanceWarning: DataFrame is highly fragmented.  This is usually the result of calling `frame.insert` many times, which has poor performance.  Consider joining all columns at once using pd.concat(axis=1) instead. To get a de-fragmented frame, use `newframe = frame.copy()`\n",
      "  df[\"relative_position_in_page\"] = df[\"page_index\"] / document_n_pages\n",
      "/home/sam-konf/Konfuzio/konfuzio-sdk/notebooks/../konfuzio_sdk/tokenizer/regex.py:74: FutureWarning: WIP: Modifications before the next stable release expected.\n",
      "  span.bbox()  # check that the bbox can be calculated  # todo add test\n",
      "/home/sam-konf/Konfuzio/konfuzio-sdk/notebooks/../konfuzio_sdk/data.py:908: FutureWarning: WIP: Modifications before the next stable release expected.\n",
      "  characters = {key: self.annotation.document.bboxes.get(key) for key in character_range}\n",
      "2022-08-19 17:32:02,851 [konfuzio_sdk.data   ] [MainThread] [ERROR   ] [bbox                ][0910] Span (1463, 1487) contains Chractacters that don't provide a Bounding Box.\n",
      "2022-08-19 17:32:02,852 [konfuzio_sdk.data   ] [MainThread] [ERROR   ] [bbox                ][0910] Span (1548, 1577) contains Chractacters that don't provide a Bounding Box.\n",
      "2022-08-19 17:32:02,853 [konfuzio_sdk.data   ] [MainThread] [ERROR   ] [bbox                ][0910] Span (1795, 1812) contains Chractacters that don't provide a Bounding Box.\n",
      "2022-08-19 17:32:02,865 [konfuzio_sdk.data   ] [MainThread] [ERROR   ] [bbox                ][0910] Span (3566, 3593) contains Chractacters that don't provide a Bounding Box.\n",
      "/home/sam-konf/Konfuzio/konfuzio-sdk/notebooks/../konfuzio_sdk/trainer/information_extraction.py:1005: UserWarning: Parsing '21.12.2017' in DD/MM/YYYY format. Provide format or specify infer_datetime_format=True for consistent parsing.\n",
      "  date2 = pandas.to_datetime(s, errors='ignore')\n",
      "/home/sam-konf/Konfuzio/konfuzio-sdk/notebooks/../konfuzio_sdk/trainer/information_extraction.py:1662: PerformanceWarning: DataFrame is highly fragmented.  This is usually the result of calling `frame.insert` many times, which has poor performance.  Consider joining all columns at once using pd.concat(axis=1) instead. To get a de-fragmented frame, use `newframe = frame.copy()`\n",
      "  df[\"relative_position_in_page\"] = df[\"page_index\"] / document_n_pages\n",
      "/home/sam-konf/Konfuzio/konfuzio-sdk/notebooks/../konfuzio_sdk/tokenizer/regex.py:74: FutureWarning: WIP: Modifications before the next stable release expected.\n",
      "  span.bbox()  # check that the bbox can be calculated  # todo add test\n",
      "/home/sam-konf/Konfuzio/konfuzio-sdk/notebooks/../konfuzio_sdk/data.py:908: FutureWarning: WIP: Modifications before the next stable release expected.\n",
      "  characters = {key: self.annotation.document.bboxes.get(key) for key in character_range}\n",
      "2022-08-19 17:32:03,090 [konfuzio_sdk.data   ] [MainThread] [ERROR   ] [bbox                ][0910] Span (1550, 1574) contains Chractacters that don't provide a Bounding Box.\n"
     ]
    },
    {
     "name": "stderr",
     "output_type": "stream",
     "text": [
      "2022-08-19 17:32:03,091 [konfuzio_sdk.data   ] [MainThread] [ERROR   ] [bbox                ][0910] Span (1636, 1665) contains Chractacters that don't provide a Bounding Box.\n",
      "2022-08-19 17:32:03,102 [konfuzio_sdk.data   ] [MainThread] [ERROR   ] [bbox                ][0910] Span (3549, 3576) contains Chractacters that don't provide a Bounding Box.\n",
      "/home/sam-konf/Konfuzio/konfuzio-sdk/notebooks/../konfuzio_sdk/trainer/information_extraction.py:1005: UserWarning: Parsing '21.12.2017' in DD/MM/YYYY format. Provide format or specify infer_datetime_format=True for consistent parsing.\n",
      "  date2 = pandas.to_datetime(s, errors='ignore')\n",
      "/home/sam-konf/Konfuzio/konfuzio-sdk/notebooks/../konfuzio_sdk/trainer/information_extraction.py:1662: PerformanceWarning: DataFrame is highly fragmented.  This is usually the result of calling `frame.insert` many times, which has poor performance.  Consider joining all columns at once using pd.concat(axis=1) instead. To get a de-fragmented frame, use `newframe = frame.copy()`\n",
      "  df[\"relative_position_in_page\"] = df[\"page_index\"] / document_n_pages\n",
      "/home/sam-konf/Konfuzio/konfuzio-sdk/notebooks/../konfuzio_sdk/tokenizer/regex.py:74: FutureWarning: WIP: Modifications before the next stable release expected.\n",
      "  span.bbox()  # check that the bbox can be calculated  # todo add test\n",
      "/home/sam-konf/Konfuzio/konfuzio-sdk/notebooks/../konfuzio_sdk/data.py:908: FutureWarning: WIP: Modifications before the next stable release expected.\n",
      "  characters = {key: self.annotation.document.bboxes.get(key) for key in character_range}\n",
      "2022-08-19 17:32:03,316 [konfuzio_sdk.data   ] [MainThread] [ERROR   ] [bbox                ][0910] Span (1517, 1541) contains Chractacters that don't provide a Bounding Box.\n",
      "2022-08-19 17:32:03,317 [konfuzio_sdk.data   ] [MainThread] [ERROR   ] [bbox                ][0910] Span (1602, 1631) contains Chractacters that don't provide a Bounding Box.\n",
      "2022-08-19 17:32:03,329 [konfuzio_sdk.data   ] [MainThread] [ERROR   ] [bbox                ][0910] Span (3493, 3520) contains Chractacters that don't provide a Bounding Box.\n",
      "/home/sam-konf/Konfuzio/konfuzio-sdk/notebooks/../konfuzio_sdk/trainer/information_extraction.py:1005: UserWarning: Parsing '21.12.2017' in DD/MM/YYYY format. Provide format or specify infer_datetime_format=True for consistent parsing.\n",
      "  date2 = pandas.to_datetime(s, errors='ignore')\n",
      "/home/sam-konf/Konfuzio/konfuzio-sdk/notebooks/../konfuzio_sdk/trainer/information_extraction.py:1662: PerformanceWarning: DataFrame is highly fragmented.  This is usually the result of calling `frame.insert` many times, which has poor performance.  Consider joining all columns at once using pd.concat(axis=1) instead. To get a de-fragmented frame, use `newframe = frame.copy()`\n",
      "  df[\"relative_position_in_page\"] = df[\"page_index\"] / document_n_pages\n",
      "/home/sam-konf/Konfuzio/konfuzio-sdk/notebooks/../konfuzio_sdk/tokenizer/regex.py:74: FutureWarning: WIP: Modifications before the next stable release expected.\n",
      "  span.bbox()  # check that the bbox can be calculated  # todo add test\n",
      "/home/sam-konf/Konfuzio/konfuzio-sdk/notebooks/../konfuzio_sdk/data.py:908: FutureWarning: WIP: Modifications before the next stable release expected.\n",
      "  characters = {key: self.annotation.document.bboxes.get(key) for key in character_range}\n",
      "2022-08-19 17:32:03,546 [konfuzio_sdk.data   ] [MainThread] [ERROR   ] [bbox                ][0910] Span (1632, 1656) contains Chractacters that don't provide a Bounding Box.\n",
      "2022-08-19 17:32:03,547 [konfuzio_sdk.data   ] [MainThread] [ERROR   ] [bbox                ][0910] Span (1717, 1746) contains Chractacters that don't provide a Bounding Box.\n",
      "2022-08-19 17:32:03,558 [konfuzio_sdk.data   ] [MainThread] [ERROR   ] [bbox                ][0910] Span (3632, 3659) contains Chractacters that don't provide a Bounding Box.\n",
      "/home/sam-konf/Konfuzio/konfuzio-sdk/notebooks/../konfuzio_sdk/trainer/information_extraction.py:1005: UserWarning: Parsing '21.12.2017' in DD/MM/YYYY format. Provide format or specify infer_datetime_format=True for consistent parsing.\n",
      "  date2 = pandas.to_datetime(s, errors='ignore')\n",
      "/home/sam-konf/Konfuzio/konfuzio-sdk/notebooks/../konfuzio_sdk/trainer/information_extraction.py:1662: PerformanceWarning: DataFrame is highly fragmented.  This is usually the result of calling `frame.insert` many times, which has poor performance.  Consider joining all columns at once using pd.concat(axis=1) instead. To get a de-fragmented frame, use `newframe = frame.copy()`\n",
      "  df[\"relative_position_in_page\"] = df[\"page_index\"] / document_n_pages\n",
      "/home/sam-konf/Konfuzio/konfuzio-sdk/notebooks/../konfuzio_sdk/tokenizer/regex.py:74: FutureWarning: WIP: Modifications before the next stable release expected.\n",
      "  span.bbox()  # check that the bbox can be calculated  # todo add test\n",
      "/home/sam-konf/Konfuzio/konfuzio-sdk/notebooks/../konfuzio_sdk/data.py:908: FutureWarning: WIP: Modifications before the next stable release expected.\n",
      "  characters = {key: self.annotation.document.bboxes.get(key) for key in character_range}\n",
      "2022-08-19 17:32:03,777 [konfuzio_sdk.data   ] [MainThread] [ERROR   ] [bbox                ][0910] Span (1558, 1582) contains Chractacters that don't provide a Bounding Box.\n",
      "2022-08-19 17:32:03,778 [konfuzio_sdk.data   ] [MainThread] [ERROR   ] [bbox                ][0910] Span (1643, 1672) contains Chractacters that don't provide a Bounding Box.\n",
      "2022-08-19 17:32:03,790 [konfuzio_sdk.data   ] [MainThread] [ERROR   ] [bbox                ][0910] Span (3546, 3573) contains Chractacters that don't provide a Bounding Box.\n",
      "/home/sam-konf/Konfuzio/konfuzio-sdk/notebooks/../konfuzio_sdk/trainer/information_extraction.py:1005: UserWarning: Parsing '21.12.2017' in DD/MM/YYYY format. Provide format or specify infer_datetime_format=True for consistent parsing.\n",
      "  date2 = pandas.to_datetime(s, errors='ignore')\n",
      "/home/sam-konf/Konfuzio/konfuzio-sdk/notebooks/../konfuzio_sdk/trainer/information_extraction.py:1662: PerformanceWarning: DataFrame is highly fragmented.  This is usually the result of calling `frame.insert` many times, which has poor performance.  Consider joining all columns at once using pd.concat(axis=1) instead. To get a de-fragmented frame, use `newframe = frame.copy()`\n",
      "  df[\"relative_position_in_page\"] = df[\"page_index\"] / document_n_pages\n",
      "/home/sam-konf/Konfuzio/konfuzio-sdk/notebooks/../konfuzio_sdk/tokenizer/regex.py:74: FutureWarning: WIP: Modifications before the next stable release expected.\n",
      "  span.bbox()  # check that the bbox can be calculated  # todo add test\n",
      "/home/sam-konf/Konfuzio/konfuzio-sdk/notebooks/../konfuzio_sdk/data.py:908: FutureWarning: WIP: Modifications before the next stable release expected.\n",
      "  characters = {key: self.annotation.document.bboxes.get(key) for key in character_range}\n",
      "2022-08-19 17:32:03,984 [konfuzio_sdk.data   ] [MainThread] [ERROR   ] [bbox                ][0910] Span (1502, 1526) contains Chractacters that don't provide a Bounding Box.\n",
      "2022-08-19 17:32:03,985 [konfuzio_sdk.data   ] [MainThread] [ERROR   ] [bbox                ][0910] Span (1585, 1614) contains Chractacters that don't provide a Bounding Box.\n",
      "2022-08-19 17:32:03,999 [konfuzio_sdk.data   ] [MainThread] [ERROR   ] [bbox                ][0910] Span (3439, 3466) contains Chractacters that don't provide a Bounding Box.\n",
      "/home/sam-konf/Konfuzio/konfuzio-sdk/notebooks/../konfuzio_sdk/trainer/information_extraction.py:1005: UserWarning: Parsing '21.12.2017' in DD/MM/YYYY format. Provide format or specify infer_datetime_format=True for consistent parsing.\n",
      "  date2 = pandas.to_datetime(s, errors='ignore')\n",
      "/home/sam-konf/Konfuzio/konfuzio-sdk/notebooks/../konfuzio_sdk/trainer/information_extraction.py:1662: PerformanceWarning: DataFrame is highly fragmented.  This is usually the result of calling `frame.insert` many times, which has poor performance.  Consider joining all columns at once using pd.concat(axis=1) instead. To get a de-fragmented frame, use `newframe = frame.copy()`\n",
      "  df[\"relative_position_in_page\"] = df[\"page_index\"] / document_n_pages\n"
     ]
    }
   ],
   "source": [
    "# Extract features\n",
    "pipeline.df_train, pipeline.label_feature_list = pipeline.feature_function(documents=documents, retokenize=True)\n",
    "# pipeline.df_train, pipeline.label_feature_list, err = pipeline.features(documents=training_docs)\n",
    "\n",
    "#pipeline.df_test, pipeline.test_label_feature_list = pipeline.feature_function(documents=test_documents)\n"
   ]
  },
  {
   "cell_type": "code",
   "execution_count": null,
   "id": "0ff60a2f",
   "metadata": {},
   "outputs": [],
   "source": []
  },
  {
   "cell_type": "code",
   "execution_count": 72,
   "id": "7bfad348",
   "metadata": {},
   "outputs": [
    {
     "data": {
      "text/plain": [
       "(1274, 339)"
      ]
     },
     "execution_count": 72,
     "metadata": {},
     "output_type": "execute_result"
    }
   ],
   "source": [
    "pipeline.df_train.shape"
   ]
  },
  {
   "cell_type": "code",
   "execution_count": 73,
   "id": "59a97811",
   "metadata": {},
   "outputs": [],
   "source": [
    "# number of annotations to label accross all documents\n",
    "# print(sum([len(d.annotations(use_correct=True)) for d in test_documents]))\n",
    "# print(sum([len(d.spans(use_correct=True)) for d in test_documents]))"
   ]
  },
  {
   "cell_type": "markdown",
   "id": "364015e5",
   "metadata": {
    "variables": {
     " len(pipeline.label_feature_list) ": "270"
    }
   },
   "source": [
    "{{ len(pipeline.label_feature_list) }} is the number of features we use to classify each annotation"
   ]
  },
  {
   "cell_type": "code",
   "execution_count": 74,
   "id": "89a9b8d5",
   "metadata": {},
   "outputs": [],
   "source": [
    "# print(sum([len(d.annotations(use_correct=False)) for d in test_documents]))"
   ]
  },
  {
   "cell_type": "code",
   "execution_count": 75,
   "id": "b361e2f5",
   "metadata": {},
   "outputs": [],
   "source": [
    "# pipeline.df_test.shape"
   ]
  },
  {
   "cell_type": "code",
   "execution_count": 76,
   "id": "84e1e044",
   "metadata": {},
   "outputs": [
    {
     "data": {
      "text/plain": [
       "270"
      ]
     },
     "execution_count": 76,
     "metadata": {},
     "output_type": "execute_result"
    }
   ],
   "source": [
    "len(pipeline.label_feature_list)"
   ]
  },
  {
   "cell_type": "code",
   "execution_count": 77,
   "id": "7efc2c3f",
   "metadata": {},
   "outputs": [],
   "source": [
    "# pipeline.label_feature_list"
   ]
  },
  {
   "cell_type": "code",
   "execution_count": 78,
   "id": "90df529b",
   "metadata": {},
   "outputs": [],
   "source": [
    "# pipeline.feature_function(documents=documents)"
   ]
  },
  {
   "cell_type": "code",
   "execution_count": 79,
   "id": "cc94f619",
   "metadata": {},
   "outputs": [
    {
     "data": {
      "text/plain": [
       "RandomForestClassifier(class_weight='balanced', max_depth=100, random_state=420)"
      ]
     },
     "execution_count": 79,
     "metadata": {},
     "output_type": "execute_result"
    }
   ],
   "source": [
    "  # Start to train the Classifier.\n",
    "# logger.setLevel(logging.INFO)\n",
    "pipeline.fit()\n",
    "# logger.setLevel(logging.ERROR)"
   ]
  },
  {
   "cell_type": "markdown",
   "id": "30a50584",
   "metadata": {},
   "source": [
    "And now we can save the trained Annotation classifier:"
   ]
  },
  {
   "cell_type": "code",
   "execution_count": 80,
   "id": "e853c8cc",
   "metadata": {},
   "outputs": [],
   "source": [
    "pipeline_path = pipeline.save(output_dir='.')\n",
    "# pipeline_path"
   ]
  },
  {
   "cell_type": "code",
   "execution_count": 81,
   "id": "b53aaea5",
   "metadata": {},
   "outputs": [],
   "source": [
    "# logger.setLevel(logging.INFO)\n"
   ]
  },
  {
   "cell_type": "code",
   "execution_count": 82,
   "id": "6c06970a",
   "metadata": {},
   "outputs": [],
   "source": [
    "# pipeline.evaluate() # https://github.com/konfuzio-ai/konfuzio-sdk/pull/109 ?"
   ]
  },
  {
   "cell_type": "code",
   "execution_count": 83,
   "id": "8483882e",
   "metadata": {},
   "outputs": [
    {
     "name": "stderr",
     "output_type": "stream",
     "text": [
      "/home/sam-konf/Konfuzio/konfuzio-sdk/notebooks/../konfuzio_sdk/tokenizer/regex.py:74: FutureWarning: WIP: Modifications before the next stable release expected.\n",
      "  span.bbox()  # check that the bbox can be calculated  # todo add test\n",
      "/home/sam-konf/Konfuzio/konfuzio-sdk/notebooks/../konfuzio_sdk/data.py:908: FutureWarning: WIP: Modifications before the next stable release expected.\n",
      "  characters = {key: self.annotation.document.bboxes.get(key) for key in character_range}\n",
      "2022-08-19 17:32:23,592 [konfuzio_sdk.data   ] [MainThread] [ERROR   ] [bbox                ][0910] Span (1459, 1483) contains Chractacters that don't provide a Bounding Box.\n",
      "2022-08-19 17:32:23,593 [konfuzio_sdk.data   ] [MainThread] [ERROR   ] [bbox                ][0910] Span (1544, 1573) contains Chractacters that don't provide a Bounding Box.\n",
      "2022-08-19 17:32:23,594 [konfuzio_sdk.data   ] [MainThread] [ERROR   ] [bbox                ][0910] Span (1705, 1722) contains Chractacters that don't provide a Bounding Box.\n",
      "2022-08-19 17:32:23,605 [konfuzio_sdk.data   ] [MainThread] [ERROR   ] [bbox                ][0910] Span (3566, 3593) contains Chractacters that don't provide a Bounding Box.\n",
      "/home/sam-konf/Konfuzio/konfuzio-sdk/notebooks/../konfuzio_sdk/trainer/information_extraction.py:1005: UserWarning: Parsing '21.12.2017' in DD/MM/YYYY format. Provide format or specify infer_datetime_format=True for consistent parsing.\n",
      "  date2 = pandas.to_datetime(s, errors='ignore')\n",
      "/home/sam-konf/Konfuzio/konfuzio-sdk/notebooks/../konfuzio_sdk/trainer/information_extraction.py:1662: PerformanceWarning: DataFrame is highly fragmented.  This is usually the result of calling `frame.insert` many times, which has poor performance.  Consider joining all columns at once using pd.concat(axis=1) instead. To get a de-fragmented frame, use `newframe = frame.copy()`\n",
      "  df[\"relative_position_in_page\"] = df[\"page_index\"] / document_n_pages\n",
      "/home/sam-konf/Konfuzio/konfuzio-sdk/notebooks/../konfuzio_sdk/trainer/information_extraction.py:687: FutureWarning: The frame.append method is deprecated and will be removed from pandas in a future version. Use pandas.concat instead.\n",
      "  df = df.append(label_df, sort=True)\n",
      "/home/sam-konf/Konfuzio/konfuzio-sdk/notebooks/../konfuzio_sdk/trainer/information_extraction.py:687: FutureWarning: The frame.append method is deprecated and will be removed from pandas in a future version. Use pandas.concat instead.\n",
      "  df = df.append(label_df, sort=True)\n",
      "/home/sam-konf/Konfuzio/konfuzio-sdk/notebooks/../konfuzio_sdk/trainer/information_extraction.py:687: FutureWarning: The frame.append method is deprecated and will be removed from pandas in a future version. Use pandas.concat instead.\n",
      "  df = df.append(label_df, sort=True)\n",
      "/home/sam-konf/Konfuzio/konfuzio-sdk/notebooks/../konfuzio_sdk/trainer/information_extraction.py:687: FutureWarning: The frame.append method is deprecated and will be removed from pandas in a future version. Use pandas.concat instead.\n",
      "  df = df.append(label_df, sort=True)\n",
      "/home/sam-konf/Konfuzio/konfuzio-sdk/notebooks/../konfuzio_sdk/trainer/information_extraction.py:687: FutureWarning: The frame.append method is deprecated and will be removed from pandas in a future version. Use pandas.concat instead.\n",
      "  df = df.append(label_df, sort=True)\n",
      "/home/sam-konf/Konfuzio/konfuzio-sdk/notebooks/../konfuzio_sdk/trainer/information_extraction.py:687: FutureWarning: The frame.append method is deprecated and will be removed from pandas in a future version. Use pandas.concat instead.\n",
      "  df = df.append(label_df, sort=True)\n",
      "/home/sam-konf/Konfuzio/konfuzio-sdk/notebooks/../konfuzio_sdk/trainer/information_extraction.py:687: FutureWarning: The frame.append method is deprecated and will be removed from pandas in a future version. Use pandas.concat instead.\n",
      "  df = df.append(label_df, sort=True)\n",
      "/home/sam-konf/Konfuzio/konfuzio-sdk/notebooks/../konfuzio_sdk/trainer/information_extraction.py:687: FutureWarning: The frame.append method is deprecated and will be removed from pandas in a future version. Use pandas.concat instead.\n",
      "  df = df.append(label_df, sort=True)\n",
      "/home/sam-konf/Konfuzio/konfuzio-sdk/notebooks/../konfuzio_sdk/trainer/information_extraction.py:687: FutureWarning: The frame.append method is deprecated and will be removed from pandas in a future version. Use pandas.concat instead.\n",
      "  df = df.append(label_df, sort=True)\n",
      "/home/sam-konf/Konfuzio/konfuzio-sdk/notebooks/../konfuzio_sdk/trainer/information_extraction.py:687: FutureWarning: The frame.append method is deprecated and will be removed from pandas in a future version. Use pandas.concat instead.\n",
      "  df = df.append(label_df, sort=True)\n",
      "/home/sam-konf/Konfuzio/konfuzio-sdk/notebooks/../konfuzio_sdk/trainer/information_extraction.py:687: FutureWarning: The frame.append method is deprecated and will be removed from pandas in a future version. Use pandas.concat instead.\n",
      "  df = df.append(label_df, sort=True)\n",
      "/home/sam-konf/Konfuzio/konfuzio-sdk/notebooks/../konfuzio_sdk/trainer/information_extraction.py:687: FutureWarning: The frame.append method is deprecated and will be removed from pandas in a future version. Use pandas.concat instead.\n",
      "  df = df.append(label_df, sort=True)\n",
      "/home/sam-konf/Konfuzio/konfuzio-sdk/notebooks/../konfuzio_sdk/trainer/information_extraction.py:687: FutureWarning: The frame.append method is deprecated and will be removed from pandas in a future version. Use pandas.concat instead.\n",
      "  df = df.append(label_df, sort=True)\n",
      "/home/sam-konf/Konfuzio/konfuzio-sdk/notebooks/../konfuzio_sdk/trainer/information_extraction.py:687: FutureWarning: The frame.append method is deprecated and will be removed from pandas in a future version. Use pandas.concat instead.\n",
      "  df = df.append(label_df, sort=True)\n",
      "/home/sam-konf/Konfuzio/konfuzio-sdk/notebooks/../konfuzio_sdk/trainer/information_extraction.py:687: FutureWarning: The frame.append method is deprecated and will be removed from pandas in a future version. Use pandas.concat instead.\n",
      "  df = df.append(label_df, sort=True)\n",
      "/home/sam-konf/Konfuzio/konfuzio-sdk/notebooks/../konfuzio_sdk/trainer/information_extraction.py:687: FutureWarning: The frame.append method is deprecated and will be removed from pandas in a future version. Use pandas.concat instead.\n",
      "  df = df.append(label_df, sort=True)\n",
      "/home/sam-konf/Konfuzio/konfuzio-sdk/notebooks/../konfuzio_sdk/trainer/information_extraction.py:687: FutureWarning: The frame.append method is deprecated and will be removed from pandas in a future version. Use pandas.concat instead.\n",
      "  df = df.append(label_df, sort=True)\n",
      "/home/sam-konf/Konfuzio/konfuzio-sdk/notebooks/../konfuzio_sdk/tokenizer/regex.py:74: FutureWarning: WIP: Modifications before the next stable release expected.\n",
      "  span.bbox()  # check that the bbox can be calculated  # todo add test\n",
      "/home/sam-konf/Konfuzio/konfuzio-sdk/notebooks/../konfuzio_sdk/data.py:908: FutureWarning: WIP: Modifications before the next stable release expected.\n",
      "  characters = {key: self.annotation.document.bboxes.get(key) for key in character_range}\n",
      "2022-08-19 17:32:24,428 [konfuzio_sdk.data   ] [MainThread] [ERROR   ] [bbox                ][0910] Span (1464, 1488) contains Chractacters that don't provide a Bounding Box.\n",
      "2022-08-19 17:32:24,428 [konfuzio_sdk.data   ] [MainThread] [ERROR   ] [bbox                ][0910] Span (1548, 1577) contains Chractacters that don't provide a Bounding Box.\n",
      "2022-08-19 17:32:24,429 [konfuzio_sdk.data   ] [MainThread] [ERROR   ] [bbox                ][0910] Span (1711, 1732) contains Chractacters that don't provide a Bounding Box.\n",
      "2022-08-19 17:32:24,430 [konfuzio_sdk.data   ] [MainThread] [ERROR   ] [bbox                ][0910] Span (1793, 1824) contains Chractacters that don't provide a Bounding Box.\n",
      "2022-08-19 17:32:24,449 [konfuzio_sdk.data   ] [MainThread] [ERROR   ] [bbox                ][0910] Span (3692, 3719) contains Chractacters that don't provide a Bounding Box.\n",
      "/home/sam-konf/Konfuzio/konfuzio-sdk/notebooks/../konfuzio_sdk/trainer/information_extraction.py:1005: UserWarning: Parsing '21.12.2017' in DD/MM/YYYY format. Provide format or specify infer_datetime_format=True for consistent parsing.\n",
      "  date2 = pandas.to_datetime(s, errors='ignore')\n",
      "/home/sam-konf/Konfuzio/konfuzio-sdk/notebooks/../konfuzio_sdk/trainer/information_extraction.py:1662: PerformanceWarning: DataFrame is highly fragmented.  This is usually the result of calling `frame.insert` many times, which has poor performance.  Consider joining all columns at once using pd.concat(axis=1) instead. To get a de-fragmented frame, use `newframe = frame.copy()`\n",
      "  df[\"relative_position_in_page\"] = df[\"page_index\"] / document_n_pages\n"
     ]
    },
    {
     "name": "stderr",
     "output_type": "stream",
     "text": [
      "/home/sam-konf/Konfuzio/konfuzio-sdk/notebooks/../konfuzio_sdk/trainer/information_extraction.py:687: FutureWarning: The frame.append method is deprecated and will be removed from pandas in a future version. Use pandas.concat instead.\n",
      "  df = df.append(label_df, sort=True)\n",
      "/home/sam-konf/Konfuzio/konfuzio-sdk/notebooks/../konfuzio_sdk/trainer/information_extraction.py:687: FutureWarning: The frame.append method is deprecated and will be removed from pandas in a future version. Use pandas.concat instead.\n",
      "  df = df.append(label_df, sort=True)\n",
      "/home/sam-konf/Konfuzio/konfuzio-sdk/notebooks/../konfuzio_sdk/trainer/information_extraction.py:687: FutureWarning: The frame.append method is deprecated and will be removed from pandas in a future version. Use pandas.concat instead.\n",
      "  df = df.append(label_df, sort=True)\n",
      "/home/sam-konf/Konfuzio/konfuzio-sdk/notebooks/../konfuzio_sdk/trainer/information_extraction.py:687: FutureWarning: The frame.append method is deprecated and will be removed from pandas in a future version. Use pandas.concat instead.\n",
      "  df = df.append(label_df, sort=True)\n",
      "/home/sam-konf/Konfuzio/konfuzio-sdk/notebooks/../konfuzio_sdk/trainer/information_extraction.py:687: FutureWarning: The frame.append method is deprecated and will be removed from pandas in a future version. Use pandas.concat instead.\n",
      "  df = df.append(label_df, sort=True)\n",
      "/home/sam-konf/Konfuzio/konfuzio-sdk/notebooks/../konfuzio_sdk/trainer/information_extraction.py:687: FutureWarning: The frame.append method is deprecated and will be removed from pandas in a future version. Use pandas.concat instead.\n",
      "  df = df.append(label_df, sort=True)\n",
      "/home/sam-konf/Konfuzio/konfuzio-sdk/notebooks/../konfuzio_sdk/trainer/information_extraction.py:687: FutureWarning: The frame.append method is deprecated and will be removed from pandas in a future version. Use pandas.concat instead.\n",
      "  df = df.append(label_df, sort=True)\n",
      "/home/sam-konf/Konfuzio/konfuzio-sdk/notebooks/../konfuzio_sdk/trainer/information_extraction.py:687: FutureWarning: The frame.append method is deprecated and will be removed from pandas in a future version. Use pandas.concat instead.\n",
      "  df = df.append(label_df, sort=True)\n",
      "/home/sam-konf/Konfuzio/konfuzio-sdk/notebooks/../konfuzio_sdk/trainer/information_extraction.py:687: FutureWarning: The frame.append method is deprecated and will be removed from pandas in a future version. Use pandas.concat instead.\n",
      "  df = df.append(label_df, sort=True)\n",
      "/home/sam-konf/Konfuzio/konfuzio-sdk/notebooks/../konfuzio_sdk/trainer/information_extraction.py:687: FutureWarning: The frame.append method is deprecated and will be removed from pandas in a future version. Use pandas.concat instead.\n",
      "  df = df.append(label_df, sort=True)\n",
      "/home/sam-konf/Konfuzio/konfuzio-sdk/notebooks/../konfuzio_sdk/trainer/information_extraction.py:687: FutureWarning: The frame.append method is deprecated and will be removed from pandas in a future version. Use pandas.concat instead.\n",
      "  df = df.append(label_df, sort=True)\n",
      "/home/sam-konf/Konfuzio/konfuzio-sdk/notebooks/../konfuzio_sdk/trainer/information_extraction.py:687: FutureWarning: The frame.append method is deprecated and will be removed from pandas in a future version. Use pandas.concat instead.\n",
      "  df = df.append(label_df, sort=True)\n",
      "/home/sam-konf/Konfuzio/konfuzio-sdk/notebooks/../konfuzio_sdk/trainer/information_extraction.py:687: FutureWarning: The frame.append method is deprecated and will be removed from pandas in a future version. Use pandas.concat instead.\n",
      "  df = df.append(label_df, sort=True)\n",
      "/home/sam-konf/Konfuzio/konfuzio-sdk/notebooks/../konfuzio_sdk/trainer/information_extraction.py:687: FutureWarning: The frame.append method is deprecated and will be removed from pandas in a future version. Use pandas.concat instead.\n",
      "  df = df.append(label_df, sort=True)\n",
      "/home/sam-konf/Konfuzio/konfuzio-sdk/notebooks/../konfuzio_sdk/trainer/information_extraction.py:687: FutureWarning: The frame.append method is deprecated and will be removed from pandas in a future version. Use pandas.concat instead.\n",
      "  df = df.append(label_df, sort=True)\n",
      "/home/sam-konf/Konfuzio/konfuzio-sdk/notebooks/../konfuzio_sdk/trainer/information_extraction.py:687: FutureWarning: The frame.append method is deprecated and will be removed from pandas in a future version. Use pandas.concat instead.\n",
      "  df = df.append(label_df, sort=True)\n",
      "/home/sam-konf/Konfuzio/konfuzio-sdk/notebooks/../konfuzio_sdk/trainer/information_extraction.py:687: FutureWarning: The frame.append method is deprecated and will be removed from pandas in a future version. Use pandas.concat instead.\n",
      "  df = df.append(label_df, sort=True)\n",
      "/home/sam-konf/Konfuzio/konfuzio-sdk/notebooks/../konfuzio_sdk/tokenizer/regex.py:74: FutureWarning: WIP: Modifications before the next stable release expected.\n",
      "  span.bbox()  # check that the bbox can be calculated  # todo add test\n",
      "/home/sam-konf/Konfuzio/konfuzio-sdk/notebooks/../konfuzio_sdk/data.py:908: FutureWarning: WIP: Modifications before the next stable release expected.\n",
      "  characters = {key: self.annotation.document.bboxes.get(key) for key in character_range}\n",
      "2022-08-19 17:32:25,266 [konfuzio_sdk.data   ] [MainThread] [ERROR   ] [bbox                ][0910] Span (1474, 1498) contains Chractacters that don't provide a Bounding Box.\n",
      "2022-08-19 17:32:25,267 [konfuzio_sdk.data   ] [MainThread] [ERROR   ] [bbox                ][0910] Span (1559, 1588) contains Chractacters that don't provide a Bounding Box.\n",
      "2022-08-19 17:32:25,268 [konfuzio_sdk.data   ] [MainThread] [ERROR   ] [bbox                ][0910] Span (1722, 1743) contains Chractacters that don't provide a Bounding Box.\n",
      "2022-08-19 17:32:25,268 [konfuzio_sdk.data   ] [MainThread] [ERROR   ] [bbox                ][0910] Span (1803, 1834) contains Chractacters that don't provide a Bounding Box.\n",
      "2022-08-19 17:32:25,279 [konfuzio_sdk.data   ] [MainThread] [ERROR   ] [bbox                ][0910] Span (3707, 3734) contains Chractacters that don't provide a Bounding Box.\n",
      "/home/sam-konf/Konfuzio/konfuzio-sdk/notebooks/../konfuzio_sdk/trainer/information_extraction.py:1005: UserWarning: Parsing '21.12.2017' in DD/MM/YYYY format. Provide format or specify infer_datetime_format=True for consistent parsing.\n",
      "  date2 = pandas.to_datetime(s, errors='ignore')\n",
      "/home/sam-konf/Konfuzio/konfuzio-sdk/notebooks/../konfuzio_sdk/trainer/information_extraction.py:1662: PerformanceWarning: DataFrame is highly fragmented.  This is usually the result of calling `frame.insert` many times, which has poor performance.  Consider joining all columns at once using pd.concat(axis=1) instead. To get a de-fragmented frame, use `newframe = frame.copy()`\n",
      "  df[\"relative_position_in_page\"] = df[\"page_index\"] / document_n_pages\n",
      "/home/sam-konf/Konfuzio/konfuzio-sdk/notebooks/../konfuzio_sdk/trainer/information_extraction.py:687: FutureWarning: The frame.append method is deprecated and will be removed from pandas in a future version. Use pandas.concat instead.\n",
      "  df = df.append(label_df, sort=True)\n",
      "/home/sam-konf/Konfuzio/konfuzio-sdk/notebooks/../konfuzio_sdk/trainer/information_extraction.py:687: FutureWarning: The frame.append method is deprecated and will be removed from pandas in a future version. Use pandas.concat instead.\n",
      "  df = df.append(label_df, sort=True)\n",
      "/home/sam-konf/Konfuzio/konfuzio-sdk/notebooks/../konfuzio_sdk/trainer/information_extraction.py:687: FutureWarning: The frame.append method is deprecated and will be removed from pandas in a future version. Use pandas.concat instead.\n",
      "  df = df.append(label_df, sort=True)\n",
      "/home/sam-konf/Konfuzio/konfuzio-sdk/notebooks/../konfuzio_sdk/trainer/information_extraction.py:687: FutureWarning: The frame.append method is deprecated and will be removed from pandas in a future version. Use pandas.concat instead.\n",
      "  df = df.append(label_df, sort=True)\n",
      "/home/sam-konf/Konfuzio/konfuzio-sdk/notebooks/../konfuzio_sdk/trainer/information_extraction.py:687: FutureWarning: The frame.append method is deprecated and will be removed from pandas in a future version. Use pandas.concat instead.\n",
      "  df = df.append(label_df, sort=True)\n",
      "/home/sam-konf/Konfuzio/konfuzio-sdk/notebooks/../konfuzio_sdk/trainer/information_extraction.py:687: FutureWarning: The frame.append method is deprecated and will be removed from pandas in a future version. Use pandas.concat instead.\n",
      "  df = df.append(label_df, sort=True)\n",
      "/home/sam-konf/Konfuzio/konfuzio-sdk/notebooks/../konfuzio_sdk/trainer/information_extraction.py:687: FutureWarning: The frame.append method is deprecated and will be removed from pandas in a future version. Use pandas.concat instead.\n",
      "  df = df.append(label_df, sort=True)\n",
      "/home/sam-konf/Konfuzio/konfuzio-sdk/notebooks/../konfuzio_sdk/trainer/information_extraction.py:687: FutureWarning: The frame.append method is deprecated and will be removed from pandas in a future version. Use pandas.concat instead.\n",
      "  df = df.append(label_df, sort=True)\n",
      "/home/sam-konf/Konfuzio/konfuzio-sdk/notebooks/../konfuzio_sdk/trainer/information_extraction.py:687: FutureWarning: The frame.append method is deprecated and will be removed from pandas in a future version. Use pandas.concat instead.\n",
      "  df = df.append(label_df, sort=True)\n",
      "/home/sam-konf/Konfuzio/konfuzio-sdk/notebooks/../konfuzio_sdk/trainer/information_extraction.py:687: FutureWarning: The frame.append method is deprecated and will be removed from pandas in a future version. Use pandas.concat instead.\n",
      "  df = df.append(label_df, sort=True)\n",
      "/home/sam-konf/Konfuzio/konfuzio-sdk/notebooks/../konfuzio_sdk/trainer/information_extraction.py:687: FutureWarning: The frame.append method is deprecated and will be removed from pandas in a future version. Use pandas.concat instead.\n",
      "  df = df.append(label_df, sort=True)\n",
      "/home/sam-konf/Konfuzio/konfuzio-sdk/notebooks/../konfuzio_sdk/trainer/information_extraction.py:687: FutureWarning: The frame.append method is deprecated and will be removed from pandas in a future version. Use pandas.concat instead.\n",
      "  df = df.append(label_df, sort=True)\n",
      "/home/sam-konf/Konfuzio/konfuzio-sdk/notebooks/../konfuzio_sdk/trainer/information_extraction.py:687: FutureWarning: The frame.append method is deprecated and will be removed from pandas in a future version. Use pandas.concat instead.\n",
      "  df = df.append(label_df, sort=True)\n"
     ]
    },
    {
     "name": "stderr",
     "output_type": "stream",
     "text": [
      "/home/sam-konf/Konfuzio/konfuzio-sdk/notebooks/../konfuzio_sdk/trainer/information_extraction.py:687: FutureWarning: The frame.append method is deprecated and will be removed from pandas in a future version. Use pandas.concat instead.\n",
      "  df = df.append(label_df, sort=True)\n",
      "/home/sam-konf/Konfuzio/konfuzio-sdk/notebooks/../konfuzio_sdk/trainer/information_extraction.py:687: FutureWarning: The frame.append method is deprecated and will be removed from pandas in a future version. Use pandas.concat instead.\n",
      "  df = df.append(label_df, sort=True)\n",
      "/home/sam-konf/Konfuzio/konfuzio-sdk/notebooks/../konfuzio_sdk/trainer/information_extraction.py:687: FutureWarning: The frame.append method is deprecated and will be removed from pandas in a future version. Use pandas.concat instead.\n",
      "  df = df.append(label_df, sort=True)\n",
      "/home/sam-konf/Konfuzio/konfuzio-sdk/notebooks/../konfuzio_sdk/data.py:997: FutureWarning: WIP: Modifications before the next stable release expected.\n",
      "  if self.bbox():\n",
      "/home/sam-konf/Konfuzio/konfuzio-sdk/notebooks/../konfuzio_sdk/data.py:908: FutureWarning: WIP: Modifications before the next stable release expected.\n",
      "  characters = {key: self.annotation.document.bboxes.get(key) for key in character_range}\n",
      "2022-08-19 17:32:25,928 [konfuzio_sdk.data   ] [MainThread] [ERROR   ] [bbox                ][0910] Span (1459, 1483) contains Chractacters that don't provide a Bounding Box.\n",
      "2022-08-19 17:32:25,929 [konfuzio_sdk.data   ] [MainThread] [ERROR   ] [bbox                ][0910] Span (1544, 1573) contains Chractacters that don't provide a Bounding Box.\n",
      "2022-08-19 17:32:25,930 [konfuzio_sdk.data   ] [MainThread] [ERROR   ] [bbox                ][0910] Span (1705, 1722) contains Chractacters that don't provide a Bounding Box.\n",
      "2022-08-19 17:32:25,931 [konfuzio_sdk.data   ] [MainThread] [ERROR   ] [bbox                ][0910] Span (3452, 3477) contains Chractacters that don't provide a Bounding Box.\n",
      "2022-08-19 17:32:25,932 [konfuzio_sdk.data   ] [MainThread] [ERROR   ] [bbox                ][0910] Span (3566, 3593) contains Chractacters that don't provide a Bounding Box.\n",
      "/home/sam-konf/Konfuzio/konfuzio-sdk/notebooks/../konfuzio_sdk/data.py:997: FutureWarning: WIP: Modifications before the next stable release expected.\n",
      "  if self.bbox():\n",
      "/home/sam-konf/Konfuzio/konfuzio-sdk/notebooks/../konfuzio_sdk/data.py:908: FutureWarning: WIP: Modifications before the next stable release expected.\n",
      "  characters = {key: self.annotation.document.bboxes.get(key) for key in character_range}\n",
      "2022-08-19 17:32:26,081 [konfuzio_sdk.data   ] [MainThread] [ERROR   ] [bbox                ][0910] Span (1464, 1488) contains Chractacters that don't provide a Bounding Box.\n",
      "2022-08-19 17:32:26,082 [konfuzio_sdk.data   ] [MainThread] [ERROR   ] [bbox                ][0910] Span (1548, 1577) contains Chractacters that don't provide a Bounding Box.\n",
      "2022-08-19 17:32:26,083 [konfuzio_sdk.data   ] [MainThread] [ERROR   ] [bbox                ][0910] Span (1711, 1732) contains Chractacters that don't provide a Bounding Box.\n",
      "2022-08-19 17:32:26,084 [konfuzio_sdk.data   ] [MainThread] [ERROR   ] [bbox                ][0910] Span (1793, 1824) contains Chractacters that don't provide a Bounding Box.\n",
      "2022-08-19 17:32:26,086 [konfuzio_sdk.data   ] [MainThread] [ERROR   ] [bbox                ][0910] Span (3578, 3603) contains Chractacters that don't provide a Bounding Box.\n",
      "2022-08-19 17:32:26,086 [konfuzio_sdk.data   ] [MainThread] [ERROR   ] [bbox                ][0910] Span (3692, 3719) contains Chractacters that don't provide a Bounding Box.\n",
      "/home/sam-konf/Konfuzio/konfuzio-sdk/notebooks/../konfuzio_sdk/data.py:997: FutureWarning: WIP: Modifications before the next stable release expected.\n",
      "  if self.bbox():\n",
      "/home/sam-konf/Konfuzio/konfuzio-sdk/notebooks/../konfuzio_sdk/data.py:908: FutureWarning: WIP: Modifications before the next stable release expected.\n",
      "  characters = {key: self.annotation.document.bboxes.get(key) for key in character_range}\n",
      "2022-08-19 17:32:26,382 [konfuzio_sdk.data   ] [MainThread] [ERROR   ] [bbox                ][0910] Span (1474, 1498) contains Chractacters that don't provide a Bounding Box.\n",
      "2022-08-19 17:32:26,383 [konfuzio_sdk.data   ] [MainThread] [ERROR   ] [bbox                ][0910] Span (1559, 1588) contains Chractacters that don't provide a Bounding Box.\n",
      "2022-08-19 17:32:26,385 [konfuzio_sdk.data   ] [MainThread] [ERROR   ] [bbox                ][0910] Span (1722, 1743) contains Chractacters that don't provide a Bounding Box.\n",
      "2022-08-19 17:32:26,386 [konfuzio_sdk.data   ] [MainThread] [ERROR   ] [bbox                ][0910] Span (1803, 1834) contains Chractacters that don't provide a Bounding Box.\n",
      "2022-08-19 17:32:26,388 [konfuzio_sdk.data   ] [MainThread] [ERROR   ] [bbox                ][0910] Span (3593, 3618) contains Chractacters that don't provide a Bounding Box.\n",
      "2022-08-19 17:32:26,388 [konfuzio_sdk.data   ] [MainThread] [ERROR   ] [bbox                ][0910] Span (3707, 3734) contains Chractacters that don't provide a Bounding Box.\n"
     ]
    }
   ],
   "source": [
    "strict_evaluation = pipeline.evaluate_full(strict=True)"
   ]
  },
  {
   "cell_type": "code",
   "execution_count": 84,
   "id": "d8552473",
   "metadata": {},
   "outputs": [
    {
     "name": "stdout",
     "output_type": "stream",
     "text": [
      "f1 0.8773584905660378\n",
      "tp 93\n",
      "fp 14\n",
      "fn 12\n",
      "tn 50\n"
     ]
    }
   ],
   "source": [
    "print('f1', strict_evaluation.f1(None))\n",
    "print('tp', strict_evaluation.tp(None))\n",
    "print('fp', strict_evaluation.fp(None))\n",
    "print('fn', strict_evaluation.fn(None))\n",
    "print('tn', strict_evaluation.tn(None))"
   ]
  },
  {
   "cell_type": "code",
   "execution_count": 85,
   "id": "280bba67",
   "metadata": {},
   "outputs": [
    {
     "ename": "RuntimeError",
     "evalue": "No active exception to reraise",
     "output_type": "error",
     "traceback": [
      "\u001b[0;31m---------------------------------------------------------------------------\u001b[0m",
      "\u001b[0;31mRuntimeError\u001b[0m                              Traceback (most recent call last)",
      "Input \u001b[0;32mIn [85]\u001b[0m, in \u001b[0;36m<cell line: 1>\u001b[0;34m()\u001b[0m\n\u001b[0;32m----> 1\u001b[0m \u001b[38;5;28;01mraise\u001b[39;00m\n",
      "\u001b[0;31mRuntimeError\u001b[0m: No active exception to reraise"
     ]
    }
   ],
   "source": [
    "raise"
   ]
  },
  {
   "cell_type": "code",
   "execution_count": 86,
   "id": "f8fdb1f6",
   "metadata": {},
   "outputs": [
    {
     "data": {
      "text/plain": [
       "[Document Auswertungspaket - unterschiedliche B_N-Auswertungen.pdf_18.pdf (44865),\n",
       " Document Auswertungspaket - unterschiedliche B_N-Auswertungen.pdf_17.pdf (44866),\n",
       " Document Auswertungspaket - unterschiedliche B_N-Auswertungen.pdf_19.pdf (44867)]"
      ]
     },
     "execution_count": 86,
     "metadata": {},
     "output_type": "execute_result"
    }
   ],
   "source": [
    "pipeline.test_documents"
   ]
  },
  {
   "cell_type": "code",
   "execution_count": 90,
   "id": "e73dccbf",
   "metadata": {},
   "outputs": [],
   "source": [
    "# app_doc44865_eval = self.project.get_document_by_id(314250)\n",
    "# app_doc44866_eval = self.project.get_document_by_id(314074)\n",
    "# app_doc44867_eval = self.project.get_document_by_id(314249)\n",
    "# app_docs_eval = [app_doc44865_eval, app_doc44866_eval, app_doc44867_eval]\n",
    "app_doc44865 = project.get_document_by_id(318035)\n",
    "app_doc44866 = project.get_document_by_id(318036)\n",
    "app_doc44867 = project.get_document_by_id(318037)\n",
    "app_docs = [app_doc44865, app_doc44866, app_doc44867]\n",
    "\n"
   ]
  },
  {
   "cell_type": "code",
   "execution_count": 95,
   "id": "49673df8",
   "metadata": {},
   "outputs": [],
   "source": [
    "from konfuzio_sdk.evaluate import Evaluation\n",
    "eval_list = []\n",
    "for i, document in enumerate(pipeline.test_documents):\n",
    "    assert document.text == app_docs[i].text\n",
    "    eval_list.append((document, app_docs[i]))\n",
    "\n",
    "evaluation = Evaluation(eval_list, strict=True)\n",
    "#     # F1 0.8725868725868726\n",
    "#     # TP 113\n",
    "#     # FP 33\n",
    "#     # FN 0\n",
    "# assert evaluation.f1(None) == 1.0"
   ]
  },
  {
   "cell_type": "code",
   "execution_count": 98,
   "id": "1dec2a70",
   "metadata": {},
   "outputs": [
    {
     "name": "stdout",
     "output_type": "stream",
     "text": [
      "f1 0.9279279279279279\n",
      "tp 103\n",
      "fp 16\n",
      "fn 0\n",
      "tn 0\n"
     ]
    }
   ],
   "source": [
    "print('f1', evaluation.f1(None))\n",
    "print('tp', evaluation.tp(None))\n",
    "print('fp', evaluation.fp(None))\n",
    "print('fn', evaluation.fn(None))\n",
    "print('tn', evaluation.tn(None))\n"
   ]
  },
  {
   "cell_type": "code",
   "execution_count": null,
   "id": "dada6e06",
   "metadata": {},
   "outputs": [],
   "source": [
    "strict_evaluation.data[['id_local']]"
   ]
  },
  {
   "cell_type": "code",
   "execution_count": null,
   "id": "6e9eab5d",
   "metadata": {},
   "outputs": [],
   "source": [
    "strict_evaluation.tokenizer()"
   ]
  },
  {
   "cell_type": "code",
   "execution_count": null,
   "id": "863bccff",
   "metadata": {
    "scrolled": false
   },
   "outputs": [],
   "source": [
    "non_strict_evaluation = pipeline.evaluate_full(strict=False)"
   ]
  },
  {
   "cell_type": "code",
   "execution_count": null,
   "id": "80174125",
   "metadata": {},
   "outputs": [],
   "source": [
    "print('f1', non_strict_evaluation.f1(None))\n",
    "print('tp', non_strict_evaluation.tp(None))\n",
    "print('fp', non_strict_evaluation.fp(None))\n",
    "print('fn', non_strict_evaluation.fn(None))\n",
    "print('tn', non_strict_evaluation.tn(None))"
   ]
  },
  {
   "cell_type": "code",
   "execution_count": null,
   "id": "a1adedcf",
   "metadata": {},
   "outputs": [],
   "source": [
    "import pandas\n",
    "# inference_document = pipeline.test_documents[0].__deepcopy__(None)\n",
    "inference_document = project.get_document_by_id(44855).__deepcopy__(None)\n",
    "# 2. tokenize\n",
    "pipeline.tokenizer.tokenize(inference_document)\n",
    "if not inference_document.spans():\n",
    "    logger.error(f'{pipeline.tokenizer} does not provide Spans for {document}')\n",
    "    raise NotImplementedError('No error handling when Spans are missing.')\n",
    "# 3. preprocessing\n",
    "df, _feature_names, _raw_errors = pipeline.features(inference_document)\n",
    "independet_variables = df[pipeline.label_feature_list]\n",
    "\n",
    "results = pandas.DataFrame(data=pipeline.clf.predict_proba(X=independet_variables), columns=pipeline.clf.classes_)\n"
   ]
  },
  {
   "cell_type": "code",
   "execution_count": null,
   "id": "c064aeaa",
   "metadata": {},
   "outputs": [],
   "source": [
    "results.columns\n"
   ]
  },
  {
   "cell_type": "code",
   "execution_count": null,
   "id": "82350658",
   "metadata": {},
   "outputs": [],
   "source": [
    "# results.columns\n",
    "df['label_text'] = results.idxmax(axis=1)\n",
    "df['Accuracy'] = results.max(axis=1)"
   ]
  },
  {
   "cell_type": "code",
   "execution_count": null,
   "id": "27d1bf3d",
   "metadata": {},
   "outputs": [],
   "source": [
    "doc_44855 = project.get_document_by_id(44855) #.__deepcopy__(None)"
   ]
  },
  {
   "cell_type": "code",
   "execution_count": null,
   "id": "290f3390",
   "metadata": {},
   "outputs": [],
   "source": [
    "doc_44855.file_path"
   ]
  },
  {
   "cell_type": "code",
   "execution_count": null,
   "id": "87db6f8c",
   "metadata": {},
   "outputs": [],
   "source": [
    "for ann in doc_44855.annotations(use_correct=True):\n",
    "    print(ann.label, ann.offset_string)"
   ]
  },
  {
   "cell_type": "code",
   "execution_count": null,
   "id": "1704d67f",
   "metadata": {},
   "outputs": [],
   "source": [
    "# flabels = [x for x in df['label_text'] if x != 'NO_LABEL']\n",
    "# print(len(flabels))\n"
   ]
  },
  {
   "cell_type": "code",
   "execution_count": null,
   "id": "2ee9c192",
   "metadata": {},
   "outputs": [],
   "source": [
    "pandas.set_option('display.max_rows', None)\n"
   ]
  },
  {
   "cell_type": "code",
   "execution_count": null,
   "id": "e5c3d057",
   "metadata": {},
   "outputs": [],
   "source": [
    "print(df[['label_text', 'offset_string', 'Accuracy']])\n"
   ]
  },
  {
   "cell_type": "code",
   "execution_count": null,
   "id": "c477c8d0",
   "metadata": {},
   "outputs": [],
   "source": []
  },
  {
   "cell_type": "code",
   "execution_count": null,
   "id": "c79101bc",
   "metadata": {},
   "outputs": [],
   "source": [
    "results['Betrag']"
   ]
  },
  {
   "cell_type": "code",
   "execution_count": null,
   "id": "f4bc5d54",
   "metadata": {},
   "outputs": [],
   "source": [
    "# doc = project.get_document_by_id(44855)"
   ]
  },
  {
   "cell_type": "code",
   "execution_count": null,
   "id": "b0761440",
   "metadata": {},
   "outputs": [],
   "source": [
    "project.get_document_by_id(44855).pages()[0].get_image()"
   ]
  },
  {
   "cell_type": "code",
   "execution_count": null,
   "id": "92f1659e",
   "metadata": {},
   "outputs": [],
   "source": []
  },
  {
   "cell_type": "code",
   "execution_count": null,
   "id": "0d3b2627",
   "metadata": {},
   "outputs": [],
   "source": []
  },
  {
   "cell_type": "code",
   "execution_count": null,
   "id": "038b9cad",
   "metadata": {},
   "outputs": [],
   "source": []
  },
  {
   "cell_type": "code",
   "execution_count": null,
   "id": "82d6123a",
   "metadata": {},
   "outputs": [],
   "source": []
  },
  {
   "cell_type": "code",
   "execution_count": null,
   "id": "2c01ff82",
   "metadata": {},
   "outputs": [],
   "source": [
    "non_strict_evaluation.data"
   ]
  },
  {
   "cell_type": "code",
   "execution_count": null,
   "id": "556c2a27",
   "metadata": {},
   "outputs": [],
   "source": [
    "from konfuzio_sdk.trainer.information_extraction import extraction_result_to_document\n",
    "import pandas"
   ]
  },
  {
   "cell_type": "code",
   "execution_count": null,
   "id": "e14058e0",
   "metadata": {},
   "outputs": [],
   "source": [
    "####\n",
    "test_doc = pipeline.test_documents[0]\n",
    "extraction_result = pipeline.extract(document=test_doc)\n",
    "predicted_doc = extraction_result_to_document(test_doc, extraction_result)"
   ]
  },
  {
   "cell_type": "code",
   "execution_count": null,
   "id": "4d7022b8",
   "metadata": {},
   "outputs": [],
   "source": [
    "df_a = pandas.DataFrame(test_doc.eval_dict(use_correct=False))\n",
    "df_b = pandas.DataFrame(predicted_doc.eval_dict(use_correct=False))"
   ]
  },
  {
   "cell_type": "code",
   "execution_count": null,
   "id": "78d82434",
   "metadata": {},
   "outputs": [],
   "source": [
    "df_a.columns"
   ]
  },
  {
   "cell_type": "code",
   "execution_count": null,
   "id": "4c34de78",
   "metadata": {},
   "outputs": [],
   "source": [
    "df_b[['label_set_id', 'label_id']]\n"
   ]
  },
  {
   "cell_type": "code",
   "execution_count": null,
   "id": "dd12c7e2",
   "metadata": {},
   "outputs": [],
   "source": []
  },
  {
   "cell_type": "code",
   "execution_count": null,
   "id": "4581d13f",
   "metadata": {},
   "outputs": [],
   "source": [
    "# for doc in pipeline.test_documents:\n",
    "#     pipeline.tokenizer.tokenize(doc)"
   ]
  },
  {
   "cell_type": "code",
   "execution_count": null,
   "id": "dfc6918c",
   "metadata": {},
   "outputs": [],
   "source": [
    "# pipeline.df_tests = \n",
    "print(sum([len(doc.annotations(use_correct=False)) for doc in pipeline.test_documents]))\n",
    "print(sum([len(doc.view_annotations()) for doc in pipeline.test_documents]))"
   ]
  },
  {
   "cell_type": "code",
   "execution_count": null,
   "id": "608a1cb1",
   "metadata": {},
   "outputs": [],
   "source": [
    "# for doc in pipeline.test_documents:\n",
    "# print(sum([len(doc.view_annotations()) for doc in pipeline.test_documents]))"
   ]
  },
  {
   "cell_type": "code",
   "execution_count": null,
   "id": "084d86bb",
   "metadata": {},
   "outputs": [],
   "source": [
    "doc.annotation_sets()[0]"
   ]
  },
  {
   "cell_type": "code",
   "execution_count": null,
   "id": "7b92c727",
   "metadata": {},
   "outputs": [],
   "source": [
    "extraction_result.keys()"
   ]
  },
  {
   "cell_type": "code",
   "execution_count": null,
   "id": "03e6cdfb",
   "metadata": {},
   "outputs": [],
   "source": [
    "extraction_result['Brutto-Bezug']"
   ]
  },
  {
   "cell_type": "code",
   "execution_count": null,
   "id": "ff77e46c",
   "metadata": {},
   "outputs": [],
   "source": [
    "pipeline.test_documents\n",
    "pipeline.test_documents[0].annotations(use_correct=False)"
   ]
  },
  {
   "cell_type": "code",
   "execution_count": null,
   "id": "fdaed3b7",
   "metadata": {},
   "outputs": [],
   "source": [
    "test_doc = test_documents[0]"
   ]
  },
  {
   "cell_type": "code",
   "execution_count": null,
   "id": "008794c2",
   "metadata": {},
   "outputs": [],
   "source": [
    "len(test_doc.annotations(use_correct=False))"
   ]
  },
  {
   "cell_type": "code",
   "execution_count": null,
   "id": "22b4a6f5",
   "metadata": {},
   "outputs": [],
   "source": [
    "pipeline.tokenizer.tokenize(test_doc)"
   ]
  },
  {
   "cell_type": "code",
   "execution_count": null,
   "id": "87c56836",
   "metadata": {},
   "outputs": [],
   "source": [
    "len(test_doc.annotations(use_correct=False))"
   ]
  },
  {
   "cell_type": "code",
   "execution_count": null,
   "id": "f11541ab",
   "metadata": {},
   "outputs": [],
   "source": [
    "result = pipeline.extract(test_doc)"
   ]
  },
  {
   "cell_type": "code",
   "execution_count": null,
   "id": "6821aaac",
   "metadata": {},
   "outputs": [],
   "source": [
    "result.keys()"
   ]
  },
  {
   "cell_type": "code",
   "execution_count": null,
   "id": "18b61c9a",
   "metadata": {},
   "outputs": [],
   "source": [
    "result['NO_LABEL_SET']"
   ]
  },
  {
   "cell_type": "code",
   "execution_count": null,
   "id": "23284fdd",
   "metadata": {},
   "outputs": [],
   "source": [
    "# result['']"
   ]
  },
  {
   "cell_type": "code",
   "execution_count": null,
   "id": "7537a574",
   "metadata": {},
   "outputs": [],
   "source": [
    "#result['Steuer']\n",
    "# pipeline_path\n",
    "category"
   ]
  },
  {
   "cell_type": "code",
   "execution_count": null,
   "id": "7838d762",
   "metadata": {},
   "outputs": [],
   "source": [
    "# upload_ai_model(ai_model_path=pipeline_path)\n"
   ]
  },
  {
   "cell_type": "code",
   "execution_count": null,
   "id": "986c2c1f",
   "metadata": {},
   "outputs": [],
   "source": [
    "####"
   ]
  },
  {
   "cell_type": "code",
   "execution_count": null,
   "id": "45fc9774",
   "metadata": {},
   "outputs": [],
   "source": [
    "from konfuzio_sdk.regex import regex_matches\n",
    "import regex as re"
   ]
  },
  {
   "cell_type": "code",
   "execution_count": null,
   "id": "22396004",
   "metadata": {},
   "outputs": [],
   "source": [
    "pipeline.tokenizer.tokenizers[0]"
   ]
  },
  {
   "cell_type": "code",
   "execution_count": null,
   "id": "22fbc0a7",
   "metadata": {},
   "outputs": [],
   "source": [
    "reg = pipeline.tokenizer.tokenizers[10].regex\n",
    "doc = project.get_document_by_id(44855)\n",
    "text = doc.text\n"
   ]
  },
  {
   "cell_type": "code",
   "execution_count": null,
   "id": "8855c376",
   "metadata": {},
   "outputs": [],
   "source": [
    "pattern = re.compile(reg, flags=0)"
   ]
  },
  {
   "cell_type": "code",
   "execution_count": null,
   "id": "923decbf",
   "metadata": {},
   "outputs": [],
   "source": [
    "pattern"
   ]
  },
  {
   "cell_type": "code",
   "execution_count": null,
   "id": "72f13853",
   "metadata": {},
   "outputs": [],
   "source": [
    "pats = pattern.finditer(text, overlapped=False)"
   ]
  },
  {
   "cell_type": "code",
   "execution_count": null,
   "id": "10def914",
   "metadata": {},
   "outputs": [],
   "source": [
    "pats = list(pats)\n",
    "print(pats)"
   ]
  },
  {
   "cell_type": "code",
   "execution_count": null,
   "id": "59222da5",
   "metadata": {},
   "outputs": [],
   "source": [
    "pat = pats[0]"
   ]
  },
  {
   "cell_type": "code",
   "execution_count": null,
   "id": "f50e81e7",
   "metadata": {},
   "outputs": [],
   "source": [
    "pat.groups()"
   ]
  },
  {
   "cell_type": "code",
   "execution_count": null,
   "id": "a62c326b",
   "metadata": {},
   "outputs": [],
   "source": [
    "list(pat.re.groupindex.items())"
   ]
  },
  {
   "cell_type": "code",
   "execution_count": null,
   "id": "eb830f8c",
   "metadata": {},
   "outputs": [],
   "source": [
    "pat[1]"
   ]
  },
  {
   "cell_type": "code",
   "execution_count": null,
   "id": "ff69aae0",
   "metadata": {},
   "outputs": [],
   "source": [
    "pat.regs[1][1]"
   ]
  },
  {
   "cell_type": "code",
   "execution_count": null,
   "id": "b2a43cb4",
   "metadata": {},
   "outputs": [],
   "source": []
  },
  {
   "cell_type": "code",
   "execution_count": null,
   "id": "7cb9c694",
   "metadata": {},
   "outputs": [],
   "source": []
  },
  {
   "cell_type": "code",
   "execution_count": null,
   "id": "9d4aade2",
   "metadata": {},
   "outputs": [],
   "source": []
  }
 ],
 "metadata": {
  "kernelspec": {
   "display_name": "Python [conda env:konfuzio]",
   "language": "python",
   "name": "conda-env-konfuzio-py"
  },
  "language_info": {
   "codemirror_mode": {
    "name": "ipython",
    "version": 3
   },
   "file_extension": ".py",
   "mimetype": "text/x-python",
   "name": "python",
   "nbconvert_exporter": "python",
   "pygments_lexer": "ipython3",
   "version": "3.8.0"
  }
 },
 "nbformat": 4,
 "nbformat_minor": 5
}
