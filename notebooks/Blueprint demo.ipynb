{
 "cells": [
  {
   "cell_type": "markdown",
   "id": "300c805d",
   "metadata": {},
   "source": [
    "# Demo"
   ]
  },
  {
   "cell_type": "markdown",
   "id": "9f92e353",
   "metadata": {},
   "source": [
    "In this notebook we will see how to use the Konfuzio SDK to to train a model to find and extract relevant information from payslip documents. "
   ]
  },
  {
   "cell_type": "markdown",
   "id": "2d3e2ae0",
   "metadata": {},
   "source": [
    "## Setting things up"
   ]
  },
  {
   "cell_type": "markdown",
   "id": "0328f306",
   "metadata": {},
   "source": [
    "First, we need to install and initialize the konfuzio_sdk package. See [here](https://github.com/konfuzio-ai/konfuzio-sdk) for more info."
   ]
  },
  {
   "cell_type": "code",
   "execution_count": 1,
   "id": "7dc53857",
   "metadata": {},
   "outputs": [],
   "source": [
    "# !pip install konfuzio-sdk"
   ]
  },
  {
   "cell_type": "code",
   "execution_count": null,
   "id": "baf79723",
   "metadata": {},
   "outputs": [],
   "source": []
  },
  {
   "cell_type": "code",
   "execution_count": 2,
   "id": "69490a64",
   "metadata": {},
   "outputs": [],
   "source": [
    "# !konfuzio_sdk init"
   ]
  },
  {
   "cell_type": "code",
   "execution_count": null,
   "id": "e1eda3ff",
   "metadata": {},
   "outputs": [],
   "source": []
  },
  {
   "cell_type": "code",
   "execution_count": 3,
   "id": "17589f76",
   "metadata": {},
   "outputs": [
    {
     "name": "stderr",
     "output_type": "stream",
     "text": [
      "/tmp/ipykernel_2585201/228690431.py:13: FutureWarning: This module is WIP: https://gitlab.com/konfuzio/objectives/-/issues/9311\n",
      "  from konfuzio_sdk.trainer.information_extraction import (DocumentAnnotationMultiClassModel,\n"
     ]
    }
   ],
   "source": [
    "import os\n",
    "import sys\n",
    "sys.path.insert(1, os.path.join(sys.path[0], '..')) # for tests import\n",
    "\n",
    "from copy import deepcopy\n",
    "\n",
    "import logging\n",
    "logger = logging.getLogger()\n",
    "\n",
    "import konfuzio_sdk\n",
    "from konfuzio_sdk.data import Project\n",
    "\n",
    "from konfuzio_sdk.trainer.information_extraction import (DocumentAnnotationMultiClassModel, \n",
    "                                                         SeparateLabelsAnnotationMultiClassModel,\n",
    "                                                         DocumentEntityMulticlassModel,\n",
    "                                                         SeparateLabelsEntityMultiClassModel)\n",
    "\n",
    "from konfuzio_sdk.tokenizer.regex import RegexTokenizer, WhitespaceTokenizer\n",
    "from konfuzio_sdk.tokenizer.base import ListTokenizer\n",
    "from konfuzio_sdk.api import upload_ai_model\n",
    "\n",
    "from konfuzio_sdk.evaluate import compare\n",
    "\n",
    "from tests.variables import OFFLINE_PROJECT, TEST_DOCUMENT_ID"
   ]
  },
  {
   "cell_type": "code",
   "execution_count": 4,
   "id": "4d7064a1",
   "metadata": {},
   "outputs": [
    {
     "data": {
      "text/plain": [
       "'https://app.konfuzio.com'"
      ]
     },
     "execution_count": 4,
     "metadata": {},
     "output_type": "execute_result"
    }
   ],
   "source": [
    "from konfuzio_sdk import KONFUZIO_HOST\n",
    "KONFUZIO_HOST"
   ]
  },
  {
   "cell_type": "code",
   "execution_count": null,
   "id": "0d3e30e3",
   "metadata": {},
   "outputs": [],
   "source": []
  },
  {
   "cell_type": "code",
   "execution_count": 5,
   "id": "635d3693",
   "metadata": {},
   "outputs": [],
   "source": [
    "# os.system('pwd')"
   ]
  },
  {
   "cell_type": "markdown",
   "id": "9cc2176a",
   "metadata": {},
   "source": [
    "Now we can load the Konfuzio project. Here we use a simple offline project included in the Konfuzio SDK.\n"
   ]
  },
  {
   "cell_type": "code",
   "execution_count": 59,
   "id": "dfb713d3",
   "metadata": {},
   "outputs": [],
   "source": [
    "# project = Project(id_=109, project_folder=OFFLINE_PROJECT)\n",
    "# project = Project(id_=None, project_folder=OFFLINE_PROJECT)\n",
    "project = Project(id_=46, update=True)\n",
    "\n",
    "# project = Project(id_=None, project_folder='text_annotation_training_tests') #OFFLINE_PROJECT)"
   ]
  },
  {
   "cell_type": "code",
   "execution_count": 7,
   "id": "0f9426db",
   "metadata": {},
   "outputs": [],
   "source": [
    "# from konfuzio_sdk.trainer.information_extraction import extraction_result_to_document"
   ]
  },
  {
   "cell_type": "code",
   "execution_count": 8,
   "id": "2d2fd24e",
   "metadata": {},
   "outputs": [],
   "source": [
    "# result = extraction_result_to_document(doc2, result)"
   ]
  },
  {
   "cell_type": "markdown",
   "id": "64036925",
   "metadata": {},
   "source": [
    "Each project has one or more categories which will tell us how to deal with the documents belonging to that category. "
   ]
  },
  {
   "cell_type": "code",
   "execution_count": 9,
   "id": "7ae7a558",
   "metadata": {},
   "outputs": [],
   "source": [
    "# project.categories"
   ]
  },
  {
   "cell_type": "markdown",
   "id": "bd24610f",
   "metadata": {},
   "source": [
    "Here we initilialize the training pipeline:"
   ]
  },
  {
   "cell_type": "code",
   "execution_count": 10,
   "id": "67f95481",
   "metadata": {},
   "outputs": [],
   "source": [
    "category = project.categories[0]\n",
    "\n",
    "# pipeline = SeparateLabelsAnnotationMultiClassModel() # DocumentAnnotationMultiClassModel\n",
    "pipeline = DocumentEntityMulticlassModel()\n",
    "# pipeline = SeparateLabelsEntityMultiClassModel()\n",
    "# pipeline = DocumentAnnotationMultiClassModel()\n",
    "pipeline.category = category\n",
    "# pipeline.documents = pipeline.category.documents()[:5] # Why?\n",
    "pipeline.test_documents = pipeline.category.test_documents()"
   ]
  },
  {
   "cell_type": "code",
   "execution_count": 11,
   "id": "25ee6de6",
   "metadata": {},
   "outputs": [
    {
     "data": {
      "text/plain": [
       "[Document Auswertungspaket - unterschiedliche B_N-Auswertungen.pdf_18.pdf (44865),\n",
       " Document Auswertungspaket - unterschiedliche B_N-Auswertungen.pdf_17.pdf (44866),\n",
       " Document Auswertungspaket - unterschiedliche B_N-Auswertungen.pdf_19.pdf (44867)]"
      ]
     },
     "execution_count": 11,
     "metadata": {},
     "output_type": "execute_result"
    }
   ],
   "source": [
    "pipeline.test_documents"
   ]
  },
  {
   "cell_type": "code",
   "execution_count": 12,
   "id": "68572a26",
   "metadata": {},
   "outputs": [],
   "source": [
    "# for doc in pipeline.test_documents:\n",
    "#     doc.pages()[0].get_image()"
   ]
  },
  {
   "cell_type": "code",
   "execution_count": 13,
   "id": "aa9d508f",
   "metadata": {},
   "outputs": [],
   "source": [
    "documents = project.documents"
   ]
  },
  {
   "cell_type": "code",
   "execution_count": 14,
   "id": "e9e28729",
   "metadata": {},
   "outputs": [
    {
     "name": "stdout",
     "output_type": "stream",
     "text": [
      "Document 2022-02-13 16:19:30.684745 (44864) No Category!\n"
     ]
    }
   ],
   "source": [
    "# dev\n",
    "for doc in documents:\n",
    "    if doc.category is None:\n",
    "        dev_doc = doc\n",
    "        print(doc, 'No Category!')\n",
    "# dev_doc.category = category\n",
    "# dev_doc.pages()"
   ]
  },
  {
   "cell_type": "code",
   "execution_count": 15,
   "id": "4eff41fb",
   "metadata": {},
   "outputs": [],
   "source": [
    "documents = documents[:25]\n",
    "# documents = documents[:2]"
   ]
  },
  {
   "cell_type": "code",
   "execution_count": 16,
   "id": "e78ec8ca",
   "metadata": {},
   "outputs": [
    {
     "data": {
      "text/plain": [
       "25"
      ]
     },
     "execution_count": 16,
     "metadata": {},
     "output_type": "execute_result"
    }
   ],
   "source": [
    "len(documents)"
   ]
  },
  {
   "cell_type": "markdown",
   "id": "6afe1c81",
   "metadata": {},
   "source": [
    "Let's have a look at what exactly a document in this dataset looks like. "
   ]
  },
  {
   "cell_type": "code",
   "execution_count": 17,
   "id": "622c5089",
   "metadata": {},
   "outputs": [],
   "source": [
    "document = documents[0]"
   ]
  },
  {
   "cell_type": "code",
   "execution_count": 18,
   "id": "5b9920a8",
   "metadata": {},
   "outputs": [
    {
     "data": {
      "text/plain": [
       "\"                                                            x02   328927/10103/00104\\nAbrechnung  der Brutto/Netto-Bezüge   für Dezember 2018                   22.05.2018 Bat:  1\\n \\nPersonal-Nr.  Geburtsdatum ski Faktor  Ki,Frbtr.Konfession  ‚Freibetragjährl.! |Freibetrag mt! |DBA  iGleitzone  'St.-Tg.  VJuUr. üb. |Url. Anspr. Url.Tg.gen.  |Resturlaub\\n00104 150356 1  |     ‚ev                              30     400  3000       3400\\n \\nSV-Nummer       |Krankenkasse                       KK%®|PGRS Bars  jum.SV-Tg. Anw. Tage |UrlaubTage Krankh. Tg. Fehlz. Tage\\n                                             \\n50150356B581 AOK  Bayern Die Gesundheitskas 157 101 1111 1 30\\n \\n                                             Eintritt   ‚Austritt     Anw.Std.  Urlaub Std.  |Krankh. Std. |Fehlz. Std.\\n                                             \\n                                             170299  L L       l     L     l     l\\n -                                       +  Steuer-ID       IMrB?       Zeitlohn Sta.|Überstd.  |Bez. Sta.\\n  Teststraße123\\n   12345 Testort                                   12345678911       \\\\     ı     ı     \\\\\\n                               B/N\\n               Pers.-Nr.  00104        x02\\n               Abt.-Nr. A12         10103          HinweisezurAbrechnung\\n                                             \\n                                            Kostenst.  30       Wöch.Arb.Zt. 37,50\\n  Frau\\n                                             - LASt-Jahresausgl.:  LSt        198,34\\n  Erna-Muster Eiermann                         KiSt      15,83   Solz        10,89\\n  Musterstraße 78\\n  90453 Nürnberg\\nBrutto-Bezüge\\n \\nLohnart |Bezeichnung                       |Einheit?   Menge?     Faktor® |Prozentsatz st* |sv#*  |GB®          Betrag\\n2000 Gehalt                                                  L  Log      3.120,00\\n***%%* DATEV  Mustermandant 10103 mit SKRO4\\n**%* Für Präsentationen, Messen, Schulungen, etc\\n                                                                            Gesamt-Brutto\\nSteuer/Sozialversicherung                                                               3.120,00\\n \\nst®      Steuer-Brutto       Lohnsteuer     Kirchensteuer   Solidaritätszuschlag                       Steuerrechtliche Abzüge\\nL     3.12000       25732       2062       1417                            292,11\\n           ı            I           ı           ı\\n \\n           L            L           L  ;          L      r\\n                                                                      \\nsv®   KV-Brutto    RYV-Brutto    AV-Brutto    PV-Brutto  |   KV-Beitrag    RV-Beitrag  |  AV-Beitrag  |   PV-Beitrag®    SV-rechtliche Abzüge\\nL  3.12000  3.12000  3.12000  3.12000    26208    29016    4680     3978       638,82\\n       I        I        I        ı        ı        ı       ı        I\\n \\n                                                                           Netto-Verdienst\\nVerdiensibescheinigung                              Netto-Bezüge/Netto-Abzüge                      2.189,07\\n \\nGesamt-Brutto     42.42950 SV-Beutto     42.42950   Lohnart |Bezeichnung                            Betrag\\nSteuer-Brutto      42.42950 KV-Beitrag     3.43267\\nLohnsteuer       6.81300 |RV-Beitrag     3.94594\\nKirchensteuer        54504 |AV-Beitrag       63644\\nSolidaritätszuschlag      37411 PY-Beitrag       52104\\n                     \\nSteuerfreie Bezüge         \\\\   VWLgesamt         \\\\\\nP. verst. Zuk.sich.         ı   Kug-Auszahlung        \\\\\\n                 ı                  ı\\nPfändung Rest          \\\\                  \\\\\\nDariehen Rest           \\\\                  ı\\n \\n \\nBank                                        SV-AG-Anteil Zus. AG-Kosten      Gesamtkosten     Auszahlungsbetrag\\nKonto                                        60450                           2.189,07\\n \\nI4=Hinzurechnungsbetrag              4=LaufenderBezug, S=SonstigerBezug, F=Frei,    5 ) =Bestandteildes Gesamt-Bruttos\\n2 Std=Stunden,T=Tage, Km=Kilometer, St=Stuck     E =Einmalbezug, P =Pauschalierung,A=Abfindung,    6 2=Einschl. BeitragszuschlagzurPVfürKinderlose\\n  EUR =Euro,Tsd=TausendEuro, Mio =MillionEuro     M =mehrjahrige Versteuerung, N=Nachberechnung    7 MEB=Mehrfachbeschäftigung\\n3 Gegebenenfalls Netto-Lohn/Netto-Stundenlohn       V=Vorjahr,W =Entgeltguthaben           & MaßgeblicherBeitragssatzzurKVinkl Zusatzbeitrag\\nREP Eorm-Nr LNGN13              +Dies isteine Entgelibescheinigungnach$ 108Abs 3 Satz1 derGewerbeordnung-                         DATEV\\n                                                                               \""
      ]
     },
     "execution_count": 18,
     "metadata": {},
     "output_type": "execute_result"
    }
   ],
   "source": [
    "document.text"
   ]
  },
  {
   "cell_type": "markdown",
   "id": "983fb505",
   "metadata": {},
   "source": [
    "This is the output of Object Character Recognition model on the following image:\n"
   ]
  },
  {
   "cell_type": "code",
   "execution_count": 19,
   "id": "0d42384b",
   "metadata": {},
   "outputs": [],
   "source": [
    "# print(document.pages())\n",
    "# document.pages()[0].get_image()"
   ]
  },
  {
   "cell_type": "markdown",
   "id": "77013d8e",
   "metadata": {},
   "source": []
  },
  {
   "cell_type": "code",
   "execution_count": 20,
   "id": "9b0f5e1d",
   "metadata": {},
   "outputs": [
    {
     "name": "stdout",
     "output_type": "stream",
     "text": [
      "Steuer-Brutto 0.1\n",
      "Austellungsdatum 0.1\n",
      "Steuerklasse 0.1\n",
      "Vorname 0.1\n",
      "Personalausweis 0.1\n",
      "Betrag 0.1\n",
      "Bank inkl. IBAN 0.1\n",
      "Lohnart 0.1\n",
      "Menge 0.1\n",
      "EMPTY_LABEL 0.1\n",
      "Gesamt-Brutto 0.1\n",
      "Nachname 0.1\n",
      "Sozialversicherung 0.1\n",
      "Netto-Verdienst 0.1\n",
      "Bezeichnung 0.1\n",
      "Auszahlungsbetrag 0.1\n",
      "NO_LABEL 0.0\n",
      "Steuerrechtliche Abzüge 0.1\n",
      "Faktor 0.1\n"
     ]
    }
   ],
   "source": [
    "for label in category.labels:\n",
    "    print(label.name, label.threshold)\n",
    "#     label.threshold = 0.02"
   ]
  },
  {
   "cell_type": "markdown",
   "id": "f30c7162",
   "metadata": {},
   "source": [
    "This is all the information we may want to identify in documents of this category."
   ]
  },
  {
   "cell_type": "markdown",
   "id": "44956f4e",
   "metadata": {},
   "source": [
    "### Training the Regex Tokenizer"
   ]
  },
  {
   "cell_type": "code",
   "execution_count": 21,
   "id": "0e7cfdc4",
   "metadata": {},
   "outputs": [],
   "source": [
    "# pipeline.tokenizer = ListTokenizer(tokenizers=[])\n",
    "# for label in category.labels:\n",
    "#     for regex in label.find_regex(category=pipeline.category):\n",
    "#         pipeline.tokenizer.tokenizers.append(RegexTokenizer(regex=regex))\n",
    "pipeline.tokenizer = WhitespaceTokenizer()"
   ]
  },
  {
   "cell_type": "code",
   "execution_count": 22,
   "id": "8a54beb1",
   "metadata": {},
   "outputs": [],
   "source": [
    "# print(pipeline.tokenizer)"
   ]
  },
  {
   "cell_type": "code",
   "execution_count": 23,
   "id": "4f29e92f",
   "metadata": {},
   "outputs": [],
   "source": [
    "# print(len(pipeline.tokenizer.tokenizers))"
   ]
  },
  {
   "cell_type": "code",
   "execution_count": 24,
   "id": "957e6cf5",
   "metadata": {},
   "outputs": [],
   "source": [
    "# pipeline.tokenizer.tokenizers[0]\n"
   ]
  },
  {
   "cell_type": "code",
   "execution_count": 25,
   "id": "9912cf65",
   "metadata": {},
   "outputs": [],
   "source": [
    "# raise"
   ]
  },
  {
   "cell_type": "code",
   "execution_count": 26,
   "id": "bced6833",
   "metadata": {},
   "outputs": [],
   "source": [
    "# len(document.annotations(use_correct=False)) "
   ]
  },
  {
   "cell_type": "code",
   "execution_count": 27,
   "id": "4b1fa1df",
   "metadata": {},
   "outputs": [],
   "source": [
    "# len(document.spans(use_correct=False))"
   ]
  },
  {
   "cell_type": "markdown",
   "id": "a9c5db3e",
   "metadata": {},
   "source": [
    "And now we can create new NO_LABEL annotations"
   ]
  },
  {
   "cell_type": "code",
   "execution_count": 28,
   "id": "e3dc9e8c",
   "metadata": {},
   "outputs": [],
   "source": [
    "# len(test_documents[1].annotations(use_correct=False))"
   ]
  },
  {
   "cell_type": "code",
   "execution_count": 29,
   "id": "fd35aab6",
   "metadata": {},
   "outputs": [],
   "source": [
    "# pipeline.tokenizer.tokenize(document)"
   ]
  },
  {
   "cell_type": "code",
   "execution_count": 30,
   "id": "fcfb166f",
   "metadata": {},
   "outputs": [],
   "source": [
    "# pipeline.tokenizer.processing_steps[0].runtime"
   ]
  },
  {
   "cell_type": "code",
   "execution_count": 31,
   "id": "91890569",
   "metadata": {},
   "outputs": [],
   "source": [
    "# pipeline.tokenizer.processing_steps[1].runtime\n"
   ]
  },
  {
   "cell_type": "code",
   "execution_count": 32,
   "id": "0b0b8317",
   "metadata": {},
   "outputs": [],
   "source": [
    "# raise"
   ]
  },
  {
   "cell_type": "code",
   "execution_count": 33,
   "id": "8ac7f598",
   "metadata": {},
   "outputs": [],
   "source": [
    "# len(document.annotations(use_correct=False))"
   ]
  },
  {
   "cell_type": "code",
   "execution_count": 34,
   "id": "a4647ece",
   "metadata": {},
   "outputs": [],
   "source": [
    "# for ann in document.annotations(use_correct=False):\n",
    "#     print(ann)"
   ]
  },
  {
   "cell_type": "code",
   "execution_count": 35,
   "id": "72c6f686",
   "metadata": {},
   "outputs": [],
   "source": [
    "# def label_train_doc(doc, doc_spans):\n",
    "#     s_i = 0\n",
    "#     for span in doc.spans():\n",
    "#         while s_i < len(doc_spans) and span.start_offset > doc_spans[s_i].end_offset:\n",
    "#             s_i += 1\n",
    "#         if s_i >= len(doc_spans):\n",
    "#             break\n",
    "#         if span.end_offset < doc_spans[s_i].start_offset:\n",
    "#             continue\n",
    "# #         if span.start_offset <= doc_spans[s_i].end_offset and \\\n",
    "# #             span.end_offset >= doc_spans[s_i].start_offset:\n",
    "# #             span.annotation.label = doc_spans[s_i].annotation.label\n",
    "#         r = range(doc_spans[s_i].start_offset, doc_spans[s_i].end_offset+1)\n",
    "#         if span.start_offset in r and \\\n",
    "#             span.end_offset in r:\n",
    "#             span.annotation.label = doc_spans[s_i].annotation.label\n",
    "\n",
    "            \n",
    "# #         if span.start_offset <= doc_spans[s_i].end_offset and \\\n",
    "# #             span.end_offset >= doc_spans[s_i].start_offset:\n",
    "# #             span.annotation.label = doc_spans[s_i].annotation.label\n"
   ]
  },
  {
   "cell_type": "markdown",
   "id": "27985e85",
   "metadata": {},
   "source": [
    "Now we can do the same for all documents:"
   ]
  },
  {
   "cell_type": "code",
   "execution_count": 36,
   "id": "c7904591",
   "metadata": {},
   "outputs": [],
   "source": [
    "# Tokenize documents.\n",
    "logger.setLevel(logging.ERROR)\n",
    "\n",
    "# training_docs = [deepcopy(doc) for doc in documents]\n",
    "\n",
    "# # for i, doc in enumerate(training_docs):    \n",
    "# # #     doc._characters = documents[i].bboxes\n",
    "# #     doc._hocr = documents[i].hocr\n",
    "\n",
    "# for doc in training_docs:\n",
    "#     pipeline.tokenizer.tokenize(doc)\n",
    "\n",
    "# for i, t_doc in enumerate(training_docs):\n",
    "#     label_train_doc(t_doc, documents[i].spans(use_correct=True))\n",
    "    \n",
    "# logger.setLevel(logging.INFO)\n",
    "# for doc in test_documents:\n",
    "#     pipeline.tokenizer.tokenize(doc)\n"
   ]
  },
  {
   "cell_type": "code",
   "execution_count": 37,
   "id": "7abfb71b",
   "metadata": {},
   "outputs": [],
   "source": [
    "# for doc in documents:\n",
    "#     pipeline.tokenizer.tokenize(doc)\n",
    "    "
   ]
  },
  {
   "cell_type": "code",
   "execution_count": 38,
   "id": "86ffc187",
   "metadata": {},
   "outputs": [],
   "source": [
    "# training_docs[0].annotations(use_correct=False)\n",
    "# training_docs[0]"
   ]
  },
  {
   "cell_type": "code",
   "execution_count": 39,
   "id": "4cf90891",
   "metadata": {},
   "outputs": [],
   "source": [
    "# for i, doc in enumerate(training_docs):\n",
    "#     doc.id_ = doc.copy_of_id #+ 1000\n",
    "# #     doc.bboxes_available = True"
   ]
  },
  {
   "cell_type": "code",
   "execution_count": 40,
   "id": "66a3ca32",
   "metadata": {},
   "outputs": [
    {
     "name": "stdout",
     "output_type": "stream",
     "text": [
      "0\n"
     ]
    }
   ],
   "source": [
    "print(sum([step.runtime for step in pipeline.tokenizer.processing_steps]))\n"
   ]
  },
  {
   "cell_type": "code",
   "execution_count": 41,
   "id": "a03bd54c",
   "metadata": {},
   "outputs": [],
   "source": [
    "# raise"
   ]
  },
  {
   "cell_type": "code",
   "execution_count": 42,
   "id": "00f1ec7c",
   "metadata": {},
   "outputs": [
    {
     "name": "stderr",
     "output_type": "stream",
     "text": [
      "/home/sam-konf/Konfuzio/konfuzio-sdk/notebooks/../konfuzio_sdk/tokenizer/regex.py:74: FutureWarning: WIP: Modifications before the next stable release expected.\n",
      "  span.bbox()  # check that the bbox can be calculated  # todo add test\n",
      "/home/sam-konf/Konfuzio/konfuzio-sdk/notebooks/../konfuzio_sdk/data.py:908: FutureWarning: WIP: Modifications before the next stable release expected.\n",
      "  characters = {key: self.annotation.document.bboxes.get(key) for key in character_range}\n",
      "/home/sam-konf/Konfuzio/konfuzio-sdk/notebooks/../konfuzio_sdk/trainer/information_extraction.py:1005: UserWarning: Parsing '22.05.2018' in DD/MM/YYYY format. Provide format or specify infer_datetime_format=True for consistent parsing.\n",
      "  date2 = pandas.to_datetime(s, errors='ignore')\n",
      "/home/sam-konf/Konfuzio/konfuzio-sdk/notebooks/../konfuzio_sdk/trainer/information_extraction.py:1005: UserWarning: Parsing '22.05.2018' in DD/MM/YYYY format. Provide format or specify infer_datetime_format=True for consistent parsing.\n",
      "  date2 = pandas.to_datetime(s, errors='ignore')\n",
      "/home/sam-konf/Konfuzio/konfuzio-sdk/notebooks/../konfuzio_sdk/trainer/information_extraction.py:1005: UserWarning: Parsing '22.05.2018' in DD/MM/YYYY format. Provide format or specify infer_datetime_format=True for consistent parsing.\n",
      "  date2 = pandas.to_datetime(s, errors='ignore')\n",
      "/home/sam-konf/Konfuzio/konfuzio-sdk/notebooks/../konfuzio_sdk/trainer/information_extraction.py:1005: UserWarning: Parsing '22.05.2018' in DD/MM/YYYY format. Provide format or specify infer_datetime_format=True for consistent parsing.\n",
      "  date2 = pandas.to_datetime(s, errors='ignore')\n",
      "/home/sam-konf/Konfuzio/konfuzio-sdk/notebooks/../konfuzio_sdk/trainer/information_extraction.py:1005: UserWarning: Parsing '22.05.2018' in DD/MM/YYYY format. Provide format or specify infer_datetime_format=True for consistent parsing.\n",
      "  date2 = pandas.to_datetime(s, errors='ignore')\n",
      "/home/sam-konf/Konfuzio/konfuzio-sdk/notebooks/../konfuzio_sdk/trainer/information_extraction.py:1662: PerformanceWarning: DataFrame is highly fragmented.  This is usually the result of calling `frame.insert` many times, which has poor performance.  Consider joining all columns at once using pd.concat(axis=1) instead. To get a de-fragmented frame, use `newframe = frame.copy()`\n",
      "  df[\"relative_position_in_page\"] = df[\"page_index\"] / document_n_pages\n",
      "/home/sam-konf/Konfuzio/konfuzio-sdk/notebooks/../konfuzio_sdk/tokenizer/regex.py:74: FutureWarning: WIP: Modifications before the next stable release expected.\n",
      "  span.bbox()  # check that the bbox can be calculated  # todo add test\n",
      "/home/sam-konf/Konfuzio/konfuzio-sdk/notebooks/../konfuzio_sdk/data.py:908: FutureWarning: WIP: Modifications before the next stable release expected.\n",
      "  characters = {key: self.annotation.document.bboxes.get(key) for key in character_range}\n",
      "/home/sam-konf/Konfuzio/konfuzio-sdk/notebooks/../konfuzio_sdk/trainer/information_extraction.py:1005: UserWarning: Parsing '22.05.2018' in DD/MM/YYYY format. Provide format or specify infer_datetime_format=True for consistent parsing.\n",
      "  date2 = pandas.to_datetime(s, errors='ignore')\n",
      "/home/sam-konf/Konfuzio/konfuzio-sdk/notebooks/../konfuzio_sdk/trainer/information_extraction.py:1005: UserWarning: Parsing '22.05.2018' in DD/MM/YYYY format. Provide format or specify infer_datetime_format=True for consistent parsing.\n",
      "  date2 = pandas.to_datetime(s, errors='ignore')\n",
      "/home/sam-konf/Konfuzio/konfuzio-sdk/notebooks/../konfuzio_sdk/trainer/information_extraction.py:1005: UserWarning: Parsing '22.05.2018' in DD/MM/YYYY format. Provide format or specify infer_datetime_format=True for consistent parsing.\n",
      "  date2 = pandas.to_datetime(s, errors='ignore')\n",
      "/home/sam-konf/Konfuzio/konfuzio-sdk/notebooks/../konfuzio_sdk/trainer/information_extraction.py:1005: UserWarning: Parsing '22.05.2018' in DD/MM/YYYY format. Provide format or specify infer_datetime_format=True for consistent parsing.\n",
      "  date2 = pandas.to_datetime(s, errors='ignore')\n",
      "/home/sam-konf/Konfuzio/konfuzio-sdk/notebooks/../konfuzio_sdk/trainer/information_extraction.py:1005: UserWarning: Parsing '22.05.2018' in DD/MM/YYYY format. Provide format or specify infer_datetime_format=True for consistent parsing.\n",
      "  date2 = pandas.to_datetime(s, errors='ignore')\n",
      "/home/sam-konf/Konfuzio/konfuzio-sdk/notebooks/../konfuzio_sdk/trainer/information_extraction.py:1662: PerformanceWarning: DataFrame is highly fragmented.  This is usually the result of calling `frame.insert` many times, which has poor performance.  Consider joining all columns at once using pd.concat(axis=1) instead. To get a de-fragmented frame, use `newframe = frame.copy()`\n",
      "  df[\"relative_position_in_page\"] = df[\"page_index\"] / document_n_pages\n",
      "/home/sam-konf/Konfuzio/konfuzio-sdk/notebooks/../konfuzio_sdk/tokenizer/regex.py:74: FutureWarning: WIP: Modifications before the next stable release expected.\n",
      "  span.bbox()  # check that the bbox can be calculated  # todo add test\n",
      "/home/sam-konf/Konfuzio/konfuzio-sdk/notebooks/../konfuzio_sdk/data.py:908: FutureWarning: WIP: Modifications before the next stable release expected.\n",
      "  characters = {key: self.annotation.document.bboxes.get(key) for key in character_range}\n",
      "/home/sam-konf/Konfuzio/konfuzio-sdk/notebooks/../konfuzio_sdk/trainer/information_extraction.py:1005: UserWarning: Parsing '24.05.2018' in DD/MM/YYYY format. Provide format or specify infer_datetime_format=True for consistent parsing.\n",
      "  date2 = pandas.to_datetime(s, errors='ignore')\n",
      "/home/sam-konf/Konfuzio/konfuzio-sdk/notebooks/../konfuzio_sdk/trainer/information_extraction.py:1005: UserWarning: Parsing '24.05.2018' in DD/MM/YYYY format. Provide format or specify infer_datetime_format=True for consistent parsing.\n",
      "  date2 = pandas.to_datetime(s, errors='ignore')\n",
      "/home/sam-konf/Konfuzio/konfuzio-sdk/notebooks/../konfuzio_sdk/trainer/information_extraction.py:1005: UserWarning: Parsing '24.05.2018' in DD/MM/YYYY format. Provide format or specify infer_datetime_format=True for consistent parsing.\n",
      "  date2 = pandas.to_datetime(s, errors='ignore')\n",
      "/home/sam-konf/Konfuzio/konfuzio-sdk/notebooks/../konfuzio_sdk/trainer/information_extraction.py:1005: UserWarning: Parsing '24.05.2018' in DD/MM/YYYY format. Provide format or specify infer_datetime_format=True for consistent parsing.\n",
      "  date2 = pandas.to_datetime(s, errors='ignore')\n",
      "/home/sam-konf/Konfuzio/konfuzio-sdk/notebooks/../konfuzio_sdk/trainer/information_extraction.py:1005: UserWarning: Parsing '24.05.2018' in DD/MM/YYYY format. Provide format or specify infer_datetime_format=True for consistent parsing.\n",
      "  date2 = pandas.to_datetime(s, errors='ignore')\n",
      "/home/sam-konf/Konfuzio/konfuzio-sdk/notebooks/../konfuzio_sdk/trainer/information_extraction.py:1662: PerformanceWarning: DataFrame is highly fragmented.  This is usually the result of calling `frame.insert` many times, which has poor performance.  Consider joining all columns at once using pd.concat(axis=1) instead. To get a de-fragmented frame, use `newframe = frame.copy()`\n",
      "  df[\"relative_position_in_page\"] = df[\"page_index\"] / document_n_pages\n",
      "/home/sam-konf/Konfuzio/konfuzio-sdk/notebooks/../konfuzio_sdk/tokenizer/regex.py:74: FutureWarning: WIP: Modifications before the next stable release expected.\n",
      "  span.bbox()  # check that the bbox can be calculated  # todo add test\n",
      "/home/sam-konf/Konfuzio/konfuzio-sdk/notebooks/../konfuzio_sdk/data.py:908: FutureWarning: WIP: Modifications before the next stable release expected.\n",
      "  characters = {key: self.annotation.document.bboxes.get(key) for key in character_range}\n",
      "/home/sam-konf/Konfuzio/konfuzio-sdk/notebooks/../konfuzio_sdk/trainer/information_extraction.py:1005: UserWarning: Parsing '24.05.2018' in DD/MM/YYYY format. Provide format or specify infer_datetime_format=True for consistent parsing.\n",
      "  date2 = pandas.to_datetime(s, errors='ignore')\n",
      "/home/sam-konf/Konfuzio/konfuzio-sdk/notebooks/../konfuzio_sdk/trainer/information_extraction.py:1005: UserWarning: Parsing '24.05.2018' in DD/MM/YYYY format. Provide format or specify infer_datetime_format=True for consistent parsing.\n",
      "  date2 = pandas.to_datetime(s, errors='ignore')\n",
      "/home/sam-konf/Konfuzio/konfuzio-sdk/notebooks/../konfuzio_sdk/trainer/information_extraction.py:1005: UserWarning: Parsing '24.05.2018' in DD/MM/YYYY format. Provide format or specify infer_datetime_format=True for consistent parsing.\n",
      "  date2 = pandas.to_datetime(s, errors='ignore')\n",
      "/home/sam-konf/Konfuzio/konfuzio-sdk/notebooks/../konfuzio_sdk/trainer/information_extraction.py:1005: UserWarning: Parsing '24.05.2018' in DD/MM/YYYY format. Provide format or specify infer_datetime_format=True for consistent parsing.\n",
      "  date2 = pandas.to_datetime(s, errors='ignore')\n",
      "/home/sam-konf/Konfuzio/konfuzio-sdk/notebooks/../konfuzio_sdk/trainer/information_extraction.py:1005: UserWarning: Parsing '24.05.2018' in DD/MM/YYYY format. Provide format or specify infer_datetime_format=True for consistent parsing.\n",
      "  date2 = pandas.to_datetime(s, errors='ignore')\n",
      "/home/sam-konf/Konfuzio/konfuzio-sdk/notebooks/../konfuzio_sdk/trainer/information_extraction.py:1662: PerformanceWarning: DataFrame is highly fragmented.  This is usually the result of calling `frame.insert` many times, which has poor performance.  Consider joining all columns at once using pd.concat(axis=1) instead. To get a de-fragmented frame, use `newframe = frame.copy()`\n",
      "  df[\"relative_position_in_page\"] = df[\"page_index\"] / document_n_pages\n",
      "/home/sam-konf/Konfuzio/konfuzio-sdk/notebooks/../konfuzio_sdk/tokenizer/regex.py:74: FutureWarning: WIP: Modifications before the next stable release expected.\n",
      "  span.bbox()  # check that the bbox can be calculated  # todo add test\n",
      "/home/sam-konf/Konfuzio/konfuzio-sdk/notebooks/../konfuzio_sdk/data.py:908: FutureWarning: WIP: Modifications before the next stable release expected.\n",
      "  characters = {key: self.annotation.document.bboxes.get(key) for key in character_range}\n"
     ]
    },
    {
     "name": "stderr",
     "output_type": "stream",
     "text": [
      "/home/sam-konf/Konfuzio/konfuzio-sdk/notebooks/../konfuzio_sdk/trainer/information_extraction.py:1662: PerformanceWarning: DataFrame is highly fragmented.  This is usually the result of calling `frame.insert` many times, which has poor performance.  Consider joining all columns at once using pd.concat(axis=1) instead. To get a de-fragmented frame, use `newframe = frame.copy()`\n",
      "  df[\"relative_position_in_page\"] = df[\"page_index\"] / document_n_pages\n",
      "/home/sam-konf/Konfuzio/konfuzio-sdk/notebooks/../konfuzio_sdk/tokenizer/regex.py:74: FutureWarning: WIP: Modifications before the next stable release expected.\n",
      "  span.bbox()  # check that the bbox can be calculated  # todo add test\n",
      "/home/sam-konf/Konfuzio/konfuzio-sdk/notebooks/../konfuzio_sdk/data.py:908: FutureWarning: WIP: Modifications before the next stable release expected.\n",
      "  characters = {key: self.annotation.document.bboxes.get(key) for key in character_range}\n",
      "/home/sam-konf/Konfuzio/konfuzio-sdk/notebooks/../konfuzio_sdk/trainer/information_extraction.py:1005: UserWarning: Parsing '22.05.2018' in DD/MM/YYYY format. Provide format or specify infer_datetime_format=True for consistent parsing.\n",
      "  date2 = pandas.to_datetime(s, errors='ignore')\n",
      "/home/sam-konf/Konfuzio/konfuzio-sdk/notebooks/../konfuzio_sdk/trainer/information_extraction.py:1005: UserWarning: Parsing '22.05.2018' in DD/MM/YYYY format. Provide format or specify infer_datetime_format=True for consistent parsing.\n",
      "  date2 = pandas.to_datetime(s, errors='ignore')\n",
      "/home/sam-konf/Konfuzio/konfuzio-sdk/notebooks/../konfuzio_sdk/trainer/information_extraction.py:1005: UserWarning: Parsing '22.05.2018' in DD/MM/YYYY format. Provide format or specify infer_datetime_format=True for consistent parsing.\n",
      "  date2 = pandas.to_datetime(s, errors='ignore')\n",
      "/home/sam-konf/Konfuzio/konfuzio-sdk/notebooks/../konfuzio_sdk/trainer/information_extraction.py:1005: UserWarning: Parsing '22.05.2018' in DD/MM/YYYY format. Provide format or specify infer_datetime_format=True for consistent parsing.\n",
      "  date2 = pandas.to_datetime(s, errors='ignore')\n",
      "/home/sam-konf/Konfuzio/konfuzio-sdk/notebooks/../konfuzio_sdk/trainer/information_extraction.py:1005: UserWarning: Parsing '22.05.2018' in DD/MM/YYYY format. Provide format or specify infer_datetime_format=True for consistent parsing.\n",
      "  date2 = pandas.to_datetime(s, errors='ignore')\n",
      "/home/sam-konf/Konfuzio/konfuzio-sdk/notebooks/../konfuzio_sdk/trainer/information_extraction.py:1662: PerformanceWarning: DataFrame is highly fragmented.  This is usually the result of calling `frame.insert` many times, which has poor performance.  Consider joining all columns at once using pd.concat(axis=1) instead. To get a de-fragmented frame, use `newframe = frame.copy()`\n",
      "  df[\"relative_position_in_page\"] = df[\"page_index\"] / document_n_pages\n",
      "/home/sam-konf/Konfuzio/konfuzio-sdk/notebooks/../konfuzio_sdk/tokenizer/regex.py:74: FutureWarning: WIP: Modifications before the next stable release expected.\n",
      "  span.bbox()  # check that the bbox can be calculated  # todo add test\n",
      "/home/sam-konf/Konfuzio/konfuzio-sdk/notebooks/../konfuzio_sdk/data.py:908: FutureWarning: WIP: Modifications before the next stable release expected.\n",
      "  characters = {key: self.annotation.document.bboxes.get(key) for key in character_range}\n",
      "/home/sam-konf/Konfuzio/konfuzio-sdk/notebooks/../konfuzio_sdk/trainer/information_extraction.py:1005: UserWarning: Parsing '22.05.2018' in DD/MM/YYYY format. Provide format or specify infer_datetime_format=True for consistent parsing.\n",
      "  date2 = pandas.to_datetime(s, errors='ignore')\n",
      "/home/sam-konf/Konfuzio/konfuzio-sdk/notebooks/../konfuzio_sdk/trainer/information_extraction.py:1005: UserWarning: Parsing '22.05.2018' in DD/MM/YYYY format. Provide format or specify infer_datetime_format=True for consistent parsing.\n",
      "  date2 = pandas.to_datetime(s, errors='ignore')\n",
      "/home/sam-konf/Konfuzio/konfuzio-sdk/notebooks/../konfuzio_sdk/trainer/information_extraction.py:1005: UserWarning: Parsing '22.05.2018' in DD/MM/YYYY format. Provide format or specify infer_datetime_format=True for consistent parsing.\n",
      "  date2 = pandas.to_datetime(s, errors='ignore')\n",
      "/home/sam-konf/Konfuzio/konfuzio-sdk/notebooks/../konfuzio_sdk/trainer/information_extraction.py:1005: UserWarning: Parsing '22.05.2018' in DD/MM/YYYY format. Provide format or specify infer_datetime_format=True for consistent parsing.\n",
      "  date2 = pandas.to_datetime(s, errors='ignore')\n",
      "/home/sam-konf/Konfuzio/konfuzio-sdk/notebooks/../konfuzio_sdk/trainer/information_extraction.py:1005: UserWarning: Parsing '22.05.2018' in DD/MM/YYYY format. Provide format or specify infer_datetime_format=True for consistent parsing.\n",
      "  date2 = pandas.to_datetime(s, errors='ignore')\n",
      "/home/sam-konf/Konfuzio/konfuzio-sdk/notebooks/../konfuzio_sdk/trainer/information_extraction.py:1662: PerformanceWarning: DataFrame is highly fragmented.  This is usually the result of calling `frame.insert` many times, which has poor performance.  Consider joining all columns at once using pd.concat(axis=1) instead. To get a de-fragmented frame, use `newframe = frame.copy()`\n",
      "  df[\"relative_position_in_page\"] = df[\"page_index\"] / document_n_pages\n",
      "/home/sam-konf/Konfuzio/konfuzio-sdk/notebooks/../konfuzio_sdk/tokenizer/regex.py:74: FutureWarning: WIP: Modifications before the next stable release expected.\n",
      "  span.bbox()  # check that the bbox can be calculated  # todo add test\n",
      "/home/sam-konf/Konfuzio/konfuzio-sdk/notebooks/../konfuzio_sdk/data.py:908: FutureWarning: WIP: Modifications before the next stable release expected.\n",
      "  characters = {key: self.annotation.document.bboxes.get(key) for key in character_range}\n",
      "/home/sam-konf/Konfuzio/konfuzio-sdk/notebooks/../konfuzio_sdk/trainer/information_extraction.py:1005: UserWarning: Parsing '22.05.2018' in DD/MM/YYYY format. Provide format or specify infer_datetime_format=True for consistent parsing.\n",
      "  date2 = pandas.to_datetime(s, errors='ignore')\n",
      "/home/sam-konf/Konfuzio/konfuzio-sdk/notebooks/../konfuzio_sdk/trainer/information_extraction.py:1005: UserWarning: Parsing '22.05.2018' in DD/MM/YYYY format. Provide format or specify infer_datetime_format=True for consistent parsing.\n",
      "  date2 = pandas.to_datetime(s, errors='ignore')\n",
      "/home/sam-konf/Konfuzio/konfuzio-sdk/notebooks/../konfuzio_sdk/trainer/information_extraction.py:1005: UserWarning: Parsing '22.05.2018' in DD/MM/YYYY format. Provide format or specify infer_datetime_format=True for consistent parsing.\n",
      "  date2 = pandas.to_datetime(s, errors='ignore')\n",
      "/home/sam-konf/Konfuzio/konfuzio-sdk/notebooks/../konfuzio_sdk/trainer/information_extraction.py:1005: UserWarning: Parsing '22.05.2018' in DD/MM/YYYY format. Provide format or specify infer_datetime_format=True for consistent parsing.\n",
      "  date2 = pandas.to_datetime(s, errors='ignore')\n",
      "/home/sam-konf/Konfuzio/konfuzio-sdk/notebooks/../konfuzio_sdk/trainer/information_extraction.py:1005: UserWarning: Parsing '22.05.2018' in DD/MM/YYYY format. Provide format or specify infer_datetime_format=True for consistent parsing.\n",
      "  date2 = pandas.to_datetime(s, errors='ignore')\n",
      "/home/sam-konf/Konfuzio/konfuzio-sdk/notebooks/../konfuzio_sdk/trainer/information_extraction.py:1662: PerformanceWarning: DataFrame is highly fragmented.  This is usually the result of calling `frame.insert` many times, which has poor performance.  Consider joining all columns at once using pd.concat(axis=1) instead. To get a de-fragmented frame, use `newframe = frame.copy()`\n",
      "  df[\"relative_position_in_page\"] = df[\"page_index\"] / document_n_pages\n",
      "/home/sam-konf/Konfuzio/konfuzio-sdk/notebooks/../konfuzio_sdk/tokenizer/regex.py:74: FutureWarning: WIP: Modifications before the next stable release expected.\n",
      "  span.bbox()  # check that the bbox can be calculated  # todo add test\n",
      "/home/sam-konf/Konfuzio/konfuzio-sdk/notebooks/../konfuzio_sdk/data.py:908: FutureWarning: WIP: Modifications before the next stable release expected.\n",
      "  characters = {key: self.annotation.document.bboxes.get(key) for key in character_range}\n",
      "/home/sam-konf/Konfuzio/konfuzio-sdk/notebooks/../konfuzio_sdk/trainer/information_extraction.py:1005: UserWarning: Parsing '22.05.2018' in DD/MM/YYYY format. Provide format or specify infer_datetime_format=True for consistent parsing.\n",
      "  date2 = pandas.to_datetime(s, errors='ignore')\n",
      "/home/sam-konf/Konfuzio/konfuzio-sdk/notebooks/../konfuzio_sdk/trainer/information_extraction.py:1005: UserWarning: Parsing '22.05.2018' in DD/MM/YYYY format. Provide format or specify infer_datetime_format=True for consistent parsing.\n",
      "  date2 = pandas.to_datetime(s, errors='ignore')\n",
      "/home/sam-konf/Konfuzio/konfuzio-sdk/notebooks/../konfuzio_sdk/trainer/information_extraction.py:1005: UserWarning: Parsing '22.05.2018' in DD/MM/YYYY format. Provide format or specify infer_datetime_format=True for consistent parsing.\n",
      "  date2 = pandas.to_datetime(s, errors='ignore')\n",
      "/home/sam-konf/Konfuzio/konfuzio-sdk/notebooks/../konfuzio_sdk/trainer/information_extraction.py:1005: UserWarning: Parsing '22.05.2018' in DD/MM/YYYY format. Provide format or specify infer_datetime_format=True for consistent parsing.\n",
      "  date2 = pandas.to_datetime(s, errors='ignore')\n",
      "/home/sam-konf/Konfuzio/konfuzio-sdk/notebooks/../konfuzio_sdk/trainer/information_extraction.py:1005: UserWarning: Parsing '22.05.2018' in DD/MM/YYYY format. Provide format or specify infer_datetime_format=True for consistent parsing.\n",
      "  date2 = pandas.to_datetime(s, errors='ignore')\n",
      "/home/sam-konf/Konfuzio/konfuzio-sdk/notebooks/../konfuzio_sdk/trainer/information_extraction.py:1662: PerformanceWarning: DataFrame is highly fragmented.  This is usually the result of calling `frame.insert` many times, which has poor performance.  Consider joining all columns at once using pd.concat(axis=1) instead. To get a de-fragmented frame, use `newframe = frame.copy()`\n",
      "  df[\"relative_position_in_page\"] = df[\"page_index\"] / document_n_pages\n",
      "/home/sam-konf/Konfuzio/konfuzio-sdk/notebooks/../konfuzio_sdk/tokenizer/regex.py:74: FutureWarning: WIP: Modifications before the next stable release expected.\n",
      "  span.bbox()  # check that the bbox can be calculated  # todo add test\n",
      "/home/sam-konf/Konfuzio/konfuzio-sdk/notebooks/../konfuzio_sdk/data.py:908: FutureWarning: WIP: Modifications before the next stable release expected.\n",
      "  characters = {key: self.annotation.document.bboxes.get(key) for key in character_range}\n"
     ]
    },
    {
     "name": "stderr",
     "output_type": "stream",
     "text": [
      "/home/sam-konf/Konfuzio/konfuzio-sdk/notebooks/../konfuzio_sdk/trainer/information_extraction.py:1005: UserWarning: Parsing '24.05.2018' in DD/MM/YYYY format. Provide format or specify infer_datetime_format=True for consistent parsing.\n",
      "  date2 = pandas.to_datetime(s, errors='ignore')\n",
      "/home/sam-konf/Konfuzio/konfuzio-sdk/notebooks/../konfuzio_sdk/trainer/information_extraction.py:1005: UserWarning: Parsing '24.05.2018' in DD/MM/YYYY format. Provide format or specify infer_datetime_format=True for consistent parsing.\n",
      "  date2 = pandas.to_datetime(s, errors='ignore')\n",
      "/home/sam-konf/Konfuzio/konfuzio-sdk/notebooks/../konfuzio_sdk/trainer/information_extraction.py:1005: UserWarning: Parsing '24.05.2018' in DD/MM/YYYY format. Provide format or specify infer_datetime_format=True for consistent parsing.\n",
      "  date2 = pandas.to_datetime(s, errors='ignore')\n",
      "/home/sam-konf/Konfuzio/konfuzio-sdk/notebooks/../konfuzio_sdk/trainer/information_extraction.py:1005: UserWarning: Parsing '24.05.2018' in DD/MM/YYYY format. Provide format or specify infer_datetime_format=True for consistent parsing.\n",
      "  date2 = pandas.to_datetime(s, errors='ignore')\n",
      "/home/sam-konf/Konfuzio/konfuzio-sdk/notebooks/../konfuzio_sdk/trainer/information_extraction.py:1005: UserWarning: Parsing '24.05.2018' in DD/MM/YYYY format. Provide format or specify infer_datetime_format=True for consistent parsing.\n",
      "  date2 = pandas.to_datetime(s, errors='ignore')\n",
      "/home/sam-konf/Konfuzio/konfuzio-sdk/notebooks/../konfuzio_sdk/trainer/information_extraction.py:1662: PerformanceWarning: DataFrame is highly fragmented.  This is usually the result of calling `frame.insert` many times, which has poor performance.  Consider joining all columns at once using pd.concat(axis=1) instead. To get a de-fragmented frame, use `newframe = frame.copy()`\n",
      "  df[\"relative_position_in_page\"] = df[\"page_index\"] / document_n_pages\n",
      "/home/sam-konf/Konfuzio/konfuzio-sdk/notebooks/../konfuzio_sdk/tokenizer/regex.py:74: FutureWarning: WIP: Modifications before the next stable release expected.\n",
      "  span.bbox()  # check that the bbox can be calculated  # todo add test\n",
      "/home/sam-konf/Konfuzio/konfuzio-sdk/notebooks/../konfuzio_sdk/data.py:908: FutureWarning: WIP: Modifications before the next stable release expected.\n",
      "  characters = {key: self.annotation.document.bboxes.get(key) for key in character_range}\n",
      "/home/sam-konf/Konfuzio/konfuzio-sdk/notebooks/../konfuzio_sdk/trainer/information_extraction.py:1005: UserWarning: Parsing '21.12.2017' in DD/MM/YYYY format. Provide format or specify infer_datetime_format=True for consistent parsing.\n",
      "  date2 = pandas.to_datetime(s, errors='ignore')\n",
      "/home/sam-konf/Konfuzio/konfuzio-sdk/notebooks/../konfuzio_sdk/trainer/information_extraction.py:1005: UserWarning: Parsing '21.12.2017' in DD/MM/YYYY format. Provide format or specify infer_datetime_format=True for consistent parsing.\n",
      "  date2 = pandas.to_datetime(s, errors='ignore')\n",
      "/home/sam-konf/Konfuzio/konfuzio-sdk/notebooks/../konfuzio_sdk/trainer/information_extraction.py:1005: UserWarning: Parsing '21.12.2017' in DD/MM/YYYY format. Provide format or specify infer_datetime_format=True for consistent parsing.\n",
      "  date2 = pandas.to_datetime(s, errors='ignore')\n",
      "/home/sam-konf/Konfuzio/konfuzio-sdk/notebooks/../konfuzio_sdk/trainer/information_extraction.py:1005: UserWarning: Parsing '21.12.2017' in DD/MM/YYYY format. Provide format or specify infer_datetime_format=True for consistent parsing.\n",
      "  date2 = pandas.to_datetime(s, errors='ignore')\n",
      "/home/sam-konf/Konfuzio/konfuzio-sdk/notebooks/../konfuzio_sdk/trainer/information_extraction.py:1005: UserWarning: Parsing '21.12.2017' in DD/MM/YYYY format. Provide format or specify infer_datetime_format=True for consistent parsing.\n",
      "  date2 = pandas.to_datetime(s, errors='ignore')\n",
      "/home/sam-konf/Konfuzio/konfuzio-sdk/notebooks/../konfuzio_sdk/trainer/information_extraction.py:1662: PerformanceWarning: DataFrame is highly fragmented.  This is usually the result of calling `frame.insert` many times, which has poor performance.  Consider joining all columns at once using pd.concat(axis=1) instead. To get a de-fragmented frame, use `newframe = frame.copy()`\n",
      "  df[\"relative_position_in_page\"] = df[\"page_index\"] / document_n_pages\n",
      "/home/sam-konf/Konfuzio/konfuzio-sdk/notebooks/../konfuzio_sdk/tokenizer/regex.py:74: FutureWarning: WIP: Modifications before the next stable release expected.\n",
      "  span.bbox()  # check that the bbox can be calculated  # todo add test\n",
      "/home/sam-konf/Konfuzio/konfuzio-sdk/notebooks/../konfuzio_sdk/data.py:908: FutureWarning: WIP: Modifications before the next stable release expected.\n",
      "  characters = {key: self.annotation.document.bboxes.get(key) for key in character_range}\n",
      "/home/sam-konf/Konfuzio/konfuzio-sdk/notebooks/../konfuzio_sdk/trainer/information_extraction.py:1005: UserWarning: Parsing '21.12.2017' in DD/MM/YYYY format. Provide format or specify infer_datetime_format=True for consistent parsing.\n",
      "  date2 = pandas.to_datetime(s, errors='ignore')\n",
      "/home/sam-konf/Konfuzio/konfuzio-sdk/notebooks/../konfuzio_sdk/trainer/information_extraction.py:1005: UserWarning: Parsing '21.12.2017' in DD/MM/YYYY format. Provide format or specify infer_datetime_format=True for consistent parsing.\n",
      "  date2 = pandas.to_datetime(s, errors='ignore')\n",
      "/home/sam-konf/Konfuzio/konfuzio-sdk/notebooks/../konfuzio_sdk/trainer/information_extraction.py:1005: UserWarning: Parsing '21.12.2017' in DD/MM/YYYY format. Provide format or specify infer_datetime_format=True for consistent parsing.\n",
      "  date2 = pandas.to_datetime(s, errors='ignore')\n",
      "/home/sam-konf/Konfuzio/konfuzio-sdk/notebooks/../konfuzio_sdk/trainer/information_extraction.py:1005: UserWarning: Parsing '21.12.2017' in DD/MM/YYYY format. Provide format or specify infer_datetime_format=True for consistent parsing.\n",
      "  date2 = pandas.to_datetime(s, errors='ignore')\n",
      "/home/sam-konf/Konfuzio/konfuzio-sdk/notebooks/../konfuzio_sdk/trainer/information_extraction.py:1005: UserWarning: Parsing '21.12.2017' in DD/MM/YYYY format. Provide format or specify infer_datetime_format=True for consistent parsing.\n",
      "  date2 = pandas.to_datetime(s, errors='ignore')\n",
      "/home/sam-konf/Konfuzio/konfuzio-sdk/notebooks/../konfuzio_sdk/trainer/information_extraction.py:1662: PerformanceWarning: DataFrame is highly fragmented.  This is usually the result of calling `frame.insert` many times, which has poor performance.  Consider joining all columns at once using pd.concat(axis=1) instead. To get a de-fragmented frame, use `newframe = frame.copy()`\n",
      "  df[\"relative_position_in_page\"] = df[\"page_index\"] / document_n_pages\n",
      "/home/sam-konf/Konfuzio/konfuzio-sdk/notebooks/../konfuzio_sdk/tokenizer/regex.py:74: FutureWarning: WIP: Modifications before the next stable release expected.\n",
      "  span.bbox()  # check that the bbox can be calculated  # todo add test\n",
      "/home/sam-konf/Konfuzio/konfuzio-sdk/notebooks/../konfuzio_sdk/data.py:908: FutureWarning: WIP: Modifications before the next stable release expected.\n",
      "  characters = {key: self.annotation.document.bboxes.get(key) for key in character_range}\n",
      "/home/sam-konf/Konfuzio/konfuzio-sdk/notebooks/../konfuzio_sdk/trainer/information_extraction.py:1005: UserWarning: Parsing '21.12.2017' in DD/MM/YYYY format. Provide format or specify infer_datetime_format=True for consistent parsing.\n",
      "  date2 = pandas.to_datetime(s, errors='ignore')\n",
      "/home/sam-konf/Konfuzio/konfuzio-sdk/notebooks/../konfuzio_sdk/trainer/information_extraction.py:1005: UserWarning: Parsing '21.12.2017' in DD/MM/YYYY format. Provide format or specify infer_datetime_format=True for consistent parsing.\n",
      "  date2 = pandas.to_datetime(s, errors='ignore')\n",
      "/home/sam-konf/Konfuzio/konfuzio-sdk/notebooks/../konfuzio_sdk/trainer/information_extraction.py:1005: UserWarning: Parsing '21.12.2017' in DD/MM/YYYY format. Provide format or specify infer_datetime_format=True for consistent parsing.\n",
      "  date2 = pandas.to_datetime(s, errors='ignore')\n",
      "/home/sam-konf/Konfuzio/konfuzio-sdk/notebooks/../konfuzio_sdk/trainer/information_extraction.py:1005: UserWarning: Parsing '21.12.2017' in DD/MM/YYYY format. Provide format or specify infer_datetime_format=True for consistent parsing.\n",
      "  date2 = pandas.to_datetime(s, errors='ignore')\n",
      "/home/sam-konf/Konfuzio/konfuzio-sdk/notebooks/../konfuzio_sdk/trainer/information_extraction.py:1005: UserWarning: Parsing '21.12.2017' in DD/MM/YYYY format. Provide format or specify infer_datetime_format=True for consistent parsing.\n",
      "  date2 = pandas.to_datetime(s, errors='ignore')\n",
      "/home/sam-konf/Konfuzio/konfuzio-sdk/notebooks/../konfuzio_sdk/trainer/information_extraction.py:1662: PerformanceWarning: DataFrame is highly fragmented.  This is usually the result of calling `frame.insert` many times, which has poor performance.  Consider joining all columns at once using pd.concat(axis=1) instead. To get a de-fragmented frame, use `newframe = frame.copy()`\n",
      "  df[\"relative_position_in_page\"] = df[\"page_index\"] / document_n_pages\n",
      "/home/sam-konf/Konfuzio/konfuzio-sdk/notebooks/../konfuzio_sdk/tokenizer/regex.py:74: FutureWarning: WIP: Modifications before the next stable release expected.\n",
      "  span.bbox()  # check that the bbox can be calculated  # todo add test\n",
      "/home/sam-konf/Konfuzio/konfuzio-sdk/notebooks/../konfuzio_sdk/data.py:908: FutureWarning: WIP: Modifications before the next stable release expected.\n",
      "  characters = {key: self.annotation.document.bboxes.get(key) for key in character_range}\n"
     ]
    },
    {
     "name": "stderr",
     "output_type": "stream",
     "text": [
      "/home/sam-konf/Konfuzio/konfuzio-sdk/notebooks/../konfuzio_sdk/trainer/information_extraction.py:1005: UserWarning: Parsing '21.12.2017' in DD/MM/YYYY format. Provide format or specify infer_datetime_format=True for consistent parsing.\n",
      "  date2 = pandas.to_datetime(s, errors='ignore')\n",
      "/home/sam-konf/Konfuzio/konfuzio-sdk/notebooks/../konfuzio_sdk/trainer/information_extraction.py:1005: UserWarning: Parsing '21.12.2017' in DD/MM/YYYY format. Provide format or specify infer_datetime_format=True for consistent parsing.\n",
      "  date2 = pandas.to_datetime(s, errors='ignore')\n",
      "/home/sam-konf/Konfuzio/konfuzio-sdk/notebooks/../konfuzio_sdk/trainer/information_extraction.py:1005: UserWarning: Parsing '21.12.2017' in DD/MM/YYYY format. Provide format or specify infer_datetime_format=True for consistent parsing.\n",
      "  date2 = pandas.to_datetime(s, errors='ignore')\n",
      "/home/sam-konf/Konfuzio/konfuzio-sdk/notebooks/../konfuzio_sdk/trainer/information_extraction.py:1005: UserWarning: Parsing '21.12.2017' in DD/MM/YYYY format. Provide format or specify infer_datetime_format=True for consistent parsing.\n",
      "  date2 = pandas.to_datetime(s, errors='ignore')\n",
      "/home/sam-konf/Konfuzio/konfuzio-sdk/notebooks/../konfuzio_sdk/trainer/information_extraction.py:1005: UserWarning: Parsing '21.12.2017' in DD/MM/YYYY format. Provide format or specify infer_datetime_format=True for consistent parsing.\n",
      "  date2 = pandas.to_datetime(s, errors='ignore')\n",
      "/home/sam-konf/Konfuzio/konfuzio-sdk/notebooks/../konfuzio_sdk/trainer/information_extraction.py:1662: PerformanceWarning: DataFrame is highly fragmented.  This is usually the result of calling `frame.insert` many times, which has poor performance.  Consider joining all columns at once using pd.concat(axis=1) instead. To get a de-fragmented frame, use `newframe = frame.copy()`\n",
      "  df[\"relative_position_in_page\"] = df[\"page_index\"] / document_n_pages\n",
      "/home/sam-konf/Konfuzio/konfuzio-sdk/notebooks/../konfuzio_sdk/tokenizer/regex.py:74: FutureWarning: WIP: Modifications before the next stable release expected.\n",
      "  span.bbox()  # check that the bbox can be calculated  # todo add test\n",
      "/home/sam-konf/Konfuzio/konfuzio-sdk/notebooks/../konfuzio_sdk/data.py:908: FutureWarning: WIP: Modifications before the next stable release expected.\n",
      "  characters = {key: self.annotation.document.bboxes.get(key) for key in character_range}\n",
      "/home/sam-konf/Konfuzio/konfuzio-sdk/notebooks/../konfuzio_sdk/trainer/information_extraction.py:1005: UserWarning: Parsing '21.12.2017' in DD/MM/YYYY format. Provide format or specify infer_datetime_format=True for consistent parsing.\n",
      "  date2 = pandas.to_datetime(s, errors='ignore')\n",
      "/home/sam-konf/Konfuzio/konfuzio-sdk/notebooks/../konfuzio_sdk/trainer/information_extraction.py:1005: UserWarning: Parsing '21.12.2017' in DD/MM/YYYY format. Provide format or specify infer_datetime_format=True for consistent parsing.\n",
      "  date2 = pandas.to_datetime(s, errors='ignore')\n",
      "/home/sam-konf/Konfuzio/konfuzio-sdk/notebooks/../konfuzio_sdk/trainer/information_extraction.py:1005: UserWarning: Parsing '21.12.2017' in DD/MM/YYYY format. Provide format or specify infer_datetime_format=True for consistent parsing.\n",
      "  date2 = pandas.to_datetime(s, errors='ignore')\n",
      "/home/sam-konf/Konfuzio/konfuzio-sdk/notebooks/../konfuzio_sdk/trainer/information_extraction.py:1662: PerformanceWarning: DataFrame is highly fragmented.  This is usually the result of calling `frame.insert` many times, which has poor performance.  Consider joining all columns at once using pd.concat(axis=1) instead. To get a de-fragmented frame, use `newframe = frame.copy()`\n",
      "  df[\"relative_position_in_page\"] = df[\"page_index\"] / document_n_pages\n",
      "/home/sam-konf/Konfuzio/konfuzio-sdk/notebooks/../konfuzio_sdk/tokenizer/regex.py:74: FutureWarning: WIP: Modifications before the next stable release expected.\n",
      "  span.bbox()  # check that the bbox can be calculated  # todo add test\n",
      "/home/sam-konf/Konfuzio/konfuzio-sdk/notebooks/../konfuzio_sdk/data.py:908: FutureWarning: WIP: Modifications before the next stable release expected.\n",
      "  characters = {key: self.annotation.document.bboxes.get(key) for key in character_range}\n",
      "/home/sam-konf/Konfuzio/konfuzio-sdk/notebooks/../konfuzio_sdk/trainer/information_extraction.py:1005: UserWarning: Parsing '21.12.2017' in DD/MM/YYYY format. Provide format or specify infer_datetime_format=True for consistent parsing.\n",
      "  date2 = pandas.to_datetime(s, errors='ignore')\n",
      "/home/sam-konf/Konfuzio/konfuzio-sdk/notebooks/../konfuzio_sdk/trainer/information_extraction.py:1005: UserWarning: Parsing '21.12.2017' in DD/MM/YYYY format. Provide format or specify infer_datetime_format=True for consistent parsing.\n",
      "  date2 = pandas.to_datetime(s, errors='ignore')\n",
      "/home/sam-konf/Konfuzio/konfuzio-sdk/notebooks/../konfuzio_sdk/trainer/information_extraction.py:1005: UserWarning: Parsing '21.12.2017' in DD/MM/YYYY format. Provide format or specify infer_datetime_format=True for consistent parsing.\n",
      "  date2 = pandas.to_datetime(s, errors='ignore')\n",
      "/home/sam-konf/Konfuzio/konfuzio-sdk/notebooks/../konfuzio_sdk/trainer/information_extraction.py:1005: UserWarning: Parsing '21.12.2017' in DD/MM/YYYY format. Provide format or specify infer_datetime_format=True for consistent parsing.\n",
      "  date2 = pandas.to_datetime(s, errors='ignore')\n",
      "/home/sam-konf/Konfuzio/konfuzio-sdk/notebooks/../konfuzio_sdk/trainer/information_extraction.py:1005: UserWarning: Parsing '21.12.2017' in DD/MM/YYYY format. Provide format or specify infer_datetime_format=True for consistent parsing.\n",
      "  date2 = pandas.to_datetime(s, errors='ignore')\n",
      "/home/sam-konf/Konfuzio/konfuzio-sdk/notebooks/../konfuzio_sdk/trainer/information_extraction.py:1662: PerformanceWarning: DataFrame is highly fragmented.  This is usually the result of calling `frame.insert` many times, which has poor performance.  Consider joining all columns at once using pd.concat(axis=1) instead. To get a de-fragmented frame, use `newframe = frame.copy()`\n",
      "  df[\"relative_position_in_page\"] = df[\"page_index\"] / document_n_pages\n",
      "/home/sam-konf/Konfuzio/konfuzio-sdk/notebooks/../konfuzio_sdk/tokenizer/regex.py:74: FutureWarning: WIP: Modifications before the next stable release expected.\n",
      "  span.bbox()  # check that the bbox can be calculated  # todo add test\n",
      "/home/sam-konf/Konfuzio/konfuzio-sdk/notebooks/../konfuzio_sdk/data.py:908: FutureWarning: WIP: Modifications before the next stable release expected.\n",
      "  characters = {key: self.annotation.document.bboxes.get(key) for key in character_range}\n",
      "/home/sam-konf/Konfuzio/konfuzio-sdk/notebooks/../konfuzio_sdk/trainer/information_extraction.py:1005: UserWarning: Parsing '21.12.2017' in DD/MM/YYYY format. Provide format or specify infer_datetime_format=True for consistent parsing.\n",
      "  date2 = pandas.to_datetime(s, errors='ignore')\n",
      "/home/sam-konf/Konfuzio/konfuzio-sdk/notebooks/../konfuzio_sdk/trainer/information_extraction.py:1005: UserWarning: Parsing '21.12.2017' in DD/MM/YYYY format. Provide format or specify infer_datetime_format=True for consistent parsing.\n",
      "  date2 = pandas.to_datetime(s, errors='ignore')\n",
      "/home/sam-konf/Konfuzio/konfuzio-sdk/notebooks/../konfuzio_sdk/trainer/information_extraction.py:1005: UserWarning: Parsing '21.12.2017' in DD/MM/YYYY format. Provide format or specify infer_datetime_format=True for consistent parsing.\n",
      "  date2 = pandas.to_datetime(s, errors='ignore')\n",
      "/home/sam-konf/Konfuzio/konfuzio-sdk/notebooks/../konfuzio_sdk/trainer/information_extraction.py:1005: UserWarning: Parsing '21.12.2017' in DD/MM/YYYY format. Provide format or specify infer_datetime_format=True for consistent parsing.\n",
      "  date2 = pandas.to_datetime(s, errors='ignore')\n",
      "/home/sam-konf/Konfuzio/konfuzio-sdk/notebooks/../konfuzio_sdk/trainer/information_extraction.py:1005: UserWarning: Parsing '21.12.2017' in DD/MM/YYYY format. Provide format or specify infer_datetime_format=True for consistent parsing.\n",
      "  date2 = pandas.to_datetime(s, errors='ignore')\n",
      "/home/sam-konf/Konfuzio/konfuzio-sdk/notebooks/../konfuzio_sdk/trainer/information_extraction.py:1662: PerformanceWarning: DataFrame is highly fragmented.  This is usually the result of calling `frame.insert` many times, which has poor performance.  Consider joining all columns at once using pd.concat(axis=1) instead. To get a de-fragmented frame, use `newframe = frame.copy()`\n",
      "  df[\"relative_position_in_page\"] = df[\"page_index\"] / document_n_pages\n",
      "/home/sam-konf/Konfuzio/konfuzio-sdk/notebooks/../konfuzio_sdk/tokenizer/regex.py:74: FutureWarning: WIP: Modifications before the next stable release expected.\n",
      "  span.bbox()  # check that the bbox can be calculated  # todo add test\n",
      "/home/sam-konf/Konfuzio/konfuzio-sdk/notebooks/../konfuzio_sdk/data.py:908: FutureWarning: WIP: Modifications before the next stable release expected.\n",
      "  characters = {key: self.annotation.document.bboxes.get(key) for key in character_range}\n"
     ]
    },
    {
     "name": "stderr",
     "output_type": "stream",
     "text": [
      "/home/sam-konf/Konfuzio/konfuzio-sdk/notebooks/../konfuzio_sdk/trainer/information_extraction.py:1005: UserWarning: Parsing '21.12.2017' in DD/MM/YYYY format. Provide format or specify infer_datetime_format=True for consistent parsing.\n",
      "  date2 = pandas.to_datetime(s, errors='ignore')\n",
      "/home/sam-konf/Konfuzio/konfuzio-sdk/notebooks/../konfuzio_sdk/trainer/information_extraction.py:1005: UserWarning: Parsing '21.12.2017' in DD/MM/YYYY format. Provide format or specify infer_datetime_format=True for consistent parsing.\n",
      "  date2 = pandas.to_datetime(s, errors='ignore')\n",
      "/home/sam-konf/Konfuzio/konfuzio-sdk/notebooks/../konfuzio_sdk/trainer/information_extraction.py:1005: UserWarning: Parsing '21.12.2017' in DD/MM/YYYY format. Provide format or specify infer_datetime_format=True for consistent parsing.\n",
      "  date2 = pandas.to_datetime(s, errors='ignore')\n",
      "/home/sam-konf/Konfuzio/konfuzio-sdk/notebooks/../konfuzio_sdk/trainer/information_extraction.py:1005: UserWarning: Parsing '21.12.2017' in DD/MM/YYYY format. Provide format or specify infer_datetime_format=True for consistent parsing.\n",
      "  date2 = pandas.to_datetime(s, errors='ignore')\n",
      "/home/sam-konf/Konfuzio/konfuzio-sdk/notebooks/../konfuzio_sdk/trainer/information_extraction.py:1005: UserWarning: Parsing '21.12.2017' in DD/MM/YYYY format. Provide format or specify infer_datetime_format=True for consistent parsing.\n",
      "  date2 = pandas.to_datetime(s, errors='ignore')\n",
      "/home/sam-konf/Konfuzio/konfuzio-sdk/notebooks/../konfuzio_sdk/trainer/information_extraction.py:1662: PerformanceWarning: DataFrame is highly fragmented.  This is usually the result of calling `frame.insert` many times, which has poor performance.  Consider joining all columns at once using pd.concat(axis=1) instead. To get a de-fragmented frame, use `newframe = frame.copy()`\n",
      "  df[\"relative_position_in_page\"] = df[\"page_index\"] / document_n_pages\n",
      "/home/sam-konf/Konfuzio/konfuzio-sdk/notebooks/../konfuzio_sdk/tokenizer/regex.py:74: FutureWarning: WIP: Modifications before the next stable release expected.\n",
      "  span.bbox()  # check that the bbox can be calculated  # todo add test\n",
      "/home/sam-konf/Konfuzio/konfuzio-sdk/notebooks/../konfuzio_sdk/data.py:908: FutureWarning: WIP: Modifications before the next stable release expected.\n",
      "  characters = {key: self.annotation.document.bboxes.get(key) for key in character_range}\n",
      "/home/sam-konf/Konfuzio/konfuzio-sdk/notebooks/../konfuzio_sdk/trainer/information_extraction.py:1005: UserWarning: Parsing '21.12.2017' in DD/MM/YYYY format. Provide format or specify infer_datetime_format=True for consistent parsing.\n",
      "  date2 = pandas.to_datetime(s, errors='ignore')\n",
      "/home/sam-konf/Konfuzio/konfuzio-sdk/notebooks/../konfuzio_sdk/trainer/information_extraction.py:1005: UserWarning: Parsing '21.12.2017' in DD/MM/YYYY format. Provide format or specify infer_datetime_format=True for consistent parsing.\n",
      "  date2 = pandas.to_datetime(s, errors='ignore')\n",
      "/home/sam-konf/Konfuzio/konfuzio-sdk/notebooks/../konfuzio_sdk/trainer/information_extraction.py:1005: UserWarning: Parsing '21.12.2017' in DD/MM/YYYY format. Provide format or specify infer_datetime_format=True for consistent parsing.\n",
      "  date2 = pandas.to_datetime(s, errors='ignore')\n",
      "/home/sam-konf/Konfuzio/konfuzio-sdk/notebooks/../konfuzio_sdk/trainer/information_extraction.py:1005: UserWarning: Parsing '21.12.2017' in DD/MM/YYYY format. Provide format or specify infer_datetime_format=True for consistent parsing.\n",
      "  date2 = pandas.to_datetime(s, errors='ignore')\n",
      "/home/sam-konf/Konfuzio/konfuzio-sdk/notebooks/../konfuzio_sdk/trainer/information_extraction.py:1005: UserWarning: Parsing '21.12.2017' in DD/MM/YYYY format. Provide format or specify infer_datetime_format=True for consistent parsing.\n",
      "  date2 = pandas.to_datetime(s, errors='ignore')\n",
      "/home/sam-konf/Konfuzio/konfuzio-sdk/notebooks/../konfuzio_sdk/trainer/information_extraction.py:1662: PerformanceWarning: DataFrame is highly fragmented.  This is usually the result of calling `frame.insert` many times, which has poor performance.  Consider joining all columns at once using pd.concat(axis=1) instead. To get a de-fragmented frame, use `newframe = frame.copy()`\n",
      "  df[\"relative_position_in_page\"] = df[\"page_index\"] / document_n_pages\n",
      "/home/sam-konf/Konfuzio/konfuzio-sdk/notebooks/../konfuzio_sdk/tokenizer/regex.py:74: FutureWarning: WIP: Modifications before the next stable release expected.\n",
      "  span.bbox()  # check that the bbox can be calculated  # todo add test\n",
      "/home/sam-konf/Konfuzio/konfuzio-sdk/notebooks/../konfuzio_sdk/data.py:908: FutureWarning: WIP: Modifications before the next stable release expected.\n",
      "  characters = {key: self.annotation.document.bboxes.get(key) for key in character_range}\n",
      "/home/sam-konf/Konfuzio/konfuzio-sdk/notebooks/../konfuzio_sdk/trainer/information_extraction.py:1005: UserWarning: Parsing '21.12.2017' in DD/MM/YYYY format. Provide format or specify infer_datetime_format=True for consistent parsing.\n",
      "  date2 = pandas.to_datetime(s, errors='ignore')\n",
      "/home/sam-konf/Konfuzio/konfuzio-sdk/notebooks/../konfuzio_sdk/trainer/information_extraction.py:1005: UserWarning: Parsing '21.12.2017' in DD/MM/YYYY format. Provide format or specify infer_datetime_format=True for consistent parsing.\n",
      "  date2 = pandas.to_datetime(s, errors='ignore')\n",
      "/home/sam-konf/Konfuzio/konfuzio-sdk/notebooks/../konfuzio_sdk/trainer/information_extraction.py:1005: UserWarning: Parsing '21.12.2017' in DD/MM/YYYY format. Provide format or specify infer_datetime_format=True for consistent parsing.\n",
      "  date2 = pandas.to_datetime(s, errors='ignore')\n",
      "/home/sam-konf/Konfuzio/konfuzio-sdk/notebooks/../konfuzio_sdk/trainer/information_extraction.py:1005: UserWarning: Parsing '21.12.2017' in DD/MM/YYYY format. Provide format or specify infer_datetime_format=True for consistent parsing.\n",
      "  date2 = pandas.to_datetime(s, errors='ignore')\n",
      "/home/sam-konf/Konfuzio/konfuzio-sdk/notebooks/../konfuzio_sdk/trainer/information_extraction.py:1005: UserWarning: Parsing '21.12.2017' in DD/MM/YYYY format. Provide format or specify infer_datetime_format=True for consistent parsing.\n",
      "  date2 = pandas.to_datetime(s, errors='ignore')\n",
      "/home/sam-konf/Konfuzio/konfuzio-sdk/notebooks/../konfuzio_sdk/trainer/information_extraction.py:1662: PerformanceWarning: DataFrame is highly fragmented.  This is usually the result of calling `frame.insert` many times, which has poor performance.  Consider joining all columns at once using pd.concat(axis=1) instead. To get a de-fragmented frame, use `newframe = frame.copy()`\n",
      "  df[\"relative_position_in_page\"] = df[\"page_index\"] / document_n_pages\n",
      "/home/sam-konf/Konfuzio/konfuzio-sdk/notebooks/../konfuzio_sdk/tokenizer/regex.py:74: FutureWarning: WIP: Modifications before the next stable release expected.\n",
      "  span.bbox()  # check that the bbox can be calculated  # todo add test\n",
      "/home/sam-konf/Konfuzio/konfuzio-sdk/notebooks/../konfuzio_sdk/data.py:908: FutureWarning: WIP: Modifications before the next stable release expected.\n",
      "  characters = {key: self.annotation.document.bboxes.get(key) for key in character_range}\n",
      "/home/sam-konf/Konfuzio/konfuzio-sdk/notebooks/../konfuzio_sdk/trainer/information_extraction.py:1005: UserWarning: Parsing '21.12.2017' in DD/MM/YYYY format. Provide format or specify infer_datetime_format=True for consistent parsing.\n",
      "  date2 = pandas.to_datetime(s, errors='ignore')\n",
      "/home/sam-konf/Konfuzio/konfuzio-sdk/notebooks/../konfuzio_sdk/trainer/information_extraction.py:1005: UserWarning: Parsing '21.12.2017' in DD/MM/YYYY format. Provide format or specify infer_datetime_format=True for consistent parsing.\n",
      "  date2 = pandas.to_datetime(s, errors='ignore')\n",
      "/home/sam-konf/Konfuzio/konfuzio-sdk/notebooks/../konfuzio_sdk/trainer/information_extraction.py:1005: UserWarning: Parsing '21.12.2017' in DD/MM/YYYY format. Provide format or specify infer_datetime_format=True for consistent parsing.\n",
      "  date2 = pandas.to_datetime(s, errors='ignore')\n",
      "/home/sam-konf/Konfuzio/konfuzio-sdk/notebooks/../konfuzio_sdk/trainer/information_extraction.py:1005: UserWarning: Parsing '21.12.2017' in DD/MM/YYYY format. Provide format or specify infer_datetime_format=True for consistent parsing.\n",
      "  date2 = pandas.to_datetime(s, errors='ignore')\n",
      "/home/sam-konf/Konfuzio/konfuzio-sdk/notebooks/../konfuzio_sdk/trainer/information_extraction.py:1005: UserWarning: Parsing '21.12.2017' in DD/MM/YYYY format. Provide format or specify infer_datetime_format=True for consistent parsing.\n",
      "  date2 = pandas.to_datetime(s, errors='ignore')\n",
      "/home/sam-konf/Konfuzio/konfuzio-sdk/notebooks/../konfuzio_sdk/trainer/information_extraction.py:1662: PerformanceWarning: DataFrame is highly fragmented.  This is usually the result of calling `frame.insert` many times, which has poor performance.  Consider joining all columns at once using pd.concat(axis=1) instead. To get a de-fragmented frame, use `newframe = frame.copy()`\n",
      "  df[\"relative_position_in_page\"] = df[\"page_index\"] / document_n_pages\n",
      "/home/sam-konf/Konfuzio/konfuzio-sdk/notebooks/../konfuzio_sdk/tokenizer/regex.py:74: FutureWarning: WIP: Modifications before the next stable release expected.\n",
      "  span.bbox()  # check that the bbox can be calculated  # todo add test\n",
      "/home/sam-konf/Konfuzio/konfuzio-sdk/notebooks/../konfuzio_sdk/data.py:908: FutureWarning: WIP: Modifications before the next stable release expected.\n",
      "  characters = {key: self.annotation.document.bboxes.get(key) for key in character_range}\n"
     ]
    },
    {
     "name": "stderr",
     "output_type": "stream",
     "text": [
      "/home/sam-konf/Konfuzio/konfuzio-sdk/notebooks/../konfuzio_sdk/trainer/information_extraction.py:1005: UserWarning: Parsing '21.12.2017' in DD/MM/YYYY format. Provide format or specify infer_datetime_format=True for consistent parsing.\n",
      "  date2 = pandas.to_datetime(s, errors='ignore')\n",
      "/home/sam-konf/Konfuzio/konfuzio-sdk/notebooks/../konfuzio_sdk/trainer/information_extraction.py:1005: UserWarning: Parsing '21.12.2017' in DD/MM/YYYY format. Provide format or specify infer_datetime_format=True for consistent parsing.\n",
      "  date2 = pandas.to_datetime(s, errors='ignore')\n",
      "/home/sam-konf/Konfuzio/konfuzio-sdk/notebooks/../konfuzio_sdk/trainer/information_extraction.py:1005: UserWarning: Parsing '21.12.2017' in DD/MM/YYYY format. Provide format or specify infer_datetime_format=True for consistent parsing.\n",
      "  date2 = pandas.to_datetime(s, errors='ignore')\n",
      "/home/sam-konf/Konfuzio/konfuzio-sdk/notebooks/../konfuzio_sdk/trainer/information_extraction.py:1005: UserWarning: Parsing '21.12.2017' in DD/MM/YYYY format. Provide format or specify infer_datetime_format=True for consistent parsing.\n",
      "  date2 = pandas.to_datetime(s, errors='ignore')\n",
      "/home/sam-konf/Konfuzio/konfuzio-sdk/notebooks/../konfuzio_sdk/trainer/information_extraction.py:1005: UserWarning: Parsing '21.12.2017' in DD/MM/YYYY format. Provide format or specify infer_datetime_format=True for consistent parsing.\n",
      "  date2 = pandas.to_datetime(s, errors='ignore')\n",
      "/home/sam-konf/Konfuzio/konfuzio-sdk/notebooks/../konfuzio_sdk/trainer/information_extraction.py:1662: PerformanceWarning: DataFrame is highly fragmented.  This is usually the result of calling `frame.insert` many times, which has poor performance.  Consider joining all columns at once using pd.concat(axis=1) instead. To get a de-fragmented frame, use `newframe = frame.copy()`\n",
      "  df[\"relative_position_in_page\"] = df[\"page_index\"] / document_n_pages\n",
      "/home/sam-konf/Konfuzio/konfuzio-sdk/notebooks/../konfuzio_sdk/tokenizer/regex.py:74: FutureWarning: WIP: Modifications before the next stable release expected.\n",
      "  span.bbox()  # check that the bbox can be calculated  # todo add test\n",
      "/home/sam-konf/Konfuzio/konfuzio-sdk/notebooks/../konfuzio_sdk/data.py:908: FutureWarning: WIP: Modifications before the next stable release expected.\n",
      "  characters = {key: self.annotation.document.bboxes.get(key) for key in character_range}\n",
      "/home/sam-konf/Konfuzio/konfuzio-sdk/notebooks/../konfuzio_sdk/trainer/information_extraction.py:1005: UserWarning: Parsing '21.12.2017' in DD/MM/YYYY format. Provide format or specify infer_datetime_format=True for consistent parsing.\n",
      "  date2 = pandas.to_datetime(s, errors='ignore')\n",
      "/home/sam-konf/Konfuzio/konfuzio-sdk/notebooks/../konfuzio_sdk/trainer/information_extraction.py:1005: UserWarning: Parsing '21.12.2017' in DD/MM/YYYY format. Provide format or specify infer_datetime_format=True for consistent parsing.\n",
      "  date2 = pandas.to_datetime(s, errors='ignore')\n",
      "/home/sam-konf/Konfuzio/konfuzio-sdk/notebooks/../konfuzio_sdk/trainer/information_extraction.py:1005: UserWarning: Parsing '21.12.2017' in DD/MM/YYYY format. Provide format or specify infer_datetime_format=True for consistent parsing.\n",
      "  date2 = pandas.to_datetime(s, errors='ignore')\n",
      "/home/sam-konf/Konfuzio/konfuzio-sdk/notebooks/../konfuzio_sdk/trainer/information_extraction.py:1005: UserWarning: Parsing '21.12.2017' in DD/MM/YYYY format. Provide format or specify infer_datetime_format=True for consistent parsing.\n",
      "  date2 = pandas.to_datetime(s, errors='ignore')\n",
      "/home/sam-konf/Konfuzio/konfuzio-sdk/notebooks/../konfuzio_sdk/trainer/information_extraction.py:1005: UserWarning: Parsing '21.12.2017' in DD/MM/YYYY format. Provide format or specify infer_datetime_format=True for consistent parsing.\n",
      "  date2 = pandas.to_datetime(s, errors='ignore')\n",
      "/home/sam-konf/Konfuzio/konfuzio-sdk/notebooks/../konfuzio_sdk/trainer/information_extraction.py:1662: PerformanceWarning: DataFrame is highly fragmented.  This is usually the result of calling `frame.insert` many times, which has poor performance.  Consider joining all columns at once using pd.concat(axis=1) instead. To get a de-fragmented frame, use `newframe = frame.copy()`\n",
      "  df[\"relative_position_in_page\"] = df[\"page_index\"] / document_n_pages\n",
      "/home/sam-konf/Konfuzio/konfuzio-sdk/notebooks/../konfuzio_sdk/tokenizer/regex.py:74: FutureWarning: WIP: Modifications before the next stable release expected.\n",
      "  span.bbox()  # check that the bbox can be calculated  # todo add test\n",
      "/home/sam-konf/Konfuzio/konfuzio-sdk/notebooks/../konfuzio_sdk/data.py:908: FutureWarning: WIP: Modifications before the next stable release expected.\n",
      "  characters = {key: self.annotation.document.bboxes.get(key) for key in character_range}\n",
      "/home/sam-konf/Konfuzio/konfuzio-sdk/notebooks/../konfuzio_sdk/trainer/information_extraction.py:1005: UserWarning: Parsing '21.12.2017' in DD/MM/YYYY format. Provide format or specify infer_datetime_format=True for consistent parsing.\n",
      "  date2 = pandas.to_datetime(s, errors='ignore')\n",
      "/home/sam-konf/Konfuzio/konfuzio-sdk/notebooks/../konfuzio_sdk/trainer/information_extraction.py:1005: UserWarning: Parsing '21.12.2017' in DD/MM/YYYY format. Provide format or specify infer_datetime_format=True for consistent parsing.\n",
      "  date2 = pandas.to_datetime(s, errors='ignore')\n",
      "/home/sam-konf/Konfuzio/konfuzio-sdk/notebooks/../konfuzio_sdk/trainer/information_extraction.py:1005: UserWarning: Parsing '21.12.2017' in DD/MM/YYYY format. Provide format or specify infer_datetime_format=True for consistent parsing.\n",
      "  date2 = pandas.to_datetime(s, errors='ignore')\n",
      "/home/sam-konf/Konfuzio/konfuzio-sdk/notebooks/../konfuzio_sdk/trainer/information_extraction.py:1005: UserWarning: Parsing '21.12.2017' in DD/MM/YYYY format. Provide format or specify infer_datetime_format=True for consistent parsing.\n",
      "  date2 = pandas.to_datetime(s, errors='ignore')\n",
      "/home/sam-konf/Konfuzio/konfuzio-sdk/notebooks/../konfuzio_sdk/trainer/information_extraction.py:1005: UserWarning: Parsing '21.12.2017' in DD/MM/YYYY format. Provide format or specify infer_datetime_format=True for consistent parsing.\n",
      "  date2 = pandas.to_datetime(s, errors='ignore')\n",
      "/home/sam-konf/Konfuzio/konfuzio-sdk/notebooks/../konfuzio_sdk/trainer/information_extraction.py:1662: PerformanceWarning: DataFrame is highly fragmented.  This is usually the result of calling `frame.insert` many times, which has poor performance.  Consider joining all columns at once using pd.concat(axis=1) instead. To get a de-fragmented frame, use `newframe = frame.copy()`\n",
      "  df[\"relative_position_in_page\"] = df[\"page_index\"] / document_n_pages\n",
      "/home/sam-konf/Konfuzio/konfuzio-sdk/notebooks/../konfuzio_sdk/tokenizer/regex.py:74: FutureWarning: WIP: Modifications before the next stable release expected.\n",
      "  span.bbox()  # check that the bbox can be calculated  # todo add test\n",
      "/home/sam-konf/Konfuzio/konfuzio-sdk/notebooks/../konfuzio_sdk/data.py:908: FutureWarning: WIP: Modifications before the next stable release expected.\n",
      "  characters = {key: self.annotation.document.bboxes.get(key) for key in character_range}\n",
      "/home/sam-konf/Konfuzio/konfuzio-sdk/notebooks/../konfuzio_sdk/trainer/information_extraction.py:1005: UserWarning: Parsing '21.12.2017' in DD/MM/YYYY format. Provide format or specify infer_datetime_format=True for consistent parsing.\n",
      "  date2 = pandas.to_datetime(s, errors='ignore')\n",
      "/home/sam-konf/Konfuzio/konfuzio-sdk/notebooks/../konfuzio_sdk/trainer/information_extraction.py:1005: UserWarning: Parsing '21.12.2017' in DD/MM/YYYY format. Provide format or specify infer_datetime_format=True for consistent parsing.\n",
      "  date2 = pandas.to_datetime(s, errors='ignore')\n",
      "/home/sam-konf/Konfuzio/konfuzio-sdk/notebooks/../konfuzio_sdk/trainer/information_extraction.py:1005: UserWarning: Parsing '21.12.2017' in DD/MM/YYYY format. Provide format or specify infer_datetime_format=True for consistent parsing.\n",
      "  date2 = pandas.to_datetime(s, errors='ignore')\n",
      "/home/sam-konf/Konfuzio/konfuzio-sdk/notebooks/../konfuzio_sdk/trainer/information_extraction.py:1005: UserWarning: Parsing '21.12.2017' in DD/MM/YYYY format. Provide format or specify infer_datetime_format=True for consistent parsing.\n",
      "  date2 = pandas.to_datetime(s, errors='ignore')\n",
      "/home/sam-konf/Konfuzio/konfuzio-sdk/notebooks/../konfuzio_sdk/trainer/information_extraction.py:1005: UserWarning: Parsing '21.12.2017' in DD/MM/YYYY format. Provide format or specify infer_datetime_format=True for consistent parsing.\n",
      "  date2 = pandas.to_datetime(s, errors='ignore')\n",
      "/home/sam-konf/Konfuzio/konfuzio-sdk/notebooks/../konfuzio_sdk/trainer/information_extraction.py:1662: PerformanceWarning: DataFrame is highly fragmented.  This is usually the result of calling `frame.insert` many times, which has poor performance.  Consider joining all columns at once using pd.concat(axis=1) instead. To get a de-fragmented frame, use `newframe = frame.copy()`\n",
      "  df[\"relative_position_in_page\"] = df[\"page_index\"] / document_n_pages\n"
     ]
    }
   ],
   "source": [
    "# Extract features\n",
    "pipeline.df_train, pipeline.label_feature_list = pipeline.feature_function(documents=documents, retokenize=True)\n",
    "# pipeline.df_train, pipeline.label_feature_list, err = pipeline.features(documents=training_docs)\n",
    "\n",
    "#pipeline.df_test, pipeline.test_label_feature_list = pipeline.feature_function(documents=test_documents)\n"
   ]
  },
  {
   "cell_type": "code",
   "execution_count": 43,
   "id": "7bfad348",
   "metadata": {},
   "outputs": [
    {
     "data": {
      "text/plain": [
       "(7825, 339)"
      ]
     },
     "execution_count": 43,
     "metadata": {},
     "output_type": "execute_result"
    }
   ],
   "source": [
    "pipeline.df_train.shape"
   ]
  },
  {
   "cell_type": "code",
   "execution_count": 44,
   "id": "59a97811",
   "metadata": {},
   "outputs": [],
   "source": [
    "# number of annotations to label accross all documents\n",
    "# print(sum([len(d.annotations(use_correct=True)) for d in test_documents]))\n",
    "# print(sum([len(d.spans(use_correct=True)) for d in test_documents]))"
   ]
  },
  {
   "cell_type": "markdown",
   "id": "364015e5",
   "metadata": {
    "variables": {
     " len(pipeline.label_feature_list) ": "270"
    }
   },
   "source": [
    "{{ len(pipeline.label_feature_list) }} is the number of features we use to classify each annotation"
   ]
  },
  {
   "cell_type": "code",
   "execution_count": 45,
   "id": "89a9b8d5",
   "metadata": {},
   "outputs": [],
   "source": [
    "# print(sum([len(d.annotations(use_correct=False)) for d in test_documents]))"
   ]
  },
  {
   "cell_type": "code",
   "execution_count": 46,
   "id": "b361e2f5",
   "metadata": {},
   "outputs": [],
   "source": [
    "# pipeline.df_test.shape"
   ]
  },
  {
   "cell_type": "code",
   "execution_count": 47,
   "id": "84e1e044",
   "metadata": {},
   "outputs": [
    {
     "data": {
      "text/plain": [
       "270"
      ]
     },
     "execution_count": 47,
     "metadata": {},
     "output_type": "execute_result"
    }
   ],
   "source": [
    "len(pipeline.label_feature_list)"
   ]
  },
  {
   "cell_type": "code",
   "execution_count": 48,
   "id": "7efc2c3f",
   "metadata": {},
   "outputs": [],
   "source": [
    "# pipeline.label_feature_list"
   ]
  },
  {
   "cell_type": "code",
   "execution_count": 49,
   "id": "90df529b",
   "metadata": {},
   "outputs": [],
   "source": [
    "# pipeline.feature_function(documents=documents)"
   ]
  },
  {
   "cell_type": "code",
   "execution_count": 50,
   "id": "cc94f619",
   "metadata": {},
   "outputs": [
    {
     "data": {
      "text/plain": [
       "RandomForestClassifier(class_weight='balanced', max_depth=100, random_state=420)"
      ]
     },
     "execution_count": 50,
     "metadata": {},
     "output_type": "execute_result"
    }
   ],
   "source": [
    "  # Start to train the Classifier.\n",
    "# logger.setLevel(logging.INFO)\n",
    "pipeline.fit()\n",
    "# logger.setLevel(logging.ERROR)"
   ]
  },
  {
   "cell_type": "markdown",
   "id": "30a50584",
   "metadata": {},
   "source": [
    "And now we can save the trained Annotation classifier:"
   ]
  },
  {
   "cell_type": "code",
   "execution_count": 51,
   "id": "e853c8cc",
   "metadata": {},
   "outputs": [],
   "source": [
    "pipeline_path = pipeline.save(output_dir='.')\n",
    "# pipeline_path"
   ]
  },
  {
   "cell_type": "code",
   "execution_count": 52,
   "id": "b53aaea5",
   "metadata": {},
   "outputs": [],
   "source": [
    "# logger.setLevel(logging.INFO)"
   ]
  },
  {
   "cell_type": "code",
   "execution_count": 53,
   "id": "6c06970a",
   "metadata": {},
   "outputs": [],
   "source": [
    "# pipeline.evaluate() # https://github.com/konfuzio-ai/konfuzio-sdk/pull/109 ?"
   ]
  },
  {
   "cell_type": "code",
   "execution_count": 54,
   "id": "8483882e",
   "metadata": {},
   "outputs": [
    {
     "name": "stderr",
     "output_type": "stream",
     "text": [
      "/home/sam-konf/Konfuzio/konfuzio-sdk/notebooks/../konfuzio_sdk/tokenizer/regex.py:74: FutureWarning: WIP: Modifications before the next stable release expected.\n",
      "  span.bbox()  # check that the bbox can be calculated  # todo add test\n",
      "/home/sam-konf/Konfuzio/konfuzio-sdk/notebooks/../konfuzio_sdk/data.py:908: FutureWarning: WIP: Modifications before the next stable release expected.\n",
      "  characters = {key: self.annotation.document.bboxes.get(key) for key in character_range}\n",
      "/home/sam-konf/Konfuzio/konfuzio-sdk/notebooks/../konfuzio_sdk/trainer/information_extraction.py:1005: UserWarning: Parsing '21.12.2017' in DD/MM/YYYY format. Provide format or specify infer_datetime_format=True for consistent parsing.\n",
      "  date2 = pandas.to_datetime(s, errors='ignore')\n",
      "/home/sam-konf/Konfuzio/konfuzio-sdk/notebooks/../konfuzio_sdk/trainer/information_extraction.py:1005: UserWarning: Parsing '21.12.2017' in DD/MM/YYYY format. Provide format or specify infer_datetime_format=True for consistent parsing.\n",
      "  date2 = pandas.to_datetime(s, errors='ignore')\n",
      "/home/sam-konf/Konfuzio/konfuzio-sdk/notebooks/../konfuzio_sdk/trainer/information_extraction.py:1005: UserWarning: Parsing '21.12.2017' in DD/MM/YYYY format. Provide format or specify infer_datetime_format=True for consistent parsing.\n",
      "  date2 = pandas.to_datetime(s, errors='ignore')\n",
      "/home/sam-konf/Konfuzio/konfuzio-sdk/notebooks/../konfuzio_sdk/trainer/information_extraction.py:1005: UserWarning: Parsing '21.12.2017' in DD/MM/YYYY format. Provide format or specify infer_datetime_format=True for consistent parsing.\n",
      "  date2 = pandas.to_datetime(s, errors='ignore')\n",
      "/home/sam-konf/Konfuzio/konfuzio-sdk/notebooks/../konfuzio_sdk/trainer/information_extraction.py:1005: UserWarning: Parsing '21.12.2017' in DD/MM/YYYY format. Provide format or specify infer_datetime_format=True for consistent parsing.\n",
      "  date2 = pandas.to_datetime(s, errors='ignore')\n",
      "/home/sam-konf/Konfuzio/konfuzio-sdk/notebooks/../konfuzio_sdk/trainer/information_extraction.py:1662: PerformanceWarning: DataFrame is highly fragmented.  This is usually the result of calling `frame.insert` many times, which has poor performance.  Consider joining all columns at once using pd.concat(axis=1) instead. To get a de-fragmented frame, use `newframe = frame.copy()`\n",
      "  df[\"relative_position_in_page\"] = df[\"page_index\"] / document_n_pages\n",
      "/home/sam-konf/Konfuzio/konfuzio-sdk/notebooks/../konfuzio_sdk/trainer/information_extraction.py:687: FutureWarning: The frame.append method is deprecated and will be removed from pandas in a future version. Use pandas.concat instead.\n",
      "  df = df.append(label_df, sort=True)\n",
      "/home/sam-konf/Konfuzio/konfuzio-sdk/notebooks/../konfuzio_sdk/trainer/information_extraction.py:687: FutureWarning: The frame.append method is deprecated and will be removed from pandas in a future version. Use pandas.concat instead.\n",
      "  df = df.append(label_df, sort=True)\n",
      "/home/sam-konf/Konfuzio/konfuzio-sdk/notebooks/../konfuzio_sdk/trainer/information_extraction.py:687: FutureWarning: The frame.append method is deprecated and will be removed from pandas in a future version. Use pandas.concat instead.\n",
      "  df = df.append(label_df, sort=True)\n",
      "/home/sam-konf/Konfuzio/konfuzio-sdk/notebooks/../konfuzio_sdk/trainer/information_extraction.py:687: FutureWarning: The frame.append method is deprecated and will be removed from pandas in a future version. Use pandas.concat instead.\n",
      "  df = df.append(label_df, sort=True)\n",
      "/home/sam-konf/Konfuzio/konfuzio-sdk/notebooks/../konfuzio_sdk/trainer/information_extraction.py:687: FutureWarning: The frame.append method is deprecated and will be removed from pandas in a future version. Use pandas.concat instead.\n",
      "  df = df.append(label_df, sort=True)\n",
      "/home/sam-konf/Konfuzio/konfuzio-sdk/notebooks/../konfuzio_sdk/trainer/information_extraction.py:687: FutureWarning: The frame.append method is deprecated and will be removed from pandas in a future version. Use pandas.concat instead.\n",
      "  df = df.append(label_df, sort=True)\n",
      "/home/sam-konf/Konfuzio/konfuzio-sdk/notebooks/../konfuzio_sdk/trainer/information_extraction.py:687: FutureWarning: The frame.append method is deprecated and will be removed from pandas in a future version. Use pandas.concat instead.\n",
      "  df = df.append(label_df, sort=True)\n",
      "/home/sam-konf/Konfuzio/konfuzio-sdk/notebooks/../konfuzio_sdk/trainer/information_extraction.py:687: FutureWarning: The frame.append method is deprecated and will be removed from pandas in a future version. Use pandas.concat instead.\n",
      "  df = df.append(label_df, sort=True)\n",
      "/home/sam-konf/Konfuzio/konfuzio-sdk/notebooks/../konfuzio_sdk/trainer/information_extraction.py:687: FutureWarning: The frame.append method is deprecated and will be removed from pandas in a future version. Use pandas.concat instead.\n",
      "  df = df.append(label_df, sort=True)\n",
      "/home/sam-konf/Konfuzio/konfuzio-sdk/notebooks/../konfuzio_sdk/trainer/information_extraction.py:687: FutureWarning: The frame.append method is deprecated and will be removed from pandas in a future version. Use pandas.concat instead.\n",
      "  df = df.append(label_df, sort=True)\n",
      "/home/sam-konf/Konfuzio/konfuzio-sdk/notebooks/../konfuzio_sdk/trainer/information_extraction.py:687: FutureWarning: The frame.append method is deprecated and will be removed from pandas in a future version. Use pandas.concat instead.\n",
      "  df = df.append(label_df, sort=True)\n",
      "/home/sam-konf/Konfuzio/konfuzio-sdk/notebooks/../konfuzio_sdk/trainer/information_extraction.py:687: FutureWarning: The frame.append method is deprecated and will be removed from pandas in a future version. Use pandas.concat instead.\n",
      "  df = df.append(label_df, sort=True)\n",
      "/home/sam-konf/Konfuzio/konfuzio-sdk/notebooks/../konfuzio_sdk/trainer/information_extraction.py:687: FutureWarning: The frame.append method is deprecated and will be removed from pandas in a future version. Use pandas.concat instead.\n",
      "  df = df.append(label_df, sort=True)\n",
      "/home/sam-konf/Konfuzio/konfuzio-sdk/notebooks/../konfuzio_sdk/trainer/information_extraction.py:687: FutureWarning: The frame.append method is deprecated and will be removed from pandas in a future version. Use pandas.concat instead.\n",
      "  df = df.append(label_df, sort=True)\n",
      "/home/sam-konf/Konfuzio/konfuzio-sdk/notebooks/../konfuzio_sdk/trainer/information_extraction.py:687: FutureWarning: The frame.append method is deprecated and will be removed from pandas in a future version. Use pandas.concat instead.\n",
      "  df = df.append(label_df, sort=True)\n",
      "/home/sam-konf/Konfuzio/konfuzio-sdk/notebooks/../konfuzio_sdk/trainer/information_extraction.py:687: FutureWarning: The frame.append method is deprecated and will be removed from pandas in a future version. Use pandas.concat instead.\n",
      "  df = df.append(label_df, sort=True)\n",
      "/home/sam-konf/Konfuzio/konfuzio-sdk/notebooks/../konfuzio_sdk/trainer/information_extraction.py:687: FutureWarning: The frame.append method is deprecated and will be removed from pandas in a future version. Use pandas.concat instead.\n",
      "  df = df.append(label_df, sort=True)\n",
      "/home/sam-konf/Konfuzio/konfuzio-sdk/notebooks/../konfuzio_sdk/tokenizer/regex.py:74: FutureWarning: WIP: Modifications before the next stable release expected.\n",
      "  span.bbox()  # check that the bbox can be calculated  # todo add test\n",
      "/home/sam-konf/Konfuzio/konfuzio-sdk/notebooks/../konfuzio_sdk/data.py:908: FutureWarning: WIP: Modifications before the next stable release expected.\n",
      "  characters = {key: self.annotation.document.bboxes.get(key) for key in character_range}\n",
      "/home/sam-konf/Konfuzio/konfuzio-sdk/notebooks/../konfuzio_sdk/trainer/information_extraction.py:1005: UserWarning: Parsing '21.12.2017' in DD/MM/YYYY format. Provide format or specify infer_datetime_format=True for consistent parsing.\n",
      "  date2 = pandas.to_datetime(s, errors='ignore')\n",
      "/home/sam-konf/Konfuzio/konfuzio-sdk/notebooks/../konfuzio_sdk/trainer/information_extraction.py:1005: UserWarning: Parsing '21.12.2017' in DD/MM/YYYY format. Provide format or specify infer_datetime_format=True for consistent parsing.\n",
      "  date2 = pandas.to_datetime(s, errors='ignore')\n",
      "/home/sam-konf/Konfuzio/konfuzio-sdk/notebooks/../konfuzio_sdk/trainer/information_extraction.py:1005: UserWarning: Parsing '21.12.2017' in DD/MM/YYYY format. Provide format or specify infer_datetime_format=True for consistent parsing.\n",
      "  date2 = pandas.to_datetime(s, errors='ignore')\n",
      "/home/sam-konf/Konfuzio/konfuzio-sdk/notebooks/../konfuzio_sdk/trainer/information_extraction.py:1005: UserWarning: Parsing '21.12.2017' in DD/MM/YYYY format. Provide format or specify infer_datetime_format=True for consistent parsing.\n",
      "  date2 = pandas.to_datetime(s, errors='ignore')\n",
      "/home/sam-konf/Konfuzio/konfuzio-sdk/notebooks/../konfuzio_sdk/trainer/information_extraction.py:1005: UserWarning: Parsing '21.12.2017' in DD/MM/YYYY format. Provide format or specify infer_datetime_format=True for consistent parsing.\n",
      "  date2 = pandas.to_datetime(s, errors='ignore')\n",
      "/home/sam-konf/Konfuzio/konfuzio-sdk/notebooks/../konfuzio_sdk/trainer/information_extraction.py:1662: PerformanceWarning: DataFrame is highly fragmented.  This is usually the result of calling `frame.insert` many times, which has poor performance.  Consider joining all columns at once using pd.concat(axis=1) instead. To get a de-fragmented frame, use `newframe = frame.copy()`\n",
      "  df[\"relative_position_in_page\"] = df[\"page_index\"] / document_n_pages\n",
      "/home/sam-konf/Konfuzio/konfuzio-sdk/notebooks/../konfuzio_sdk/trainer/information_extraction.py:687: FutureWarning: The frame.append method is deprecated and will be removed from pandas in a future version. Use pandas.concat instead.\n",
      "  df = df.append(label_df, sort=True)\n",
      "/home/sam-konf/Konfuzio/konfuzio-sdk/notebooks/../konfuzio_sdk/trainer/information_extraction.py:687: FutureWarning: The frame.append method is deprecated and will be removed from pandas in a future version. Use pandas.concat instead.\n",
      "  df = df.append(label_df, sort=True)\n",
      "/home/sam-konf/Konfuzio/konfuzio-sdk/notebooks/../konfuzio_sdk/trainer/information_extraction.py:687: FutureWarning: The frame.append method is deprecated and will be removed from pandas in a future version. Use pandas.concat instead.\n",
      "  df = df.append(label_df, sort=True)\n",
      "/home/sam-konf/Konfuzio/konfuzio-sdk/notebooks/../konfuzio_sdk/trainer/information_extraction.py:687: FutureWarning: The frame.append method is deprecated and will be removed from pandas in a future version. Use pandas.concat instead.\n",
      "  df = df.append(label_df, sort=True)\n",
      "/home/sam-konf/Konfuzio/konfuzio-sdk/notebooks/../konfuzio_sdk/trainer/information_extraction.py:687: FutureWarning: The frame.append method is deprecated and will be removed from pandas in a future version. Use pandas.concat instead.\n",
      "  df = df.append(label_df, sort=True)\n"
     ]
    },
    {
     "name": "stderr",
     "output_type": "stream",
     "text": [
      "/home/sam-konf/Konfuzio/konfuzio-sdk/notebooks/../konfuzio_sdk/trainer/information_extraction.py:687: FutureWarning: The frame.append method is deprecated and will be removed from pandas in a future version. Use pandas.concat instead.\n",
      "  df = df.append(label_df, sort=True)\n",
      "/home/sam-konf/Konfuzio/konfuzio-sdk/notebooks/../konfuzio_sdk/trainer/information_extraction.py:687: FutureWarning: The frame.append method is deprecated and will be removed from pandas in a future version. Use pandas.concat instead.\n",
      "  df = df.append(label_df, sort=True)\n",
      "/home/sam-konf/Konfuzio/konfuzio-sdk/notebooks/../konfuzio_sdk/trainer/information_extraction.py:687: FutureWarning: The frame.append method is deprecated and will be removed from pandas in a future version. Use pandas.concat instead.\n",
      "  df = df.append(label_df, sort=True)\n",
      "/home/sam-konf/Konfuzio/konfuzio-sdk/notebooks/../konfuzio_sdk/trainer/information_extraction.py:687: FutureWarning: The frame.append method is deprecated and will be removed from pandas in a future version. Use pandas.concat instead.\n",
      "  df = df.append(label_df, sort=True)\n",
      "/home/sam-konf/Konfuzio/konfuzio-sdk/notebooks/../konfuzio_sdk/trainer/information_extraction.py:687: FutureWarning: The frame.append method is deprecated and will be removed from pandas in a future version. Use pandas.concat instead.\n",
      "  df = df.append(label_df, sort=True)\n",
      "/home/sam-konf/Konfuzio/konfuzio-sdk/notebooks/../konfuzio_sdk/trainer/information_extraction.py:687: FutureWarning: The frame.append method is deprecated and will be removed from pandas in a future version. Use pandas.concat instead.\n",
      "  df = df.append(label_df, sort=True)\n",
      "/home/sam-konf/Konfuzio/konfuzio-sdk/notebooks/../konfuzio_sdk/trainer/information_extraction.py:687: FutureWarning: The frame.append method is deprecated and will be removed from pandas in a future version. Use pandas.concat instead.\n",
      "  df = df.append(label_df, sort=True)\n",
      "/home/sam-konf/Konfuzio/konfuzio-sdk/notebooks/../konfuzio_sdk/trainer/information_extraction.py:687: FutureWarning: The frame.append method is deprecated and will be removed from pandas in a future version. Use pandas.concat instead.\n",
      "  df = df.append(label_df, sort=True)\n",
      "/home/sam-konf/Konfuzio/konfuzio-sdk/notebooks/../konfuzio_sdk/trainer/information_extraction.py:687: FutureWarning: The frame.append method is deprecated and will be removed from pandas in a future version. Use pandas.concat instead.\n",
      "  df = df.append(label_df, sort=True)\n",
      "/home/sam-konf/Konfuzio/konfuzio-sdk/notebooks/../konfuzio_sdk/trainer/information_extraction.py:687: FutureWarning: The frame.append method is deprecated and will be removed from pandas in a future version. Use pandas.concat instead.\n",
      "  df = df.append(label_df, sort=True)\n",
      "/home/sam-konf/Konfuzio/konfuzio-sdk/notebooks/../konfuzio_sdk/trainer/information_extraction.py:687: FutureWarning: The frame.append method is deprecated and will be removed from pandas in a future version. Use pandas.concat instead.\n",
      "  df = df.append(label_df, sort=True)\n",
      "/home/sam-konf/Konfuzio/konfuzio-sdk/notebooks/../konfuzio_sdk/trainer/information_extraction.py:687: FutureWarning: The frame.append method is deprecated and will be removed from pandas in a future version. Use pandas.concat instead.\n",
      "  df = df.append(label_df, sort=True)\n",
      "/home/sam-konf/Konfuzio/konfuzio-sdk/notebooks/../konfuzio_sdk/tokenizer/regex.py:74: FutureWarning: WIP: Modifications before the next stable release expected.\n",
      "  span.bbox()  # check that the bbox can be calculated  # todo add test\n",
      "/home/sam-konf/Konfuzio/konfuzio-sdk/notebooks/../konfuzio_sdk/data.py:908: FutureWarning: WIP: Modifications before the next stable release expected.\n",
      "  characters = {key: self.annotation.document.bboxes.get(key) for key in character_range}\n",
      "/home/sam-konf/Konfuzio/konfuzio-sdk/notebooks/../konfuzio_sdk/trainer/information_extraction.py:1005: UserWarning: Parsing '21.12.2017' in DD/MM/YYYY format. Provide format or specify infer_datetime_format=True for consistent parsing.\n",
      "  date2 = pandas.to_datetime(s, errors='ignore')\n",
      "/home/sam-konf/Konfuzio/konfuzio-sdk/notebooks/../konfuzio_sdk/trainer/information_extraction.py:1005: UserWarning: Parsing '21.12.2017' in DD/MM/YYYY format. Provide format or specify infer_datetime_format=True for consistent parsing.\n",
      "  date2 = pandas.to_datetime(s, errors='ignore')\n",
      "/home/sam-konf/Konfuzio/konfuzio-sdk/notebooks/../konfuzio_sdk/trainer/information_extraction.py:1005: UserWarning: Parsing '21.12.2017' in DD/MM/YYYY format. Provide format or specify infer_datetime_format=True for consistent parsing.\n",
      "  date2 = pandas.to_datetime(s, errors='ignore')\n",
      "/home/sam-konf/Konfuzio/konfuzio-sdk/notebooks/../konfuzio_sdk/trainer/information_extraction.py:1005: UserWarning: Parsing '21.12.2017' in DD/MM/YYYY format. Provide format or specify infer_datetime_format=True for consistent parsing.\n",
      "  date2 = pandas.to_datetime(s, errors='ignore')\n",
      "/home/sam-konf/Konfuzio/konfuzio-sdk/notebooks/../konfuzio_sdk/trainer/information_extraction.py:1005: UserWarning: Parsing '21.12.2017' in DD/MM/YYYY format. Provide format or specify infer_datetime_format=True for consistent parsing.\n",
      "  date2 = pandas.to_datetime(s, errors='ignore')\n",
      "/home/sam-konf/Konfuzio/konfuzio-sdk/notebooks/../konfuzio_sdk/trainer/information_extraction.py:1662: PerformanceWarning: DataFrame is highly fragmented.  This is usually the result of calling `frame.insert` many times, which has poor performance.  Consider joining all columns at once using pd.concat(axis=1) instead. To get a de-fragmented frame, use `newframe = frame.copy()`\n",
      "  df[\"relative_position_in_page\"] = df[\"page_index\"] / document_n_pages\n",
      "/home/sam-konf/Konfuzio/konfuzio-sdk/notebooks/../konfuzio_sdk/trainer/information_extraction.py:687: FutureWarning: The frame.append method is deprecated and will be removed from pandas in a future version. Use pandas.concat instead.\n",
      "  df = df.append(label_df, sort=True)\n",
      "/home/sam-konf/Konfuzio/konfuzio-sdk/notebooks/../konfuzio_sdk/trainer/information_extraction.py:687: FutureWarning: The frame.append method is deprecated and will be removed from pandas in a future version. Use pandas.concat instead.\n",
      "  df = df.append(label_df, sort=True)\n",
      "/home/sam-konf/Konfuzio/konfuzio-sdk/notebooks/../konfuzio_sdk/trainer/information_extraction.py:687: FutureWarning: The frame.append method is deprecated and will be removed from pandas in a future version. Use pandas.concat instead.\n",
      "  df = df.append(label_df, sort=True)\n",
      "/home/sam-konf/Konfuzio/konfuzio-sdk/notebooks/../konfuzio_sdk/trainer/information_extraction.py:687: FutureWarning: The frame.append method is deprecated and will be removed from pandas in a future version. Use pandas.concat instead.\n",
      "  df = df.append(label_df, sort=True)\n",
      "/home/sam-konf/Konfuzio/konfuzio-sdk/notebooks/../konfuzio_sdk/trainer/information_extraction.py:687: FutureWarning: The frame.append method is deprecated and will be removed from pandas in a future version. Use pandas.concat instead.\n",
      "  df = df.append(label_df, sort=True)\n",
      "/home/sam-konf/Konfuzio/konfuzio-sdk/notebooks/../konfuzio_sdk/trainer/information_extraction.py:687: FutureWarning: The frame.append method is deprecated and will be removed from pandas in a future version. Use pandas.concat instead.\n",
      "  df = df.append(label_df, sort=True)\n",
      "/home/sam-konf/Konfuzio/konfuzio-sdk/notebooks/../konfuzio_sdk/trainer/information_extraction.py:687: FutureWarning: The frame.append method is deprecated and will be removed from pandas in a future version. Use pandas.concat instead.\n",
      "  df = df.append(label_df, sort=True)\n",
      "/home/sam-konf/Konfuzio/konfuzio-sdk/notebooks/../konfuzio_sdk/trainer/information_extraction.py:687: FutureWarning: The frame.append method is deprecated and will be removed from pandas in a future version. Use pandas.concat instead.\n",
      "  df = df.append(label_df, sort=True)\n",
      "/home/sam-konf/Konfuzio/konfuzio-sdk/notebooks/../konfuzio_sdk/trainer/information_extraction.py:687: FutureWarning: The frame.append method is deprecated and will be removed from pandas in a future version. Use pandas.concat instead.\n",
      "  df = df.append(label_df, sort=True)\n",
      "/home/sam-konf/Konfuzio/konfuzio-sdk/notebooks/../konfuzio_sdk/trainer/information_extraction.py:687: FutureWarning: The frame.append method is deprecated and will be removed from pandas in a future version. Use pandas.concat instead.\n",
      "  df = df.append(label_df, sort=True)\n",
      "/home/sam-konf/Konfuzio/konfuzio-sdk/notebooks/../konfuzio_sdk/trainer/information_extraction.py:687: FutureWarning: The frame.append method is deprecated and will be removed from pandas in a future version. Use pandas.concat instead.\n",
      "  df = df.append(label_df, sort=True)\n",
      "/home/sam-konf/Konfuzio/konfuzio-sdk/notebooks/../konfuzio_sdk/trainer/information_extraction.py:687: FutureWarning: The frame.append method is deprecated and will be removed from pandas in a future version. Use pandas.concat instead.\n",
      "  df = df.append(label_df, sort=True)\n",
      "/home/sam-konf/Konfuzio/konfuzio-sdk/notebooks/../konfuzio_sdk/trainer/information_extraction.py:687: FutureWarning: The frame.append method is deprecated and will be removed from pandas in a future version. Use pandas.concat instead.\n",
      "  df = df.append(label_df, sort=True)\n",
      "/home/sam-konf/Konfuzio/konfuzio-sdk/notebooks/../konfuzio_sdk/trainer/information_extraction.py:687: FutureWarning: The frame.append method is deprecated and will be removed from pandas in a future version. Use pandas.concat instead.\n",
      "  df = df.append(label_df, sort=True)\n",
      "/home/sam-konf/Konfuzio/konfuzio-sdk/notebooks/../konfuzio_sdk/trainer/information_extraction.py:687: FutureWarning: The frame.append method is deprecated and will be removed from pandas in a future version. Use pandas.concat instead.\n",
      "  df = df.append(label_df, sort=True)\n",
      "/home/sam-konf/Konfuzio/konfuzio-sdk/notebooks/../konfuzio_sdk/trainer/information_extraction.py:687: FutureWarning: The frame.append method is deprecated and will be removed from pandas in a future version. Use pandas.concat instead.\n",
      "  df = df.append(label_df, sort=True)\n",
      "/home/sam-konf/Konfuzio/konfuzio-sdk/notebooks/../konfuzio_sdk/trainer/information_extraction.py:687: FutureWarning: The frame.append method is deprecated and will be removed from pandas in a future version. Use pandas.concat instead.\n",
      "  df = df.append(label_df, sort=True)\n"
     ]
    },
    {
     "name": "stderr",
     "output_type": "stream",
     "text": [
      "/home/sam-konf/Konfuzio/konfuzio-sdk/notebooks/../konfuzio_sdk/data.py:997: FutureWarning: WIP: Modifications before the next stable release expected.\n",
      "  if self.bbox():\n",
      "/home/sam-konf/Konfuzio/konfuzio-sdk/notebooks/../konfuzio_sdk/data.py:908: FutureWarning: WIP: Modifications before the next stable release expected.\n",
      "  characters = {key: self.annotation.document.bboxes.get(key) for key in character_range}\n",
      "2022-08-19 17:43:57,300 [konfuzio_sdk.data   ] [MainThread] [ERROR   ] [bbox                ][0910] Span (1459, 1483) contains Chractacters that don't provide a Bounding Box.\n",
      "2022-08-19 17:43:57,301 [konfuzio_sdk.data   ] [MainThread] [ERROR   ] [bbox                ][0910] Span (1544, 1573) contains Chractacters that don't provide a Bounding Box.\n",
      "2022-08-19 17:43:57,302 [konfuzio_sdk.data   ] [MainThread] [ERROR   ] [bbox                ][0910] Span (1705, 1722) contains Chractacters that don't provide a Bounding Box.\n",
      "2022-08-19 17:43:57,303 [konfuzio_sdk.data   ] [MainThread] [ERROR   ] [bbox                ][0910] Span (3452, 3477) contains Chractacters that don't provide a Bounding Box.\n",
      "2022-08-19 17:43:57,304 [konfuzio_sdk.data   ] [MainThread] [ERROR   ] [bbox                ][0910] Span (3566, 3593) contains Chractacters that don't provide a Bounding Box.\n",
      "/home/sam-konf/Konfuzio/konfuzio-sdk/notebooks/../konfuzio_sdk/data.py:997: FutureWarning: WIP: Modifications before the next stable release expected.\n",
      "  if self.bbox():\n",
      "/home/sam-konf/Konfuzio/konfuzio-sdk/notebooks/../konfuzio_sdk/data.py:908: FutureWarning: WIP: Modifications before the next stable release expected.\n",
      "  characters = {key: self.annotation.document.bboxes.get(key) for key in character_range}\n",
      "2022-08-19 17:43:57,463 [konfuzio_sdk.data   ] [MainThread] [ERROR   ] [bbox                ][0910] Span (1464, 1488) contains Chractacters that don't provide a Bounding Box.\n",
      "2022-08-19 17:43:57,464 [konfuzio_sdk.data   ] [MainThread] [ERROR   ] [bbox                ][0910] Span (1548, 1577) contains Chractacters that don't provide a Bounding Box.\n",
      "2022-08-19 17:43:57,466 [konfuzio_sdk.data   ] [MainThread] [ERROR   ] [bbox                ][0910] Span (1711, 1732) contains Chractacters that don't provide a Bounding Box.\n",
      "2022-08-19 17:43:57,467 [konfuzio_sdk.data   ] [MainThread] [ERROR   ] [bbox                ][0910] Span (1793, 1824) contains Chractacters that don't provide a Bounding Box.\n",
      "2022-08-19 17:43:57,468 [konfuzio_sdk.data   ] [MainThread] [ERROR   ] [bbox                ][0910] Span (3578, 3603) contains Chractacters that don't provide a Bounding Box.\n",
      "2022-08-19 17:43:57,469 [konfuzio_sdk.data   ] [MainThread] [ERROR   ] [bbox                ][0910] Span (3692, 3719) contains Chractacters that don't provide a Bounding Box.\n",
      "/home/sam-konf/Konfuzio/konfuzio-sdk/notebooks/../konfuzio_sdk/data.py:997: FutureWarning: WIP: Modifications before the next stable release expected.\n",
      "  if self.bbox():\n",
      "/home/sam-konf/Konfuzio/konfuzio-sdk/notebooks/../konfuzio_sdk/data.py:908: FutureWarning: WIP: Modifications before the next stable release expected.\n",
      "  characters = {key: self.annotation.document.bboxes.get(key) for key in character_range}\n",
      "2022-08-19 17:43:57,633 [konfuzio_sdk.data   ] [MainThread] [ERROR   ] [bbox                ][0910] Span (1474, 1498) contains Chractacters that don't provide a Bounding Box.\n",
      "2022-08-19 17:43:57,634 [konfuzio_sdk.data   ] [MainThread] [ERROR   ] [bbox                ][0910] Span (1559, 1588) contains Chractacters that don't provide a Bounding Box.\n",
      "2022-08-19 17:43:57,635 [konfuzio_sdk.data   ] [MainThread] [ERROR   ] [bbox                ][0910] Span (1722, 1743) contains Chractacters that don't provide a Bounding Box.\n",
      "2022-08-19 17:43:57,635 [konfuzio_sdk.data   ] [MainThread] [ERROR   ] [bbox                ][0910] Span (1803, 1834) contains Chractacters that don't provide a Bounding Box.\n",
      "2022-08-19 17:43:57,637 [konfuzio_sdk.data   ] [MainThread] [ERROR   ] [bbox                ][0910] Span (3593, 3618) contains Chractacters that don't provide a Bounding Box.\n",
      "2022-08-19 17:43:57,638 [konfuzio_sdk.data   ] [MainThread] [ERROR   ] [bbox                ][0910] Span (3707, 3734) contains Chractacters that don't provide a Bounding Box.\n"
     ]
    }
   ],
   "source": [
    "strict_evaluation = pipeline.evaluate_full(strict=True)"
   ]
  },
  {
   "cell_type": "code",
   "execution_count": 55,
   "id": "d8552473",
   "metadata": {},
   "outputs": [
    {
     "name": "stdout",
     "output_type": "stream",
     "text": [
      "f1 0.9279279279279279\n",
      "tp 103\n",
      "fp 16\n",
      "fn 0\n",
      "tn 0\n"
     ]
    }
   ],
   "source": [
    "print('f1', strict_evaluation.f1(None))\n",
    "print('tp', strict_evaluation.tp(None))\n",
    "print('fp', strict_evaluation.fp(None))\n",
    "print('fn', strict_evaluation.fn(None))\n",
    "print('tn', strict_evaluation.tn(None))"
   ]
  },
  {
   "cell_type": "code",
   "execution_count": 56,
   "id": "280bba67",
   "metadata": {},
   "outputs": [
    {
     "ename": "RuntimeError",
     "evalue": "No active exception to reraise",
     "output_type": "error",
     "traceback": [
      "\u001b[0;31m---------------------------------------------------------------------------\u001b[0m",
      "\u001b[0;31mRuntimeError\u001b[0m                              Traceback (most recent call last)",
      "Input \u001b[0;32mIn [56]\u001b[0m, in \u001b[0;36m<cell line: 1>\u001b[0;34m()\u001b[0m\n\u001b[0;32m----> 1\u001b[0m \u001b[38;5;28;01mraise\u001b[39;00m\n",
      "\u001b[0;31mRuntimeError\u001b[0m: No active exception to reraise"
     ]
    }
   ],
   "source": [
    "raise"
   ]
  },
  {
   "cell_type": "code",
   "execution_count": 57,
   "id": "6cfba2e2",
   "metadata": {},
   "outputs": [
    {
     "data": {
      "text/plain": [
       "[Document Auswertungspaket - unterschiedliche B_N-Auswertungen.pdf_18.pdf (44865),\n",
       " Document Auswertungspaket - unterschiedliche B_N-Auswertungen.pdf_17.pdf (44866),\n",
       " Document Auswertungspaket - unterschiedliche B_N-Auswertungen.pdf_19.pdf (44867)]"
      ]
     },
     "execution_count": 57,
     "metadata": {},
     "output_type": "execute_result"
    }
   ],
   "source": [
    "pipeline.test_documents"
   ]
  },
  {
   "cell_type": "code",
   "execution_count": 60,
   "id": "9b5f2ffc",
   "metadata": {},
   "outputs": [],
   "source": [
    "# app_doc44865_eval = self.project.get_document_by_id(314250)\n",
    "# app_doc44866_eval = self.project.get_document_by_id(314074)\n",
    "# app_doc44867_eval = self.project.get_document_by_id(314249)\n",
    "# app_docs_eval = [app_doc44865_eval, app_doc44866_eval, app_doc44867_eval]\n",
    "app_doc44865 = project.get_document_by_id(318035)\n",
    "app_doc44866 = project.get_document_by_id(318036)\n",
    "app_doc44867 = project.get_document_by_id(318037)\n",
    "app_docs = [app_doc44865, app_doc44866, app_doc44867]\n",
    "\n"
   ]
  },
  {
   "cell_type": "code",
   "execution_count": 61,
   "id": "93ec4254",
   "metadata": {},
   "outputs": [
    {
     "name": "stderr",
     "output_type": "stream",
     "text": [
      "/home/sam-konf/Konfuzio/konfuzio-sdk/notebooks/../konfuzio_sdk/data.py:997: FutureWarning: WIP: Modifications before the next stable release expected.\n",
      "  if self.bbox():\n",
      "/home/sam-konf/Konfuzio/konfuzio-sdk/notebooks/../konfuzio_sdk/data.py:908: FutureWarning: WIP: Modifications before the next stable release expected.\n",
      "  characters = {key: self.annotation.document.bboxes.get(key) for key in character_range}\n",
      "2022-08-19 17:44:44,550 [konfuzio_sdk.data   ] [MainThread] [ERROR   ] [bbox                ][0910] Span (1459, 1483) contains Chractacters that don't provide a Bounding Box.\n",
      "2022-08-19 17:44:44,551 [konfuzio_sdk.data   ] [MainThread] [ERROR   ] [bbox                ][0910] Span (1544, 1573) contains Chractacters that don't provide a Bounding Box.\n",
      "2022-08-19 17:44:44,552 [konfuzio_sdk.data   ] [MainThread] [ERROR   ] [bbox                ][0910] Span (1705, 1722) contains Chractacters that don't provide a Bounding Box.\n",
      "2022-08-19 17:44:44,553 [konfuzio_sdk.data   ] [MainThread] [ERROR   ] [bbox                ][0910] Span (3452, 3477) contains Chractacters that don't provide a Bounding Box.\n",
      "2022-08-19 17:44:44,554 [konfuzio_sdk.data   ] [MainThread] [ERROR   ] [bbox                ][0910] Span (3566, 3593) contains Chractacters that don't provide a Bounding Box.\n",
      "/home/sam-konf/Konfuzio/konfuzio-sdk/notebooks/../konfuzio_sdk/data.py:997: FutureWarning: WIP: Modifications before the next stable release expected.\n",
      "  if self.bbox():\n",
      "/home/sam-konf/Konfuzio/konfuzio-sdk/notebooks/../konfuzio_sdk/data.py:908: FutureWarning: WIP: Modifications before the next stable release expected.\n",
      "  characters = {key: self.annotation.document.bboxes.get(key) for key in character_range}\n",
      "2022-08-19 17:44:44,729 [konfuzio_sdk.data   ] [MainThread] [ERROR   ] [bbox                ][0910] Span (1464, 1488) contains Chractacters that don't provide a Bounding Box.\n",
      "2022-08-19 17:44:44,730 [konfuzio_sdk.data   ] [MainThread] [ERROR   ] [bbox                ][0910] Span (1548, 1577) contains Chractacters that don't provide a Bounding Box.\n",
      "2022-08-19 17:44:44,731 [konfuzio_sdk.data   ] [MainThread] [ERROR   ] [bbox                ][0910] Span (1711, 1732) contains Chractacters that don't provide a Bounding Box.\n",
      "2022-08-19 17:44:44,731 [konfuzio_sdk.data   ] [MainThread] [ERROR   ] [bbox                ][0910] Span (1793, 1824) contains Chractacters that don't provide a Bounding Box.\n",
      "2022-08-19 17:44:44,733 [konfuzio_sdk.data   ] [MainThread] [ERROR   ] [bbox                ][0910] Span (3578, 3603) contains Chractacters that don't provide a Bounding Box.\n",
      "2022-08-19 17:44:44,733 [konfuzio_sdk.data   ] [MainThread] [ERROR   ] [bbox                ][0910] Span (3692, 3719) contains Chractacters that don't provide a Bounding Box.\n",
      "/home/sam-konf/Konfuzio/konfuzio-sdk/notebooks/../konfuzio_sdk/data.py:997: FutureWarning: WIP: Modifications before the next stable release expected.\n",
      "  if self.bbox():\n",
      "/home/sam-konf/Konfuzio/konfuzio-sdk/notebooks/../konfuzio_sdk/data.py:908: FutureWarning: WIP: Modifications before the next stable release expected.\n",
      "  characters = {key: self.annotation.document.bboxes.get(key) for key in character_range}\n",
      "2022-08-19 17:44:44,895 [konfuzio_sdk.data   ] [MainThread] [ERROR   ] [bbox                ][0910] Span (1474, 1498) contains Chractacters that don't provide a Bounding Box.\n",
      "2022-08-19 17:44:44,895 [konfuzio_sdk.data   ] [MainThread] [ERROR   ] [bbox                ][0910] Span (1559, 1588) contains Chractacters that don't provide a Bounding Box.\n",
      "2022-08-19 17:44:44,896 [konfuzio_sdk.data   ] [MainThread] [ERROR   ] [bbox                ][0910] Span (1722, 1743) contains Chractacters that don't provide a Bounding Box.\n",
      "2022-08-19 17:44:44,897 [konfuzio_sdk.data   ] [MainThread] [ERROR   ] [bbox                ][0910] Span (1803, 1834) contains Chractacters that don't provide a Bounding Box.\n",
      "2022-08-19 17:44:44,899 [konfuzio_sdk.data   ] [MainThread] [ERROR   ] [bbox                ][0910] Span (3593, 3618) contains Chractacters that don't provide a Bounding Box.\n",
      "2022-08-19 17:44:44,899 [konfuzio_sdk.data   ] [MainThread] [ERROR   ] [bbox                ][0910] Span (3707, 3734) contains Chractacters that don't provide a Bounding Box.\n"
     ]
    }
   ],
   "source": [
    "from konfuzio_sdk.evaluate import Evaluation\n",
    "eval_list = []\n",
    "for i, document in enumerate(pipeline.test_documents):\n",
    "    assert document.text == app_docs[i].text\n",
    "    eval_list.append((document, app_docs[i]))\n",
    "\n",
    "evaluation = Evaluation(eval_list, strict=True)\n",
    "#     # F1 0.8725868725868726\n",
    "#     # TP 113\n",
    "#     # FP 33\n",
    "#     # FN 0\n",
    "# assert evaluation.f1(None) == 1.0"
   ]
  },
  {
   "cell_type": "code",
   "execution_count": 62,
   "id": "90dfc0ef",
   "metadata": {},
   "outputs": [
    {
     "name": "stdout",
     "output_type": "stream",
     "text": [
      "f1 0.9279279279279279\n",
      "tp 103\n",
      "fp 16\n",
      "fn 0\n",
      "tn 0\n"
     ]
    }
   ],
   "source": [
    "print('f1', evaluation.f1(None))\n",
    "print('tp', evaluation.tp(None))\n",
    "print('fp', evaluation.fp(None))\n",
    "print('fn', evaluation.fn(None))\n",
    "print('tn', evaluation.tn(None))\n"
   ]
  },
  {
   "cell_type": "code",
   "execution_count": null,
   "id": "2814caac",
   "metadata": {},
   "outputs": [],
   "source": [
    "raise"
   ]
  },
  {
   "cell_type": "code",
   "execution_count": null,
   "id": "dada6e06",
   "metadata": {},
   "outputs": [],
   "source": [
    "strict_evaluation.data[['id_local']]"
   ]
  },
  {
   "cell_type": "code",
   "execution_count": null,
   "id": "6e9eab5d",
   "metadata": {},
   "outputs": [],
   "source": [
    "strict_evaluation.tokenizer()"
   ]
  },
  {
   "cell_type": "code",
   "execution_count": null,
   "id": "863bccff",
   "metadata": {
    "scrolled": false
   },
   "outputs": [],
   "source": [
    "non_strict_evaluation = pipeline.evaluate_full(strict=False)"
   ]
  },
  {
   "cell_type": "code",
   "execution_count": null,
   "id": "80174125",
   "metadata": {},
   "outputs": [],
   "source": [
    "print('f1', non_strict_evaluation.f1(None))\n",
    "print('tp', non_strict_evaluation.tp(None))\n",
    "print('fp', non_strict_evaluation.fp(None))\n",
    "print('fn', non_strict_evaluation.fn(None))\n",
    "print('tn', non_strict_evaluation.tn(None))"
   ]
  },
  {
   "cell_type": "code",
   "execution_count": null,
   "id": "a1adedcf",
   "metadata": {},
   "outputs": [],
   "source": [
    "import pandas\n",
    "# inference_document = pipeline.test_documents[0].__deepcopy__(None)\n",
    "inference_document = project.get_document_by_id(44855).__deepcopy__(None)\n",
    "# 2. tokenize\n",
    "pipeline.tokenizer.tokenize(inference_document)\n",
    "if not inference_document.spans():\n",
    "    logger.error(f'{pipeline.tokenizer} does not provide Spans for {document}')\n",
    "    raise NotImplementedError('No error handling when Spans are missing.')\n",
    "# 3. preprocessing\n",
    "df, _feature_names, _raw_errors = pipeline.features(inference_document)\n",
    "independet_variables = df[pipeline.label_feature_list]\n",
    "\n",
    "results = pandas.DataFrame(data=pipeline.clf.predict_proba(X=independet_variables), columns=pipeline.clf.classes_)\n"
   ]
  },
  {
   "cell_type": "code",
   "execution_count": null,
   "id": "c064aeaa",
   "metadata": {},
   "outputs": [],
   "source": [
    "results.columns\n"
   ]
  },
  {
   "cell_type": "code",
   "execution_count": null,
   "id": "82350658",
   "metadata": {},
   "outputs": [],
   "source": [
    "# results.columns\n",
    "df['label_text'] = results.idxmax(axis=1)\n",
    "df['Accuracy'] = results.max(axis=1)"
   ]
  },
  {
   "cell_type": "code",
   "execution_count": null,
   "id": "27d1bf3d",
   "metadata": {},
   "outputs": [],
   "source": [
    "doc_44855 = project.get_document_by_id(44855) #.__deepcopy__(None)"
   ]
  },
  {
   "cell_type": "code",
   "execution_count": null,
   "id": "290f3390",
   "metadata": {},
   "outputs": [],
   "source": [
    "doc_44855.file_path"
   ]
  },
  {
   "cell_type": "code",
   "execution_count": null,
   "id": "87db6f8c",
   "metadata": {},
   "outputs": [],
   "source": [
    "for ann in doc_44855.annotations(use_correct=True):\n",
    "    print(ann.label, ann.offset_string)"
   ]
  },
  {
   "cell_type": "code",
   "execution_count": null,
   "id": "1704d67f",
   "metadata": {},
   "outputs": [],
   "source": [
    "# flabels = [x for x in df['label_text'] if x != 'NO_LABEL']\n",
    "# print(len(flabels))\n"
   ]
  },
  {
   "cell_type": "code",
   "execution_count": null,
   "id": "2ee9c192",
   "metadata": {},
   "outputs": [],
   "source": [
    "pandas.set_option('display.max_rows', None)\n"
   ]
  },
  {
   "cell_type": "code",
   "execution_count": null,
   "id": "e5c3d057",
   "metadata": {},
   "outputs": [],
   "source": [
    "print(df[['label_text', 'offset_string', 'Accuracy']])\n"
   ]
  },
  {
   "cell_type": "code",
   "execution_count": null,
   "id": "c477c8d0",
   "metadata": {},
   "outputs": [],
   "source": []
  },
  {
   "cell_type": "code",
   "execution_count": null,
   "id": "c79101bc",
   "metadata": {},
   "outputs": [],
   "source": [
    "results['Betrag']"
   ]
  },
  {
   "cell_type": "code",
   "execution_count": null,
   "id": "f4bc5d54",
   "metadata": {},
   "outputs": [],
   "source": [
    "# doc = project.get_document_by_id(44855)"
   ]
  },
  {
   "cell_type": "code",
   "execution_count": null,
   "id": "b0761440",
   "metadata": {},
   "outputs": [],
   "source": [
    "project.get_document_by_id(44855).pages()[0].get_image()"
   ]
  },
  {
   "cell_type": "code",
   "execution_count": null,
   "id": "92f1659e",
   "metadata": {},
   "outputs": [],
   "source": []
  },
  {
   "cell_type": "code",
   "execution_count": null,
   "id": "0d3b2627",
   "metadata": {},
   "outputs": [],
   "source": []
  },
  {
   "cell_type": "code",
   "execution_count": null,
   "id": "038b9cad",
   "metadata": {},
   "outputs": [],
   "source": []
  },
  {
   "cell_type": "code",
   "execution_count": null,
   "id": "82d6123a",
   "metadata": {},
   "outputs": [],
   "source": []
  },
  {
   "cell_type": "code",
   "execution_count": null,
   "id": "2c01ff82",
   "metadata": {},
   "outputs": [],
   "source": [
    "non_strict_evaluation.data"
   ]
  },
  {
   "cell_type": "code",
   "execution_count": null,
   "id": "556c2a27",
   "metadata": {},
   "outputs": [],
   "source": [
    "from konfuzio_sdk.trainer.information_extraction import extraction_result_to_document\n",
    "import pandas"
   ]
  },
  {
   "cell_type": "code",
   "execution_count": null,
   "id": "e14058e0",
   "metadata": {},
   "outputs": [],
   "source": [
    "####\n",
    "test_doc = pipeline.test_documents[0]\n",
    "extraction_result = pipeline.extract(document=test_doc)\n",
    "predicted_doc = extraction_result_to_document(test_doc, extraction_result)"
   ]
  },
  {
   "cell_type": "code",
   "execution_count": null,
   "id": "4d7022b8",
   "metadata": {},
   "outputs": [],
   "source": [
    "df_a = pandas.DataFrame(test_doc.eval_dict(use_correct=False))\n",
    "df_b = pandas.DataFrame(predicted_doc.eval_dict(use_correct=False))"
   ]
  },
  {
   "cell_type": "code",
   "execution_count": null,
   "id": "78d82434",
   "metadata": {},
   "outputs": [],
   "source": [
    "df_a.columns"
   ]
  },
  {
   "cell_type": "code",
   "execution_count": null,
   "id": "4c34de78",
   "metadata": {},
   "outputs": [],
   "source": [
    "df_b[['label_set_id', 'label_id']]\n"
   ]
  },
  {
   "cell_type": "code",
   "execution_count": null,
   "id": "dd12c7e2",
   "metadata": {},
   "outputs": [],
   "source": []
  },
  {
   "cell_type": "code",
   "execution_count": null,
   "id": "4581d13f",
   "metadata": {},
   "outputs": [],
   "source": [
    "# for doc in pipeline.test_documents:\n",
    "#     pipeline.tokenizer.tokenize(doc)"
   ]
  },
  {
   "cell_type": "code",
   "execution_count": null,
   "id": "dfc6918c",
   "metadata": {},
   "outputs": [],
   "source": [
    "# pipeline.df_tests = \n",
    "print(sum([len(doc.annotations(use_correct=False)) for doc in pipeline.test_documents]))\n",
    "print(sum([len(doc.view_annotations()) for doc in pipeline.test_documents]))"
   ]
  },
  {
   "cell_type": "code",
   "execution_count": null,
   "id": "608a1cb1",
   "metadata": {},
   "outputs": [],
   "source": [
    "# for doc in pipeline.test_documents:\n",
    "# print(sum([len(doc.view_annotations()) for doc in pipeline.test_documents]))"
   ]
  },
  {
   "cell_type": "code",
   "execution_count": null,
   "id": "084d86bb",
   "metadata": {},
   "outputs": [],
   "source": [
    "doc.annotation_sets()[0]"
   ]
  },
  {
   "cell_type": "code",
   "execution_count": null,
   "id": "7b92c727",
   "metadata": {},
   "outputs": [],
   "source": [
    "extraction_result.keys()"
   ]
  },
  {
   "cell_type": "code",
   "execution_count": null,
   "id": "03e6cdfb",
   "metadata": {},
   "outputs": [],
   "source": [
    "extraction_result['Brutto-Bezug']"
   ]
  },
  {
   "cell_type": "code",
   "execution_count": null,
   "id": "ff77e46c",
   "metadata": {},
   "outputs": [],
   "source": [
    "pipeline.test_documents\n",
    "pipeline.test_documents[0].annotations(use_correct=False)"
   ]
  },
  {
   "cell_type": "code",
   "execution_count": null,
   "id": "fdaed3b7",
   "metadata": {},
   "outputs": [],
   "source": [
    "test_doc = test_documents[0]"
   ]
  },
  {
   "cell_type": "code",
   "execution_count": null,
   "id": "008794c2",
   "metadata": {},
   "outputs": [],
   "source": [
    "len(test_doc.annotations(use_correct=False))"
   ]
  },
  {
   "cell_type": "code",
   "execution_count": null,
   "id": "22b4a6f5",
   "metadata": {},
   "outputs": [],
   "source": [
    "pipeline.tokenizer.tokenize(test_doc)"
   ]
  },
  {
   "cell_type": "code",
   "execution_count": null,
   "id": "87c56836",
   "metadata": {},
   "outputs": [],
   "source": [
    "len(test_doc.annotations(use_correct=False))"
   ]
  },
  {
   "cell_type": "code",
   "execution_count": null,
   "id": "f11541ab",
   "metadata": {},
   "outputs": [],
   "source": [
    "result = pipeline.extract(test_doc)"
   ]
  },
  {
   "cell_type": "code",
   "execution_count": null,
   "id": "6821aaac",
   "metadata": {},
   "outputs": [],
   "source": [
    "result.keys()"
   ]
  },
  {
   "cell_type": "code",
   "execution_count": null,
   "id": "18b61c9a",
   "metadata": {},
   "outputs": [],
   "source": [
    "result['NO_LABEL_SET']"
   ]
  },
  {
   "cell_type": "code",
   "execution_count": null,
   "id": "23284fdd",
   "metadata": {},
   "outputs": [],
   "source": [
    "# result['']"
   ]
  },
  {
   "cell_type": "code",
   "execution_count": null,
   "id": "7537a574",
   "metadata": {},
   "outputs": [],
   "source": [
    "#result['Steuer']\n",
    "# pipeline_path\n",
    "category"
   ]
  },
  {
   "cell_type": "code",
   "execution_count": null,
   "id": "7838d762",
   "metadata": {},
   "outputs": [],
   "source": [
    "# upload_ai_model(ai_model_path=pipeline_path)\n"
   ]
  },
  {
   "cell_type": "code",
   "execution_count": null,
   "id": "986c2c1f",
   "metadata": {},
   "outputs": [],
   "source": [
    "####"
   ]
  },
  {
   "cell_type": "code",
   "execution_count": null,
   "id": "45fc9774",
   "metadata": {},
   "outputs": [],
   "source": [
    "from konfuzio_sdk.regex import regex_matches\n",
    "import regex as re"
   ]
  },
  {
   "cell_type": "code",
   "execution_count": null,
   "id": "22396004",
   "metadata": {},
   "outputs": [],
   "source": [
    "pipeline.tokenizer.tokenizers[0]"
   ]
  },
  {
   "cell_type": "code",
   "execution_count": null,
   "id": "22fbc0a7",
   "metadata": {},
   "outputs": [],
   "source": [
    "reg = pipeline.tokenizer.tokenizers[10].regex\n",
    "doc = project.get_document_by_id(44855)\n",
    "text = doc.text\n"
   ]
  },
  {
   "cell_type": "code",
   "execution_count": null,
   "id": "8855c376",
   "metadata": {},
   "outputs": [],
   "source": [
    "pattern = re.compile(reg, flags=0)"
   ]
  },
  {
   "cell_type": "code",
   "execution_count": null,
   "id": "923decbf",
   "metadata": {},
   "outputs": [],
   "source": [
    "pattern"
   ]
  },
  {
   "cell_type": "code",
   "execution_count": null,
   "id": "72f13853",
   "metadata": {},
   "outputs": [],
   "source": [
    "pats = pattern.finditer(text, overlapped=False)"
   ]
  },
  {
   "cell_type": "code",
   "execution_count": null,
   "id": "10def914",
   "metadata": {},
   "outputs": [],
   "source": [
    "pats = list(pats)\n",
    "print(pats)"
   ]
  },
  {
   "cell_type": "code",
   "execution_count": null,
   "id": "59222da5",
   "metadata": {},
   "outputs": [],
   "source": [
    "pat = pats[0]"
   ]
  },
  {
   "cell_type": "code",
   "execution_count": null,
   "id": "f50e81e7",
   "metadata": {},
   "outputs": [],
   "source": [
    "pat.groups()"
   ]
  },
  {
   "cell_type": "code",
   "execution_count": null,
   "id": "a62c326b",
   "metadata": {},
   "outputs": [],
   "source": [
    "list(pat.re.groupindex.items())"
   ]
  },
  {
   "cell_type": "code",
   "execution_count": null,
   "id": "eb830f8c",
   "metadata": {},
   "outputs": [],
   "source": [
    "pat[1]"
   ]
  },
  {
   "cell_type": "code",
   "execution_count": null,
   "id": "ff69aae0",
   "metadata": {},
   "outputs": [],
   "source": [
    "pat.regs[1][1]"
   ]
  },
  {
   "cell_type": "code",
   "execution_count": null,
   "id": "b2a43cb4",
   "metadata": {},
   "outputs": [],
   "source": []
  },
  {
   "cell_type": "code",
   "execution_count": null,
   "id": "7cb9c694",
   "metadata": {},
   "outputs": [],
   "source": []
  },
  {
   "cell_type": "code",
   "execution_count": null,
   "id": "9d4aade2",
   "metadata": {},
   "outputs": [],
   "source": []
  }
 ],
 "metadata": {
  "kernelspec": {
   "display_name": "Python [conda env:konfuzio]",
   "language": "python",
   "name": "conda-env-konfuzio-py"
  },
  "language_info": {
   "codemirror_mode": {
    "name": "ipython",
    "version": 3
   },
   "file_extension": ".py",
   "mimetype": "text/x-python",
   "name": "python",
   "nbconvert_exporter": "python",
   "pygments_lexer": "ipython3",
   "version": "3.8.0"
  }
 },
 "nbformat": 4,
 "nbformat_minor": 5
}
