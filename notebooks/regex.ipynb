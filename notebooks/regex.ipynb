{
 "cells": [
  {
   "cell_type": "code",
   "execution_count": 1,
   "metadata": {
    "collapsed": true
   },
   "outputs": [],
   "source": [
    "from konfuzio_sdk.regex import suggest_regex_for_string"
   ]
  },
  {
   "cell_type": "markdown",
   "source": [
    "# Simple approach to validate user input\n",
    "\n",
    "## Validate E-Mails\n",
    "Assume you have a list of valid and invalid emails and want to create a logic to validate this email."
   ],
   "metadata": {
    "collapsed": false
   }
  },
  {
   "cell_type": "code",
   "execution_count": 2,
   "outputs": [],
   "source": [
    "valid_emails = ['abc-d@mail.com', 'abc.def@mail.com', 'abc@mail.com', 'abc_def@mail.com', 'abc.def@mail.cc',\n",
    "                'abc.def@mail-archive.com', 'abc.def@mail.org', 'abc.def@mail.com']\n",
    "invalid_emails = ['abc-@mail.com', 'abc..def@mail.com', '.abc@mail.com', 'abc#def@mail.com', 'abc.def@mail.c',\n",
    "                  'abc.def@mail#archive.com', 'abc.def@mail', 'abc.def@mail..com']\n",
    "# as seen on https://help.xmatters.com/ondemand/trial/valid_email_format.htm"
   ],
   "metadata": {
    "collapsed": false,
    "pycharm": {
     "name": "#%%\n"
    }
   }
  },
  {
   "cell_type": "code",
   "execution_count": 3,
   "outputs": [
    {
     "name": "stdout",
     "output_type": "stream",
     "text": [
      "1\n"
     ]
    },
    {
     "data": {
      "text/plain": "'[a-zäöüß]+\\\\@[a-zäöüß]+\\\\.[a-zäöüß]'"
     },
     "execution_count": 3,
     "metadata": {},
     "output_type": "execute_result"
    }
   ],
   "source": [
    "email = \"hello@konfuzio.c\"\n",
    "suggest_regex_for_string(email, replace_characters=True)"
   ],
   "metadata": {
    "collapsed": false,
    "pycharm": {
     "name": "#%%\n"
    }
   }
  },
  {
   "cell_type": "markdown",
   "source": [
    "This return type is not what we are looking for. So let's replace also the characters."
   ],
   "metadata": {
    "collapsed": false,
    "pycharm": {
     "name": "#%% md\n"
    }
   }
  },
  {
   "cell_type": "code",
   "execution_count": 4,
   "outputs": [
    {
     "name": "stdout",
     "output_type": "stream",
     "text": [
      "1\n",
      "1\n",
      "1\n",
      "1\n",
      "1\n",
      "1\n",
      "1\n"
     ]
    },
    {
     "data": {
      "text/plain": "['[a-zäöüß]+[-][a-zäöüß]\\\\@[a-zäöüß]+\\\\.[a-zäöüß]+',\n '[a-zäöüß]+\\\\.[a-zäöüß]+\\\\@[a-zäöüß]+\\\\.[a-zäöüß]+',\n '[a-zäöüß]+\\\\@[a-zäöüß]+\\\\.[a-zäöüß]+',\n '[a-zäöüß]+_[a-zäöüß]+\\\\@[a-zäöüß]+\\\\.[a-zäöüß]+',\n '[a-zäöüß]+\\\\.[a-zäöüß]+\\\\@[a-zäöüß]+\\\\.[a-zäöüß]+',\n '[a-zäöüß]+\\\\.[a-zäöüß]+\\\\@[a-zäöüß]+[-][a-zäöüß]+\\\\.[a-zäöüß]+',\n '[a-zäöüß]+\\\\.[a-zäöüß]+\\\\@[a-zäöüß]+\\\\.[a-zäöüß]+',\n '[a-zäöüß]+\\\\.[a-zäöüß]+\\\\@[a-zäöüß]+\\\\.[a-zäöüß]+']"
     },
     "execution_count": 4,
     "metadata": {},
     "output_type": "execute_result"
    }
   ],
   "source": [
    "valid = [suggest_regex_for_string(email, replace_characters=True) for email in valid_emails]\n",
    "valid"
   ],
   "metadata": {
    "collapsed": false,
    "pycharm": {
     "name": "#%%\n"
    }
   }
  },
  {
   "cell_type": "code",
   "execution_count": 5,
   "outputs": [
    {
     "name": "stdout",
     "output_type": "stream",
     "text": [
      "1\n",
      "1\n",
      "1\n",
      "1\n",
      "1\n",
      "1\n",
      "1\n"
     ]
    },
    {
     "data": {
      "text/plain": "['[a-zäöüß]+[-]\\\\@[a-zäöüß]+\\\\.[a-zäöüß]+',\n '[a-zäöüß]+\\\\.\\\\.[a-zäöüß]+\\\\@[a-zäöüß]+\\\\.[a-zäöüß]+',\n '\\\\.[a-zäöüß]+\\\\@[a-zäöüß]+\\\\.[a-zäöüß]+',\n '[a-zäöüß]+\\\\#[a-zäöüß]+\\\\@[a-zäöüß]+\\\\.[a-zäöüß]+',\n '[a-zäöüß]+\\\\.[a-zäöüß]+\\\\@[a-zäöüß]+\\\\.[a-zäöüß]',\n '[a-zäöüß]+\\\\.[a-zäöüß]+\\\\@[a-zäöüß]+\\\\#[a-zäöüß]+\\\\.[a-zäöüß]+',\n '[a-zäöüß]+\\\\.[a-zäöüß]+\\\\@[a-zäöüß]+',\n '[a-zäöüß]+\\\\.[a-zäöüß]+\\\\@[a-zäöüß]+\\\\.\\\\.[a-zäöüß]+']"
     },
     "execution_count": 5,
     "metadata": {},
     "output_type": "execute_result"
    }
   ],
   "source": [
    "invalid = [suggest_regex_for_string(email, replace_characters=True) for email in invalid_emails]\n",
    "invalid"
   ],
   "metadata": {
    "collapsed": false,
    "pycharm": {
     "name": "#%%\n"
    }
   }
  },
  {
   "cell_type": "markdown",
   "source": [
    "To make sure the validation provides no contradiction we check the list intersection."
   ],
   "metadata": {
    "collapsed": false,
    "pycharm": {
     "name": "#%% md\n"
    }
   }
  },
  {
   "cell_type": "code",
   "execution_count": 6,
   "outputs": [
    {
     "data": {
      "text/plain": "set()"
     },
     "execution_count": 6,
     "metadata": {},
     "output_type": "execute_result"
    }
   ],
   "source": [
    "set(invalid) & set(valid)"
   ],
   "metadata": {
    "collapsed": false,
    "pycharm": {
     "name": "#%%\n"
    }
   }
  },
  {
   "cell_type": "markdown",
   "source": [
    "## Combine Regex\n",
    "\n",
    "## Evaluate Regex"
   ],
   "metadata": {
    "collapsed": false,
    "pycharm": {
     "name": "#%% md\n"
    }
   }
  }
 ],
 "metadata": {
  "kernelspec": {
   "name": "pycharm-d05d8f74",
   "language": "python",
   "display_name": "PyCharm (konfuzio_sdk)"
  },
  "language_info": {
   "codemirror_mode": {
    "name": "ipython",
    "version": 2
   },
   "file_extension": ".py",
   "mimetype": "text/x-python",
   "name": "python",
   "nbconvert_exporter": "python",
   "pygments_lexer": "ipython2",
   "version": "2.7.6"
  }
 },
 "nbformat": 4,
 "nbformat_minor": 0
}