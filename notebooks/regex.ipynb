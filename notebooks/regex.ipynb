{
 "cells": [
  {
   "cell_type": "code",
   "execution_count": 16,
   "metadata": {
    "collapsed": true
   },
   "outputs": [],
   "source": [
    "from konfuzio_sdk.regex import suggest_regex_for_string"
   ]
  },
  {
   "cell_type": "markdown",
   "source": [
    "# Simple approach to validate user input\n",
    "\n",
    "## Validate E-Mails\n",
    "Assume you have a list of valid and invalid emails and want to create a logic to validate this email."
   ],
   "metadata": {
    "collapsed": false
   }
  },
  {
   "cell_type": "code",
   "execution_count": 17,
   "outputs": [],
   "source": [
    "valid_emails = ['abc-d@mail.com', 'abc.def@mail.com', 'abc@mail.com', 'abc_def@mail.com', 'abc.def@mail.cc',\n",
    "                'abc.def@mail-archive.com', 'abc.def@mail.org', 'abc.def@mail.com']\n",
    "invalid_emails = ['abc-@mail.com', 'abc..def@mail.com', '.abc@mail.com', 'abc#def@mail.com', 'abc.def@mail.c',\n",
    "                  'abc.def@mail#archive.com', 'abc.def@mail', 'abc.def@mail..com', 'mailto:name@mail.com']\n",
    "# as seen on https://help.xmatters.com/ondemand/trial/valid_email_format.htm"
   ],
   "metadata": {
    "collapsed": false,
    "pycharm": {
     "name": "#%%\n"
    }
   }
  },
  {
   "cell_type": "code",
   "execution_count": 18,
   "outputs": [
    {
     "data": {
      "text/plain": "'[a-zäöüß]+\\\\@[a-zäöüß]+\\\\.[a-zäöüß]'"
     },
     "execution_count": 18,
     "metadata": {},
     "output_type": "execute_result"
    }
   ],
   "source": [
    "email = \"hello@konfuzio.c\"\n",
    "suggest_regex_for_string(email, replace_characters=True)"
   ],
   "metadata": {
    "collapsed": false,
    "pycharm": {
     "name": "#%%\n"
    }
   }
  },
  {
   "cell_type": "markdown",
   "source": [
    "This return type is not what we are looking for. So let's replace also the characters."
   ],
   "metadata": {
    "collapsed": false,
    "pycharm": {
     "name": "#%% md\n"
    }
   }
  },
  {
   "cell_type": "code",
   "execution_count": 19,
   "outputs": [
    {
     "data": {
      "text/plain": "['[a-zäöüß]+[-][a-zäöüß]\\\\@[a-zäöüß]+\\\\.[a-zäöüß]+',\n '[a-zäöüß]+\\\\.[a-zäöüß]+\\\\@[a-zäöüß]+\\\\.[a-zäöüß]+',\n '[a-zäöüß]+\\\\@[a-zäöüß]+\\\\.[a-zäöüß]+',\n '[a-zäöüß]+_[a-zäöüß]+\\\\@[a-zäöüß]+\\\\.[a-zäöüß]+',\n '[a-zäöüß]+\\\\.[a-zäöüß]+\\\\@[a-zäöüß]+\\\\.[a-zäöüß]+',\n '[a-zäöüß]+\\\\.[a-zäöüß]+\\\\@[a-zäöüß]+[-][a-zäöüß]+\\\\.[a-zäöüß]+',\n '[a-zäöüß]+\\\\.[a-zäöüß]+\\\\@[a-zäöüß]+\\\\.[a-zäöüß]+',\n '[a-zäöüß]+\\\\.[a-zäöüß]+\\\\@[a-zäöüß]+\\\\.[a-zäöüß]+']"
     },
     "execution_count": 19,
     "metadata": {},
     "output_type": "execute_result"
    }
   ],
   "source": [
    "valid = [suggest_regex_for_string(email, replace_characters=True) for email in valid_emails]\n",
    "valid"
   ],
   "metadata": {
    "collapsed": false,
    "pycharm": {
     "name": "#%%\n"
    }
   }
  },
  {
   "cell_type": "code",
   "execution_count": 20,
   "outputs": [
    {
     "data": {
      "text/plain": "['[a-zäöüß]+[-]\\\\@[a-zäöüß]+\\\\.[a-zäöüß]+',\n '[a-zäöüß]+\\\\.\\\\.[a-zäöüß]+\\\\@[a-zäöüß]+\\\\.[a-zäöüß]+',\n '\\\\.[a-zäöüß]+\\\\@[a-zäöüß]+\\\\.[a-zäöüß]+',\n '[a-zäöüß]+\\\\#[a-zäöüß]+\\\\@[a-zäöüß]+\\\\.[a-zäöüß]+',\n '[a-zäöüß]+\\\\.[a-zäöüß]+\\\\@[a-zäöüß]+\\\\.[a-zäöüß]',\n '[a-zäöüß]+\\\\.[a-zäöüß]+\\\\@[a-zäöüß]+\\\\#[a-zäöüß]+\\\\.[a-zäöüß]+',\n '[a-zäöüß]+\\\\.[a-zäöüß]+\\\\@[a-zäöüß]+',\n '[a-zäöüß]+\\\\.[a-zäöüß]+\\\\@[a-zäöüß]+\\\\.\\\\.[a-zäöüß]+',\n '[a-zäöüß]+:[a-zäöüß]+\\\\@[a-zäöüß]+\\\\.[a-zäöüß]+']"
     },
     "execution_count": 20,
     "metadata": {},
     "output_type": "execute_result"
    }
   ],
   "source": [
    "invalid = [suggest_regex_for_string(email, replace_characters=True) for email in invalid_emails]\n",
    "invalid"
   ],
   "metadata": {
    "collapsed": false,
    "pycharm": {
     "name": "#%%\n"
    }
   }
  },
  {
   "cell_type": "markdown",
   "source": [
    "To make sure the validation provides no contradiction we check the list intersection."
   ],
   "metadata": {
    "collapsed": false,
    "pycharm": {
     "name": "#%% md\n"
    }
   }
  },
  {
   "cell_type": "code",
   "execution_count": 21,
   "outputs": [
    {
     "data": {
      "text/plain": "set()"
     },
     "execution_count": 21,
     "metadata": {},
     "output_type": "execute_result"
    }
   ],
   "source": [
    "set(invalid) & set(valid)"
   ],
   "metadata": {
    "collapsed": false,
    "pycharm": {
     "name": "#%%\n"
    }
   }
  },
  {
   "cell_type": "markdown",
   "source": [
    "## Combine Regex and read detect all potentation matches"
   ],
   "metadata": {
    "collapsed": false,
    "pycharm": {
     "name": "#%% md\n"
    }
   }
  },
  {
   "cell_type": "code",
   "source": [
    "from konfuzio_sdk.regex import merge_regex, regex_spans\n",
    "## Combine Regex\n",
    "combined = merge_regex(valid)\n",
    "## Evaluate Regex\n",
    "regex_spans(\"Please contact us via mailto:info@konfuzio.com.\", combined, overlapped=True)"
   ],
   "metadata": {
    "collapsed": false,
    "pycharm": {
     "name": "#%%\n"
    }
   },
   "execution_count": 31,
   "outputs": [
    {
     "data": {
      "text/plain": "[{'regex_used': \"'(?:[a-zäöüß]+\\\\\\\\.[a-zäöüß]+\\\\\\\\@[a-zäöüß]+[-][a-zäöüß]+\\\\\\\\.[a-zäöüß]+|[a-zäöüß]+[-][a-zäöüß]\\\\\\\\@[a-zäöüß]+\\\\\\\\.[a-zäöüß]+|[a-zäöüß]+\\\\\\\\.[a-zäöüß]+\\\\\\\\@[a-zäöüß]+\\\\\\\\.[a-zäöüß]+|[a-zäöüß]+\\\\\\\\.[a-zäöüß]+\\\\\\\\@[a-zäöüß]+\\\\\\\\.[a-zäöüß]+|[a-zäöüß]+\\\\\\\\.[a-zäöüß]+\\\\\\\\@[a-zäöüß]+\\\\\\\\.[a-zäöüß]+|[a-zäöüß]+\\\\\\\\.[a-zäöüß]+\\\\\\\\@[a-zäöüß]+\\\\\\\\.[a-zäöüß]+|[a-zäöüß]+_[a-zäöüß]+\\\\\\\\@[a-zäöüß]+\\\\\\\\.[a-zäöüß]+|[a-zäöüß]+\\\\\\\\@[a-zäöüß]+\\\\\\\\.[a-zäöüß]+)'\",\n  'regex_group': '0',\n  'value': 'info@konfuzio.com',\n  'start_offset': 29,\n  'end_offset': 46,\n  'start_text': 0},\n {'regex_used': \"'(?:[a-zäöüß]+\\\\\\\\.[a-zäöüß]+\\\\\\\\@[a-zäöüß]+[-][a-zäöüß]+\\\\\\\\.[a-zäöüß]+|[a-zäöüß]+[-][a-zäöüß]\\\\\\\\@[a-zäöüß]+\\\\\\\\.[a-zäöüß]+|[a-zäöüß]+\\\\\\\\.[a-zäöüß]+\\\\\\\\@[a-zäöüß]+\\\\\\\\.[a-zäöüß]+|[a-zäöüß]+\\\\\\\\.[a-zäöüß]+\\\\\\\\@[a-zäöüß]+\\\\\\\\.[a-zäöüß]+|[a-zäöüß]+\\\\\\\\.[a-zäöüß]+\\\\\\\\@[a-zäöüß]+\\\\\\\\.[a-zäöüß]+|[a-zäöüß]+\\\\\\\\.[a-zäöüß]+\\\\\\\\@[a-zäöüß]+\\\\\\\\.[a-zäöüß]+|[a-zäöüß]+_[a-zäöüß]+\\\\\\\\@[a-zäöüß]+\\\\\\\\.[a-zäöüß]+|[a-zäöüß]+\\\\\\\\@[a-zäöüß]+\\\\\\\\.[a-zäöüß]+)'\",\n  'regex_group': '0',\n  'value': 'nfo@konfuzio.com',\n  'start_offset': 30,\n  'end_offset': 46,\n  'start_text': 0},\n {'regex_used': \"'(?:[a-zäöüß]+\\\\\\\\.[a-zäöüß]+\\\\\\\\@[a-zäöüß]+[-][a-zäöüß]+\\\\\\\\.[a-zäöüß]+|[a-zäöüß]+[-][a-zäöüß]\\\\\\\\@[a-zäöüß]+\\\\\\\\.[a-zäöüß]+|[a-zäöüß]+\\\\\\\\.[a-zäöüß]+\\\\\\\\@[a-zäöüß]+\\\\\\\\.[a-zäöüß]+|[a-zäöüß]+\\\\\\\\.[a-zäöüß]+\\\\\\\\@[a-zäöüß]+\\\\\\\\.[a-zäöüß]+|[a-zäöüß]+\\\\\\\\.[a-zäöüß]+\\\\\\\\@[a-zäöüß]+\\\\\\\\.[a-zäöüß]+|[a-zäöüß]+\\\\\\\\.[a-zäöüß]+\\\\\\\\@[a-zäöüß]+\\\\\\\\.[a-zäöüß]+|[a-zäöüß]+_[a-zäöüß]+\\\\\\\\@[a-zäöüß]+\\\\\\\\.[a-zäöüß]+|[a-zäöüß]+\\\\\\\\@[a-zäöüß]+\\\\\\\\.[a-zäöüß]+)'\",\n  'regex_group': '0',\n  'value': 'fo@konfuzio.com',\n  'start_offset': 31,\n  'end_offset': 46,\n  'start_text': 0},\n {'regex_used': \"'(?:[a-zäöüß]+\\\\\\\\.[a-zäöüß]+\\\\\\\\@[a-zäöüß]+[-][a-zäöüß]+\\\\\\\\.[a-zäöüß]+|[a-zäöüß]+[-][a-zäöüß]\\\\\\\\@[a-zäöüß]+\\\\\\\\.[a-zäöüß]+|[a-zäöüß]+\\\\\\\\.[a-zäöüß]+\\\\\\\\@[a-zäöüß]+\\\\\\\\.[a-zäöüß]+|[a-zäöüß]+\\\\\\\\.[a-zäöüß]+\\\\\\\\@[a-zäöüß]+\\\\\\\\.[a-zäöüß]+|[a-zäöüß]+\\\\\\\\.[a-zäöüß]+\\\\\\\\@[a-zäöüß]+\\\\\\\\.[a-zäöüß]+|[a-zäöüß]+\\\\\\\\.[a-zäöüß]+\\\\\\\\@[a-zäöüß]+\\\\\\\\.[a-zäöüß]+|[a-zäöüß]+_[a-zäöüß]+\\\\\\\\@[a-zäöüß]+\\\\\\\\.[a-zäöüß]+|[a-zäöüß]+\\\\\\\\@[a-zäöüß]+\\\\\\\\.[a-zäöüß]+)'\",\n  'regex_group': '0',\n  'value': 'o@konfuzio.com',\n  'start_offset': 32,\n  'end_offset': 46,\n  'start_text': 0}]"
     },
     "execution_count": 31,
     "metadata": {},
     "output_type": "execute_result"
    }
   ]
  },
  {
   "cell_type": "code",
   "execution_count": 30,
   "outputs": [
    {
     "data": {
      "text/plain": "[{'regex_used': \"'(?:[a-zäöüß]+\\\\\\\\.[a-zäöüß]+\\\\\\\\@[a-zäöüß]+\\\\\\\\#[a-zäöüß]+\\\\\\\\.[a-zäöüß]+|[a-zäöüß]+\\\\\\\\.\\\\\\\\.[a-zäöüß]+\\\\\\\\@[a-zäöüß]+\\\\\\\\.[a-zäöüß]+|[a-zäöüß]+\\\\\\\\.[a-zäöüß]+\\\\\\\\@[a-zäöüß]+\\\\\\\\.\\\\\\\\.[a-zäöüß]+|[a-zäöüß]+\\\\\\\\#[a-zäöüß]+\\\\\\\\@[a-zäöüß]+\\\\\\\\.[a-zäöüß]+|[a-zäöüß]+\\\\\\\\.[a-zäöüß]+\\\\\\\\@[a-zäöüß]+\\\\\\\\.[a-zäöüß]|[a-zäöüß]+:[a-zäöüß]+\\\\\\\\@[a-zäöüß]+\\\\\\\\.[a-zäöüß]+|[a-zäöüß]+[-]\\\\\\\\@[a-zäöüß]+\\\\\\\\.[a-zäöüß]+|\\\\\\\\.[a-zäöüß]+\\\\\\\\@[a-zäöüß]+\\\\\\\\.[a-zäöüß]+|[a-zäöüß]+\\\\\\\\.[a-zäöüß]+\\\\\\\\@[a-zäöüß]+)'\",\n  'regex_group': '0',\n  'value': 'mailto:info@konfuzio.com',\n  'start_offset': 22,\n  'end_offset': 46,\n  'start_text': 0},\n {'regex_used': \"'(?:[a-zäöüß]+\\\\\\\\.[a-zäöüß]+\\\\\\\\@[a-zäöüß]+\\\\\\\\#[a-zäöüß]+\\\\\\\\.[a-zäöüß]+|[a-zäöüß]+\\\\\\\\.\\\\\\\\.[a-zäöüß]+\\\\\\\\@[a-zäöüß]+\\\\\\\\.[a-zäöüß]+|[a-zäöüß]+\\\\\\\\.[a-zäöüß]+\\\\\\\\@[a-zäöüß]+\\\\\\\\.\\\\\\\\.[a-zäöüß]+|[a-zäöüß]+\\\\\\\\#[a-zäöüß]+\\\\\\\\@[a-zäöüß]+\\\\\\\\.[a-zäöüß]+|[a-zäöüß]+\\\\\\\\.[a-zäöüß]+\\\\\\\\@[a-zäöüß]+\\\\\\\\.[a-zäöüß]|[a-zäöüß]+:[a-zäöüß]+\\\\\\\\@[a-zäöüß]+\\\\\\\\.[a-zäöüß]+|[a-zäöüß]+[-]\\\\\\\\@[a-zäöüß]+\\\\\\\\.[a-zäöüß]+|\\\\\\\\.[a-zäöüß]+\\\\\\\\@[a-zäöüß]+\\\\\\\\.[a-zäöüß]+|[a-zäöüß]+\\\\\\\\.[a-zäöüß]+\\\\\\\\@[a-zäöüß]+)'\",\n  'regex_group': '0',\n  'value': 'ailto:info@konfuzio.com',\n  'start_offset': 23,\n  'end_offset': 46,\n  'start_text': 0},\n {'regex_used': \"'(?:[a-zäöüß]+\\\\\\\\.[a-zäöüß]+\\\\\\\\@[a-zäöüß]+\\\\\\\\#[a-zäöüß]+\\\\\\\\.[a-zäöüß]+|[a-zäöüß]+\\\\\\\\.\\\\\\\\.[a-zäöüß]+\\\\\\\\@[a-zäöüß]+\\\\\\\\.[a-zäöüß]+|[a-zäöüß]+\\\\\\\\.[a-zäöüß]+\\\\\\\\@[a-zäöüß]+\\\\\\\\.\\\\\\\\.[a-zäöüß]+|[a-zäöüß]+\\\\\\\\#[a-zäöüß]+\\\\\\\\@[a-zäöüß]+\\\\\\\\.[a-zäöüß]+|[a-zäöüß]+\\\\\\\\.[a-zäöüß]+\\\\\\\\@[a-zäöüß]+\\\\\\\\.[a-zäöüß]|[a-zäöüß]+:[a-zäöüß]+\\\\\\\\@[a-zäöüß]+\\\\\\\\.[a-zäöüß]+|[a-zäöüß]+[-]\\\\\\\\@[a-zäöüß]+\\\\\\\\.[a-zäöüß]+|\\\\\\\\.[a-zäöüß]+\\\\\\\\@[a-zäöüß]+\\\\\\\\.[a-zäöüß]+|[a-zäöüß]+\\\\\\\\.[a-zäöüß]+\\\\\\\\@[a-zäöüß]+)'\",\n  'regex_group': '0',\n  'value': 'ilto:info@konfuzio.com',\n  'start_offset': 24,\n  'end_offset': 46,\n  'start_text': 0},\n {'regex_used': \"'(?:[a-zäöüß]+\\\\\\\\.[a-zäöüß]+\\\\\\\\@[a-zäöüß]+\\\\\\\\#[a-zäöüß]+\\\\\\\\.[a-zäöüß]+|[a-zäöüß]+\\\\\\\\.\\\\\\\\.[a-zäöüß]+\\\\\\\\@[a-zäöüß]+\\\\\\\\.[a-zäöüß]+|[a-zäöüß]+\\\\\\\\.[a-zäöüß]+\\\\\\\\@[a-zäöüß]+\\\\\\\\.\\\\\\\\.[a-zäöüß]+|[a-zäöüß]+\\\\\\\\#[a-zäöüß]+\\\\\\\\@[a-zäöüß]+\\\\\\\\.[a-zäöüß]+|[a-zäöüß]+\\\\\\\\.[a-zäöüß]+\\\\\\\\@[a-zäöüß]+\\\\\\\\.[a-zäöüß]|[a-zäöüß]+:[a-zäöüß]+\\\\\\\\@[a-zäöüß]+\\\\\\\\.[a-zäöüß]+|[a-zäöüß]+[-]\\\\\\\\@[a-zäöüß]+\\\\\\\\.[a-zäöüß]+|\\\\\\\\.[a-zäöüß]+\\\\\\\\@[a-zäöüß]+\\\\\\\\.[a-zäöüß]+|[a-zäöüß]+\\\\\\\\.[a-zäöüß]+\\\\\\\\@[a-zäöüß]+)'\",\n  'regex_group': '0',\n  'value': 'lto:info@konfuzio.com',\n  'start_offset': 25,\n  'end_offset': 46,\n  'start_text': 0},\n {'regex_used': \"'(?:[a-zäöüß]+\\\\\\\\.[a-zäöüß]+\\\\\\\\@[a-zäöüß]+\\\\\\\\#[a-zäöüß]+\\\\\\\\.[a-zäöüß]+|[a-zäöüß]+\\\\\\\\.\\\\\\\\.[a-zäöüß]+\\\\\\\\@[a-zäöüß]+\\\\\\\\.[a-zäöüß]+|[a-zäöüß]+\\\\\\\\.[a-zäöüß]+\\\\\\\\@[a-zäöüß]+\\\\\\\\.\\\\\\\\.[a-zäöüß]+|[a-zäöüß]+\\\\\\\\#[a-zäöüß]+\\\\\\\\@[a-zäöüß]+\\\\\\\\.[a-zäöüß]+|[a-zäöüß]+\\\\\\\\.[a-zäöüß]+\\\\\\\\@[a-zäöüß]+\\\\\\\\.[a-zäöüß]|[a-zäöüß]+:[a-zäöüß]+\\\\\\\\@[a-zäöüß]+\\\\\\\\.[a-zäöüß]+|[a-zäöüß]+[-]\\\\\\\\@[a-zäöüß]+\\\\\\\\.[a-zäöüß]+|\\\\\\\\.[a-zäöüß]+\\\\\\\\@[a-zäöüß]+\\\\\\\\.[a-zäöüß]+|[a-zäöüß]+\\\\\\\\.[a-zäöüß]+\\\\\\\\@[a-zäöüß]+)'\",\n  'regex_group': '0',\n  'value': 'to:info@konfuzio.com',\n  'start_offset': 26,\n  'end_offset': 46,\n  'start_text': 0},\n {'regex_used': \"'(?:[a-zäöüß]+\\\\\\\\.[a-zäöüß]+\\\\\\\\@[a-zäöüß]+\\\\\\\\#[a-zäöüß]+\\\\\\\\.[a-zäöüß]+|[a-zäöüß]+\\\\\\\\.\\\\\\\\.[a-zäöüß]+\\\\\\\\@[a-zäöüß]+\\\\\\\\.[a-zäöüß]+|[a-zäöüß]+\\\\\\\\.[a-zäöüß]+\\\\\\\\@[a-zäöüß]+\\\\\\\\.\\\\\\\\.[a-zäöüß]+|[a-zäöüß]+\\\\\\\\#[a-zäöüß]+\\\\\\\\@[a-zäöüß]+\\\\\\\\.[a-zäöüß]+|[a-zäöüß]+\\\\\\\\.[a-zäöüß]+\\\\\\\\@[a-zäöüß]+\\\\\\\\.[a-zäöüß]|[a-zäöüß]+:[a-zäöüß]+\\\\\\\\@[a-zäöüß]+\\\\\\\\.[a-zäöüß]+|[a-zäöüß]+[-]\\\\\\\\@[a-zäöüß]+\\\\\\\\.[a-zäöüß]+|\\\\\\\\.[a-zäöüß]+\\\\\\\\@[a-zäöüß]+\\\\\\\\.[a-zäöüß]+|[a-zäöüß]+\\\\\\\\.[a-zäöüß]+\\\\\\\\@[a-zäöüß]+)'\",\n  'regex_group': '0',\n  'value': 'o:info@konfuzio.com',\n  'start_offset': 27,\n  'end_offset': 46,\n  'start_text': 0}]"
     },
     "execution_count": 30,
     "metadata": {},
     "output_type": "execute_result"
    }
   ],
   "source": [
    "from konfuzio_sdk.regex import merge_regex, regex_spans\n",
    "## Combine Regex\n",
    "combined = merge_regex(invalid)\n",
    "## Evaluate Regex\n",
    "regex_spans(\"Please contact us via mailto:info@konfuzio.com.\", combined, overlapped=True)"
   ],
   "metadata": {
    "collapsed": false,
    "pycharm": {
     "name": "#%%\n"
    }
   }
  }
 ],
 "metadata": {
  "kernelspec": {
   "name": "pycharm-d05d8f74",
   "language": "python",
   "display_name": "PyCharm (konfuzio_sdk)"
  },
  "language_info": {
   "codemirror_mode": {
    "name": "ipython",
    "version": 2
   },
   "file_extension": ".py",
   "mimetype": "text/x-python",
   "name": "python",
   "nbconvert_exporter": "python",
   "pygments_lexer": "ipython2",
   "version": "2.7.6"
  }
 },
 "nbformat": 4,
 "nbformat_minor": 0
}